{
  "cells": [
    {
      "cell_type": "markdown",
      "metadata": {
        "id": "IXOXqxcweuwc"
      },
      "source": [
        "**Engineering Placements Prediction And Analysis**"
      ]
    },
    {
      "cell_type": "markdown",
      "metadata": {
        "id": "XnCCqhaAfaPS"
      },
      "source": [
        "# Import Necessary Libraries"
      ]
    },
    {
      "cell_type": "code",
      "execution_count": 1,
      "metadata": {
        "id": "ohVRIkURQOZg"
      },
      "outputs": [],
      "source": [
        "import pandas as pd\n",
        "import numpy as np\n",
        "import matplotlib.pyplot as plt\n",
        "import seaborn as sns\n",
        "import plotly.express as px\n",
        "import missingno as msno\n",
        "import plotly.graph_objs as go\n",
        "import os\n",
        "from sklearn.preprocessing import LabelEncoder\n",
        "from sklearn.linear_model import LogisticRegression\n",
        "from sklearn.svm import SVC\n",
        "from plotly.subplots import make_subplots\n",
        "from xgboost import XGBClassifier\n",
        "from sklearn.tree import DecisionTreeClassifier\n",
        "from sklearn.ensemble import RandomForestClassifier\n",
        "from sklearn.metrics import confusion_matrix, precision_score, recall_score, f1_score, accuracy_score, roc_auc_score\n",
        "from sklearn.model_selection import train_test_split, GridSearchCV,cross_val_score,RandomizedSearchCV"
      ]
    },
    {
      "cell_type": "code",
      "execution_count": 2,
      "metadata": {
        "colab": {
          "base_uri": "https://localhost:8080/",
          "height": 206
        },
        "id": "zvN9_ljggKW7",
        "outputId": "13fddae6-39cb-44be-ab0f-85f4851faf50"
      },
      "outputs": [
        {
          "output_type": "execute_result",
          "data": {
            "text/plain": [
              "   Age  Gender                         Stream  Internships  CGPA  Hostel  \\\n",
              "0   22    Male  Electronics And Communication            1     8       1   \n",
              "1   21  Female               Computer Science            0     7       1   \n",
              "2   22  Female         Information Technology            1     6       0   \n",
              "3   21    Male         Information Technology            0     8       0   \n",
              "4   22    Male                     Mechanical            0     8       1   \n",
              "\n",
              "   HistoryOfBacklogs  PlacedOrNot  \n",
              "0                  1            1  \n",
              "1                  1            1  \n",
              "2                  0            1  \n",
              "3                  1            1  \n",
              "4                  0            1  "
            ],
            "text/html": [
              "\n",
              "  <div id=\"df-8d3f63c8-0ae9-4b08-bb24-c2efe7d01dca\">\n",
              "    <div class=\"colab-df-container\">\n",
              "      <div>\n",
              "<style scoped>\n",
              "    .dataframe tbody tr th:only-of-type {\n",
              "        vertical-align: middle;\n",
              "    }\n",
              "\n",
              "    .dataframe tbody tr th {\n",
              "        vertical-align: top;\n",
              "    }\n",
              "\n",
              "    .dataframe thead th {\n",
              "        text-align: right;\n",
              "    }\n",
              "</style>\n",
              "<table border=\"1\" class=\"dataframe\">\n",
              "  <thead>\n",
              "    <tr style=\"text-align: right;\">\n",
              "      <th></th>\n",
              "      <th>Age</th>\n",
              "      <th>Gender</th>\n",
              "      <th>Stream</th>\n",
              "      <th>Internships</th>\n",
              "      <th>CGPA</th>\n",
              "      <th>Hostel</th>\n",
              "      <th>HistoryOfBacklogs</th>\n",
              "      <th>PlacedOrNot</th>\n",
              "    </tr>\n",
              "  </thead>\n",
              "  <tbody>\n",
              "    <tr>\n",
              "      <th>0</th>\n",
              "      <td>22</td>\n",
              "      <td>Male</td>\n",
              "      <td>Electronics And Communication</td>\n",
              "      <td>1</td>\n",
              "      <td>8</td>\n",
              "      <td>1</td>\n",
              "      <td>1</td>\n",
              "      <td>1</td>\n",
              "    </tr>\n",
              "    <tr>\n",
              "      <th>1</th>\n",
              "      <td>21</td>\n",
              "      <td>Female</td>\n",
              "      <td>Computer Science</td>\n",
              "      <td>0</td>\n",
              "      <td>7</td>\n",
              "      <td>1</td>\n",
              "      <td>1</td>\n",
              "      <td>1</td>\n",
              "    </tr>\n",
              "    <tr>\n",
              "      <th>2</th>\n",
              "      <td>22</td>\n",
              "      <td>Female</td>\n",
              "      <td>Information Technology</td>\n",
              "      <td>1</td>\n",
              "      <td>6</td>\n",
              "      <td>0</td>\n",
              "      <td>0</td>\n",
              "      <td>1</td>\n",
              "    </tr>\n",
              "    <tr>\n",
              "      <th>3</th>\n",
              "      <td>21</td>\n",
              "      <td>Male</td>\n",
              "      <td>Information Technology</td>\n",
              "      <td>0</td>\n",
              "      <td>8</td>\n",
              "      <td>0</td>\n",
              "      <td>1</td>\n",
              "      <td>1</td>\n",
              "    </tr>\n",
              "    <tr>\n",
              "      <th>4</th>\n",
              "      <td>22</td>\n",
              "      <td>Male</td>\n",
              "      <td>Mechanical</td>\n",
              "      <td>0</td>\n",
              "      <td>8</td>\n",
              "      <td>1</td>\n",
              "      <td>0</td>\n",
              "      <td>1</td>\n",
              "    </tr>\n",
              "  </tbody>\n",
              "</table>\n",
              "</div>\n",
              "      <button class=\"colab-df-convert\" onclick=\"convertToInteractive('df-8d3f63c8-0ae9-4b08-bb24-c2efe7d01dca')\"\n",
              "              title=\"Convert this dataframe to an interactive table.\"\n",
              "              style=\"display:none;\">\n",
              "        \n",
              "  <svg xmlns=\"http://www.w3.org/2000/svg\" height=\"24px\"viewBox=\"0 0 24 24\"\n",
              "       width=\"24px\">\n",
              "    <path d=\"M0 0h24v24H0V0z\" fill=\"none\"/>\n",
              "    <path d=\"M18.56 5.44l.94 2.06.94-2.06 2.06-.94-2.06-.94-.94-2.06-.94 2.06-2.06.94zm-11 1L8.5 8.5l.94-2.06 2.06-.94-2.06-.94L8.5 2.5l-.94 2.06-2.06.94zm10 10l.94 2.06.94-2.06 2.06-.94-2.06-.94-.94-2.06-.94 2.06-2.06.94z\"/><path d=\"M17.41 7.96l-1.37-1.37c-.4-.4-.92-.59-1.43-.59-.52 0-1.04.2-1.43.59L10.3 9.45l-7.72 7.72c-.78.78-.78 2.05 0 2.83L4 21.41c.39.39.9.59 1.41.59.51 0 1.02-.2 1.41-.59l7.78-7.78 2.81-2.81c.8-.78.8-2.07 0-2.86zM5.41 20L4 18.59l7.72-7.72 1.47 1.35L5.41 20z\"/>\n",
              "  </svg>\n",
              "      </button>\n",
              "      \n",
              "  <style>\n",
              "    .colab-df-container {\n",
              "      display:flex;\n",
              "      flex-wrap:wrap;\n",
              "      gap: 12px;\n",
              "    }\n",
              "\n",
              "    .colab-df-convert {\n",
              "      background-color: #E8F0FE;\n",
              "      border: none;\n",
              "      border-radius: 50%;\n",
              "      cursor: pointer;\n",
              "      display: none;\n",
              "      fill: #1967D2;\n",
              "      height: 32px;\n",
              "      padding: 0 0 0 0;\n",
              "      width: 32px;\n",
              "    }\n",
              "\n",
              "    .colab-df-convert:hover {\n",
              "      background-color: #E2EBFA;\n",
              "      box-shadow: 0px 1px 2px rgba(60, 64, 67, 0.3), 0px 1px 3px 1px rgba(60, 64, 67, 0.15);\n",
              "      fill: #174EA6;\n",
              "    }\n",
              "\n",
              "    [theme=dark] .colab-df-convert {\n",
              "      background-color: #3B4455;\n",
              "      fill: #D2E3FC;\n",
              "    }\n",
              "\n",
              "    [theme=dark] .colab-df-convert:hover {\n",
              "      background-color: #434B5C;\n",
              "      box-shadow: 0px 1px 3px 1px rgba(0, 0, 0, 0.15);\n",
              "      filter: drop-shadow(0px 1px 2px rgba(0, 0, 0, 0.3));\n",
              "      fill: #FFFFFF;\n",
              "    }\n",
              "  </style>\n",
              "\n",
              "      <script>\n",
              "        const buttonEl =\n",
              "          document.querySelector('#df-8d3f63c8-0ae9-4b08-bb24-c2efe7d01dca button.colab-df-convert');\n",
              "        buttonEl.style.display =\n",
              "          google.colab.kernel.accessAllowed ? 'block' : 'none';\n",
              "\n",
              "        async function convertToInteractive(key) {\n",
              "          const element = document.querySelector('#df-8d3f63c8-0ae9-4b08-bb24-c2efe7d01dca');\n",
              "          const dataTable =\n",
              "            await google.colab.kernel.invokeFunction('convertToInteractive',\n",
              "                                                     [key], {});\n",
              "          if (!dataTable) return;\n",
              "\n",
              "          const docLinkHtml = 'Like what you see? Visit the ' +\n",
              "            '<a target=\"_blank\" href=https://colab.research.google.com/notebooks/data_table.ipynb>data table notebook</a>'\n",
              "            + ' to learn more about interactive tables.';\n",
              "          element.innerHTML = '';\n",
              "          dataTable['output_type'] = 'display_data';\n",
              "          await google.colab.output.renderOutput(dataTable, element);\n",
              "          const docLink = document.createElement('div');\n",
              "          docLink.innerHTML = docLinkHtml;\n",
              "          element.appendChild(docLink);\n",
              "        }\n",
              "      </script>\n",
              "    </div>\n",
              "  </div>\n",
              "  "
            ]
          },
          "metadata": {},
          "execution_count": 2
        }
      ],
      "source": [
        "#Load Dataset\n",
        "df = pd.read_csv('/content/collegePlace.csv')\n",
        "df.head()"
      ]
    },
    {
      "cell_type": "code",
      "execution_count": 3,
      "metadata": {
        "colab": {
          "base_uri": "https://localhost:8080/"
        },
        "id": "kHlpQcOxgawq",
        "outputId": "7a60e547-1179-4ab7-ca26-d4fe5a6e3513"
      },
      "outputs": [
        {
          "output_type": "stream",
          "name": "stdout",
          "text": [
            "<class 'pandas.core.frame.DataFrame'>\n",
            "RangeIndex: 2966 entries, 0 to 2965\n",
            "Data columns (total 8 columns):\n",
            " #   Column             Non-Null Count  Dtype \n",
            "---  ------             --------------  ----- \n",
            " 0   Age                2966 non-null   int64 \n",
            " 1   Gender             2966 non-null   object\n",
            " 2   Stream             2966 non-null   object\n",
            " 3   Internships        2966 non-null   int64 \n",
            " 4   CGPA               2966 non-null   int64 \n",
            " 5   Hostel             2966 non-null   int64 \n",
            " 6   HistoryOfBacklogs  2966 non-null   int64 \n",
            " 7   PlacedOrNot        2966 non-null   int64 \n",
            "dtypes: int64(6), object(2)\n",
            "memory usage: 185.5+ KB\n"
          ]
        }
      ],
      "source": [
        "df.info()"
      ]
    },
    {
      "cell_type": "code",
      "execution_count": 4,
      "metadata": {
        "colab": {
          "base_uri": "https://localhost:8080/",
          "height": 300
        },
        "id": "awZ5MHC_h5mV",
        "outputId": "b0766f0e-0700-4e1d-c8fb-c15d8247f303"
      },
      "outputs": [
        {
          "output_type": "execute_result",
          "data": {
            "text/plain": [
              "               Age  Internships         CGPA       Hostel  HistoryOfBacklogs  \\\n",
              "count  2966.000000  2966.000000  2966.000000  2966.000000        2966.000000   \n",
              "mean     21.485840     0.703641     7.073837     0.269049           0.192178   \n",
              "std       1.324933     0.740197     0.967748     0.443540           0.394079   \n",
              "min      19.000000     0.000000     5.000000     0.000000           0.000000   \n",
              "25%      21.000000     0.000000     6.000000     0.000000           0.000000   \n",
              "50%      21.000000     1.000000     7.000000     0.000000           0.000000   \n",
              "75%      22.000000     1.000000     8.000000     1.000000           0.000000   \n",
              "max      30.000000     3.000000     9.000000     1.000000           1.000000   \n",
              "\n",
              "       PlacedOrNot  \n",
              "count  2966.000000  \n",
              "mean      0.552596  \n",
              "std       0.497310  \n",
              "min       0.000000  \n",
              "25%       0.000000  \n",
              "50%       1.000000  \n",
              "75%       1.000000  \n",
              "max       1.000000  "
            ],
            "text/html": [
              "\n",
              "  <div id=\"df-a783a6c0-7314-46b5-aeb6-b1f7b9896507\">\n",
              "    <div class=\"colab-df-container\">\n",
              "      <div>\n",
              "<style scoped>\n",
              "    .dataframe tbody tr th:only-of-type {\n",
              "        vertical-align: middle;\n",
              "    }\n",
              "\n",
              "    .dataframe tbody tr th {\n",
              "        vertical-align: top;\n",
              "    }\n",
              "\n",
              "    .dataframe thead th {\n",
              "        text-align: right;\n",
              "    }\n",
              "</style>\n",
              "<table border=\"1\" class=\"dataframe\">\n",
              "  <thead>\n",
              "    <tr style=\"text-align: right;\">\n",
              "      <th></th>\n",
              "      <th>Age</th>\n",
              "      <th>Internships</th>\n",
              "      <th>CGPA</th>\n",
              "      <th>Hostel</th>\n",
              "      <th>HistoryOfBacklogs</th>\n",
              "      <th>PlacedOrNot</th>\n",
              "    </tr>\n",
              "  </thead>\n",
              "  <tbody>\n",
              "    <tr>\n",
              "      <th>count</th>\n",
              "      <td>2966.000000</td>\n",
              "      <td>2966.000000</td>\n",
              "      <td>2966.000000</td>\n",
              "      <td>2966.000000</td>\n",
              "      <td>2966.000000</td>\n",
              "      <td>2966.000000</td>\n",
              "    </tr>\n",
              "    <tr>\n",
              "      <th>mean</th>\n",
              "      <td>21.485840</td>\n",
              "      <td>0.703641</td>\n",
              "      <td>7.073837</td>\n",
              "      <td>0.269049</td>\n",
              "      <td>0.192178</td>\n",
              "      <td>0.552596</td>\n",
              "    </tr>\n",
              "    <tr>\n",
              "      <th>std</th>\n",
              "      <td>1.324933</td>\n",
              "      <td>0.740197</td>\n",
              "      <td>0.967748</td>\n",
              "      <td>0.443540</td>\n",
              "      <td>0.394079</td>\n",
              "      <td>0.497310</td>\n",
              "    </tr>\n",
              "    <tr>\n",
              "      <th>min</th>\n",
              "      <td>19.000000</td>\n",
              "      <td>0.000000</td>\n",
              "      <td>5.000000</td>\n",
              "      <td>0.000000</td>\n",
              "      <td>0.000000</td>\n",
              "      <td>0.000000</td>\n",
              "    </tr>\n",
              "    <tr>\n",
              "      <th>25%</th>\n",
              "      <td>21.000000</td>\n",
              "      <td>0.000000</td>\n",
              "      <td>6.000000</td>\n",
              "      <td>0.000000</td>\n",
              "      <td>0.000000</td>\n",
              "      <td>0.000000</td>\n",
              "    </tr>\n",
              "    <tr>\n",
              "      <th>50%</th>\n",
              "      <td>21.000000</td>\n",
              "      <td>1.000000</td>\n",
              "      <td>7.000000</td>\n",
              "      <td>0.000000</td>\n",
              "      <td>0.000000</td>\n",
              "      <td>1.000000</td>\n",
              "    </tr>\n",
              "    <tr>\n",
              "      <th>75%</th>\n",
              "      <td>22.000000</td>\n",
              "      <td>1.000000</td>\n",
              "      <td>8.000000</td>\n",
              "      <td>1.000000</td>\n",
              "      <td>0.000000</td>\n",
              "      <td>1.000000</td>\n",
              "    </tr>\n",
              "    <tr>\n",
              "      <th>max</th>\n",
              "      <td>30.000000</td>\n",
              "      <td>3.000000</td>\n",
              "      <td>9.000000</td>\n",
              "      <td>1.000000</td>\n",
              "      <td>1.000000</td>\n",
              "      <td>1.000000</td>\n",
              "    </tr>\n",
              "  </tbody>\n",
              "</table>\n",
              "</div>\n",
              "      <button class=\"colab-df-convert\" onclick=\"convertToInteractive('df-a783a6c0-7314-46b5-aeb6-b1f7b9896507')\"\n",
              "              title=\"Convert this dataframe to an interactive table.\"\n",
              "              style=\"display:none;\">\n",
              "        \n",
              "  <svg xmlns=\"http://www.w3.org/2000/svg\" height=\"24px\"viewBox=\"0 0 24 24\"\n",
              "       width=\"24px\">\n",
              "    <path d=\"M0 0h24v24H0V0z\" fill=\"none\"/>\n",
              "    <path d=\"M18.56 5.44l.94 2.06.94-2.06 2.06-.94-2.06-.94-.94-2.06-.94 2.06-2.06.94zm-11 1L8.5 8.5l.94-2.06 2.06-.94-2.06-.94L8.5 2.5l-.94 2.06-2.06.94zm10 10l.94 2.06.94-2.06 2.06-.94-2.06-.94-.94-2.06-.94 2.06-2.06.94z\"/><path d=\"M17.41 7.96l-1.37-1.37c-.4-.4-.92-.59-1.43-.59-.52 0-1.04.2-1.43.59L10.3 9.45l-7.72 7.72c-.78.78-.78 2.05 0 2.83L4 21.41c.39.39.9.59 1.41.59.51 0 1.02-.2 1.41-.59l7.78-7.78 2.81-2.81c.8-.78.8-2.07 0-2.86zM5.41 20L4 18.59l7.72-7.72 1.47 1.35L5.41 20z\"/>\n",
              "  </svg>\n",
              "      </button>\n",
              "      \n",
              "  <style>\n",
              "    .colab-df-container {\n",
              "      display:flex;\n",
              "      flex-wrap:wrap;\n",
              "      gap: 12px;\n",
              "    }\n",
              "\n",
              "    .colab-df-convert {\n",
              "      background-color: #E8F0FE;\n",
              "      border: none;\n",
              "      border-radius: 50%;\n",
              "      cursor: pointer;\n",
              "      display: none;\n",
              "      fill: #1967D2;\n",
              "      height: 32px;\n",
              "      padding: 0 0 0 0;\n",
              "      width: 32px;\n",
              "    }\n",
              "\n",
              "    .colab-df-convert:hover {\n",
              "      background-color: #E2EBFA;\n",
              "      box-shadow: 0px 1px 2px rgba(60, 64, 67, 0.3), 0px 1px 3px 1px rgba(60, 64, 67, 0.15);\n",
              "      fill: #174EA6;\n",
              "    }\n",
              "\n",
              "    [theme=dark] .colab-df-convert {\n",
              "      background-color: #3B4455;\n",
              "      fill: #D2E3FC;\n",
              "    }\n",
              "\n",
              "    [theme=dark] .colab-df-convert:hover {\n",
              "      background-color: #434B5C;\n",
              "      box-shadow: 0px 1px 3px 1px rgba(0, 0, 0, 0.15);\n",
              "      filter: drop-shadow(0px 1px 2px rgba(0, 0, 0, 0.3));\n",
              "      fill: #FFFFFF;\n",
              "    }\n",
              "  </style>\n",
              "\n",
              "      <script>\n",
              "        const buttonEl =\n",
              "          document.querySelector('#df-a783a6c0-7314-46b5-aeb6-b1f7b9896507 button.colab-df-convert');\n",
              "        buttonEl.style.display =\n",
              "          google.colab.kernel.accessAllowed ? 'block' : 'none';\n",
              "\n",
              "        async function convertToInteractive(key) {\n",
              "          const element = document.querySelector('#df-a783a6c0-7314-46b5-aeb6-b1f7b9896507');\n",
              "          const dataTable =\n",
              "            await google.colab.kernel.invokeFunction('convertToInteractive',\n",
              "                                                     [key], {});\n",
              "          if (!dataTable) return;\n",
              "\n",
              "          const docLinkHtml = 'Like what you see? Visit the ' +\n",
              "            '<a target=\"_blank\" href=https://colab.research.google.com/notebooks/data_table.ipynb>data table notebook</a>'\n",
              "            + ' to learn more about interactive tables.';\n",
              "          element.innerHTML = '';\n",
              "          dataTable['output_type'] = 'display_data';\n",
              "          await google.colab.output.renderOutput(dataTable, element);\n",
              "          const docLink = document.createElement('div');\n",
              "          docLink.innerHTML = docLinkHtml;\n",
              "          element.appendChild(docLink);\n",
              "        }\n",
              "      </script>\n",
              "    </div>\n",
              "  </div>\n",
              "  "
            ]
          },
          "metadata": {},
          "execution_count": 4
        }
      ],
      "source": [
        "df.describe()"
      ]
    },
    {
      "cell_type": "code",
      "execution_count": 5,
      "metadata": {
        "colab": {
          "base_uri": "https://localhost:8080/"
        },
        "id": "6PzNJmGJgr0l",
        "outputId": "6aafabae-20a8-4f48-b727-bab940203174"
      },
      "outputs": [
        {
          "output_type": "execute_result",
          "data": {
            "text/plain": [
              "(2966, 8)"
            ]
          },
          "metadata": {},
          "execution_count": 5
        }
      ],
      "source": [
        "df.shape"
      ]
    },
    {
      "cell_type": "code",
      "execution_count": 6,
      "metadata": {
        "colab": {
          "base_uri": "https://localhost:8080/"
        },
        "id": "8iz72cyOgxPR",
        "outputId": "f613f869-2dd3-4f4f-af85-a93a04a37ba6"
      },
      "outputs": [
        {
          "output_type": "execute_result",
          "data": {
            "text/plain": [
              "Age                  0\n",
              "Gender               0\n",
              "Stream               0\n",
              "Internships          0\n",
              "CGPA                 0\n",
              "Hostel               0\n",
              "HistoryOfBacklogs    0\n",
              "PlacedOrNot          0\n",
              "dtype: int64"
            ]
          },
          "metadata": {},
          "execution_count": 6
        }
      ],
      "source": [
        "#null value check\n",
        "df.isnull().sum()"
      ]
    },
    {
      "cell_type": "code",
      "execution_count": 7,
      "metadata": {
        "colab": {
          "base_uri": "https://localhost:8080/"
        },
        "id": "n2hU4gtBhZpt",
        "outputId": "2bd7bbe8-2bb8-49ad-aa2c-ef353d357351"
      },
      "outputs": [
        {
          "output_type": "execute_result",
          "data": {
            "text/plain": [
              "array(['Age', 'Gender', 'Stream', 'Internships', 'CGPA', 'Hostel',\n",
              "       'HistoryOfBacklogs', 'PlacedOrNot'], dtype=object)"
            ]
          },
          "metadata": {},
          "execution_count": 7
        }
      ],
      "source": [
        "columns = df.columns.values\n",
        "columns"
      ]
    },
    {
      "cell_type": "markdown",
      "metadata": {
        "id": "JBq_iAcPhhZ9"
      },
      "source": [
        "# Analysis & Visualization"
      ]
    },
    {
      "cell_type": "code",
      "execution_count": 8,
      "metadata": {
        "colab": {
          "base_uri": "https://localhost:8080/",
          "height": 542
        },
        "id": "NNetqcsXhjjV",
        "outputId": "b73d99db-8fff-45fe-fe49-e9a1f8b02fce"
      },
      "outputs": [
        {
          "output_type": "display_data",
          "data": {
            "text/html": [
              "<html>\n",
              "<head><meta charset=\"utf-8\" /></head>\n",
              "<body>\n",
              "    <div>            <script src=\"https://cdnjs.cloudflare.com/ajax/libs/mathjax/2.7.5/MathJax.js?config=TeX-AMS-MML_SVG\"></script><script type=\"text/javascript\">if (window.MathJax) {MathJax.Hub.Config({SVG: {font: \"STIX-Web\"}});}</script>                <script type=\"text/javascript\">window.PlotlyConfig = {MathJaxConfig: 'local'};</script>\n",
              "        <script src=\"https://cdn.plot.ly/plotly-2.8.3.min.js\"></script>                <div id=\"63a7f80d-b84b-46a7-a0a3-7c6d2d05b3b5\" class=\"plotly-graph-div\" style=\"height:525px; width:700px;\"></div>            <script type=\"text/javascript\">                                    window.PLOTLYENV=window.PLOTLYENV || {};                                    if (document.getElementById(\"63a7f80d-b84b-46a7-a0a3-7c6d2d05b3b5\")) {                    Plotly.newPlot(                        \"63a7f80d-b84b-46a7-a0a3-7c6d2d05b3b5\",                        [{\"alignmentgroup\":\"True\",\"bingroup\":\"x\",\"hovertemplate\":\"PlacedOrNot=1<br>Stream=%{x}<br>count=%{y}<extra></extra>\",\"legendgroup\":\"1\",\"marker\":{\"color\":\"#1F77B4\",\"pattern\":{\"shape\":\"\"}},\"name\":\"1\",\"offsetgroup\":\"1\",\"orientation\":\"v\",\"showlegend\":true,\"x\":[\"Electronics And Communication\",\"Computer Science\",\"Information Technology\",\"Information Technology\",\"Mechanical\",\"Computer Science\",\"Electrical\",\"Computer Science\",\"Electronics And Communication\",\"Mechanical\",\"Civil\",\"Electrical\",\"Electrical\",\"Information Technology\",\"Information Technology\",\"Information Technology\",\"Mechanical\",\"Electrical\",\"Computer Science\",\"Civil\",\"Computer Science\",\"Electronics And Communication\",\"Civil\",\"Electrical\",\"Electrical\",\"Information Technology\",\"Electronics And Communication\",\"Computer Science\",\"Electronics And Communication\",\"Information Technology\",\"Electronics And Communication\",\"Electrical\",\"Computer Science\",\"Electronics And Communication\",\"Computer Science\",\"Electronics And Communication\",\"Civil\",\"Electronics And Communication\",\"Electrical\",\"Computer Science\",\"Computer Science\",\"Information Technology\",\"Information Technology\",\"Information Technology\",\"Mechanical\",\"Computer Science\",\"Information Technology\",\"Computer Science\",\"Mechanical\",\"Electrical\",\"Information Technology\",\"Computer Science\",\"Information Technology\",\"Information Technology\",\"Civil\",\"Mechanical\",\"Mechanical\",\"Information Technology\",\"Computer Science\",\"Civil\",\"Computer Science\",\"Mechanical\",\"Information Technology\",\"Mechanical\",\"Electronics And Communication\",\"Computer Science\",\"Civil\",\"Information Technology\",\"Electrical\",\"Computer Science\",\"Information Technology\",\"Computer Science\",\"Civil\",\"Information Technology\",\"Information Technology\",\"Information Technology\",\"Civil\",\"Information Technology\",\"Information Technology\",\"Electronics And Communication\",\"Computer Science\",\"Information Technology\",\"Information Technology\",\"Information Technology\",\"Mechanical\",\"Information Technology\",\"Information Technology\",\"Information Technology\",\"Mechanical\",\"Computer Science\",\"Information Technology\",\"Mechanical\",\"Computer Science\",\"Mechanical\",\"Computer Science\",\"Mechanical\",\"Information Technology\",\"Computer Science\",\"Electronics And Communication\",\"Information Technology\",\"Computer Science\",\"Computer Science\",\"Civil\",\"Information Technology\",\"Computer Science\",\"Computer Science\",\"Civil\",\"Electronics And Communication\",\"Computer Science\",\"Computer Science\",\"Electronics And Communication\",\"Computer Science\",\"Civil\",\"Computer Science\",\"Civil\",\"Information Technology\",\"Information Technology\",\"Electronics And Communication\",\"Electrical\",\"Computer Science\",\"Computer Science\",\"Computer Science\",\"Information Technology\",\"Mechanical\",\"Mechanical\",\"Mechanical\",\"Computer Science\",\"Information Technology\",\"Electrical\",\"Computer Science\",\"Electrical\",\"Computer Science\",\"Computer Science\",\"Electronics And Communication\",\"Computer Science\",\"Information Technology\",\"Information Technology\",\"Computer Science\",\"Information Technology\",\"Mechanical\",\"Information Technology\",\"Electronics And Communication\",\"Computer Science\",\"Computer Science\",\"Information Technology\",\"Information Technology\",\"Computer Science\",\"Mechanical\",\"Electrical\",\"Information Technology\",\"Information Technology\",\"Electrical\",\"Mechanical\",\"Information Technology\",\"Electronics And Communication\",\"Information Technology\",\"Computer Science\",\"Information Technology\",\"Electronics And Communication\",\"Mechanical\",\"Mechanical\",\"Civil\",\"Electronics And Communication\",\"Electronics And Communication\",\"Computer Science\",\"Electronics And Communication\",\"Civil\",\"Civil\",\"Computer Science\",\"Computer Science\",\"Electronics And Communication\",\"Information Technology\",\"Civil\",\"Information Technology\",\"Electronics And Communication\",\"Electrical\",\"Information Technology\",\"Computer Science\",\"Electrical\",\"Computer Science\",\"Information Technology\",\"Computer Science\",\"Civil\",\"Mechanical\",\"Information Technology\",\"Electrical\",\"Computer Science\",\"Computer Science\",\"Mechanical\",\"Computer Science\",\"Civil\",\"Computer Science\",\"Computer Science\",\"Information Technology\",\"Electrical\",\"Information Technology\",\"Mechanical\",\"Electronics And Communication\",\"Computer Science\",\"Electronics And Communication\",\"Information Technology\",\"Information Technology\",\"Electrical\",\"Information Technology\",\"Mechanical\",\"Mechanical\",\"Electronics And Communication\",\"Computer Science\",\"Information Technology\",\"Mechanical\",\"Electronics And Communication\",\"Computer Science\",\"Information Technology\",\"Electrical\",\"Mechanical\",\"Computer Science\",\"Electronics And Communication\",\"Computer Science\",\"Computer Science\",\"Computer Science\",\"Mechanical\",\"Information Technology\",\"Computer Science\",\"Mechanical\",\"Electronics And Communication\",\"Information Technology\",\"Electronics And Communication\",\"Electronics And Communication\",\"Electronics And Communication\",\"Information Technology\",\"Computer Science\",\"Mechanical\",\"Electrical\",\"Mechanical\",\"Computer Science\",\"Civil\",\"Civil\",\"Information Technology\",\"Civil\",\"Electronics And Communication\",\"Civil\",\"Information Technology\",\"Civil\",\"Computer Science\",\"Electronics And Communication\",\"Information Technology\",\"Mechanical\",\"Mechanical\",\"Electronics And Communication\",\"Mechanical\",\"Computer Science\",\"Computer Science\",\"Computer Science\",\"Computer Science\",\"Civil\",\"Information Technology\",\"Information Technology\",\"Mechanical\",\"Information Technology\",\"Mechanical\",\"Information Technology\",\"Computer Science\",\"Computer Science\",\"Computer Science\",\"Information Technology\",\"Computer Science\",\"Information Technology\",\"Electronics And Communication\",\"Information Technology\",\"Information Technology\",\"Information Technology\",\"Mechanical\",\"Civil\",\"Electronics And Communication\",\"Computer Science\",\"Mechanical\",\"Mechanical\",\"Computer Science\",\"Electrical\",\"Information Technology\",\"Electronics And Communication\",\"Information Technology\",\"Computer Science\",\"Mechanical\",\"Mechanical\",\"Computer Science\",\"Electrical\",\"Civil\",\"Computer Science\",\"Computer Science\",\"Mechanical\",\"Electronics And Communication\",\"Electrical\",\"Information Technology\",\"Mechanical\",\"Electronics And Communication\",\"Computer Science\",\"Civil\",\"Electronics And Communication\",\"Civil\",\"Mechanical\",\"Computer Science\",\"Information Technology\",\"Information Technology\",\"Information Technology\",\"Electrical\",\"Computer Science\",\"Computer Science\",\"Electronics And Communication\",\"Information Technology\",\"Electrical\",\"Civil\",\"Electronics And Communication\",\"Electronics And Communication\",\"Information Technology\",\"Electronics And Communication\",\"Information Technology\",\"Electronics And Communication\",\"Computer Science\",\"Electronics And Communication\",\"Information Technology\",\"Information Technology\",\"Computer Science\",\"Information Technology\",\"Computer Science\",\"Information Technology\",\"Computer Science\",\"Information Technology\",\"Computer Science\",\"Electrical\",\"Computer Science\",\"Information Technology\",\"Electrical\",\"Electrical\",\"Electronics And Communication\",\"Mechanical\",\"Civil\",\"Computer Science\",\"Electrical\",\"Electronics And Communication\",\"Electronics And Communication\",\"Mechanical\",\"Mechanical\",\"Information Technology\",\"Electronics And Communication\",\"Information Technology\",\"Information Technology\",\"Electrical\",\"Electronics And Communication\",\"Computer Science\",\"Computer Science\",\"Computer Science\",\"Computer Science\",\"Computer Science\",\"Information Technology\",\"Information Technology\",\"Information Technology\",\"Mechanical\",\"Electronics And Communication\",\"Information Technology\",\"Civil\",\"Information Technology\",\"Electronics And Communication\",\"Electrical\",\"Civil\",\"Information Technology\",\"Computer Science\",\"Information Technology\",\"Civil\",\"Electronics And Communication\",\"Mechanical\",\"Information Technology\",\"Computer Science\",\"Information Technology\",\"Computer Science\",\"Computer Science\",\"Mechanical\",\"Electrical\",\"Electronics And Communication\",\"Electrical\",\"Computer Science\",\"Electronics And Communication\",\"Computer Science\",\"Electronics And Communication\",\"Electrical\",\"Civil\",\"Computer Science\",\"Information Technology\",\"Information Technology\",\"Electrical\",\"Information Technology\",\"Information Technology\",\"Computer Science\",\"Computer Science\",\"Electronics And Communication\",\"Computer Science\",\"Computer Science\",\"Mechanical\",\"Mechanical\",\"Information Technology\",\"Computer Science\",\"Electrical\",\"Electrical\",\"Civil\",\"Mechanical\",\"Computer Science\",\"Electrical\",\"Mechanical\",\"Civil\",\"Mechanical\",\"Computer Science\",\"Information Technology\",\"Computer Science\",\"Information Technology\",\"Electrical\",\"Computer Science\",\"Information Technology\",\"Computer Science\",\"Information Technology\",\"Information Technology\",\"Computer Science\",\"Information Technology\",\"Computer Science\",\"Civil\",\"Mechanical\",\"Electrical\",\"Information Technology\",\"Computer Science\",\"Information Technology\",\"Information Technology\",\"Computer Science\",\"Electronics And Communication\",\"Computer Science\",\"Information Technology\",\"Electrical\",\"Computer Science\",\"Computer Science\",\"Computer Science\",\"Information Technology\",\"Computer Science\",\"Electrical\",\"Electrical\",\"Information Technology\",\"Mechanical\",\"Computer Science\",\"Electronics And Communication\",\"Information Technology\",\"Mechanical\",\"Civil\",\"Computer Science\",\"Electronics And Communication\",\"Computer Science\",\"Electrical\",\"Information Technology\",\"Computer Science\",\"Electronics And Communication\",\"Information Technology\",\"Computer Science\",\"Information Technology\",\"Computer Science\",\"Mechanical\",\"Computer Science\",\"Computer Science\",\"Computer Science\",\"Civil\",\"Mechanical\",\"Information Technology\",\"Mechanical\",\"Computer Science\",\"Information Technology\",\"Electronics And Communication\",\"Computer Science\",\"Civil\",\"Information Technology\",\"Electronics And Communication\",\"Information Technology\",\"Electronics And Communication\",\"Information Technology\",\"Mechanical\",\"Electrical\",\"Information Technology\",\"Information Technology\",\"Information Technology\",\"Computer Science\",\"Mechanical\",\"Computer Science\",\"Information Technology\",\"Electronics And Communication\",\"Electrical\",\"Computer Science\",\"Computer Science\",\"Computer Science\",\"Information Technology\",\"Information Technology\",\"Civil\",\"Computer Science\",\"Mechanical\",\"Electrical\",\"Computer Science\",\"Electronics And Communication\",\"Information Technology\",\"Information Technology\",\"Information Technology\",\"Information Technology\",\"Computer Science\",\"Computer Science\",\"Information Technology\",\"Electronics And Communication\",\"Information Technology\",\"Information Technology\",\"Computer Science\",\"Information Technology\",\"Information Technology\",\"Information Technology\",\"Electronics And Communication\",\"Information Technology\",\"Computer Science\",\"Information Technology\",\"Information Technology\",\"Electrical\",\"Information Technology\",\"Information Technology\",\"Mechanical\",\"Electrical\",\"Information Technology\",\"Mechanical\",\"Civil\",\"Information Technology\",\"Information Technology\",\"Computer Science\",\"Information Technology\",\"Civil\",\"Computer Science\",\"Information Technology\",\"Information Technology\",\"Civil\",\"Information Technology\",\"Computer Science\",\"Information Technology\",\"Computer Science\",\"Information Technology\",\"Computer Science\",\"Civil\",\"Information Technology\",\"Computer Science\",\"Electronics And Communication\",\"Computer Science\",\"Computer Science\",\"Computer Science\",\"Computer Science\",\"Information Technology\",\"Computer Science\",\"Information Technology\",\"Information Technology\",\"Computer Science\",\"Civil\",\"Information Technology\",\"Information Technology\",\"Computer Science\",\"Computer Science\",\"Mechanical\",\"Information Technology\",\"Information Technology\",\"Information Technology\",\"Information Technology\",\"Electrical\",\"Mechanical\",\"Civil\",\"Civil\",\"Computer Science\",\"Information Technology\",\"Computer Science\",\"Civil\",\"Computer Science\",\"Electronics And Communication\",\"Information Technology\",\"Computer Science\",\"Information Technology\",\"Computer Science\",\"Computer Science\",\"Computer Science\",\"Computer Science\",\"Information Technology\",\"Information Technology\",\"Information Technology\",\"Information Technology\",\"Information Technology\",\"Information Technology\",\"Information Technology\",\"Computer Science\",\"Computer Science\",\"Electrical\",\"Information Technology\",\"Information Technology\",\"Mechanical\",\"Information Technology\",\"Information Technology\",\"Information Technology\",\"Information Technology\",\"Information Technology\",\"Electrical\",\"Civil\",\"Information Technology\",\"Information Technology\",\"Information Technology\",\"Computer Science\",\"Electronics And Communication\",\"Information Technology\",\"Mechanical\",\"Mechanical\",\"Information Technology\",\"Computer Science\",\"Computer Science\",\"Civil\",\"Computer Science\",\"Information Technology\",\"Computer Science\",\"Information Technology\",\"Computer Science\",\"Computer Science\",\"Information Technology\",\"Computer Science\",\"Computer Science\",\"Civil\",\"Electrical\",\"Electronics And Communication\",\"Electrical\",\"Computer Science\",\"Electronics And Communication\",\"Electronics And Communication\",\"Mechanical\",\"Electronics And Communication\",\"Electrical\",\"Electronics And Communication\",\"Computer Science\",\"Electronics And Communication\",\"Computer Science\",\"Computer Science\",\"Mechanical\",\"Computer Science\",\"Mechanical\",\"Electronics And Communication\",\"Electrical\",\"Information Technology\",\"Mechanical\",\"Electronics And Communication\",\"Information Technology\",\"Information Technology\",\"Computer Science\",\"Information Technology\",\"Computer Science\",\"Mechanical\",\"Computer Science\",\"Electronics And Communication\",\"Electronics And Communication\",\"Computer Science\",\"Electrical\",\"Electronics And Communication\",\"Information Technology\",\"Mechanical\",\"Electrical\",\"Mechanical\",\"Electrical\",\"Civil\",\"Mechanical\",\"Information Technology\",\"Electronics And Communication\",\"Electronics And Communication\",\"Electronics And Communication\",\"Information Technology\",\"Civil\",\"Electrical\",\"Computer Science\",\"Information Technology\",\"Civil\",\"Civil\",\"Information Technology\",\"Computer Science\",\"Computer Science\",\"Civil\",\"Electronics And Communication\",\"Electrical\",\"Electrical\",\"Electrical\",\"Computer Science\",\"Information Technology\",\"Electrical\",\"Information Technology\",\"Electronics And Communication\",\"Computer Science\",\"Mechanical\",\"Mechanical\",\"Information Technology\",\"Civil\",\"Mechanical\",\"Computer Science\",\"Information Technology\",\"Mechanical\",\"Mechanical\",\"Electrical\",\"Information Technology\",\"Information Technology\",\"Computer Science\",\"Civil\",\"Information Technology\",\"Information Technology\",\"Civil\",\"Electrical\",\"Computer Science\",\"Electrical\",\"Electronics And Communication\",\"Electrical\",\"Civil\",\"Computer Science\",\"Civil\",\"Information Technology\",\"Computer Science\",\"Electronics And Communication\",\"Electrical\",\"Information Technology\",\"Information Technology\",\"Computer Science\",\"Computer Science\",\"Computer Science\",\"Information Technology\",\"Mechanical\",\"Computer Science\",\"Electronics And Communication\",\"Mechanical\",\"Information Technology\",\"Mechanical\",\"Civil\",\"Information Technology\",\"Information Technology\",\"Electronics And Communication\",\"Mechanical\",\"Computer Science\",\"Computer Science\",\"Information Technology\",\"Electronics And Communication\",\"Electronics And Communication\",\"Mechanical\",\"Computer Science\",\"Information Technology\",\"Mechanical\",\"Electrical\",\"Computer Science\",\"Computer Science\",\"Mechanical\",\"Information Technology\",\"Electrical\",\"Information Technology\",\"Electronics And Communication\",\"Information Technology\",\"Mechanical\",\"Mechanical\",\"Computer Science\",\"Electrical\",\"Computer Science\",\"Electrical\",\"Information Technology\",\"Information Technology\",\"Mechanical\",\"Computer Science\",\"Computer Science\",\"Mechanical\",\"Mechanical\",\"Civil\",\"Electrical\",\"Electrical\",\"Electronics And Communication\",\"Computer Science\",\"Computer Science\",\"Electrical\",\"Electrical\",\"Mechanical\",\"Electronics And Communication\",\"Electronics And Communication\",\"Electronics And Communication\",\"Computer Science\",\"Mechanical\",\"Mechanical\",\"Information Technology\",\"Information Technology\",\"Information Technology\",\"Information Technology\",\"Electronics And Communication\",\"Computer Science\",\"Computer Science\",\"Information Technology\",\"Information Technology\",\"Electronics And Communication\",\"Electrical\",\"Electronics And Communication\",\"Information Technology\",\"Mechanical\",\"Information Technology\",\"Computer Science\",\"Electronics And Communication\",\"Information Technology\",\"Information Technology\",\"Electronics And Communication\",\"Computer Science\",\"Computer Science\",\"Information Technology\",\"Civil\",\"Computer Science\",\"Electrical\",\"Mechanical\",\"Electronics And Communication\",\"Computer Science\",\"Computer Science\",\"Computer Science\",\"Electrical\",\"Computer Science\",\"Mechanical\",\"Computer Science\",\"Computer Science\",\"Computer Science\",\"Information Technology\",\"Computer Science\",\"Information Technology\",\"Computer Science\",\"Civil\",\"Electronics And Communication\",\"Mechanical\",\"Computer Science\",\"Computer Science\",\"Computer Science\",\"Computer Science\",\"Computer Science\",\"Electrical\",\"Information Technology\",\"Computer Science\",\"Computer Science\",\"Information Technology\",\"Computer Science\",\"Mechanical\",\"Computer Science\",\"Electronics And Communication\",\"Electrical\",\"Electronics And Communication\",\"Computer Science\",\"Information Technology\",\"Information Technology\",\"Information Technology\",\"Mechanical\",\"Information Technology\",\"Information Technology\",\"Electrical\",\"Information Technology\",\"Civil\",\"Computer Science\",\"Computer Science\",\"Information Technology\",\"Mechanical\",\"Electronics And Communication\",\"Information Technology\",\"Computer Science\",\"Electronics And Communication\",\"Mechanical\",\"Electronics And Communication\",\"Electrical\",\"Electronics And Communication\",\"Information Technology\",\"Civil\",\"Electrical\",\"Computer Science\",\"Electronics And Communication\",\"Electrical\",\"Information Technology\",\"Computer Science\",\"Electrical\",\"Computer Science\",\"Civil\",\"Computer Science\",\"Information Technology\",\"Information Technology\",\"Electrical\",\"Mechanical\",\"Computer Science\",\"Computer Science\",\"Information Technology\",\"Civil\",\"Civil\",\"Information Technology\",\"Information Technology\",\"Electrical\",\"Electrical\",\"Information Technology\",\"Computer Science\",\"Computer Science\",\"Information Technology\",\"Computer Science\",\"Computer Science\",\"Computer Science\",\"Information Technology\",\"Computer Science\",\"Computer Science\",\"Computer Science\",\"Computer Science\",\"Computer Science\",\"Computer Science\",\"Computer Science\",\"Electronics And Communication\",\"Electrical\",\"Electrical\",\"Computer Science\",\"Mechanical\",\"Electronics And Communication\",\"Computer Science\",\"Computer Science\",\"Computer Science\",\"Electrical\",\"Information Technology\",\"Civil\",\"Electronics And Communication\",\"Electrical\",\"Computer Science\",\"Information Technology\",\"Information Technology\",\"Mechanical\",\"Information Technology\",\"Computer Science\",\"Mechanical\",\"Information Technology\",\"Computer Science\",\"Mechanical\",\"Civil\",\"Mechanical\",\"Computer Science\",\"Electronics And Communication\",\"Computer Science\",\"Computer Science\",\"Electronics And Communication\",\"Information Technology\",\"Civil\",\"Information Technology\",\"Electrical\",\"Information Technology\",\"Civil\",\"Computer Science\",\"Computer Science\",\"Computer Science\",\"Civil\",\"Mechanical\",\"Mechanical\",\"Mechanical\",\"Information Technology\",\"Information Technology\",\"Computer Science\",\"Information Technology\",\"Electronics And Communication\",\"Electronics And Communication\",\"Information Technology\",\"Civil\",\"Mechanical\",\"Computer Science\",\"Civil\",\"Information Technology\",\"Civil\",\"Computer Science\",\"Civil\",\"Information Technology\",\"Electrical\",\"Information Technology\",\"Computer Science\",\"Mechanical\",\"Information Technology\",\"Electrical\",\"Civil\",\"Mechanical\",\"Electronics And Communication\",\"Electronics And Communication\",\"Civil\",\"Electrical\",\"Mechanical\",\"Mechanical\",\"Information Technology\",\"Information Technology\",\"Mechanical\",\"Mechanical\",\"Information Technology\",\"Electronics And Communication\",\"Computer Science\",\"Information Technology\",\"Information Technology\",\"Computer Science\",\"Electronics And Communication\",\"Computer Science\",\"Electronics And Communication\",\"Electronics And Communication\",\"Electronics And Communication\",\"Electrical\",\"Computer Science\",\"Information Technology\",\"Information Technology\",\"Electronics And Communication\",\"Electronics And Communication\",\"Computer Science\",\"Electronics And Communication\",\"Computer Science\",\"Information Technology\",\"Electronics And Communication\",\"Information Technology\",\"Civil\",\"Computer Science\",\"Information Technology\",\"Computer Science\",\"Electrical\",\"Information Technology\",\"Computer Science\",\"Information Technology\",\"Electronics And Communication\",\"Mechanical\",\"Civil\",\"Computer Science\",\"Electronics And Communication\",\"Information Technology\",\"Computer Science\",\"Electrical\",\"Computer Science\",\"Civil\",\"Civil\",\"Mechanical\",\"Information Technology\",\"Electronics And Communication\",\"Information Technology\",\"Information Technology\",\"Computer Science\",\"Computer Science\",\"Mechanical\",\"Civil\",\"Information Technology\",\"Electronics And Communication\",\"Computer Science\",\"Computer Science\",\"Computer Science\",\"Information Technology\",\"Civil\",\"Mechanical\",\"Electronics And Communication\",\"Computer Science\",\"Electronics And Communication\",\"Mechanical\",\"Computer Science\",\"Computer Science\",\"Electronics And Communication\",\"Mechanical\",\"Electronics And Communication\",\"Mechanical\",\"Information Technology\",\"Computer Science\",\"Information Technology\",\"Mechanical\",\"Computer Science\",\"Electrical\",\"Information Technology\",\"Electrical\",\"Electrical\",\"Electronics And Communication\",\"Electronics And Communication\",\"Electronics And Communication\",\"Information Technology\",\"Information Technology\",\"Electrical\",\"Electronics And Communication\",\"Civil\",\"Electrical\",\"Information Technology\",\"Information Technology\",\"Information Technology\",\"Mechanical\",\"Information Technology\",\"Mechanical\",\"Information Technology\",\"Computer Science\",\"Information Technology\",\"Information Technology\",\"Computer Science\",\"Electrical\",\"Information Technology\",\"Electrical\",\"Computer Science\",\"Computer Science\",\"Computer Science\",\"Electrical\",\"Civil\",\"Computer Science\",\"Electronics And Communication\",\"Computer Science\",\"Computer Science\",\"Information Technology\",\"Mechanical\",\"Computer Science\",\"Electrical\",\"Mechanical\",\"Computer Science\",\"Computer Science\",\"Computer Science\",\"Information Technology\",\"Information Technology\",\"Electronics And Communication\",\"Computer Science\",\"Computer Science\",\"Computer Science\",\"Electrical\",\"Electronics And Communication\",\"Electrical\",\"Information Technology\",\"Information Technology\",\"Computer Science\",\"Electronics And Communication\",\"Civil\",\"Electronics And Communication\",\"Information Technology\",\"Mechanical\",\"Information Technology\",\"Computer Science\",\"Computer Science\",\"Electronics And Communication\",\"Information Technology\",\"Civil\",\"Computer Science\",\"Information Technology\",\"Information Technology\",\"Mechanical\",\"Civil\",\"Information Technology\",\"Computer Science\",\"Computer Science\",\"Electronics And Communication\",\"Computer Science\",\"Mechanical\",\"Computer Science\",\"Computer Science\",\"Electronics And Communication\",\"Mechanical\",\"Computer Science\",\"Mechanical\",\"Electronics And Communication\",\"Information Technology\",\"Computer Science\",\"Electronics And Communication\",\"Electronics And Communication\",\"Electrical\",\"Computer Science\",\"Computer Science\",\"Electronics And Communication\",\"Computer Science\",\"Electronics And Communication\",\"Mechanical\",\"Electrical\",\"Computer Science\",\"Electrical\",\"Information Technology\",\"Computer Science\",\"Computer Science\",\"Electronics And Communication\",\"Mechanical\",\"Electronics And Communication\",\"Information Technology\",\"Computer Science\",\"Civil\",\"Computer Science\",\"Electrical\",\"Mechanical\",\"Information Technology\",\"Electronics And Communication\",\"Information Technology\",\"Electronics And Communication\",\"Computer Science\",\"Electrical\",\"Electronics And Communication\",\"Electrical\",\"Information Technology\",\"Information Technology\",\"Computer Science\",\"Electronics And Communication\",\"Electrical\",\"Electrical\",\"Information Technology\",\"Computer Science\",\"Computer Science\",\"Electrical\",\"Civil\",\"Computer Science\",\"Computer Science\",\"Electronics And Communication\",\"Mechanical\",\"Information Technology\",\"Electronics And Communication\",\"Information Technology\",\"Information Technology\",\"Information Technology\",\"Computer Science\",\"Computer Science\",\"Electronics And Communication\",\"Mechanical\",\"Electronics And Communication\",\"Electronics And Communication\",\"Computer Science\",\"Information Technology\",\"Computer Science\",\"Computer Science\",\"Electronics And Communication\",\"Computer Science\",\"Civil\",\"Computer Science\",\"Computer Science\",\"Information Technology\",\"Mechanical\",\"Information Technology\",\"Electronics And Communication\",\"Computer Science\",\"Computer Science\",\"Electronics And Communication\",\"Electronics And Communication\",\"Computer Science\",\"Computer Science\",\"Information Technology\",\"Mechanical\",\"Computer Science\",\"Information Technology\",\"Electrical\",\"Civil\",\"Computer Science\",\"Information Technology\",\"Electrical\",\"Information Technology\",\"Civil\",\"Mechanical\",\"Computer Science\",\"Information Technology\",\"Electrical\",\"Computer Science\",\"Civil\",\"Mechanical\",\"Computer Science\",\"Information Technology\",\"Mechanical\",\"Computer Science\",\"Computer Science\",\"Information Technology\",\"Information Technology\",\"Mechanical\",\"Electronics And Communication\",\"Mechanical\",\"Civil\",\"Mechanical\",\"Electronics And Communication\",\"Information Technology\",\"Computer Science\",\"Information Technology\",\"Information Technology\",\"Information Technology\",\"Information Technology\",\"Computer Science\",\"Computer Science\",\"Computer Science\",\"Electronics And Communication\",\"Computer Science\",\"Computer Science\",\"Computer Science\",\"Electrical\",\"Computer Science\",\"Computer Science\",\"Information Technology\",\"Information Technology\",\"Computer Science\",\"Civil\",\"Computer Science\",\"Electrical\",\"Electronics And Communication\",\"Computer Science\",\"Computer Science\",\"Mechanical\",\"Mechanical\",\"Computer Science\",\"Electronics And Communication\",\"Electronics And Communication\",\"Electronics And Communication\",\"Mechanical\",\"Electronics And Communication\",\"Civil\",\"Electrical\",\"Civil\",\"Computer Science\",\"Information Technology\",\"Computer Science\",\"Civil\",\"Civil\",\"Electronics And Communication\",\"Electrical\",\"Computer Science\",\"Computer Science\",\"Information Technology\",\"Mechanical\",\"Electrical\",\"Information Technology\",\"Information Technology\",\"Mechanical\",\"Electrical\",\"Computer Science\",\"Electronics And Communication\",\"Electrical\",\"Information Technology\",\"Civil\",\"Electrical\",\"Information Technology\",\"Electronics And Communication\",\"Computer Science\",\"Computer Science\",\"Electrical\",\"Civil\",\"Electronics And Communication\",\"Electronics And Communication\",\"Electronics And Communication\",\"Computer Science\",\"Mechanical\",\"Mechanical\",\"Civil\",\"Computer Science\",\"Information Technology\",\"Information Technology\",\"Electrical\",\"Electrical\",\"Computer Science\",\"Information Technology\",\"Electronics And Communication\",\"Information Technology\",\"Electronics And Communication\",\"Information Technology\",\"Electrical\",\"Civil\",\"Computer Science\",\"Computer Science\",\"Computer Science\",\"Civil\",\"Mechanical\",\"Mechanical\",\"Computer Science\",\"Mechanical\",\"Computer Science\",\"Electronics And Communication\",\"Electronics And Communication\",\"Civil\",\"Information Technology\",\"Computer Science\",\"Information Technology\",\"Electrical\",\"Information Technology\",\"Computer Science\",\"Computer Science\",\"Electronics And Communication\",\"Mechanical\",\"Civil\",\"Computer Science\",\"Civil\",\"Electrical\",\"Information Technology\",\"Mechanical\",\"Electronics And Communication\",\"Civil\",\"Mechanical\",\"Electronics And Communication\",\"Computer Science\",\"Mechanical\",\"Electrical\",\"Mechanical\",\"Mechanical\",\"Information Technology\",\"Electrical\",\"Electrical\",\"Mechanical\",\"Computer Science\",\"Civil\",\"Electrical\",\"Electronics And Communication\",\"Civil\",\"Electronics And Communication\",\"Computer Science\",\"Mechanical\",\"Electrical\",\"Electrical\",\"Civil\",\"Mechanical\",\"Information Technology\",\"Computer Science\",\"Electrical\",\"Information Technology\",\"Computer Science\",\"Civil\",\"Computer Science\",\"Mechanical\",\"Civil\",\"Computer Science\",\"Computer Science\",\"Electrical\",\"Mechanical\",\"Electronics And Communication\",\"Electronics And Communication\",\"Electronics And Communication\",\"Civil\",\"Electronics And Communication\",\"Information Technology\",\"Mechanical\",\"Information Technology\",\"Computer Science\",\"Mechanical\",\"Information Technology\",\"Mechanical\",\"Civil\",\"Electrical\",\"Civil\",\"Mechanical\",\"Electrical\",\"Electronics And Communication\",\"Computer Science\",\"Information Technology\",\"Information Technology\",\"Information Technology\",\"Computer Science\",\"Electronics And Communication\",\"Information Technology\",\"Computer Science\",\"Civil\",\"Computer Science\",\"Civil\",\"Computer Science\",\"Electrical\",\"Civil\",\"Information Technology\",\"Computer Science\",\"Information Technology\",\"Electronics And Communication\",\"Computer Science\",\"Electrical\",\"Civil\",\"Electronics And Communication\",\"Computer Science\",\"Computer Science\",\"Computer Science\",\"Information Technology\",\"Computer Science\",\"Electrical\",\"Electrical\",\"Computer Science\",\"Mechanical\",\"Computer Science\",\"Electronics And Communication\",\"Mechanical\",\"Computer Science\",\"Information Technology\",\"Civil\",\"Electronics And Communication\",\"Information Technology\",\"Electrical\",\"Electrical\",\"Computer Science\",\"Mechanical\",\"Civil\",\"Electronics And Communication\",\"Mechanical\",\"Electronics And Communication\",\"Electronics And Communication\",\"Civil\",\"Electrical\",\"Information Technology\",\"Electronics And Communication\",\"Electrical\",\"Electronics And Communication\",\"Electronics And Communication\",\"Electrical\",\"Civil\",\"Computer Science\",\"Mechanical\",\"Computer Science\",\"Electronics And Communication\",\"Information Technology\",\"Electrical\",\"Electrical\",\"Mechanical\",\"Civil\",\"Electrical\",\"Information Technology\",\"Electronics And Communication\",\"Electrical\",\"Information Technology\",\"Electrical\",\"Electronics And Communication\",\"Electronics And Communication\",\"Computer Science\",\"Civil\",\"Computer Science\",\"Electrical\",\"Electronics And Communication\",\"Information Technology\",\"Computer Science\",\"Electronics And Communication\",\"Information Technology\",\"Electronics And Communication\",\"Information Technology\",\"Computer Science\",\"Information Technology\",\"Information Technology\",\"Information Technology\",\"Electronics And Communication\",\"Computer Science\",\"Electronics And Communication\",\"Computer Science\",\"Electrical\",\"Electrical\",\"Computer Science\",\"Information Technology\",\"Electrical\",\"Mechanical\",\"Information Technology\",\"Computer Science\",\"Mechanical\",\"Electrical\",\"Computer Science\",\"Information Technology\",\"Civil\",\"Electronics And Communication\",\"Electronics And Communication\",\"Electronics And Communication\",\"Information Technology\",\"Information Technology\",\"Computer Science\",\"Electronics And Communication\",\"Civil\",\"Computer Science\",\"Computer Science\",\"Electrical\",\"Electronics And Communication\",\"Information Technology\",\"Computer Science\",\"Mechanical\",\"Mechanical\",\"Information Technology\",\"Information Technology\",\"Computer Science\",\"Electronics And Communication\",\"Civil\",\"Electrical\",\"Electrical\",\"Computer Science\",\"Electrical\",\"Electrical\",\"Electrical\",\"Electronics And Communication\",\"Information Technology\",\"Electrical\",\"Electronics And Communication\",\"Electronics And Communication\",\"Computer Science\",\"Electrical\",\"Computer Science\",\"Electronics And Communication\",\"Information Technology\",\"Mechanical\",\"Information Technology\",\"Civil\",\"Electrical\",\"Civil\",\"Electronics And Communication\",\"Computer Science\",\"Computer Science\",\"Computer Science\",\"Information Technology\",\"Civil\",\"Mechanical\",\"Electronics And Communication\",\"Electronics And Communication\",\"Electronics And Communication\",\"Information Technology\",\"Electronics And Communication\",\"Information Technology\",\"Mechanical\",\"Electronics And Communication\",\"Mechanical\",\"Civil\",\"Computer Science\",\"Information Technology\",\"Information Technology\",\"Computer Science\",\"Civil\",\"Information Technology\",\"Civil\",\"Electronics And Communication\",\"Electronics And Communication\",\"Electronics And Communication\",\"Electronics And Communication\",\"Mechanical\",\"Computer Science\",\"Information Technology\",\"Electronics And Communication\",\"Computer Science\",\"Computer Science\",\"Computer Science\",\"Electronics And Communication\",\"Electronics And Communication\",\"Computer Science\",\"Information Technology\",\"Civil\",\"Mechanical\",\"Mechanical\",\"Electronics And Communication\",\"Electronics And Communication\",\"Electrical\",\"Information Technology\",\"Electronics And Communication\",\"Electronics And Communication\",\"Information Technology\",\"Mechanical\",\"Information Technology\",\"Information Technology\",\"Electrical\",\"Computer Science\",\"Civil\",\"Electronics And Communication\",\"Computer Science\",\"Information Technology\",\"Computer Science\",\"Computer Science\",\"Computer Science\",\"Electrical\",\"Electronics And Communication\",\"Mechanical\",\"Electronics And Communication\",\"Computer Science\",\"Civil\",\"Computer Science\",\"Computer Science\",\"Mechanical\",\"Computer Science\",\"Computer Science\",\"Civil\"],\"xaxis\":\"x\",\"yaxis\":\"y\",\"type\":\"histogram\"},{\"alignmentgroup\":\"True\",\"bingroup\":\"x\",\"hovertemplate\":\"PlacedOrNot=0<br>Stream=%{x}<br>count=%{y}<extra></extra>\",\"legendgroup\":\"0\",\"marker\":{\"color\":\"#FF7F0E\",\"pattern\":{\"shape\":\"\"}},\"name\":\"0\",\"offsetgroup\":\"0\",\"orientation\":\"v\",\"showlegend\":true,\"x\":[\"Electronics And Communication\",\"Computer Science\",\"Information Technology\",\"Computer Science\",\"Computer Science\",\"Computer Science\",\"Computer Science\",\"Civil\",\"Computer Science\",\"Computer Science\",\"Computer Science\",\"Civil\",\"Electronics And Communication\",\"Electronics And Communication\",\"Civil\",\"Electrical\",\"Information Technology\",\"Information Technology\",\"Electrical\",\"Electronics And Communication\",\"Electrical\",\"Computer Science\",\"Civil\",\"Mechanical\",\"Information Technology\",\"Electronics And Communication\",\"Computer Science\",\"Information Technology\",\"Mechanical\",\"Mechanical\",\"Electrical\",\"Information Technology\",\"Electrical\",\"Information Technology\",\"Electrical\",\"Electronics And Communication\",\"Information Technology\",\"Information Technology\",\"Electronics And Communication\",\"Computer Science\",\"Mechanical\",\"Electrical\",\"Electrical\",\"Mechanical\",\"Electrical\",\"Electrical\",\"Information Technology\",\"Electronics And Communication\",\"Information Technology\",\"Computer Science\",\"Mechanical\",\"Computer Science\",\"Electrical\",\"Information Technology\",\"Computer Science\",\"Computer Science\",\"Information Technology\",\"Civil\",\"Civil\",\"Information Technology\",\"Mechanical\",\"Information Technology\",\"Electronics And Communication\",\"Civil\",\"Electrical\",\"Civil\",\"Computer Science\",\"Computer Science\",\"Electronics And Communication\",\"Information Technology\",\"Computer Science\",\"Computer Science\",\"Mechanical\",\"Computer Science\",\"Information Technology\",\"Computer Science\",\"Electronics And Communication\",\"Information Technology\",\"Computer Science\",\"Computer Science\",\"Electronics And Communication\",\"Computer Science\",\"Information Technology\",\"Electrical\",\"Information Technology\",\"Information Technology\",\"Civil\",\"Civil\",\"Electrical\",\"Electronics And Communication\",\"Mechanical\",\"Computer Science\",\"Civil\",\"Civil\",\"Computer Science\",\"Mechanical\",\"Mechanical\",\"Information Technology\",\"Computer Science\",\"Computer Science\",\"Information Technology\",\"Computer Science\",\"Civil\",\"Electrical\",\"Mechanical\",\"Civil\",\"Electrical\",\"Electronics And Communication\",\"Civil\",\"Electronics And Communication\",\"Computer Science\",\"Civil\",\"Information Technology\",\"Civil\",\"Electrical\",\"Information Technology\",\"Electronics And Communication\",\"Electronics And Communication\",\"Mechanical\",\"Civil\",\"Civil\",\"Computer Science\",\"Mechanical\",\"Civil\",\"Information Technology\",\"Computer Science\",\"Civil\",\"Computer Science\",\"Civil\",\"Electronics And Communication\",\"Computer Science\",\"Civil\",\"Computer Science\",\"Mechanical\",\"Electronics And Communication\",\"Electronics And Communication\",\"Computer Science\",\"Electronics And Communication\",\"Mechanical\",\"Information Technology\",\"Electronics And Communication\",\"Civil\",\"Mechanical\",\"Electrical\",\"Electronics And Communication\",\"Electronics And Communication\",\"Information Technology\",\"Electronics And Communication\",\"Computer Science\",\"Electrical\",\"Information Technology\",\"Computer Science\",\"Information Technology\",\"Information Technology\",\"Civil\",\"Mechanical\",\"Information Technology\",\"Mechanical\",\"Computer Science\",\"Computer Science\",\"Computer Science\",\"Information Technology\",\"Electronics And Communication\",\"Information Technology\",\"Mechanical\",\"Electronics And Communication\",\"Information Technology\",\"Civil\",\"Computer Science\",\"Mechanical\",\"Information Technology\",\"Electrical\",\"Mechanical\",\"Electronics And Communication\",\"Information Technology\",\"Computer Science\",\"Information Technology\",\"Mechanical\",\"Computer Science\",\"Electrical\",\"Information Technology\",\"Electronics And Communication\",\"Electrical\",\"Electronics And Communication\",\"Computer Science\",\"Mechanical\",\"Electrical\",\"Civil\",\"Information Technology\",\"Computer Science\",\"Electrical\",\"Computer Science\",\"Computer Science\",\"Electrical\",\"Computer Science\",\"Electrical\",\"Information Technology\",\"Computer Science\",\"Mechanical\",\"Civil\",\"Computer Science\",\"Electrical\",\"Electrical\",\"Computer Science\",\"Computer Science\",\"Electronics And Communication\",\"Information Technology\",\"Mechanical\",\"Electrical\",\"Mechanical\",\"Electronics And Communication\",\"Information Technology\",\"Electronics And Communication\",\"Civil\",\"Electrical\",\"Mechanical\",\"Information Technology\",\"Mechanical\",\"Electrical\",\"Mechanical\",\"Civil\",\"Electronics And Communication\",\"Electrical\",\"Mechanical\",\"Computer Science\",\"Civil\",\"Information Technology\",\"Computer Science\",\"Electrical\",\"Information Technology\",\"Electronics And Communication\",\"Computer Science\",\"Civil\",\"Electronics And Communication\",\"Electrical\",\"Mechanical\",\"Civil\",\"Mechanical\",\"Electronics And Communication\",\"Mechanical\",\"Computer Science\",\"Mechanical\",\"Information Technology\",\"Mechanical\",\"Information Technology\",\"Computer Science\",\"Computer Science\",\"Civil\",\"Computer Science\",\"Information Technology\",\"Electronics And Communication\",\"Civil\",\"Electrical\",\"Civil\",\"Computer Science\",\"Electrical\",\"Computer Science\",\"Electrical\",\"Electrical\",\"Computer Science\",\"Computer Science\",\"Electrical\",\"Electrical\",\"Information Technology\",\"Computer Science\",\"Electronics And Communication\",\"Information Technology\",\"Civil\",\"Computer Science\",\"Information Technology\",\"Computer Science\",\"Civil\",\"Computer Science\",\"Computer Science\",\"Computer Science\",\"Computer Science\",\"Computer Science\",\"Information Technology\",\"Information Technology\",\"Computer Science\",\"Civil\",\"Electrical\",\"Electronics And Communication\",\"Mechanical\",\"Electronics And Communication\",\"Mechanical\",\"Civil\",\"Computer Science\",\"Mechanical\",\"Mechanical\",\"Electronics And Communication\",\"Electrical\",\"Mechanical\",\"Electrical\",\"Electronics And Communication\",\"Electrical\",\"Mechanical\",\"Electronics And Communication\",\"Information Technology\",\"Computer Science\",\"Computer Science\",\"Information Technology\",\"Electronics And Communication\",\"Mechanical\",\"Computer Science\",\"Electrical\",\"Civil\",\"Civil\",\"Electrical\",\"Computer Science\",\"Information Technology\",\"Mechanical\",\"Computer Science\",\"Computer Science\",\"Information Technology\",\"Electronics And Communication\",\"Mechanical\",\"Electrical\",\"Civil\",\"Computer Science\",\"Information Technology\",\"Civil\",\"Computer Science\",\"Civil\",\"Civil\",\"Mechanical\",\"Information Technology\",\"Electrical\",\"Mechanical\",\"Civil\",\"Civil\",\"Electronics And Communication\",\"Civil\",\"Electrical\",\"Computer Science\",\"Mechanical\",\"Electronics And Communication\",\"Electrical\",\"Mechanical\",\"Electrical\",\"Civil\",\"Information Technology\",\"Civil\",\"Electrical\",\"Civil\",\"Civil\",\"Civil\",\"Electronics And Communication\",\"Civil\",\"Electronics And Communication\",\"Electrical\",\"Civil\",\"Electronics And Communication\",\"Mechanical\",\"Electronics And Communication\",\"Mechanical\",\"Mechanical\",\"Computer Science\",\"Electrical\",\"Electronics And Communication\",\"Electrical\",\"Electronics And Communication\",\"Mechanical\",\"Information Technology\",\"Electronics And Communication\",\"Mechanical\",\"Mechanical\",\"Civil\",\"Electronics And Communication\",\"Mechanical\",\"Mechanical\",\"Electrical\",\"Computer Science\",\"Electrical\",\"Mechanical\",\"Electrical\",\"Civil\",\"Information Technology\",\"Mechanical\",\"Information Technology\",\"Mechanical\",\"Information Technology\",\"Computer Science\",\"Information Technology\",\"Information Technology\",\"Electrical\",\"Electronics And Communication\",\"Civil\",\"Civil\",\"Civil\",\"Civil\",\"Civil\",\"Mechanical\",\"Electronics And Communication\",\"Mechanical\",\"Computer Science\",\"Mechanical\",\"Mechanical\",\"Mechanical\",\"Mechanical\",\"Mechanical\",\"Electronics And Communication\",\"Electrical\",\"Electronics And Communication\",\"Mechanical\",\"Computer Science\",\"Civil\",\"Mechanical\",\"Electronics And Communication\",\"Electrical\",\"Mechanical\",\"Mechanical\",\"Civil\",\"Civil\",\"Electronics And Communication\",\"Computer Science\",\"Civil\",\"Electrical\",\"Civil\",\"Civil\",\"Electrical\",\"Mechanical\",\"Mechanical\",\"Mechanical\",\"Computer Science\",\"Mechanical\",\"Civil\",\"Computer Science\",\"Computer Science\",\"Electrical\",\"Electronics And Communication\",\"Civil\",\"Computer Science\",\"Electronics And Communication\",\"Electrical\",\"Civil\",\"Information Technology\",\"Computer Science\",\"Information Technology\",\"Information Technology\",\"Computer Science\",\"Information Technology\",\"Civil\",\"Mechanical\",\"Mechanical\",\"Information Technology\",\"Electrical\",\"Mechanical\",\"Electrical\",\"Information Technology\",\"Civil\",\"Information Technology\",\"Electronics And Communication\",\"Electronics And Communication\",\"Computer Science\",\"Electronics And Communication\",\"Computer Science\",\"Civil\",\"Civil\",\"Computer Science\",\"Civil\",\"Mechanical\",\"Information Technology\",\"Computer Science\",\"Civil\",\"Mechanical\",\"Mechanical\",\"Information Technology\",\"Information Technology\",\"Mechanical\",\"Electrical\",\"Information Technology\",\"Civil\",\"Electronics And Communication\",\"Electrical\",\"Computer Science\",\"Civil\",\"Mechanical\",\"Electronics And Communication\",\"Mechanical\",\"Mechanical\",\"Mechanical\",\"Civil\",\"Information Technology\",\"Civil\",\"Computer Science\",\"Information Technology\",\"Electronics And Communication\",\"Computer Science\",\"Electronics And Communication\",\"Mechanical\",\"Computer Science\",\"Information Technology\",\"Mechanical\",\"Mechanical\",\"Civil\",\"Mechanical\",\"Civil\",\"Computer Science\",\"Information Technology\",\"Electrical\",\"Electrical\",\"Computer Science\",\"Computer Science\",\"Computer Science\",\"Information Technology\",\"Mechanical\",\"Information Technology\",\"Electronics And Communication\",\"Mechanical\",\"Computer Science\",\"Computer Science\",\"Electronics And Communication\",\"Computer Science\",\"Mechanical\",\"Civil\",\"Information Technology\",\"Information Technology\",\"Mechanical\",\"Mechanical\",\"Civil\",\"Electrical\",\"Computer Science\",\"Mechanical\",\"Information Technology\",\"Computer Science\",\"Information Technology\",\"Electrical\",\"Information Technology\",\"Information Technology\",\"Information Technology\",\"Information Technology\",\"Electronics And Communication\",\"Electronics And Communication\",\"Information Technology\",\"Computer Science\",\"Information Technology\",\"Information Technology\",\"Information Technology\",\"Electrical\",\"Computer Science\",\"Information Technology\",\"Electronics And Communication\",\"Information Technology\",\"Computer Science\",\"Mechanical\",\"Electronics And Communication\",\"Information Technology\",\"Mechanical\",\"Computer Science\",\"Civil\",\"Civil\",\"Electronics And Communication\",\"Mechanical\",\"Civil\",\"Information Technology\",\"Mechanical\",\"Civil\",\"Civil\",\"Mechanical\",\"Information Technology\",\"Mechanical\",\"Information Technology\",\"Electronics And Communication\",\"Computer Science\",\"Computer Science\",\"Electronics And Communication\",\"Electrical\",\"Electrical\",\"Computer Science\",\"Electronics And Communication\",\"Computer Science\",\"Information Technology\",\"Information Technology\",\"Information Technology\",\"Information Technology\",\"Computer Science\",\"Computer Science\",\"Information Technology\",\"Computer Science\",\"Computer Science\",\"Computer Science\",\"Computer Science\",\"Electronics And Communication\",\"Electronics And Communication\",\"Computer Science\",\"Mechanical\",\"Information Technology\",\"Mechanical\",\"Information Technology\",\"Electrical\",\"Information Technology\",\"Information Technology\",\"Mechanical\",\"Electronics And Communication\",\"Information Technology\",\"Electronics And Communication\",\"Electronics And Communication\",\"Electrical\",\"Computer Science\",\"Electronics And Communication\",\"Computer Science\",\"Information Technology\",\"Electronics And Communication\",\"Civil\",\"Computer Science\",\"Computer Science\",\"Information Technology\",\"Computer Science\",\"Computer Science\",\"Electrical\",\"Electronics And Communication\",\"Electrical\",\"Information Technology\",\"Information Technology\",\"Mechanical\",\"Electrical\",\"Mechanical\",\"Computer Science\",\"Electrical\",\"Civil\",\"Mechanical\",\"Computer Science\",\"Mechanical\",\"Computer Science\",\"Computer Science\",\"Mechanical\",\"Computer Science\",\"Electronics And Communication\",\"Electronics And Communication\",\"Computer Science\",\"Computer Science\",\"Information Technology\",\"Computer Science\",\"Electronics And Communication\",\"Mechanical\",\"Electronics And Communication\",\"Computer Science\",\"Electrical\",\"Computer Science\",\"Information Technology\",\"Computer Science\",\"Civil\",\"Mechanical\",\"Information Technology\",\"Electronics And Communication\",\"Civil\",\"Computer Science\",\"Computer Science\",\"Information Technology\",\"Information Technology\",\"Civil\",\"Computer Science\",\"Computer Science\",\"Mechanical\",\"Civil\",\"Information Technology\",\"Electrical\",\"Information Technology\",\"Civil\",\"Electronics And Communication\",\"Information Technology\",\"Electronics And Communication\",\"Information Technology\",\"Electronics And Communication\",\"Information Technology\",\"Electronics And Communication\",\"Computer Science\",\"Mechanical\",\"Computer Science\",\"Electronics And Communication\",\"Civil\",\"Civil\",\"Electrical\",\"Information Technology\",\"Computer Science\",\"Mechanical\",\"Electronics And Communication\",\"Computer Science\",\"Electronics And Communication\",\"Information Technology\",\"Computer Science\",\"Civil\",\"Mechanical\",\"Mechanical\",\"Mechanical\",\"Electrical\",\"Information Technology\",\"Information Technology\",\"Information Technology\",\"Information Technology\",\"Civil\",\"Mechanical\",\"Computer Science\",\"Computer Science\",\"Electronics And Communication\",\"Electronics And Communication\",\"Information Technology\",\"Computer Science\",\"Computer Science\",\"Mechanical\",\"Computer Science\",\"Information Technology\",\"Electronics And Communication\",\"Mechanical\",\"Mechanical\",\"Mechanical\",\"Mechanical\",\"Civil\",\"Electrical\",\"Computer Science\",\"Computer Science\",\"Civil\",\"Information Technology\",\"Information Technology\",\"Electrical\",\"Information Technology\",\"Electronics And Communication\",\"Computer Science\",\"Information Technology\",\"Mechanical\",\"Civil\",\"Mechanical\",\"Electrical\",\"Mechanical\",\"Mechanical\",\"Civil\",\"Computer Science\",\"Information Technology\",\"Computer Science\",\"Electronics And Communication\",\"Electrical\",\"Civil\",\"Mechanical\",\"Information Technology\",\"Civil\",\"Computer Science\",\"Mechanical\",\"Mechanical\",\"Computer Science\",\"Computer Science\",\"Computer Science\",\"Computer Science\",\"Civil\",\"Electronics And Communication\",\"Electrical\",\"Information Technology\",\"Civil\",\"Civil\",\"Electrical\",\"Computer Science\",\"Computer Science\",\"Computer Science\",\"Computer Science\",\"Computer Science\",\"Information Technology\",\"Information Technology\",\"Information Technology\",\"Information Technology\",\"Electronics And Communication\",\"Information Technology\",\"Civil\",\"Information Technology\",\"Civil\",\"Information Technology\",\"Information Technology\",\"Electronics And Communication\",\"Information Technology\",\"Mechanical\",\"Computer Science\",\"Computer Science\",\"Electrical\",\"Computer Science\",\"Mechanical\",\"Electronics And Communication\",\"Computer Science\",\"Electronics And Communication\",\"Electronics And Communication\",\"Information Technology\",\"Civil\",\"Electronics And Communication\",\"Civil\",\"Information Technology\",\"Mechanical\",\"Civil\",\"Mechanical\",\"Computer Science\",\"Computer Science\",\"Electronics And Communication\",\"Mechanical\",\"Electronics And Communication\",\"Electrical\",\"Information Technology\",\"Mechanical\",\"Computer Science\",\"Electrical\",\"Civil\",\"Information Technology\",\"Computer Science\",\"Computer Science\",\"Computer Science\",\"Information Technology\",\"Computer Science\",\"Information Technology\",\"Mechanical\",\"Mechanical\",\"Information Technology\",\"Civil\",\"Electronics And Communication\",\"Computer Science\",\"Computer Science\",\"Information Technology\",\"Information Technology\",\"Information Technology\",\"Computer Science\",\"Computer Science\",\"Computer Science\",\"Mechanical\",\"Information Technology\",\"Electrical\",\"Mechanical\",\"Computer Science\",\"Computer Science\",\"Electronics And Communication\",\"Information Technology\",\"Information Technology\",\"Information Technology\",\"Electronics And Communication\",\"Computer Science\",\"Computer Science\",\"Information Technology\",\"Information Technology\",\"Civil\",\"Information Technology\",\"Computer Science\",\"Computer Science\",\"Mechanical\",\"Electronics And Communication\",\"Mechanical\",\"Computer Science\",\"Civil\",\"Civil\",\"Electrical\",\"Civil\",\"Computer Science\",\"Computer Science\",\"Computer Science\",\"Information Technology\",\"Electrical\",\"Computer Science\",\"Civil\",\"Information Technology\",\"Computer Science\",\"Computer Science\",\"Information Technology\",\"Information Technology\",\"Computer Science\",\"Computer Science\",\"Electrical\",\"Computer Science\",\"Computer Science\",\"Electrical\",\"Information Technology\",\"Electronics And Communication\",\"Computer Science\",\"Information Technology\",\"Civil\",\"Electrical\",\"Electronics And Communication\",\"Electronics And Communication\",\"Computer Science\",\"Computer Science\",\"Mechanical\",\"Information Technology\",\"Computer Science\",\"Information Technology\",\"Civil\",\"Electrical\",\"Electrical\",\"Electrical\",\"Computer Science\",\"Mechanical\",\"Computer Science\",\"Computer Science\",\"Information Technology\",\"Mechanical\",\"Information Technology\",\"Information Technology\",\"Information Technology\",\"Electrical\",\"Information Technology\",\"Mechanical\",\"Electrical\",\"Computer Science\",\"Computer Science\",\"Mechanical\",\"Electrical\",\"Computer Science\",\"Civil\",\"Information Technology\",\"Civil\",\"Electronics And Communication\",\"Computer Science\",\"Information Technology\",\"Computer Science\",\"Computer Science\",\"Information Technology\",\"Civil\",\"Information Technology\",\"Electronics And Communication\",\"Computer Science\",\"Electrical\",\"Information Technology\",\"Electrical\",\"Mechanical\",\"Mechanical\",\"Electrical\",\"Electrical\",\"Information Technology\",\"Mechanical\",\"Civil\",\"Electronics And Communication\",\"Electrical\",\"Computer Science\",\"Information Technology\",\"Civil\",\"Mechanical\",\"Computer Science\",\"Electronics And Communication\",\"Information Technology\",\"Information Technology\",\"Electrical\",\"Information Technology\",\"Electronics And Communication\",\"Mechanical\",\"Computer Science\",\"Computer Science\",\"Computer Science\",\"Information Technology\",\"Computer Science\",\"Electrical\",\"Civil\",\"Electronics And Communication\",\"Mechanical\",\"Electrical\",\"Civil\",\"Mechanical\",\"Electrical\",\"Electrical\",\"Electrical\",\"Mechanical\",\"Computer Science\",\"Electrical\",\"Electronics And Communication\",\"Mechanical\",\"Mechanical\",\"Civil\",\"Electronics And Communication\",\"Electrical\",\"Information Technology\",\"Information Technology\",\"Electrical\",\"Mechanical\",\"Civil\",\"Mechanical\",\"Mechanical\",\"Information Technology\",\"Computer Science\",\"Civil\",\"Electrical\",\"Computer Science\",\"Computer Science\",\"Computer Science\",\"Information Technology\",\"Mechanical\",\"Electronics And Communication\",\"Computer Science\",\"Information Technology\",\"Civil\",\"Information Technology\",\"Information Technology\",\"Electrical\",\"Information Technology\",\"Electronics And Communication\",\"Information Technology\",\"Information Technology\",\"Electronics And Communication\",\"Civil\",\"Electronics And Communication\",\"Information Technology\",\"Information Technology\",\"Computer Science\",\"Civil\",\"Information Technology\",\"Electrical\",\"Civil\",\"Civil\",\"Information Technology\",\"Computer Science\",\"Electronics And Communication\",\"Computer Science\",\"Electronics And Communication\",\"Mechanical\",\"Information Technology\",\"Electronics And Communication\",\"Computer Science\",\"Mechanical\",\"Electronics And Communication\",\"Electrical\",\"Computer Science\",\"Computer Science\",\"Mechanical\",\"Electrical\",\"Information Technology\",\"Information Technology\",\"Information Technology\",\"Electronics And Communication\",\"Computer Science\",\"Electronics And Communication\",\"Information Technology\",\"Electrical\",\"Civil\",\"Civil\",\"Information Technology\",\"Electronics And Communication\",\"Information Technology\",\"Computer Science\",\"Computer Science\",\"Civil\",\"Computer Science\",\"Computer Science\",\"Mechanical\",\"Information Technology\",\"Electrical\",\"Mechanical\",\"Computer Science\",\"Electrical\",\"Computer Science\",\"Mechanical\",\"Computer Science\",\"Computer Science\",\"Computer Science\",\"Electronics And Communication\",\"Civil\",\"Electronics And Communication\",\"Information Technology\",\"Electrical\",\"Mechanical\",\"Mechanical\",\"Information Technology\",\"Mechanical\",\"Electronics And Communication\",\"Mechanical\",\"Electronics And Communication\",\"Civil\",\"Electronics And Communication\",\"Civil\",\"Civil\",\"Mechanical\",\"Mechanical\",\"Computer Science\",\"Mechanical\",\"Civil\",\"Computer Science\",\"Computer Science\",\"Electrical\",\"Mechanical\",\"Electrical\",\"Electrical\",\"Electronics And Communication\",\"Computer Science\",\"Civil\",\"Civil\",\"Computer Science\",\"Civil\",\"Computer Science\",\"Computer Science\",\"Computer Science\",\"Civil\",\"Information Technology\",\"Computer Science\",\"Information Technology\",\"Electronics And Communication\",\"Computer Science\",\"Computer Science\",\"Mechanical\",\"Electronics And Communication\",\"Civil\",\"Mechanical\",\"Information Technology\",\"Computer Science\",\"Civil\",\"Computer Science\",\"Mechanical\",\"Electrical\",\"Information Technology\",\"Information Technology\",\"Computer Science\",\"Information Technology\",\"Electronics And Communication\",\"Information Technology\",\"Civil\",\"Electronics And Communication\",\"Computer Science\",\"Computer Science\",\"Information Technology\",\"Electrical\",\"Computer Science\",\"Electrical\",\"Computer Science\",\"Electronics And Communication\",\"Information Technology\",\"Information Technology\",\"Information Technology\",\"Computer Science\",\"Electronics And Communication\",\"Information Technology\",\"Computer Science\",\"Information Technology\",\"Electrical\",\"Computer Science\",\"Computer Science\",\"Computer Science\",\"Civil\",\"Civil\",\"Information Technology\",\"Electronics And Communication\",\"Computer Science\",\"Mechanical\",\"Mechanical\",\"Electronics And Communication\",\"Computer Science\",\"Mechanical\",\"Civil\",\"Electronics And Communication\",\"Information Technology\",\"Computer Science\",\"Mechanical\",\"Civil\",\"Information Technology\",\"Electronics And Communication\",\"Information Technology\",\"Mechanical\",\"Electronics And Communication\",\"Mechanical\",\"Civil\",\"Computer Science\",\"Computer Science\",\"Computer Science\",\"Electronics And Communication\",\"Mechanical\",\"Computer Science\",\"Information Technology\",\"Civil\",\"Mechanical\",\"Mechanical\",\"Computer Science\",\"Mechanical\",\"Information Technology\",\"Civil\",\"Mechanical\",\"Computer Science\",\"Information Technology\",\"Civil\",\"Mechanical\",\"Information Technology\",\"Mechanical\",\"Information Technology\",\"Information Technology\",\"Mechanical\",\"Electrical\",\"Electrical\",\"Computer Science\",\"Computer Science\",\"Civil\",\"Mechanical\",\"Computer Science\",\"Civil\",\"Information Technology\",\"Computer Science\",\"Information Technology\",\"Mechanical\",\"Information Technology\",\"Computer Science\",\"Information Technology\",\"Information Technology\",\"Computer Science\",\"Computer Science\",\"Computer Science\",\"Civil\",\"Electronics And Communication\",\"Mechanical\",\"Mechanical\",\"Information Technology\",\"Mechanical\",\"Information Technology\",\"Computer Science\",\"Computer Science\",\"Mechanical\",\"Computer Science\",\"Information Technology\",\"Information Technology\",\"Information Technology\",\"Computer Science\",\"Computer Science\",\"Computer Science\",\"Mechanical\",\"Computer Science\",\"Electronics And Communication\",\"Electronics And Communication\",\"Electrical\",\"Information Technology\",\"Electronics And Communication\",\"Information Technology\",\"Electrical\",\"Computer Science\",\"Mechanical\",\"Information Technology\",\"Information Technology\",\"Mechanical\",\"Computer Science\",\"Information Technology\",\"Computer Science\",\"Computer Science\",\"Computer Science\",\"Electronics And Communication\",\"Electrical\",\"Computer Science\",\"Civil\",\"Electrical\",\"Computer Science\",\"Electronics And Communication\",\"Mechanical\",\"Electronics And Communication\",\"Mechanical\",\"Electronics And Communication\",\"Information Technology\",\"Computer Science\",\"Computer Science\",\"Mechanical\",\"Computer Science\",\"Mechanical\",\"Electrical\",\"Computer Science\",\"Electrical\",\"Civil\",\"Information Technology\",\"Computer Science\",\"Mechanical\",\"Computer Science\",\"Mechanical\",\"Civil\",\"Civil\",\"Information Technology\",\"Mechanical\",\"Electronics And Communication\",\"Computer Science\",\"Information Technology\",\"Electronics And Communication\",\"Information Technology\",\"Information Technology\",\"Mechanical\",\"Information Technology\",\"Computer Science\",\"Information Technology\",\"Mechanical\",\"Mechanical\",\"Mechanical\",\"Computer Science\",\"Information Technology\",\"Mechanical\",\"Electrical\",\"Mechanical\",\"Information Technology\",\"Electrical\",\"Information Technology\",\"Computer Science\",\"Mechanical\",\"Information Technology\",\"Electronics And Communication\",\"Information Technology\",\"Electrical\",\"Information Technology\",\"Computer Science\",\"Information Technology\",\"Information Technology\",\"Mechanical\",\"Information Technology\",\"Information Technology\",\"Information Technology\",\"Civil\",\"Computer Science\",\"Computer Science\",\"Computer Science\",\"Electronics And Communication\",\"Information Technology\",\"Information Technology\",\"Electrical\",\"Mechanical\",\"Information Technology\",\"Electrical\",\"Mechanical\",\"Computer Science\",\"Computer Science\",\"Computer Science\",\"Mechanical\",\"Computer Science\",\"Information Technology\",\"Mechanical\",\"Computer Science\",\"Electronics And Communication\",\"Electrical\",\"Mechanical\",\"Information Technology\",\"Computer Science\",\"Information Technology\",\"Electrical\",\"Electronics And Communication\",\"Information Technology\",\"Electrical\",\"Computer Science\",\"Information Technology\",\"Mechanical\",\"Information Technology\",\"Mechanical\",\"Information Technology\",\"Computer Science\"],\"xaxis\":\"x\",\"yaxis\":\"y\",\"type\":\"histogram\"}],                        {\"template\":{\"data\":{\"scatter\":[{\"type\":\"scatter\"}]}},\"xaxis\":{\"anchor\":\"y\",\"domain\":[0.0,1.0],\"title\":{\"text\":\"Stream\"}},\"yaxis\":{\"anchor\":\"x\",\"domain\":[0.0,1.0],\"title\":{\"text\":\"count\"}},\"legend\":{\"title\":{\"text\":\"PlacedOrNot\"},\"tracegroupgap\":0},\"title\":{\"text\":\"Placement according to Stream\"},\"barmode\":\"group\",\"width\":700},                        {\"responsive\": true}                    ).then(function(){\n",
              "                            \n",
              "var gd = document.getElementById('63a7f80d-b84b-46a7-a0a3-7c6d2d05b3b5');\n",
              "var x = new MutationObserver(function (mutations, observer) {{\n",
              "        var display = window.getComputedStyle(gd).display;\n",
              "        if (!display || display === 'none') {{\n",
              "            console.log([gd, 'removed!']);\n",
              "            Plotly.purge(gd);\n",
              "            observer.disconnect();\n",
              "        }}\n",
              "}});\n",
              "\n",
              "// Listen for the removal of the full notebook cells\n",
              "var notebookContainer = gd.closest('#notebook-container');\n",
              "if (notebookContainer) {{\n",
              "    x.observe(notebookContainer, {childList: true});\n",
              "}}\n",
              "\n",
              "// Listen for the clearing of the current output cell\n",
              "var outputEl = gd.closest('.output');\n",
              "if (outputEl) {{\n",
              "    x.observe(outputEl, {childList: true});\n",
              "}}\n",
              "\n",
              "                        })                };                            </script>        </div>\n",
              "</body>\n",
              "</html>"
            ]
          },
          "metadata": {}
        }
      ],
      "source": [
        "#Check which stream people get placed most?\n",
        "fig = px.histogram(df, \"Stream\", color = \"PlacedOrNot\",barmode = \"group\", \n",
        "                   title = \"Placement according to Stream\", \n",
        "                   template = \"none\",width = 700)\n",
        "fig.show()"
      ]
    },
    {
      "cell_type": "code",
      "execution_count": 9,
      "metadata": {
        "colab": {
          "base_uri": "https://localhost:8080/",
          "height": 542
        },
        "id": "h7ASdz9AmFMs",
        "outputId": "729c0f10-d7e1-41c3-955a-fa431b6c21ff"
      },
      "outputs": [
        {
          "output_type": "display_data",
          "data": {
            "text/html": [
              "<html>\n",
              "<head><meta charset=\"utf-8\" /></head>\n",
              "<body>\n",
              "    <div>            <script src=\"https://cdnjs.cloudflare.com/ajax/libs/mathjax/2.7.5/MathJax.js?config=TeX-AMS-MML_SVG\"></script><script type=\"text/javascript\">if (window.MathJax) {MathJax.Hub.Config({SVG: {font: \"STIX-Web\"}});}</script>                <script type=\"text/javascript\">window.PlotlyConfig = {MathJaxConfig: 'local'};</script>\n",
              "        <script src=\"https://cdn.plot.ly/plotly-2.8.3.min.js\"></script>                <div id=\"1b13f194-d50f-4542-a58e-32fb46afe7fb\" class=\"plotly-graph-div\" style=\"height:525px; width:500px;\"></div>            <script type=\"text/javascript\">                                    window.PLOTLYENV=window.PLOTLYENV || {};                                    if (document.getElementById(\"1b13f194-d50f-4542-a58e-32fb46afe7fb\")) {                    Plotly.newPlot(                        \"1b13f194-d50f-4542-a58e-32fb46afe7fb\",                        [{\"domain\":{\"x\":[0.0,1.0],\"y\":[0.0,1.0]},\"hole\":0.5,\"hovertemplate\":\"Gender=%{label}<extra></extra>\",\"labels\":[\"Male\",\"Female\",\"Female\",\"Male\",\"Male\",\"Male\",\"Male\",\"Male\",\"Male\",\"Female\",\"Male\",\"Female\",\"Female\",\"Male\",\"Female\",\"Male\",\"Female\",\"Male\",\"Male\",\"Male\",\"Male\",\"Male\",\"Male\",\"Male\",\"Male\",\"Male\",\"Male\",\"Male\",\"Male\",\"Male\",\"Male\",\"Male\",\"Female\",\"Male\",\"Male\",\"Male\",\"Male\",\"Male\",\"Male\",\"Male\",\"Male\",\"Male\",\"Male\",\"Male\",\"Female\",\"Female\",\"Male\",\"Male\",\"Male\",\"Female\",\"Male\",\"Male\",\"Female\",\"Male\",\"Female\",\"Male\",\"Male\",\"Male\",\"Male\",\"Female\",\"Male\",\"Male\",\"Male\",\"Male\",\"Male\",\"Male\",\"Male\",\"Male\",\"Male\",\"Male\",\"Male\",\"Male\",\"Male\",\"Male\",\"Male\",\"Male\",\"Male\",\"Male\",\"Male\",\"Male\",\"Male\",\"Male\",\"Male\",\"Male\",\"Male\",\"Male\",\"Male\",\"Male\",\"Female\",\"Male\",\"Male\",\"Male\",\"Male\",\"Female\",\"Male\",\"Male\",\"Male\",\"Male\",\"Female\",\"Male\",\"Male\",\"Male\",\"Male\",\"Male\",\"Male\",\"Male\",\"Female\",\"Male\",\"Male\",\"Male\",\"Male\",\"Male\",\"Male\",\"Male\",\"Male\",\"Male\",\"Male\",\"Male\",\"Male\",\"Male\",\"Female\",\"Male\",\"Male\",\"Male\",\"Male\",\"Male\",\"Male\",\"Male\",\"Male\",\"Male\",\"Male\",\"Male\",\"Female\",\"Male\",\"Male\",\"Male\",\"Male\",\"Male\",\"Male\",\"Male\",\"Male\",\"Male\",\"Male\",\"Male\",\"Male\",\"Male\",\"Male\",\"Male\",\"Male\",\"Male\",\"Male\",\"Female\",\"Male\",\"Female\",\"Male\",\"Male\",\"Male\",\"Male\",\"Male\",\"Male\",\"Male\",\"Male\",\"Male\",\"Male\",\"Male\",\"Male\",\"Male\",\"Female\",\"Male\",\"Male\",\"Male\",\"Female\",\"Male\",\"Male\",\"Male\",\"Male\",\"Male\",\"Female\",\"Male\",\"Female\",\"Female\",\"Male\",\"Male\",\"Male\",\"Male\",\"Male\",\"Female\",\"Male\",\"Female\",\"Female\",\"Male\",\"Male\",\"Male\",\"Male\",\"Male\",\"Female\",\"Male\",\"Male\",\"Female\",\"Male\",\"Male\",\"Male\",\"Female\",\"Male\",\"Female\",\"Male\",\"Male\",\"Male\",\"Female\",\"Male\",\"Male\",\"Male\",\"Male\",\"Male\",\"Male\",\"Female\",\"Male\",\"Male\",\"Male\",\"Male\",\"Male\",\"Male\",\"Male\",\"Male\",\"Male\",\"Male\",\"Female\",\"Male\",\"Female\",\"Male\",\"Male\",\"Male\",\"Female\",\"Male\",\"Male\",\"Male\",\"Male\",\"Female\",\"Female\",\"Female\",\"Female\",\"Female\",\"Male\",\"Male\",\"Male\",\"Male\",\"Male\",\"Male\",\"Female\",\"Male\",\"Male\",\"Female\",\"Male\",\"Male\",\"Male\",\"Female\",\"Male\",\"Male\",\"Male\",\"Male\",\"Female\",\"Male\",\"Male\",\"Male\",\"Male\",\"Male\",\"Female\",\"Male\",\"Male\",\"Male\",\"Male\",\"Male\",\"Male\",\"Male\",\"Male\",\"Male\",\"Male\",\"Female\",\"Male\",\"Male\",\"Female\",\"Female\",\"Male\",\"Male\",\"Male\",\"Male\",\"Male\",\"Male\",\"Male\",\"Male\",\"Male\",\"Male\",\"Female\",\"Male\",\"Male\",\"Male\",\"Male\",\"Male\",\"Male\",\"Male\",\"Male\",\"Male\",\"Male\",\"Male\",\"Male\",\"Male\",\"Male\",\"Male\",\"Female\",\"Male\",\"Male\",\"Male\",\"Female\",\"Male\",\"Male\",\"Male\",\"Female\",\"Male\",\"Female\",\"Male\",\"Male\",\"Male\",\"Male\",\"Male\",\"Male\",\"Male\",\"Male\",\"Male\",\"Male\",\"Male\",\"Male\",\"Female\",\"Male\",\"Male\",\"Male\",\"Male\",\"Male\",\"Male\",\"Female\",\"Male\",\"Male\",\"Male\",\"Male\",\"Female\",\"Male\",\"Male\",\"Male\",\"Male\",\"Male\",\"Female\",\"Female\",\"Male\",\"Male\",\"Male\",\"Male\",\"Male\",\"Male\",\"Male\",\"Male\",\"Male\",\"Male\",\"Male\",\"Male\",\"Male\",\"Male\",\"Male\",\"Male\",\"Male\",\"Female\",\"Male\",\"Male\",\"Female\",\"Male\",\"Male\",\"Male\",\"Male\",\"Male\",\"Female\",\"Male\",\"Male\",\"Male\",\"Male\",\"Male\",\"Male\",\"Female\",\"Male\",\"Male\",\"Male\",\"Female\",\"Female\",\"Male\",\"Male\",\"Male\",\"Male\",\"Male\",\"Male\",\"Male\",\"Male\",\"Female\",\"Male\",\"Male\",\"Male\",\"Male\",\"Female\",\"Female\",\"Male\",\"Male\",\"Male\",\"Male\",\"Male\",\"Male\",\"Male\",\"Male\",\"Male\",\"Male\",\"Male\",\"Male\",\"Male\",\"Male\",\"Male\",\"Male\",\"Male\",\"Male\",\"Male\",\"Male\",\"Male\",\"Male\",\"Male\",\"Female\",\"Male\",\"Female\",\"Female\",\"Male\",\"Male\",\"Male\",\"Male\",\"Male\",\"Female\",\"Male\",\"Male\",\"Male\",\"Male\",\"Male\",\"Male\",\"Male\",\"Male\",\"Male\",\"Male\",\"Male\",\"Male\",\"Male\",\"Male\",\"Male\",\"Male\",\"Male\",\"Female\",\"Male\",\"Male\",\"Male\",\"Male\",\"Male\",\"Male\",\"Male\",\"Male\",\"Male\",\"Male\",\"Male\",\"Male\",\"Female\",\"Male\",\"Male\",\"Male\",\"Male\",\"Male\",\"Male\",\"Male\",\"Female\",\"Male\",\"Male\",\"Male\",\"Male\",\"Female\",\"Female\",\"Male\",\"Male\",\"Female\",\"Male\",\"Male\",\"Male\",\"Male\",\"Male\",\"Male\",\"Male\",\"Male\",\"Male\",\"Male\",\"Male\",\"Male\",\"Male\",\"Male\",\"Male\",\"Male\",\"Male\",\"Male\",\"Male\",\"Male\",\"Female\",\"Male\",\"Male\",\"Male\",\"Male\",\"Male\",\"Female\",\"Male\",\"Male\",\"Female\",\"Male\",\"Female\",\"Female\",\"Male\",\"Male\",\"Male\",\"Male\",\"Male\",\"Male\",\"Male\",\"Male\",\"Male\",\"Male\",\"Male\",\"Male\",\"Male\",\"Male\",\"Male\",\"Female\",\"Male\",\"Male\",\"Male\",\"Male\",\"Male\",\"Male\",\"Male\",\"Male\",\"Male\",\"Male\",\"Male\",\"Female\",\"Female\",\"Female\",\"Male\",\"Male\",\"Male\",\"Male\",\"Female\",\"Male\",\"Male\",\"Male\",\"Female\",\"Male\",\"Male\",\"Male\",\"Male\",\"Male\",\"Male\",\"Male\",\"Male\",\"Male\",\"Male\",\"Male\",\"Male\",\"Male\",\"Male\",\"Male\",\"Male\",\"Female\",\"Male\",\"Male\",\"Male\",\"Male\",\"Male\",\"Male\",\"Male\",\"Male\",\"Male\",\"Male\",\"Female\",\"Male\",\"Male\",\"Male\",\"Male\",\"Male\",\"Male\",\"Male\",\"Male\",\"Male\",\"Male\",\"Male\",\"Female\",\"Male\",\"Male\",\"Male\",\"Female\",\"Male\",\"Male\",\"Male\",\"Female\",\"Male\",\"Male\",\"Male\",\"Male\",\"Male\",\"Male\",\"Male\",\"Male\",\"Male\",\"Male\",\"Male\",\"Male\",\"Male\",\"Male\",\"Female\",\"Male\",\"Male\",\"Female\",\"Female\",\"Male\",\"Male\",\"Male\",\"Male\",\"Male\",\"Female\",\"Male\",\"Male\",\"Male\",\"Male\",\"Male\",\"Male\",\"Male\",\"Male\",\"Female\",\"Male\",\"Female\",\"Male\",\"Male\",\"Female\",\"Male\",\"Male\",\"Female\",\"Female\",\"Male\",\"Male\",\"Male\",\"Male\",\"Male\",\"Male\",\"Male\",\"Female\",\"Female\",\"Male\",\"Male\",\"Male\",\"Male\",\"Male\",\"Male\",\"Male\",\"Male\",\"Male\",\"Male\",\"Female\",\"Male\",\"Male\",\"Male\",\"Male\",\"Female\",\"Male\",\"Male\",\"Male\",\"Male\",\"Female\",\"Female\",\"Female\",\"Male\",\"Male\",\"Female\",\"Male\",\"Male\",\"Male\",\"Male\",\"Male\",\"Male\",\"Male\",\"Male\",\"Male\",\"Male\",\"Male\",\"Female\",\"Male\",\"Male\",\"Male\",\"Male\",\"Male\",\"Male\",\"Female\",\"Male\",\"Female\",\"Male\",\"Male\",\"Male\",\"Male\",\"Male\",\"Female\",\"Male\",\"Male\",\"Male\",\"Male\",\"Male\",\"Male\",\"Male\",\"Male\",\"Male\",\"Male\",\"Male\",\"Male\",\"Male\",\"Female\",\"Male\",\"Male\",\"Male\",\"Male\",\"Male\",\"Male\",\"Male\",\"Female\",\"Male\",\"Male\",\"Male\",\"Male\",\"Male\",\"Female\",\"Male\",\"Male\",\"Male\",\"Male\",\"Male\",\"Male\",\"Male\",\"Male\",\"Male\",\"Male\",\"Male\",\"Female\",\"Male\",\"Male\",\"Male\",\"Male\",\"Male\",\"Male\",\"Male\",\"Female\",\"Male\",\"Male\",\"Male\",\"Male\",\"Male\",\"Female\",\"Male\",\"Female\",\"Male\",\"Female\",\"Male\",\"Male\",\"Female\",\"Male\",\"Male\",\"Male\",\"Female\",\"Male\",\"Male\",\"Male\",\"Male\",\"Female\",\"Male\",\"Female\",\"Male\",\"Male\",\"Male\",\"Male\",\"Female\",\"Female\",\"Male\",\"Male\",\"Male\",\"Male\",\"Male\",\"Male\",\"Female\",\"Male\",\"Female\",\"Male\",\"Male\",\"Female\",\"Male\",\"Male\",\"Female\",\"Male\",\"Male\",\"Male\",\"Male\",\"Male\",\"Male\",\"Male\",\"Male\",\"Male\",\"Female\",\"Male\",\"Male\",\"Male\",\"Male\",\"Female\",\"Male\",\"Female\",\"Male\",\"Male\",\"Male\",\"Male\",\"Male\",\"Male\",\"Female\",\"Male\",\"Female\",\"Male\",\"Male\",\"Male\",\"Male\",\"Male\",\"Female\",\"Male\",\"Male\",\"Female\",\"Male\",\"Male\",\"Male\",\"Male\",\"Male\",\"Male\",\"Male\",\"Male\",\"Male\",\"Male\",\"Male\",\"Male\",\"Female\",\"Male\",\"Male\",\"Male\",\"Male\",\"Male\",\"Male\",\"Male\",\"Male\",\"Male\",\"Male\",\"Male\",\"Male\",\"Female\",\"Male\",\"Male\",\"Male\",\"Female\",\"Male\",\"Female\",\"Male\",\"Male\",\"Male\",\"Male\",\"Male\",\"Male\",\"Male\",\"Male\",\"Male\",\"Male\",\"Female\",\"Male\",\"Male\",\"Male\",\"Male\",\"Male\",\"Male\",\"Male\",\"Male\",\"Male\",\"Male\",\"Female\",\"Male\",\"Male\",\"Male\",\"Male\",\"Male\",\"Female\",\"Male\",\"Male\",\"Female\",\"Male\",\"Male\",\"Male\",\"Male\",\"Male\",\"Male\",\"Male\",\"Male\",\"Male\",\"Male\",\"Male\",\"Male\",\"Female\",\"Male\",\"Female\",\"Male\",\"Male\",\"Male\",\"Male\",\"Male\",\"Male\",\"Male\",\"Male\",\"Male\",\"Female\",\"Male\",\"Female\",\"Male\",\"Male\",\"Male\",\"Male\",\"Male\",\"Male\",\"Male\",\"Male\",\"Female\",\"Male\",\"Male\",\"Male\",\"Male\",\"Male\",\"Male\",\"Male\",\"Male\",\"Male\",\"Male\",\"Male\",\"Male\",\"Female\",\"Male\",\"Male\",\"Male\",\"Male\",\"Male\",\"Male\",\"Male\",\"Male\",\"Male\",\"Male\",\"Male\",\"Male\",\"Male\",\"Male\",\"Male\",\"Male\",\"Female\",\"Male\",\"Male\",\"Male\",\"Male\",\"Male\",\"Male\",\"Male\",\"Male\",\"Female\",\"Female\",\"Male\",\"Male\",\"Male\",\"Male\",\"Male\",\"Male\",\"Male\",\"Male\",\"Male\",\"Female\",\"Female\",\"Male\",\"Male\",\"Male\",\"Male\",\"Male\",\"Male\",\"Male\",\"Female\",\"Male\",\"Male\",\"Male\",\"Male\",\"Male\",\"Female\",\"Male\",\"Male\",\"Male\",\"Male\",\"Male\",\"Male\",\"Male\",\"Male\",\"Male\",\"Male\",\"Male\",\"Male\",\"Male\",\"Male\",\"Male\",\"Male\",\"Male\",\"Female\",\"Male\",\"Male\",\"Male\",\"Male\",\"Female\",\"Female\",\"Female\",\"Male\",\"Male\",\"Male\",\"Male\",\"Male\",\"Female\",\"Male\",\"Male\",\"Male\",\"Male\",\"Female\",\"Female\",\"Male\",\"Male\",\"Male\",\"Male\",\"Male\",\"Male\",\"Male\",\"Male\",\"Male\",\"Male\",\"Male\",\"Male\",\"Female\",\"Male\",\"Male\",\"Female\",\"Male\",\"Male\",\"Female\",\"Male\",\"Female\",\"Male\",\"Female\",\"Male\",\"Male\",\"Male\",\"Female\",\"Male\",\"Male\",\"Female\",\"Male\",\"Male\",\"Male\",\"Male\",\"Male\",\"Male\",\"Female\",\"Male\",\"Male\",\"Male\",\"Female\",\"Male\",\"Male\",\"Male\",\"Male\",\"Male\",\"Male\",\"Male\",\"Male\",\"Male\",\"Male\",\"Female\",\"Male\",\"Male\",\"Male\",\"Male\",\"Male\",\"Male\",\"Female\",\"Female\",\"Female\",\"Male\",\"Male\",\"Male\",\"Male\",\"Male\",\"Male\",\"Male\",\"Female\",\"Male\",\"Male\",\"Male\",\"Male\",\"Female\",\"Male\",\"Male\",\"Male\",\"Male\",\"Male\",\"Male\",\"Male\",\"Male\",\"Female\",\"Male\",\"Male\",\"Female\",\"Female\",\"Male\",\"Male\",\"Male\",\"Female\",\"Female\",\"Female\",\"Male\",\"Female\",\"Male\",\"Male\",\"Male\",\"Male\",\"Male\",\"Male\",\"Male\",\"Male\",\"Female\",\"Male\",\"Male\",\"Male\",\"Male\",\"Male\",\"Male\",\"Female\",\"Male\",\"Male\",\"Male\",\"Female\",\"Male\",\"Female\",\"Male\",\"Male\",\"Male\",\"Male\",\"Male\",\"Male\",\"Male\",\"Female\",\"Female\",\"Male\",\"Male\",\"Male\",\"Male\",\"Male\",\"Male\",\"Male\",\"Male\",\"Female\",\"Male\",\"Female\",\"Male\",\"Male\",\"Male\",\"Male\",\"Male\",\"Male\",\"Male\",\"Male\",\"Male\",\"Male\",\"Female\",\"Male\",\"Male\",\"Male\",\"Male\",\"Female\",\"Male\",\"Male\",\"Female\",\"Male\",\"Male\",\"Male\",\"Female\",\"Male\",\"Male\",\"Male\",\"Male\",\"Male\",\"Female\",\"Male\",\"Male\",\"Male\",\"Male\",\"Male\",\"Male\",\"Male\",\"Male\",\"Male\",\"Male\",\"Male\",\"Male\",\"Female\",\"Male\",\"Male\",\"Male\",\"Male\",\"Male\",\"Male\",\"Male\",\"Male\",\"Male\",\"Male\",\"Male\",\"Male\",\"Male\",\"Male\",\"Female\",\"Male\",\"Female\",\"Female\",\"Male\",\"Male\",\"Male\",\"Male\",\"Male\",\"Male\",\"Male\",\"Male\",\"Female\",\"Male\",\"Female\",\"Male\",\"Male\",\"Male\",\"Male\",\"Male\",\"Male\",\"Male\",\"Male\",\"Female\",\"Male\",\"Female\",\"Male\",\"Male\",\"Male\",\"Male\",\"Female\",\"Male\",\"Female\",\"Female\",\"Female\",\"Male\",\"Female\",\"Male\",\"Male\",\"Male\",\"Male\",\"Male\",\"Male\",\"Male\",\"Male\",\"Male\",\"Female\",\"Male\",\"Male\",\"Male\",\"Male\",\"Male\",\"Male\",\"Male\",\"Male\",\"Male\",\"Male\",\"Male\",\"Male\",\"Male\",\"Male\",\"Male\",\"Male\",\"Male\",\"Male\",\"Male\",\"Male\",\"Male\",\"Male\",\"Male\",\"Male\",\"Female\",\"Male\",\"Male\",\"Male\",\"Female\",\"Female\",\"Male\",\"Male\",\"Male\",\"Male\",\"Male\",\"Male\",\"Male\",\"Male\",\"Male\",\"Male\",\"Female\",\"Male\",\"Male\",\"Male\",\"Male\",\"Male\",\"Male\",\"Male\",\"Male\",\"Male\",\"Female\",\"Male\",\"Male\",\"Male\",\"Female\",\"Male\",\"Female\",\"Female\",\"Male\",\"Female\",\"Male\",\"Male\",\"Male\",\"Male\",\"Male\",\"Male\",\"Male\",\"Male\",\"Male\",\"Male\",\"Male\",\"Male\",\"Male\",\"Male\",\"Male\",\"Female\",\"Female\",\"Male\",\"Male\",\"Female\",\"Male\",\"Female\",\"Male\",\"Male\",\"Female\",\"Male\",\"Female\",\"Male\",\"Male\",\"Male\",\"Male\",\"Female\",\"Male\",\"Male\",\"Male\",\"Male\",\"Male\",\"Male\",\"Male\",\"Male\",\"Male\",\"Female\",\"Male\",\"Female\",\"Male\",\"Female\",\"Female\",\"Male\",\"Male\",\"Female\",\"Female\",\"Male\",\"Male\",\"Female\",\"Male\",\"Male\",\"Male\",\"Female\",\"Male\",\"Male\",\"Male\",\"Female\",\"Male\",\"Male\",\"Male\",\"Male\",\"Male\",\"Female\",\"Male\",\"Male\",\"Male\",\"Male\",\"Male\",\"Female\",\"Male\",\"Male\",\"Male\",\"Male\",\"Male\",\"Male\",\"Male\",\"Male\",\"Male\",\"Male\",\"Male\",\"Male\",\"Male\",\"Male\",\"Female\",\"Male\",\"Female\",\"Male\",\"Male\",\"Male\",\"Male\",\"Male\",\"Male\",\"Male\",\"Male\",\"Female\",\"Male\",\"Male\",\"Female\",\"Male\",\"Female\",\"Male\",\"Male\",\"Female\",\"Female\",\"Male\",\"Male\",\"Male\",\"Male\",\"Female\",\"Female\",\"Male\",\"Male\",\"Male\",\"Male\",\"Male\",\"Male\",\"Male\",\"Male\",\"Male\",\"Male\",\"Male\",\"Male\",\"Male\",\"Male\",\"Male\",\"Male\",\"Male\",\"Male\",\"Male\",\"Female\",\"Male\",\"Male\",\"Male\",\"Male\",\"Male\",\"Male\",\"Male\",\"Male\",\"Male\",\"Female\",\"Male\",\"Male\",\"Male\",\"Male\",\"Female\",\"Male\",\"Male\",\"Male\",\"Male\",\"Male\",\"Male\",\"Male\",\"Female\",\"Female\",\"Male\",\"Male\",\"Male\",\"Male\",\"Male\",\"Male\",\"Male\",\"Female\",\"Male\",\"Female\",\"Male\",\"Male\",\"Female\",\"Male\",\"Male\",\"Female\",\"Male\",\"Male\",\"Male\",\"Male\",\"Male\",\"Male\",\"Male\",\"Male\",\"Male\",\"Male\",\"Male\",\"Male\",\"Male\",\"Female\",\"Male\",\"Male\",\"Male\",\"Male\",\"Male\",\"Male\",\"Male\",\"Male\",\"Female\",\"Male\",\"Male\",\"Female\",\"Male\",\"Male\",\"Female\",\"Male\",\"Male\",\"Male\",\"Male\",\"Male\",\"Male\",\"Male\",\"Male\",\"Male\",\"Male\",\"Male\",\"Male\",\"Male\",\"Male\",\"Male\",\"Male\",\"Male\",\"Male\",\"Male\",\"Male\",\"Male\",\"Male\",\"Male\",\"Female\",\"Male\",\"Male\",\"Male\",\"Male\",\"Male\",\"Male\",\"Male\",\"Male\",\"Male\",\"Male\",\"Male\",\"Female\",\"Male\",\"Male\",\"Male\",\"Female\",\"Female\",\"Male\",\"Male\",\"Female\",\"Male\",\"Male\",\"Male\",\"Male\",\"Male\",\"Male\",\"Male\",\"Male\",\"Male\",\"Male\",\"Male\",\"Male\",\"Female\",\"Female\",\"Male\",\"Female\",\"Female\",\"Male\",\"Male\",\"Male\",\"Male\",\"Male\",\"Female\",\"Male\",\"Male\",\"Male\",\"Male\",\"Female\",\"Male\",\"Female\",\"Male\",\"Female\",\"Male\",\"Male\",\"Male\",\"Male\",\"Male\",\"Male\",\"Male\",\"Male\",\"Male\",\"Male\",\"Male\",\"Male\",\"Male\",\"Male\",\"Male\",\"Female\",\"Female\",\"Male\",\"Male\",\"Male\",\"Male\",\"Male\",\"Male\",\"Male\",\"Female\",\"Male\",\"Male\",\"Male\",\"Male\",\"Male\",\"Male\",\"Male\",\"Male\",\"Male\",\"Male\",\"Male\",\"Male\",\"Female\",\"Male\",\"Male\",\"Female\",\"Male\",\"Male\",\"Male\",\"Male\",\"Male\",\"Male\",\"Male\",\"Male\",\"Male\",\"Male\",\"Female\",\"Female\",\"Female\",\"Male\",\"Female\",\"Female\",\"Male\",\"Male\",\"Male\",\"Male\",\"Male\",\"Male\",\"Male\",\"Male\",\"Male\",\"Male\",\"Male\",\"Female\",\"Male\",\"Female\",\"Male\",\"Male\",\"Male\",\"Male\",\"Male\",\"Male\",\"Male\",\"Male\",\"Male\",\"Female\",\"Female\",\"Female\",\"Male\",\"Female\",\"Male\",\"Male\",\"Female\",\"Male\",\"Female\",\"Male\",\"Male\",\"Male\",\"Female\",\"Male\",\"Male\",\"Male\",\"Male\",\"Female\",\"Male\",\"Male\",\"Male\",\"Male\",\"Male\",\"Male\",\"Male\",\"Male\",\"Male\",\"Female\",\"Male\",\"Male\",\"Male\",\"Male\",\"Male\",\"Male\",\"Male\",\"Male\",\"Male\",\"Male\",\"Male\",\"Male\",\"Male\",\"Male\",\"Male\",\"Male\",\"Male\",\"Male\",\"Male\",\"Male\",\"Male\",\"Male\",\"Male\",\"Male\",\"Male\",\"Male\",\"Male\",\"Female\",\"Male\",\"Male\",\"Male\",\"Male\",\"Male\",\"Male\",\"Male\",\"Male\",\"Male\",\"Male\",\"Female\",\"Male\",\"Male\",\"Female\",\"Male\",\"Male\",\"Male\",\"Male\",\"Female\",\"Female\",\"Male\",\"Male\",\"Male\",\"Female\",\"Male\",\"Male\",\"Male\",\"Male\",\"Female\",\"Male\",\"Male\",\"Male\",\"Female\",\"Male\",\"Male\",\"Male\",\"Male\",\"Female\",\"Male\",\"Male\",\"Male\",\"Male\",\"Male\",\"Female\",\"Male\",\"Male\",\"Male\",\"Male\",\"Male\",\"Male\",\"Male\",\"Female\",\"Male\",\"Male\",\"Male\",\"Male\",\"Female\",\"Male\",\"Male\",\"Male\",\"Male\",\"Male\",\"Male\",\"Male\",\"Female\",\"Male\",\"Male\",\"Female\",\"Male\",\"Female\",\"Male\",\"Female\",\"Male\",\"Male\",\"Male\",\"Male\",\"Male\",\"Male\",\"Female\",\"Male\",\"Male\",\"Male\",\"Male\",\"Male\",\"Male\",\"Male\",\"Male\",\"Male\",\"Male\",\"Male\",\"Male\",\"Female\",\"Male\",\"Male\",\"Male\",\"Male\",\"Male\",\"Male\",\"Female\",\"Male\",\"Male\",\"Male\",\"Male\",\"Female\",\"Male\",\"Male\",\"Male\",\"Male\",\"Male\",\"Female\",\"Male\",\"Male\",\"Male\",\"Female\",\"Male\",\"Male\",\"Male\",\"Female\",\"Male\",\"Male\",\"Male\",\"Male\",\"Male\",\"Male\",\"Male\",\"Male\",\"Male\",\"Female\",\"Female\",\"Male\",\"Male\",\"Female\",\"Female\",\"Male\",\"Male\",\"Female\",\"Male\",\"Male\",\"Male\",\"Male\",\"Male\",\"Male\",\"Male\",\"Male\",\"Male\",\"Male\",\"Male\",\"Male\",\"Male\",\"Male\",\"Female\",\"Male\",\"Male\",\"Male\",\"Female\",\"Male\",\"Female\",\"Female\",\"Male\",\"Male\",\"Male\",\"Male\",\"Male\",\"Male\",\"Male\",\"Female\",\"Female\",\"Male\",\"Male\",\"Female\",\"Male\",\"Male\",\"Male\",\"Male\",\"Male\",\"Male\",\"Female\",\"Male\",\"Male\",\"Male\",\"Male\",\"Female\",\"Male\",\"Male\",\"Female\",\"Male\",\"Male\",\"Male\",\"Male\",\"Male\",\"Female\",\"Male\",\"Female\",\"Male\",\"Female\",\"Male\",\"Male\",\"Male\",\"Male\",\"Male\",\"Female\",\"Male\",\"Male\",\"Male\",\"Male\",\"Male\",\"Male\",\"Male\",\"Male\",\"Male\",\"Male\",\"Male\",\"Male\",\"Male\",\"Male\",\"Male\",\"Male\",\"Male\",\"Male\",\"Female\",\"Male\",\"Male\",\"Male\",\"Male\",\"Male\",\"Male\",\"Male\",\"Male\",\"Male\",\"Male\",\"Male\",\"Male\",\"Male\",\"Male\",\"Male\",\"Male\",\"Male\",\"Male\",\"Male\",\"Male\",\"Male\",\"Male\",\"Male\",\"Male\",\"Male\",\"Male\",\"Male\",\"Male\",\"Male\",\"Female\",\"Male\",\"Male\",\"Male\",\"Male\",\"Male\",\"Male\",\"Male\",\"Male\",\"Male\",\"Female\",\"Male\",\"Male\",\"Male\",\"Male\",\"Male\",\"Male\",\"Male\",\"Male\",\"Male\",\"Male\",\"Male\",\"Male\",\"Male\",\"Male\",\"Male\",\"Female\",\"Male\",\"Male\",\"Male\",\"Male\",\"Male\",\"Male\",\"Male\",\"Male\",\"Male\",\"Male\",\"Male\",\"Female\",\"Male\",\"Male\",\"Male\",\"Male\",\"Male\",\"Male\",\"Male\",\"Male\",\"Male\",\"Male\",\"Male\",\"Male\",\"Male\",\"Male\",\"Male\",\"Male\",\"Male\",\"Male\",\"Male\",\"Male\",\"Male\",\"Male\",\"Male\",\"Male\",\"Male\",\"Female\",\"Male\",\"Male\",\"Female\",\"Male\",\"Male\",\"Female\",\"Male\",\"Male\",\"Male\",\"Male\",\"Male\",\"Male\",\"Male\",\"Male\",\"Male\",\"Male\",\"Male\",\"Female\",\"Male\",\"Male\",\"Male\",\"Female\",\"Male\",\"Male\",\"Male\",\"Male\",\"Male\",\"Male\",\"Male\",\"Male\",\"Male\",\"Male\",\"Male\",\"Female\",\"Male\",\"Male\",\"Male\",\"Male\",\"Male\",\"Male\",\"Male\",\"Male\",\"Male\",\"Male\",\"Male\",\"Male\",\"Female\",\"Male\",\"Male\",\"Male\",\"Male\",\"Male\",\"Male\",\"Male\",\"Female\",\"Male\",\"Male\",\"Male\",\"Male\",\"Male\",\"Male\",\"Male\",\"Male\",\"Male\",\"Male\",\"Male\",\"Male\",\"Male\",\"Male\",\"Male\",\"Male\",\"Female\",\"Male\",\"Male\",\"Male\",\"Male\",\"Male\",\"Male\",\"Male\",\"Male\",\"Male\",\"Female\",\"Male\",\"Male\",\"Male\",\"Male\",\"Male\",\"Male\",\"Male\",\"Male\",\"Male\",\"Male\",\"Female\",\"Male\",\"Male\",\"Male\",\"Female\",\"Male\",\"Male\",\"Male\",\"Male\",\"Male\",\"Female\",\"Male\",\"Male\",\"Male\",\"Male\",\"Male\",\"Male\",\"Male\",\"Male\",\"Male\",\"Male\",\"Male\",\"Male\",\"Male\",\"Female\",\"Male\",\"Female\",\"Male\",\"Male\",\"Female\",\"Male\",\"Male\",\"Male\",\"Male\",\"Male\",\"Male\",\"Male\",\"Male\",\"Female\",\"Male\",\"Male\",\"Male\",\"Male\",\"Female\",\"Female\",\"Male\",\"Male\",\"Male\",\"Male\",\"Female\",\"Male\",\"Male\",\"Male\",\"Male\",\"Female\",\"Male\",\"Male\",\"Male\",\"Male\",\"Male\",\"Male\",\"Male\",\"Male\",\"Male\",\"Male\",\"Male\",\"Male\",\"Male\",\"Male\",\"Male\",\"Male\",\"Male\",\"Male\",\"Male\",\"Female\",\"Male\",\"Female\",\"Male\",\"Male\",\"Female\",\"Male\",\"Male\",\"Male\",\"Male\",\"Male\",\"Male\",\"Male\",\"Male\",\"Male\",\"Male\",\"Female\",\"Female\",\"Male\",\"Male\",\"Male\",\"Male\",\"Female\",\"Male\",\"Male\",\"Male\",\"Male\",\"Female\",\"Male\",\"Male\",\"Female\",\"Male\",\"Male\",\"Male\",\"Male\",\"Male\",\"Female\",\"Male\",\"Male\",\"Male\",\"Male\",\"Male\",\"Female\",\"Male\",\"Female\",\"Male\",\"Female\",\"Male\",\"Female\",\"Female\",\"Male\",\"Female\",\"Male\",\"Female\",\"Male\",\"Male\",\"Female\",\"Male\",\"Female\",\"Male\",\"Male\",\"Male\",\"Male\",\"Male\",\"Male\",\"Male\",\"Male\",\"Male\",\"Male\",\"Male\",\"Male\",\"Male\",\"Female\",\"Male\",\"Male\",\"Male\",\"Male\",\"Male\",\"Male\",\"Male\",\"Male\",\"Male\",\"Female\",\"Male\",\"Female\",\"Female\",\"Female\",\"Male\",\"Female\",\"Male\",\"Male\",\"Female\",\"Male\",\"Male\",\"Male\",\"Male\",\"Female\",\"Male\",\"Male\",\"Male\",\"Male\",\"Male\",\"Male\",\"Male\",\"Male\",\"Male\",\"Female\",\"Male\",\"Male\",\"Female\",\"Male\",\"Male\",\"Male\",\"Female\",\"Male\",\"Male\",\"Male\",\"Female\",\"Male\",\"Male\",\"Male\",\"Male\",\"Male\",\"Male\",\"Female\",\"Male\",\"Female\",\"Male\",\"Male\",\"Male\",\"Female\",\"Female\",\"Male\",\"Male\",\"Female\",\"Male\",\"Male\",\"Male\",\"Male\",\"Male\",\"Male\",\"Male\",\"Male\",\"Male\",\"Male\",\"Male\",\"Male\",\"Male\",\"Male\",\"Male\",\"Female\",\"Male\",\"Female\",\"Male\",\"Female\",\"Male\",\"Male\",\"Male\",\"Male\",\"Male\",\"Male\",\"Female\",\"Male\",\"Male\",\"Male\",\"Male\",\"Male\",\"Male\",\"Male\",\"Male\",\"Male\",\"Male\",\"Male\",\"Male\",\"Female\",\"Female\",\"Male\",\"Male\",\"Male\",\"Male\",\"Male\",\"Male\",\"Male\",\"Male\",\"Male\",\"Male\",\"Male\",\"Male\",\"Male\",\"Male\",\"Male\",\"Male\",\"Male\",\"Male\",\"Male\",\"Male\",\"Male\",\"Male\",\"Male\",\"Male\",\"Male\",\"Male\",\"Male\",\"Male\",\"Male\",\"Male\",\"Male\",\"Male\",\"Male\",\"Male\",\"Male\",\"Male\",\"Male\",\"Male\",\"Male\",\"Male\",\"Male\",\"Male\",\"Male\",\"Male\",\"Male\",\"Male\",\"Male\",\"Male\",\"Male\",\"Male\",\"Female\",\"Male\",\"Male\",\"Female\",\"Male\",\"Male\",\"Male\",\"Male\",\"Male\",\"Male\",\"Male\",\"Male\",\"Male\",\"Female\",\"Male\",\"Male\",\"Male\",\"Male\",\"Female\",\"Male\",\"Male\",\"Male\",\"Male\",\"Male\",\"Male\",\"Male\",\"Male\",\"Male\",\"Male\",\"Male\",\"Male\",\"Male\",\"Male\",\"Female\",\"Male\",\"Male\",\"Male\",\"Male\",\"Male\",\"Female\",\"Male\",\"Male\",\"Male\",\"Male\",\"Male\",\"Male\",\"Female\",\"Male\",\"Female\",\"Male\",\"Male\",\"Male\",\"Female\",\"Male\",\"Male\",\"Male\",\"Male\",\"Male\",\"Female\",\"Male\",\"Male\",\"Male\",\"Male\",\"Male\",\"Female\",\"Male\",\"Male\",\"Male\",\"Male\",\"Male\",\"Female\",\"Male\",\"Male\",\"Male\",\"Female\",\"Male\",\"Male\",\"Female\",\"Male\",\"Male\",\"Male\",\"Male\",\"Male\",\"Male\",\"Male\",\"Male\",\"Male\",\"Male\",\"Male\",\"Male\",\"Male\",\"Male\",\"Male\",\"Male\",\"Male\",\"Male\",\"Male\",\"Male\",\"Male\",\"Female\",\"Male\",\"Male\",\"Female\",\"Male\",\"Male\",\"Male\",\"Female\",\"Male\",\"Male\",\"Male\",\"Male\",\"Female\",\"Female\",\"Male\",\"Male\",\"Male\",\"Female\",\"Male\",\"Male\",\"Male\",\"Male\",\"Male\",\"Male\",\"Male\",\"Male\",\"Female\",\"Male\",\"Female\",\"Female\",\"Male\",\"Male\",\"Male\",\"Male\",\"Male\",\"Male\",\"Male\",\"Male\",\"Female\",\"Male\",\"Male\",\"Male\",\"Female\",\"Male\",\"Male\",\"Male\",\"Male\",\"Male\",\"Male\",\"Male\",\"Male\",\"Male\",\"Male\",\"Male\",\"Female\",\"Male\",\"Male\",\"Male\",\"Male\",\"Male\",\"Male\",\"Female\",\"Male\",\"Male\",\"Male\",\"Male\",\"Male\",\"Male\",\"Female\",\"Male\",\"Female\",\"Male\",\"Female\",\"Male\",\"Female\",\"Female\",\"Male\",\"Male\",\"Male\",\"Female\",\"Female\",\"Male\",\"Male\",\"Male\",\"Male\",\"Male\",\"Male\",\"Male\",\"Male\",\"Male\",\"Male\",\"Male\",\"Female\",\"Male\",\"Male\",\"Male\",\"Male\",\"Female\",\"Male\",\"Male\",\"Male\",\"Male\",\"Male\",\"Male\",\"Male\",\"Male\",\"Male\",\"Male\",\"Male\",\"Female\",\"Female\",\"Male\",\"Female\",\"Male\",\"Male\",\"Male\",\"Male\",\"Male\",\"Male\",\"Male\",\"Male\",\"Male\",\"Male\",\"Male\",\"Female\",\"Male\",\"Male\",\"Male\",\"Male\",\"Female\",\"Male\",\"Male\",\"Male\",\"Male\",\"Male\",\"Male\",\"Male\",\"Female\",\"Male\",\"Male\",\"Male\",\"Male\",\"Male\",\"Male\",\"Male\",\"Male\",\"Male\",\"Male\",\"Male\",\"Male\",\"Female\",\"Male\",\"Male\",\"Female\",\"Male\",\"Female\",\"Female\",\"Male\",\"Male\",\"Male\",\"Male\",\"Male\",\"Male\",\"Male\",\"Male\",\"Male\",\"Male\",\"Female\",\"Male\",\"Male\",\"Male\",\"Male\",\"Male\",\"Male\",\"Female\",\"Male\",\"Male\",\"Female\",\"Male\",\"Male\",\"Male\",\"Male\",\"Male\",\"Male\",\"Male\",\"Male\",\"Male\",\"Male\",\"Male\",\"Female\",\"Male\",\"Female\",\"Female\",\"Male\",\"Female\",\"Male\",\"Male\",\"Male\",\"Male\",\"Male\",\"Male\",\"Female\",\"Male\",\"Male\",\"Male\",\"Female\",\"Male\",\"Male\",\"Male\",\"Male\",\"Male\",\"Male\",\"Male\",\"Female\",\"Male\",\"Female\",\"Female\",\"Male\",\"Male\",\"Male\",\"Female\",\"Male\",\"Male\",\"Female\",\"Male\",\"Male\",\"Male\",\"Male\",\"Male\",\"Female\",\"Male\",\"Female\",\"Male\",\"Male\",\"Female\",\"Male\",\"Male\",\"Male\",\"Male\",\"Male\",\"Male\",\"Female\",\"Male\",\"Male\",\"Male\",\"Male\",\"Male\",\"Male\",\"Male\",\"Male\",\"Male\",\"Male\",\"Male\",\"Male\",\"Male\",\"Male\",\"Male\",\"Male\",\"Male\",\"Male\",\"Male\",\"Male\",\"Male\",\"Female\",\"Male\",\"Male\",\"Male\",\"Male\",\"Male\",\"Male\",\"Male\",\"Female\",\"Male\",\"Male\",\"Male\",\"Male\",\"Male\",\"Male\",\"Male\",\"Male\",\"Male\",\"Male\",\"Male\",\"Male\",\"Male\",\"Male\",\"Male\",\"Male\",\"Male\",\"Male\",\"Male\",\"Male\",\"Female\",\"Female\",\"Male\",\"Male\",\"Male\",\"Male\",\"Male\",\"Female\",\"Male\",\"Male\",\"Male\",\"Male\",\"Male\",\"Male\",\"Male\",\"Male\",\"Male\",\"Male\",\"Male\",\"Female\",\"Male\",\"Male\",\"Male\",\"Female\",\"Male\",\"Male\",\"Male\",\"Male\",\"Male\",\"Male\",\"Male\",\"Male\",\"Male\",\"Female\",\"Male\",\"Male\",\"Male\",\"Male\",\"Male\",\"Male\",\"Male\",\"Male\",\"Male\",\"Male\",\"Male\",\"Male\",\"Male\",\"Male\",\"Female\",\"Male\",\"Male\",\"Male\",\"Male\",\"Male\",\"Male\",\"Male\",\"Male\",\"Male\",\"Male\",\"Male\",\"Male\",\"Male\",\"Male\",\"Male\",\"Female\",\"Male\",\"Male\",\"Male\",\"Male\",\"Male\",\"Male\",\"Male\",\"Male\",\"Female\",\"Female\",\"Female\",\"Male\",\"Male\",\"Male\",\"Male\",\"Male\",\"Male\",\"Male\",\"Male\",\"Male\",\"Male\",\"Male\",\"Male\",\"Male\",\"Male\",\"Male\",\"Male\",\"Male\",\"Male\",\"Male\",\"Male\",\"Female\",\"Male\",\"Male\",\"Male\",\"Female\",\"Male\",\"Male\",\"Male\",\"Male\",\"Male\",\"Male\",\"Male\",\"Male\",\"Male\",\"Male\",\"Male\"],\"legendgroup\":\"\",\"name\":\"\",\"showlegend\":true,\"type\":\"pie\"}],                        {\"template\":{\"data\":{\"scatter\":[{\"type\":\"scatter\"}]}},\"legend\":{\"tracegroupgap\":0},\"title\":{\"text\":\"Proportion of male and female\"},\"width\":500},                        {\"responsive\": true}                    ).then(function(){\n",
              "                            \n",
              "var gd = document.getElementById('1b13f194-d50f-4542-a58e-32fb46afe7fb');\n",
              "var x = new MutationObserver(function (mutations, observer) {{\n",
              "        var display = window.getComputedStyle(gd).display;\n",
              "        if (!display || display === 'none') {{\n",
              "            console.log([gd, 'removed!']);\n",
              "            Plotly.purge(gd);\n",
              "            observer.disconnect();\n",
              "        }}\n",
              "}});\n",
              "\n",
              "// Listen for the removal of the full notebook cells\n",
              "var notebookContainer = gd.closest('#notebook-container');\n",
              "if (notebookContainer) {{\n",
              "    x.observe(notebookContainer, {childList: true});\n",
              "}}\n",
              "\n",
              "// Listen for the clearing of the current output cell\n",
              "var outputEl = gd.closest('.output');\n",
              "if (outputEl) {{\n",
              "    x.observe(outputEl, {childList: true});\n",
              "}}\n",
              "\n",
              "                        })                };                            </script>        </div>\n",
              "</body>\n",
              "</html>"
            ]
          },
          "metadata": {}
        }
      ],
      "source": [
        "fig = px.pie(df, names = \"Gender\", title = \"Proportion of male and female\", \n",
        "             hole = 0.5, template = \"none\",width=500)\n",
        "fig.show()"
      ]
    },
    {
      "cell_type": "code",
      "execution_count": 10,
      "metadata": {
        "id": "bJbkLE8DQiAY"
      },
      "outputs": [],
      "source": [
        "from IPython.core.display import HTML\n",
        "\n",
        "def multi_table(table_list):\n",
        "    return HTML(\n",
        "        '<table><tr style=\"background-color:white;\">' + \n",
        "        ''.join(['<td>' + table._repr_html_() + '</td>' for table in table_list]) +\n",
        "        '</tr></table>')"
      ]
    },
    {
      "cell_type": "code",
      "execution_count": 11,
      "metadata": {
        "colab": {
          "base_uri": "https://localhost:8080/",
          "height": 90
        },
        "id": "CrnB1CDBGAyq",
        "outputId": "443caf29-03d1-4450-935a-b6e5485455e0"
      },
      "outputs": [
        {
          "output_type": "execute_result",
          "data": {
            "text/plain": [
              "<IPython.core.display.HTML object>"
            ],
            "text/html": [
              "<table><tr style=\"background-color:white;\"><td><style type=\"text/css\">\n",
              "#T_557de_row0_col0, #T_557de_row1_col0 {\n",
              "  background-color: black;\n",
              "  color: white;\n",
              "  border-color: black;\n",
              "  font-size: 11.5pt;\n",
              "  width: 200;\n",
              "}\n",
              "</style>\n",
              "<table id=\"T_557de_\">\n",
              "  <thead>\n",
              "    <tr>\n",
              "      <th class=\"blank level0\" >&nbsp;</th>\n",
              "      <th class=\"col_heading level0 col0\" >PlacedOrNot</th>\n",
              "    </tr>\n",
              "  </thead>\n",
              "  <tbody>\n",
              "    <tr>\n",
              "      <th id=\"T_557de_level0_row0\" class=\"row_heading level0 row0\" >1</th>\n",
              "      <td id=\"T_557de_row0_col0\" class=\"data row0 col0\" >1639</td>\n",
              "    </tr>\n",
              "    <tr>\n",
              "      <th id=\"T_557de_level0_row1\" class=\"row_heading level0 row1\" >0</th>\n",
              "      <td id=\"T_557de_row1_col0\" class=\"data row1 col0\" >1327</td>\n",
              "    </tr>\n",
              "  </tbody>\n",
              "</table>\n",
              "</td></tr></table>"
            ]
          },
          "metadata": {},
          "execution_count": 11
        }
      ],
      "source": [
        "from plotly.offline import iplot\n",
        "df_nunique = {var: pd.DataFrame(df[var].value_counts()) \n",
        "              for var in {'PlacedOrNot'}}\n",
        "multi_table([ df_nunique['PlacedOrNot'].style.set_properties(**{\"background-color\": \"black\",\"color\": \"white\", \"border-color\": \"black\",\"font-size\":\"11.5pt\",'width': 200})])"
      ]
    },
    {
      "cell_type": "code",
      "execution_count": 12,
      "metadata": {
        "colab": {
          "base_uri": "https://localhost:8080/",
          "height": 542
        },
        "id": "AlJTIWT5Q9tT",
        "outputId": "ed4757b7-57a1-44a7-f9ee-0de27e4de91b"
      },
      "outputs": [
        {
          "output_type": "display_data",
          "data": {
            "text/html": [
              "<html>\n",
              "<head><meta charset=\"utf-8\" /></head>\n",
              "<body>\n",
              "    <div>            <script src=\"https://cdnjs.cloudflare.com/ajax/libs/mathjax/2.7.5/MathJax.js?config=TeX-AMS-MML_SVG\"></script><script type=\"text/javascript\">if (window.MathJax) {MathJax.Hub.Config({SVG: {font: \"STIX-Web\"}});}</script>                <script type=\"text/javascript\">window.PlotlyConfig = {MathJaxConfig: 'local'};</script>\n",
              "        <script src=\"https://cdn.plot.ly/plotly-2.8.3.min.js\"></script>                <div id=\"66e95438-8646-4e8d-8527-4cbed536e7ae\" class=\"plotly-graph-div\" style=\"height:525px; width:100%;\"></div>            <script type=\"text/javascript\">                                    window.PLOTLYENV=window.PLOTLYENV || {};                                    if (document.getElementById(\"66e95438-8646-4e8d-8527-4cbed536e7ae\")) {                    Plotly.newPlot(                        \"66e95438-8646-4e8d-8527-4cbed536e7ae\",                        [{\"marker\":{\"color\":\"blue\",\"line\":{\"color\":\"black\",\"width\":3}},\"showlegend\":false,\"text\":[\"1639\",\"1327\"],\"textfont\":{\"size\":15},\"textposition\":\"outside\",\"x\":[1,0],\"xaxis\":\"x\",\"y\":[1639,1327],\"yaxis\":\"y\",\"type\":\"bar\"}],                        {\"template\":{\"data\":{\"barpolar\":[{\"marker\":{\"line\":{\"color\":\"white\",\"width\":0.5},\"pattern\":{\"fillmode\":\"overlay\",\"size\":10,\"solidity\":0.2}},\"type\":\"barpolar\"}],\"bar\":[{\"error_x\":{\"color\":\"#2a3f5f\"},\"error_y\":{\"color\":\"#2a3f5f\"},\"marker\":{\"line\":{\"color\":\"white\",\"width\":0.5},\"pattern\":{\"fillmode\":\"overlay\",\"size\":10,\"solidity\":0.2}},\"type\":\"bar\"}],\"carpet\":[{\"aaxis\":{\"endlinecolor\":\"#2a3f5f\",\"gridcolor\":\"#C8D4E3\",\"linecolor\":\"#C8D4E3\",\"minorgridcolor\":\"#C8D4E3\",\"startlinecolor\":\"#2a3f5f\"},\"baxis\":{\"endlinecolor\":\"#2a3f5f\",\"gridcolor\":\"#C8D4E3\",\"linecolor\":\"#C8D4E3\",\"minorgridcolor\":\"#C8D4E3\",\"startlinecolor\":\"#2a3f5f\"},\"type\":\"carpet\"}],\"choropleth\":[{\"colorbar\":{\"outlinewidth\":0,\"ticks\":\"\"},\"type\":\"choropleth\"}],\"contourcarpet\":[{\"colorbar\":{\"outlinewidth\":0,\"ticks\":\"\"},\"type\":\"contourcarpet\"}],\"contour\":[{\"colorbar\":{\"outlinewidth\":0,\"ticks\":\"\"},\"colorscale\":[[0.0,\"#0d0887\"],[0.1111111111111111,\"#46039f\"],[0.2222222222222222,\"#7201a8\"],[0.3333333333333333,\"#9c179e\"],[0.4444444444444444,\"#bd3786\"],[0.5555555555555556,\"#d8576b\"],[0.6666666666666666,\"#ed7953\"],[0.7777777777777778,\"#fb9f3a\"],[0.8888888888888888,\"#fdca26\"],[1.0,\"#f0f921\"]],\"type\":\"contour\"}],\"heatmapgl\":[{\"colorbar\":{\"outlinewidth\":0,\"ticks\":\"\"},\"colorscale\":[[0.0,\"#0d0887\"],[0.1111111111111111,\"#46039f\"],[0.2222222222222222,\"#7201a8\"],[0.3333333333333333,\"#9c179e\"],[0.4444444444444444,\"#bd3786\"],[0.5555555555555556,\"#d8576b\"],[0.6666666666666666,\"#ed7953\"],[0.7777777777777778,\"#fb9f3a\"],[0.8888888888888888,\"#fdca26\"],[1.0,\"#f0f921\"]],\"type\":\"heatmapgl\"}],\"heatmap\":[{\"colorbar\":{\"outlinewidth\":0,\"ticks\":\"\"},\"colorscale\":[[0.0,\"#0d0887\"],[0.1111111111111111,\"#46039f\"],[0.2222222222222222,\"#7201a8\"],[0.3333333333333333,\"#9c179e\"],[0.4444444444444444,\"#bd3786\"],[0.5555555555555556,\"#d8576b\"],[0.6666666666666666,\"#ed7953\"],[0.7777777777777778,\"#fb9f3a\"],[0.8888888888888888,\"#fdca26\"],[1.0,\"#f0f921\"]],\"type\":\"heatmap\"}],\"histogram2dcontour\":[{\"colorbar\":{\"outlinewidth\":0,\"ticks\":\"\"},\"colorscale\":[[0.0,\"#0d0887\"],[0.1111111111111111,\"#46039f\"],[0.2222222222222222,\"#7201a8\"],[0.3333333333333333,\"#9c179e\"],[0.4444444444444444,\"#bd3786\"],[0.5555555555555556,\"#d8576b\"],[0.6666666666666666,\"#ed7953\"],[0.7777777777777778,\"#fb9f3a\"],[0.8888888888888888,\"#fdca26\"],[1.0,\"#f0f921\"]],\"type\":\"histogram2dcontour\"}],\"histogram2d\":[{\"colorbar\":{\"outlinewidth\":0,\"ticks\":\"\"},\"colorscale\":[[0.0,\"#0d0887\"],[0.1111111111111111,\"#46039f\"],[0.2222222222222222,\"#7201a8\"],[0.3333333333333333,\"#9c179e\"],[0.4444444444444444,\"#bd3786\"],[0.5555555555555556,\"#d8576b\"],[0.6666666666666666,\"#ed7953\"],[0.7777777777777778,\"#fb9f3a\"],[0.8888888888888888,\"#fdca26\"],[1.0,\"#f0f921\"]],\"type\":\"histogram2d\"}],\"histogram\":[{\"marker\":{\"pattern\":{\"fillmode\":\"overlay\",\"size\":10,\"solidity\":0.2}},\"type\":\"histogram\"}],\"mesh3d\":[{\"colorbar\":{\"outlinewidth\":0,\"ticks\":\"\"},\"type\":\"mesh3d\"}],\"parcoords\":[{\"line\":{\"colorbar\":{\"outlinewidth\":0,\"ticks\":\"\"}},\"type\":\"parcoords\"}],\"pie\":[{\"automargin\":true,\"type\":\"pie\"}],\"scatter3d\":[{\"line\":{\"colorbar\":{\"outlinewidth\":0,\"ticks\":\"\"}},\"marker\":{\"colorbar\":{\"outlinewidth\":0,\"ticks\":\"\"}},\"type\":\"scatter3d\"}],\"scattercarpet\":[{\"marker\":{\"colorbar\":{\"outlinewidth\":0,\"ticks\":\"\"}},\"type\":\"scattercarpet\"}],\"scattergeo\":[{\"marker\":{\"colorbar\":{\"outlinewidth\":0,\"ticks\":\"\"}},\"type\":\"scattergeo\"}],\"scattergl\":[{\"marker\":{\"colorbar\":{\"outlinewidth\":0,\"ticks\":\"\"}},\"type\":\"scattergl\"}],\"scattermapbox\":[{\"marker\":{\"colorbar\":{\"outlinewidth\":0,\"ticks\":\"\"}},\"type\":\"scattermapbox\"}],\"scatterpolargl\":[{\"marker\":{\"colorbar\":{\"outlinewidth\":0,\"ticks\":\"\"}},\"type\":\"scatterpolargl\"}],\"scatterpolar\":[{\"marker\":{\"colorbar\":{\"outlinewidth\":0,\"ticks\":\"\"}},\"type\":\"scatterpolar\"}],\"scatter\":[{\"marker\":{\"colorbar\":{\"outlinewidth\":0,\"ticks\":\"\"}},\"type\":\"scatter\"}],\"scatterternary\":[{\"marker\":{\"colorbar\":{\"outlinewidth\":0,\"ticks\":\"\"}},\"type\":\"scatterternary\"}],\"surface\":[{\"colorbar\":{\"outlinewidth\":0,\"ticks\":\"\"},\"colorscale\":[[0.0,\"#0d0887\"],[0.1111111111111111,\"#46039f\"],[0.2222222222222222,\"#7201a8\"],[0.3333333333333333,\"#9c179e\"],[0.4444444444444444,\"#bd3786\"],[0.5555555555555556,\"#d8576b\"],[0.6666666666666666,\"#ed7953\"],[0.7777777777777778,\"#fb9f3a\"],[0.8888888888888888,\"#fdca26\"],[1.0,\"#f0f921\"]],\"type\":\"surface\"}],\"table\":[{\"cells\":{\"fill\":{\"color\":\"#EBF0F8\"},\"line\":{\"color\":\"white\"}},\"header\":{\"fill\":{\"color\":\"#C8D4E3\"},\"line\":{\"color\":\"white\"}},\"type\":\"table\"}]},\"layout\":{\"annotationdefaults\":{\"arrowcolor\":\"#2a3f5f\",\"arrowhead\":0,\"arrowwidth\":1},\"autotypenumbers\":\"strict\",\"coloraxis\":{\"colorbar\":{\"outlinewidth\":0,\"ticks\":\"\"}},\"colorscale\":{\"diverging\":[[0,\"#8e0152\"],[0.1,\"#c51b7d\"],[0.2,\"#de77ae\"],[0.3,\"#f1b6da\"],[0.4,\"#fde0ef\"],[0.5,\"#f7f7f7\"],[0.6,\"#e6f5d0\"],[0.7,\"#b8e186\"],[0.8,\"#7fbc41\"],[0.9,\"#4d9221\"],[1,\"#276419\"]],\"sequential\":[[0.0,\"#0d0887\"],[0.1111111111111111,\"#46039f\"],[0.2222222222222222,\"#7201a8\"],[0.3333333333333333,\"#9c179e\"],[0.4444444444444444,\"#bd3786\"],[0.5555555555555556,\"#d8576b\"],[0.6666666666666666,\"#ed7953\"],[0.7777777777777778,\"#fb9f3a\"],[0.8888888888888888,\"#fdca26\"],[1.0,\"#f0f921\"]],\"sequentialminus\":[[0.0,\"#0d0887\"],[0.1111111111111111,\"#46039f\"],[0.2222222222222222,\"#7201a8\"],[0.3333333333333333,\"#9c179e\"],[0.4444444444444444,\"#bd3786\"],[0.5555555555555556,\"#d8576b\"],[0.6666666666666666,\"#ed7953\"],[0.7777777777777778,\"#fb9f3a\"],[0.8888888888888888,\"#fdca26\"],[1.0,\"#f0f921\"]]},\"colorway\":[\"#636efa\",\"#EF553B\",\"#00cc96\",\"#ab63fa\",\"#FFA15A\",\"#19d3f3\",\"#FF6692\",\"#B6E880\",\"#FF97FF\",\"#FECB52\"],\"font\":{\"color\":\"#2a3f5f\"},\"geo\":{\"bgcolor\":\"white\",\"lakecolor\":\"white\",\"landcolor\":\"white\",\"showlakes\":true,\"showland\":true,\"subunitcolor\":\"#C8D4E3\"},\"hoverlabel\":{\"align\":\"left\"},\"hovermode\":\"closest\",\"mapbox\":{\"style\":\"light\"},\"paper_bgcolor\":\"white\",\"plot_bgcolor\":\"white\",\"polar\":{\"angularaxis\":{\"gridcolor\":\"#EBF0F8\",\"linecolor\":\"#EBF0F8\",\"ticks\":\"\"},\"bgcolor\":\"white\",\"radialaxis\":{\"gridcolor\":\"#EBF0F8\",\"linecolor\":\"#EBF0F8\",\"ticks\":\"\"}},\"scene\":{\"xaxis\":{\"backgroundcolor\":\"white\",\"gridcolor\":\"#DFE8F3\",\"gridwidth\":2,\"linecolor\":\"#EBF0F8\",\"showbackground\":true,\"ticks\":\"\",\"zerolinecolor\":\"#EBF0F8\"},\"yaxis\":{\"backgroundcolor\":\"white\",\"gridcolor\":\"#DFE8F3\",\"gridwidth\":2,\"linecolor\":\"#EBF0F8\",\"showbackground\":true,\"ticks\":\"\",\"zerolinecolor\":\"#EBF0F8\"},\"zaxis\":{\"backgroundcolor\":\"white\",\"gridcolor\":\"#DFE8F3\",\"gridwidth\":2,\"linecolor\":\"#EBF0F8\",\"showbackground\":true,\"ticks\":\"\",\"zerolinecolor\":\"#EBF0F8\"}},\"shapedefaults\":{\"line\":{\"color\":\"#2a3f5f\"}},\"ternary\":{\"aaxis\":{\"gridcolor\":\"#DFE8F3\",\"linecolor\":\"#A2B1C6\",\"ticks\":\"\"},\"baxis\":{\"gridcolor\":\"#DFE8F3\",\"linecolor\":\"#A2B1C6\",\"ticks\":\"\"},\"bgcolor\":\"white\",\"caxis\":{\"gridcolor\":\"#DFE8F3\",\"linecolor\":\"#A2B1C6\",\"ticks\":\"\"}},\"title\":{\"x\":0.05},\"xaxis\":{\"automargin\":true,\"gridcolor\":\"#EBF0F8\",\"linecolor\":\"#EBF0F8\",\"ticks\":\"\",\"title\":{\"standoff\":15},\"zerolinecolor\":\"#EBF0F8\",\"zerolinewidth\":2},\"yaxis\":{\"automargin\":true,\"gridcolor\":\"#EBF0F8\",\"linecolor\":\"#EBF0F8\",\"ticks\":\"\",\"title\":{\"standoff\":15},\"zerolinecolor\":\"#EBF0F8\",\"zerolinewidth\":2}}},\"title\":{\"x\":0.5,\"xanchor\":\"center\",\"y\":0.9,\"yanchor\":\"top\"},\"xaxis\":{\"anchor\":\"y\",\"domain\":[0.0,1.0]},\"yaxis\":{\"anchor\":\"x\",\"domain\":[0.0,1.0],\"range\":[0,2000]}},                        {\"responsive\": true}                    ).then(function(){\n",
              "                            \n",
              "var gd = document.getElementById('66e95438-8646-4e8d-8527-4cbed536e7ae');\n",
              "var x = new MutationObserver(function (mutations, observer) {{\n",
              "        var display = window.getComputedStyle(gd).display;\n",
              "        if (!display || display === 'none') {{\n",
              "            console.log([gd, 'removed!']);\n",
              "            Plotly.purge(gd);\n",
              "            observer.disconnect();\n",
              "        }}\n",
              "}});\n",
              "\n",
              "// Listen for the removal of the full notebook cells\n",
              "var notebookContainer = gd.closest('#notebook-container');\n",
              "if (notebookContainer) {{\n",
              "    x.observe(notebookContainer, {childList: true});\n",
              "}}\n",
              "\n",
              "// Listen for the clearing of the current output cell\n",
              "var outputEl = gd.closest('.output');\n",
              "if (outputEl) {{\n",
              "    x.observe(outputEl, {childList: true});\n",
              "}}\n",
              "\n",
              "                        })                };                            </script>        </div>\n",
              "</body>\n",
              "</html>"
            ]
          },
          "metadata": {}
        }
      ],
      "source": [
        "from plotly.subplots import make_subplots\n",
        "import plotly.graph_objs as go\n",
        "fig = make_subplots(rows=1,cols=1)\n",
        "fig.add_trace(go.Bar(y = df['PlacedOrNot'].value_counts().values.tolist(), \n",
        "                      x = df['PlacedOrNot'].value_counts().index, \n",
        "                      text=df['PlacedOrNot'].value_counts().values.tolist(),\n",
        "              textfont=dict(size=15),\n",
        "                      textposition = 'outside',\n",
        "                      showlegend=False,\n",
        "              marker = dict(color = 'blue',\n",
        "                            line_color = 'black',\n",
        "                            line_width=3)),row = 1,col = 1)\n",
        "\n",
        "fig.update_layout(title={'y':0.9,\n",
        "                         'x':0.5,\n",
        "                         'xanchor': 'center',\n",
        "                         'yanchor': 'top'},\n",
        "                  template='plotly_white')\n",
        "fig.update_yaxes(range=[0,2000])\n",
        "iplot(fig)"
      ]
    },
    {
      "cell_type": "code",
      "execution_count": 13,
      "metadata": {
        "colab": {
          "base_uri": "https://localhost:8080/",
          "height": 542
        },
        "id": "sk0qTdd9SXQJ",
        "outputId": "0d19e626-5aa7-4f4f-f8a4-3f5fd8dc5139"
      },
      "outputs": [
        {
          "output_type": "display_data",
          "data": {
            "text/html": [
              "<html>\n",
              "<head><meta charset=\"utf-8\" /></head>\n",
              "<body>\n",
              "    <div>            <script src=\"https://cdnjs.cloudflare.com/ajax/libs/mathjax/2.7.5/MathJax.js?config=TeX-AMS-MML_SVG\"></script><script type=\"text/javascript\">if (window.MathJax) {MathJax.Hub.Config({SVG: {font: \"STIX-Web\"}});}</script>                <script type=\"text/javascript\">window.PlotlyConfig = {MathJaxConfig: 'local'};</script>\n",
              "        <script src=\"https://cdn.plot.ly/plotly-2.8.3.min.js\"></script>                <div id=\"405fae0f-01a2-4710-a2a7-0484a484e11c\" class=\"plotly-graph-div\" style=\"height:525px; width:100%;\"></div>            <script type=\"text/javascript\">                                    window.PLOTLYENV=window.PLOTLYENV || {};                                    if (document.getElementById(\"405fae0f-01a2-4710-a2a7-0484a484e11c\")) {                    Plotly.newPlot(                        \"405fae0f-01a2-4710-a2a7-0484a484e11c\",                        [{\"alignmentgroup\":\"True\",\"bingroup\":\"x\",\"hovertemplate\":\"PlacedOrNot=1<br>Gender=%{x}<br>count=%{y}<extra></extra>\",\"legendgroup\":\"1\",\"marker\":{\"color\":\"#636efa\",\"pattern\":{\"shape\":\"\"}},\"name\":\"1\",\"offsetgroup\":\"1\",\"orientation\":\"v\",\"showlegend\":true,\"x\":[\"Male\",\"Female\",\"Female\",\"Male\",\"Male\",\"Male\",\"Female\",\"Male\",\"Female\",\"Male\",\"Male\",\"Male\",\"Male\",\"Male\",\"Male\",\"Male\",\"Male\",\"Male\",\"Male\",\"Male\",\"Male\",\"Male\",\"Male\",\"Male\",\"Male\",\"Female\",\"Female\",\"Male\",\"Male\",\"Male\",\"Male\",\"Male\",\"Female\",\"Female\",\"Male\",\"Male\",\"Male\",\"Male\",\"Female\",\"Male\",\"Male\",\"Male\",\"Male\",\"Male\",\"Male\",\"Male\",\"Male\",\"Male\",\"Male\",\"Male\",\"Male\",\"Male\",\"Male\",\"Male\",\"Male\",\"Male\",\"Male\",\"Male\",\"Male\",\"Male\",\"Male\",\"Male\",\"Male\",\"Male\",\"Male\",\"Male\",\"Male\",\"Male\",\"Male\",\"Male\",\"Male\",\"Male\",\"Male\",\"Male\",\"Female\",\"Male\",\"Male\",\"Male\",\"Male\",\"Male\",\"Male\",\"Male\",\"Male\",\"Male\",\"Male\",\"Female\",\"Male\",\"Male\",\"Male\",\"Male\",\"Male\",\"Male\",\"Male\",\"Male\",\"Male\",\"Male\",\"Male\",\"Male\",\"Male\",\"Male\",\"Male\",\"Male\",\"Male\",\"Male\",\"Male\",\"Male\",\"Male\",\"Male\",\"Male\",\"Male\",\"Male\",\"Male\",\"Male\",\"Male\",\"Male\",\"Male\",\"Male\",\"Male\",\"Male\",\"Male\",\"Male\",\"Male\",\"Female\",\"Male\",\"Male\",\"Male\",\"Male\",\"Male\",\"Male\",\"Male\",\"Male\",\"Male\",\"Male\",\"Male\",\"Male\",\"Female\",\"Male\",\"Male\",\"Female\",\"Female\",\"Male\",\"Male\",\"Male\",\"Male\",\"Female\",\"Male\",\"Female\",\"Male\",\"Male\",\"Male\",\"Male\",\"Male\",\"Male\",\"Female\",\"Male\",\"Male\",\"Male\",\"Male\",\"Female\",\"Female\",\"Male\",\"Male\",\"Male\",\"Male\",\"Male\",\"Male\",\"Male\",\"Male\",\"Male\",\"Male\",\"Male\",\"Male\",\"Male\",\"Male\",\"Male\",\"Male\",\"Male\",\"Female\",\"Male\",\"Male\",\"Male\",\"Female\",\"Male\",\"Male\",\"Female\",\"Male\",\"Male\",\"Male\",\"Male\",\"Male\",\"Male\",\"Male\",\"Male\",\"Male\",\"Female\",\"Male\",\"Male\",\"Male\",\"Female\",\"Male\",\"Male\",\"Male\",\"Female\",\"Male\",\"Male\",\"Male\",\"Male\",\"Female\",\"Female\",\"Male\",\"Male\",\"Male\",\"Male\",\"Male\",\"Male\",\"Male\",\"Male\",\"Male\",\"Male\",\"Male\",\"Male\",\"Male\",\"Male\",\"Male\",\"Male\",\"Male\",\"Male\",\"Male\",\"Female\",\"Male\",\"Male\",\"Male\",\"Male\",\"Male\",\"Female\",\"Female\",\"Male\",\"Female\",\"Male\",\"Male\",\"Male\",\"Male\",\"Male\",\"Male\",\"Male\",\"Male\",\"Male\",\"Male\",\"Male\",\"Male\",\"Male\",\"Male\",\"Male\",\"Male\",\"Male\",\"Female\",\"Male\",\"Male\",\"Male\",\"Male\",\"Female\",\"Male\",\"Male\",\"Male\",\"Female\",\"Female\",\"Male\",\"Male\",\"Male\",\"Male\",\"Male\",\"Male\",\"Male\",\"Male\",\"Male\",\"Male\",\"Male\",\"Male\",\"Male\",\"Male\",\"Female\",\"Male\",\"Male\",\"Male\",\"Male\",\"Female\",\"Male\",\"Male\",\"Female\",\"Male\",\"Male\",\"Male\",\"Male\",\"Male\",\"Female\",\"Male\",\"Male\",\"Male\",\"Male\",\"Female\",\"Male\",\"Male\",\"Male\",\"Male\",\"Male\",\"Male\",\"Male\",\"Male\",\"Male\",\"Female\",\"Male\",\"Male\",\"Female\",\"Male\",\"Male\",\"Male\",\"Male\",\"Male\",\"Male\",\"Male\",\"Female\",\"Male\",\"Male\",\"Female\",\"Male\",\"Male\",\"Male\",\"Female\",\"Male\",\"Male\",\"Male\",\"Male\",\"Male\",\"Male\",\"Male\",\"Male\",\"Male\",\"Female\",\"Male\",\"Female\",\"Male\",\"Male\",\"Male\",\"Female\",\"Male\",\"Male\",\"Male\",\"Male\",\"Male\",\"Male\",\"Male\",\"Male\",\"Female\",\"Female\",\"Male\",\"Female\",\"Female\",\"Male\",\"Male\",\"Male\",\"Male\",\"Female\",\"Male\",\"Male\",\"Female\",\"Female\",\"Male\",\"Male\",\"Male\",\"Male\",\"Male\",\"Male\",\"Male\",\"Male\",\"Male\",\"Male\",\"Male\",\"Male\",\"Male\",\"Female\",\"Male\",\"Female\",\"Male\",\"Male\",\"Male\",\"Male\",\"Male\",\"Female\",\"Male\",\"Male\",\"Male\",\"Male\",\"Male\",\"Male\",\"Male\",\"Male\",\"Male\",\"Male\",\"Male\",\"Male\",\"Male\",\"Male\",\"Male\",\"Male\",\"Male\",\"Male\",\"Male\",\"Male\",\"Male\",\"Male\",\"Female\",\"Male\",\"Male\",\"Male\",\"Male\",\"Male\",\"Male\",\"Male\",\"Male\",\"Female\",\"Male\",\"Male\",\"Male\",\"Male\",\"Male\",\"Female\",\"Male\",\"Male\",\"Male\",\"Male\",\"Female\",\"Male\",\"Female\",\"Female\",\"Male\",\"Female\",\"Male\",\"Male\",\"Male\",\"Male\",\"Male\",\"Male\",\"Female\",\"Male\",\"Male\",\"Female\",\"Female\",\"Male\",\"Male\",\"Male\",\"Male\",\"Male\",\"Female\",\"Male\",\"Female\",\"Male\",\"Female\",\"Male\",\"Female\",\"Male\",\"Male\",\"Male\",\"Male\",\"Male\",\"Male\",\"Female\",\"Male\",\"Male\",\"Male\",\"Female\",\"Male\",\"Male\",\"Male\",\"Female\",\"Male\",\"Female\",\"Male\",\"Male\",\"Female\",\"Male\",\"Male\",\"Female\",\"Male\",\"Male\",\"Male\",\"Male\",\"Male\",\"Male\",\"Male\",\"Male\",\"Male\",\"Male\",\"Male\",\"Male\",\"Male\",\"Male\",\"Male\",\"Male\",\"Female\",\"Male\",\"Female\",\"Female\",\"Male\",\"Male\",\"Male\",\"Male\",\"Male\",\"Male\",\"Male\",\"Female\",\"Male\",\"Male\",\"Male\",\"Male\",\"Male\",\"Male\",\"Female\",\"Male\",\"Male\",\"Male\",\"Female\",\"Male\",\"Male\",\"Male\",\"Male\",\"Male\",\"Female\",\"Male\",\"Female\",\"Male\",\"Male\",\"Male\",\"Male\",\"Male\",\"Male\",\"Female\",\"Male\",\"Male\",\"Male\",\"Male\",\"Male\",\"Male\",\"Male\",\"Male\",\"Male\",\"Male\",\"Male\",\"Male\",\"Male\",\"Male\",\"Male\",\"Male\",\"Female\",\"Male\",\"Male\",\"Male\",\"Male\",\"Male\",\"Male\",\"Male\",\"Male\",\"Male\",\"Male\",\"Male\",\"Male\",\"Male\",\"Male\",\"Male\",\"Male\",\"Male\",\"Male\",\"Female\",\"Male\",\"Male\",\"Male\",\"Male\",\"Male\",\"Male\",\"Female\",\"Female\",\"Male\",\"Male\",\"Male\",\"Male\",\"Female\",\"Male\",\"Male\",\"Male\",\"Male\",\"Female\",\"Male\",\"Male\",\"Male\",\"Male\",\"Male\",\"Male\",\"Male\",\"Male\",\"Male\",\"Male\",\"Male\",\"Male\",\"Male\",\"Male\",\"Male\",\"Female\",\"Female\",\"Female\",\"Male\",\"Male\",\"Male\",\"Male\",\"Female\",\"Male\",\"Male\",\"Male\",\"Male\",\"Female\",\"Male\",\"Male\",\"Male\",\"Male\",\"Male\",\"Male\",\"Male\",\"Male\",\"Female\",\"Male\",\"Female\",\"Female\",\"Male\",\"Male\",\"Female\",\"Male\",\"Male\",\"Male\",\"Male\",\"Female\",\"Male\",\"Female\",\"Male\",\"Male\",\"Female\",\"Female\",\"Male\",\"Male\",\"Male\",\"Male\",\"Female\",\"Male\",\"Male\",\"Male\",\"Male\",\"Female\",\"Male\",\"Male\",\"Male\",\"Male\",\"Male\",\"Male\",\"Male\",\"Male\",\"Female\",\"Male\",\"Male\",\"Female\",\"Female\",\"Male\",\"Male\",\"Male\",\"Female\",\"Female\",\"Male\",\"Female\",\"Male\",\"Male\",\"Male\",\"Male\",\"Female\",\"Male\",\"Male\",\"Male\",\"Male\",\"Male\",\"Female\",\"Male\",\"Male\",\"Female\",\"Male\",\"Female\",\"Male\",\"Male\",\"Male\",\"Male\",\"Male\",\"Female\",\"Female\",\"Male\",\"Male\",\"Male\",\"Male\",\"Male\",\"Female\",\"Male\",\"Female\",\"Male\",\"Male\",\"Male\",\"Male\",\"Male\",\"Male\",\"Male\",\"Male\",\"Male\",\"Male\",\"Female\",\"Male\",\"Male\",\"Female\",\"Male\",\"Male\",\"Male\",\"Male\",\"Female\",\"Male\",\"Male\",\"Male\",\"Male\",\"Male\",\"Female\",\"Male\",\"Male\",\"Male\",\"Male\",\"Male\",\"Male\",\"Male\",\"Male\",\"Male\",\"Female\",\"Male\",\"Male\",\"Male\",\"Male\",\"Male\",\"Male\",\"Male\",\"Male\",\"Male\",\"Male\",\"Male\",\"Male\",\"Female\",\"Female\",\"Male\",\"Male\",\"Male\",\"Male\",\"Male\",\"Male\",\"Male\",\"Female\",\"Male\",\"Female\",\"Male\",\"Male\",\"Male\",\"Male\",\"Male\",\"Female\",\"Female\",\"Male\",\"Male\",\"Male\",\"Female\",\"Female\",\"Male\",\"Female\",\"Male\",\"Male\",\"Male\",\"Male\",\"Male\",\"Male\",\"Male\",\"Female\",\"Male\",\"Male\",\"Male\",\"Male\",\"Male\",\"Male\",\"Male\",\"Male\",\"Male\",\"Male\",\"Male\",\"Male\",\"Male\",\"Male\",\"Male\",\"Male\",\"Male\",\"Male\",\"Male\",\"Female\",\"Male\",\"Male\",\"Male\",\"Male\",\"Male\",\"Female\",\"Male\",\"Male\",\"Male\",\"Male\",\"Male\",\"Male\",\"Female\",\"Male\",\"Female\",\"Female\",\"Male\",\"Male\",\"Male\",\"Male\",\"Male\",\"Male\",\"Male\",\"Male\",\"Male\",\"Male\",\"Male\",\"Male\",\"Male\",\"Female\",\"Female\",\"Male\",\"Male\",\"Female\",\"Male\",\"Male\",\"Male\",\"Female\",\"Female\",\"Female\",\"Male\",\"Male\",\"Male\",\"Male\",\"Male\",\"Male\",\"Female\",\"Male\",\"Male\",\"Female\",\"Male\",\"Male\",\"Male\",\"Male\",\"Male\",\"Female\",\"Male\",\"Female\",\"Male\",\"Male\",\"Male\",\"Female\",\"Female\",\"Male\",\"Male\",\"Male\",\"Female\",\"Male\",\"Male\",\"Male\",\"Male\",\"Male\",\"Male\",\"Male\",\"Male\",\"Male\",\"Male\",\"Female\",\"Male\",\"Male\",\"Male\",\"Male\",\"Male\",\"Male\",\"Male\",\"Male\",\"Male\",\"Male\",\"Male\",\"Male\",\"Female\",\"Male\",\"Male\",\"Female\",\"Male\",\"Female\",\"Male\",\"Male\",\"Male\",\"Male\",\"Male\",\"Male\",\"Male\",\"Male\",\"Male\",\"Male\",\"Female\",\"Male\",\"Female\",\"Male\",\"Male\",\"Male\",\"Male\",\"Male\",\"Male\",\"Male\",\"Male\",\"Male\",\"Male\",\"Male\",\"Male\",\"Male\",\"Male\",\"Male\",\"Female\",\"Male\",\"Male\",\"Male\",\"Male\",\"Male\",\"Male\",\"Male\",\"Male\",\"Male\",\"Male\",\"Male\",\"Female\",\"Female\",\"Male\",\"Female\",\"Male\",\"Male\",\"Female\",\"Male\",\"Male\",\"Male\",\"Female\",\"Male\",\"Male\",\"Male\",\"Male\",\"Male\",\"Male\",\"Male\",\"Male\",\"Male\",\"Male\",\"Male\",\"Male\",\"Male\",\"Male\",\"Male\",\"Male\",\"Male\",\"Male\",\"Male\",\"Female\",\"Male\",\"Male\",\"Male\",\"Male\",\"Male\",\"Male\",\"Male\",\"Male\",\"Male\",\"Male\",\"Male\",\"Male\",\"Male\",\"Male\",\"Male\",\"Male\",\"Female\",\"Female\",\"Female\",\"Female\",\"Male\",\"Male\",\"Male\",\"Male\",\"Male\",\"Male\",\"Male\",\"Female\",\"Female\",\"Male\",\"Male\",\"Male\",\"Male\",\"Male\",\"Male\",\"Male\",\"Male\",\"Male\",\"Male\",\"Male\",\"Male\",\"Male\",\"Male\",\"Female\",\"Male\",\"Male\",\"Male\",\"Male\",\"Male\",\"Male\",\"Male\",\"Male\",\"Male\",\"Female\",\"Male\",\"Male\",\"Male\",\"Male\",\"Male\",\"Male\",\"Male\",\"Male\",\"Male\",\"Male\",\"Male\",\"Female\",\"Male\",\"Male\",\"Female\",\"Male\",\"Male\",\"Female\",\"Male\",\"Male\",\"Male\",\"Male\",\"Male\",\"Male\",\"Male\",\"Male\",\"Male\",\"Male\",\"Male\",\"Male\",\"Male\",\"Female\",\"Male\",\"Male\",\"Male\",\"Male\",\"Male\",\"Male\",\"Female\",\"Male\",\"Male\",\"Female\",\"Male\",\"Male\",\"Male\",\"Male\",\"Male\",\"Male\",\"Male\",\"Male\",\"Male\",\"Male\",\"Male\",\"Male\",\"Female\",\"Male\",\"Male\",\"Male\",\"Female\",\"Male\",\"Female\",\"Female\",\"Male\",\"Male\",\"Male\",\"Male\",\"Female\",\"Female\",\"Male\",\"Male\",\"Female\",\"Male\",\"Male\",\"Female\",\"Male\",\"Male\",\"Male\",\"Female\",\"Male\",\"Male\",\"Female\",\"Male\",\"Female\",\"Male\",\"Female\",\"Male\",\"Female\",\"Male\",\"Male\",\"Male\",\"Male\",\"Male\",\"Male\",\"Male\",\"Male\",\"Male\",\"Male\",\"Male\",\"Male\",\"Male\",\"Male\",\"Male\",\"Female\",\"Male\",\"Male\",\"Male\",\"Male\",\"Male\",\"Male\",\"Male\",\"Male\",\"Male\",\"Male\",\"Male\",\"Male\",\"Male\",\"Male\",\"Male\",\"Male\",\"Male\",\"Male\",\"Female\",\"Male\",\"Male\",\"Male\",\"Male\",\"Male\",\"Male\",\"Male\",\"Male\",\"Male\",\"Male\",\"Male\",\"Male\",\"Male\",\"Male\",\"Male\",\"Male\",\"Male\",\"Male\",\"Male\",\"Male\",\"Male\",\"Male\",\"Male\",\"Male\",\"Male\",\"Male\",\"Male\",\"Male\",\"Female\",\"Male\",\"Female\",\"Male\",\"Male\",\"Male\",\"Male\",\"Male\",\"Male\",\"Male\",\"Female\",\"Male\",\"Male\",\"Female\",\"Male\",\"Male\",\"Male\",\"Male\",\"Male\",\"Female\",\"Male\",\"Male\",\"Male\",\"Male\",\"Male\",\"Male\",\"Male\",\"Male\",\"Male\",\"Male\",\"Female\",\"Male\",\"Male\",\"Male\",\"Male\",\"Male\",\"Male\",\"Male\",\"Male\",\"Male\",\"Male\",\"Male\",\"Female\",\"Male\",\"Male\",\"Male\",\"Male\",\"Male\",\"Male\",\"Male\",\"Male\",\"Female\",\"Male\",\"Male\",\"Male\",\"Male\",\"Male\",\"Male\",\"Male\",\"Female\",\"Male\",\"Male\",\"Male\",\"Male\",\"Female\",\"Male\",\"Male\",\"Male\",\"Male\",\"Male\",\"Male\",\"Male\",\"Male\",\"Male\",\"Female\",\"Male\",\"Male\",\"Male\",\"Female\",\"Male\",\"Male\",\"Female\",\"Female\",\"Male\",\"Male\",\"Female\",\"Male\",\"Male\",\"Female\",\"Male\",\"Male\",\"Male\",\"Male\",\"Male\",\"Male\",\"Male\",\"Male\",\"Male\",\"Male\",\"Male\",\"Male\",\"Male\",\"Female\",\"Male\",\"Male\",\"Male\",\"Male\",\"Male\",\"Male\",\"Male\",\"Male\",\"Male\",\"Male\",\"Male\",\"Male\",\"Male\",\"Male\",\"Male\",\"Male\",\"Male\",\"Male\",\"Male\",\"Male\",\"Male\",\"Male\",\"Female\",\"Female\",\"Female\",\"Male\",\"Male\",\"Male\",\"Male\",\"Male\",\"Male\",\"Female\",\"Male\",\"Male\",\"Male\",\"Male\",\"Female\",\"Female\",\"Male\",\"Male\",\"Female\",\"Male\",\"Female\",\"Male\",\"Male\",\"Male\",\"Male\",\"Male\",\"Male\",\"Male\",\"Male\",\"Male\",\"Female\",\"Female\",\"Male\",\"Male\",\"Female\",\"Male\",\"Male\",\"Male\",\"Male\",\"Male\",\"Male\",\"Male\",\"Male\",\"Female\",\"Male\",\"Male\",\"Male\",\"Male\",\"Male\",\"Male\",\"Male\",\"Male\",\"Male\",\"Male\",\"Male\",\"Male\",\"Male\",\"Male\",\"Male\",\"Male\",\"Male\",\"Male\",\"Male\",\"Male\",\"Male\",\"Male\",\"Male\",\"Male\",\"Male\",\"Male\",\"Male\",\"Male\",\"Male\",\"Male\",\"Male\",\"Male\",\"Male\",\"Male\",\"Male\",\"Male\",\"Male\",\"Female\",\"Male\",\"Male\",\"Male\",\"Male\",\"Female\",\"Female\",\"Male\",\"Male\",\"Male\",\"Male\",\"Female\",\"Male\",\"Male\",\"Male\",\"Male\",\"Male\",\"Female\",\"Male\",\"Female\",\"Male\",\"Male\",\"Male\",\"Male\",\"Male\",\"Male\",\"Male\",\"Male\",\"Male\",\"Male\",\"Male\",\"Male\",\"Male\",\"Female\",\"Male\",\"Male\",\"Female\",\"Female\",\"Male\",\"Male\",\"Male\",\"Female\",\"Female\",\"Male\",\"Male\",\"Male\",\"Female\",\"Male\",\"Male\",\"Male\",\"Male\",\"Male\",\"Male\",\"Male\",\"Male\",\"Male\",\"Male\",\"Male\",\"Male\",\"Male\",\"Male\",\"Male\",\"Male\",\"Male\",\"Male\",\"Male\",\"Female\",\"Male\",\"Female\",\"Male\",\"Female\",\"Male\",\"Female\",\"Female\",\"Male\",\"Male\",\"Female\",\"Male\",\"Male\",\"Male\",\"Male\",\"Male\",\"Male\",\"Male\",\"Male\",\"Male\",\"Female\",\"Male\",\"Male\",\"Female\",\"Male\",\"Male\",\"Male\",\"Male\",\"Male\",\"Male\",\"Male\",\"Male\",\"Male\",\"Male\",\"Male\",\"Female\",\"Male\",\"Female\",\"Male\",\"Male\",\"Male\",\"Male\",\"Male\",\"Male\",\"Male\",\"Male\",\"Male\",\"Male\",\"Male\",\"Female\",\"Male\",\"Male\",\"Female\",\"Male\",\"Male\",\"Male\",\"Male\",\"Male\",\"Male\",\"Female\",\"Male\",\"Male\",\"Male\",\"Male\",\"Male\",\"Male\",\"Male\",\"Male\",\"Male\",\"Female\",\"Male\",\"Female\",\"Male\",\"Female\",\"Male\",\"Male\",\"Male\",\"Male\",\"Male\",\"Male\",\"Female\",\"Male\",\"Male\",\"Male\",\"Female\",\"Male\",\"Male\",\"Female\",\"Male\",\"Male\",\"Male\",\"Male\",\"Female\",\"Female\",\"Female\",\"Male\",\"Male\",\"Male\",\"Female\",\"Male\",\"Male\",\"Female\",\"Male\",\"Male\",\"Male\",\"Male\",\"Female\",\"Female\",\"Male\",\"Female\",\"Female\",\"Male\",\"Male\",\"Female\",\"Male\",\"Male\",\"Male\",\"Male\",\"Male\",\"Male\",\"Male\",\"Male\",\"Male\",\"Male\",\"Male\",\"Male\",\"Male\",\"Male\",\"Male\",\"Male\",\"Male\",\"Male\",\"Male\",\"Male\",\"Male\",\"Female\",\"Male\",\"Male\",\"Male\",\"Male\",\"Male\",\"Male\",\"Male\",\"Female\",\"Male\",\"Male\",\"Female\",\"Male\",\"Male\",\"Male\",\"Male\",\"Male\",\"Male\",\"Male\",\"Male\",\"Male\",\"Male\",\"Male\",\"Male\",\"Male\",\"Male\",\"Male\",\"Male\",\"Male\",\"Male\",\"Male\",\"Male\",\"Male\",\"Male\",\"Male\",\"Female\",\"Male\",\"Male\",\"Male\",\"Male\",\"Female\",\"Male\",\"Male\",\"Male\",\"Male\",\"Male\",\"Male\",\"Male\",\"Male\",\"Female\",\"Male\",\"Male\",\"Female\",\"Male\",\"Male\"],\"xaxis\":\"x\",\"yaxis\":\"y\",\"type\":\"histogram\"},{\"alignmentgroup\":\"True\",\"bingroup\":\"x\",\"hovertemplate\":\"PlacedOrNot=0<br>Gender=%{x}<br>count=%{y}<extra></extra>\",\"legendgroup\":\"0\",\"marker\":{\"color\":\"#EF553B\",\"pattern\":{\"shape\":\"\"}},\"name\":\"0\",\"offsetgroup\":\"0\",\"orientation\":\"v\",\"showlegend\":true,\"x\":[\"Male\",\"Male\",\"Male\",\"Female\",\"Male\",\"Female\",\"Female\",\"Male\",\"Male\",\"Male\",\"Male\",\"Male\",\"Male\",\"Male\",\"Female\",\"Male\",\"Male\",\"Male\",\"Male\",\"Female\",\"Male\",\"Male\",\"Female\",\"Male\",\"Female\",\"Male\",\"Male\",\"Female\",\"Male\",\"Male\",\"Male\",\"Male\",\"Male\",\"Male\",\"Male\",\"Male\",\"Male\",\"Male\",\"Male\",\"Male\",\"Female\",\"Male\",\"Male\",\"Male\",\"Male\",\"Male\",\"Female\",\"Female\",\"Male\",\"Male\",\"Male\",\"Male\",\"Male\",\"Female\",\"Male\",\"Male\",\"Female\",\"Male\",\"Male\",\"Female\",\"Female\",\"Female\",\"Male\",\"Male\",\"Male\",\"Male\",\"Female\",\"Male\",\"Female\",\"Female\",\"Male\",\"Male\",\"Male\",\"Male\",\"Male\",\"Female\",\"Male\",\"Male\",\"Female\",\"Male\",\"Male\",\"Female\",\"Male\",\"Female\",\"Male\",\"Male\",\"Female\",\"Male\",\"Male\",\"Male\",\"Male\",\"Male\",\"Male\",\"Male\",\"Female\",\"Female\",\"Male\",\"Male\",\"Male\",\"Female\",\"Female\",\"Female\",\"Male\",\"Male\",\"Male\",\"Male\",\"Female\",\"Male\",\"Male\",\"Male\",\"Female\",\"Male\",\"Male\",\"Male\",\"Male\",\"Male\",\"Male\",\"Male\",\"Male\",\"Male\",\"Female\",\"Male\",\"Male\",\"Male\",\"Male\",\"Male\",\"Male\",\"Female\",\"Male\",\"Male\",\"Male\",\"Male\",\"Female\",\"Male\",\"Male\",\"Male\",\"Male\",\"Male\",\"Male\",\"Male\",\"Male\",\"Male\",\"Male\",\"Male\",\"Male\",\"Male\",\"Male\",\"Male\",\"Male\",\"Female\",\"Male\",\"Female\",\"Male\",\"Male\",\"Male\",\"Male\",\"Female\",\"Male\",\"Male\",\"Male\",\"Male\",\"Male\",\"Female\",\"Male\",\"Male\",\"Female\",\"Female\",\"Male\",\"Male\",\"Male\",\"Male\",\"Male\",\"Male\",\"Male\",\"Female\",\"Female\",\"Male\",\"Male\",\"Male\",\"Male\",\"Male\",\"Male\",\"Male\",\"Male\",\"Male\",\"Male\",\"Male\",\"Male\",\"Male\",\"Male\",\"Male\",\"Male\",\"Male\",\"Male\",\"Male\",\"Female\",\"Male\",\"Male\",\"Male\",\"Male\",\"Male\",\"Male\",\"Male\",\"Male\",\"Male\",\"Male\",\"Male\",\"Female\",\"Male\",\"Male\",\"Male\",\"Male\",\"Male\",\"Male\",\"Male\",\"Male\",\"Male\",\"Female\",\"Male\",\"Male\",\"Male\",\"Male\",\"Male\",\"Male\",\"Male\",\"Male\",\"Male\",\"Female\",\"Male\",\"Female\",\"Male\",\"Male\",\"Male\",\"Male\",\"Male\",\"Male\",\"Male\",\"Male\",\"Male\",\"Male\",\"Male\",\"Male\",\"Male\",\"Male\",\"Male\",\"Male\",\"Male\",\"Female\",\"Female\",\"Male\",\"Female\",\"Male\",\"Male\",\"Female\",\"Male\",\"Male\",\"Male\",\"Male\",\"Male\",\"Male\",\"Male\",\"Male\",\"Male\",\"Male\",\"Male\",\"Male\",\"Male\",\"Male\",\"Male\",\"Male\",\"Male\",\"Male\",\"Male\",\"Male\",\"Male\",\"Male\",\"Male\",\"Male\",\"Male\",\"Male\",\"Male\",\"Male\",\"Male\",\"Male\",\"Female\",\"Male\",\"Male\",\"Male\",\"Female\",\"Male\",\"Male\",\"Male\",\"Male\",\"Male\",\"Male\",\"Female\",\"Male\",\"Male\",\"Male\",\"Male\",\"Male\",\"Male\",\"Male\",\"Male\",\"Male\",\"Female\",\"Male\",\"Male\",\"Male\",\"Male\",\"Female\",\"Male\",\"Male\",\"Male\",\"Female\",\"Female\",\"Male\",\"Male\",\"Male\",\"Male\",\"Male\",\"Female\",\"Male\",\"Male\",\"Female\",\"Female\",\"Male\",\"Male\",\"Male\",\"Male\",\"Male\",\"Male\",\"Male\",\"Male\",\"Male\",\"Male\",\"Female\",\"Male\",\"Female\",\"Male\",\"Male\",\"Male\",\"Male\",\"Male\",\"Male\",\"Male\",\"Male\",\"Male\",\"Male\",\"Male\",\"Female\",\"Male\",\"Male\",\"Male\",\"Male\",\"Male\",\"Male\",\"Male\",\"Male\",\"Male\",\"Male\",\"Male\",\"Male\",\"Female\",\"Male\",\"Male\",\"Male\",\"Male\",\"Male\",\"Male\",\"Male\",\"Male\",\"Male\",\"Male\",\"Male\",\"Male\",\"Male\",\"Male\",\"Male\",\"Female\",\"Male\",\"Male\",\"Male\",\"Male\",\"Male\",\"Male\",\"Male\",\"Male\",\"Male\",\"Male\",\"Male\",\"Male\",\"Female\",\"Male\",\"Male\",\"Female\",\"Male\",\"Male\",\"Male\",\"Male\",\"Male\",\"Female\",\"Male\",\"Male\",\"Male\",\"Female\",\"Male\",\"Male\",\"Male\",\"Male\",\"Male\",\"Male\",\"Male\",\"Male\",\"Male\",\"Male\",\"Female\",\"Male\",\"Male\",\"Male\",\"Male\",\"Female\",\"Male\",\"Male\",\"Male\",\"Male\",\"Male\",\"Female\",\"Male\",\"Male\",\"Female\",\"Male\",\"Male\",\"Male\",\"Female\",\"Male\",\"Male\",\"Male\",\"Male\",\"Male\",\"Female\",\"Male\",\"Male\",\"Male\",\"Male\",\"Male\",\"Male\",\"Male\",\"Male\",\"Male\",\"Male\",\"Male\",\"Male\",\"Male\",\"Male\",\"Male\",\"Female\",\"Male\",\"Male\",\"Male\",\"Female\",\"Male\",\"Male\",\"Male\",\"Male\",\"Male\",\"Male\",\"Male\",\"Male\",\"Male\",\"Male\",\"Male\",\"Male\",\"Male\",\"Female\",\"Male\",\"Male\",\"Male\",\"Male\",\"Male\",\"Male\",\"Female\",\"Male\",\"Male\",\"Male\",\"Male\",\"Male\",\"Male\",\"Male\",\"Male\",\"Female\",\"Female\",\"Male\",\"Male\",\"Male\",\"Male\",\"Male\",\"Male\",\"Male\",\"Male\",\"Male\",\"Male\",\"Female\",\"Female\",\"Male\",\"Male\",\"Male\",\"Male\",\"Male\",\"Male\",\"Male\",\"Male\",\"Male\",\"Female\",\"Male\",\"Male\",\"Female\",\"Male\",\"Male\",\"Male\",\"Male\",\"Female\",\"Male\",\"Male\",\"Female\",\"Male\",\"Female\",\"Male\",\"Male\",\"Male\",\"Male\",\"Female\",\"Male\",\"Male\",\"Male\",\"Male\",\"Male\",\"Male\",\"Male\",\"Female\",\"Male\",\"Female\",\"Male\",\"Female\",\"Female\",\"Male\",\"Male\",\"Male\",\"Male\",\"Female\",\"Male\",\"Female\",\"Male\",\"Male\",\"Male\",\"Male\",\"Male\",\"Male\",\"Male\",\"Male\",\"Male\",\"Male\",\"Male\",\"Male\",\"Male\",\"Male\",\"Male\",\"Male\",\"Male\",\"Male\",\"Male\",\"Male\",\"Male\",\"Female\",\"Male\",\"Male\",\"Female\",\"Male\",\"Male\",\"Female\",\"Male\",\"Female\",\"Male\",\"Male\",\"Male\",\"Male\",\"Male\",\"Male\",\"Male\",\"Male\",\"Male\",\"Male\",\"Male\",\"Male\",\"Male\",\"Female\",\"Male\",\"Male\",\"Male\",\"Male\",\"Male\",\"Male\",\"Male\",\"Male\",\"Female\",\"Male\",\"Male\",\"Male\",\"Female\",\"Female\",\"Female\",\"Male\",\"Male\",\"Male\",\"Male\",\"Male\",\"Male\",\"Male\",\"Male\",\"Female\",\"Male\",\"Male\",\"Male\",\"Male\",\"Male\",\"Male\",\"Male\",\"Female\",\"Male\",\"Male\",\"Male\",\"Male\",\"Male\",\"Male\",\"Male\",\"Male\",\"Male\",\"Male\",\"Male\",\"Male\",\"Female\",\"Male\",\"Male\",\"Male\",\"Female\",\"Female\",\"Male\",\"Male\",\"Female\",\"Male\",\"Male\",\"Male\",\"Male\",\"Male\",\"Male\",\"Male\",\"Male\",\"Male\",\"Female\",\"Male\",\"Male\",\"Male\",\"Male\",\"Male\",\"Female\",\"Male\",\"Female\",\"Male\",\"Male\",\"Female\",\"Female\",\"Male\",\"Male\",\"Male\",\"Female\",\"Female\",\"Male\",\"Male\",\"Male\",\"Male\",\"Male\",\"Male\",\"Male\",\"Female\",\"Male\",\"Male\",\"Male\",\"Male\",\"Male\",\"Male\",\"Male\",\"Male\",\"Male\",\"Male\",\"Male\",\"Male\",\"Male\",\"Female\",\"Female\",\"Female\",\"Male\",\"Female\",\"Male\",\"Female\",\"Male\",\"Female\",\"Male\",\"Male\",\"Female\",\"Male\",\"Male\",\"Male\",\"Male\",\"Female\",\"Male\",\"Male\",\"Male\",\"Male\",\"Male\",\"Male\",\"Female\",\"Male\",\"Male\",\"Male\",\"Male\",\"Male\",\"Male\",\"Male\",\"Male\",\"Male\",\"Male\",\"Male\",\"Male\",\"Male\",\"Male\",\"Male\",\"Male\",\"Male\",\"Male\",\"Male\",\"Female\",\"Male\",\"Male\",\"Male\",\"Male\",\"Male\",\"Male\",\"Male\",\"Male\",\"Male\",\"Male\",\"Male\",\"Female\",\"Male\",\"Male\",\"Male\",\"Female\",\"Female\",\"Male\",\"Female\",\"Male\",\"Male\",\"Female\",\"Male\",\"Male\",\"Male\",\"Male\",\"Female\",\"Male\",\"Male\",\"Female\",\"Male\",\"Male\",\"Female\",\"Male\",\"Male\",\"Male\",\"Male\",\"Male\",\"Male\",\"Female\",\"Male\",\"Male\",\"Female\",\"Male\",\"Male\",\"Male\",\"Female\",\"Male\",\"Male\",\"Male\",\"Male\",\"Male\",\"Male\",\"Male\",\"Male\",\"Male\",\"Female\",\"Male\",\"Female\",\"Male\",\"Male\",\"Male\",\"Female\",\"Male\",\"Male\",\"Male\",\"Male\",\"Female\",\"Male\",\"Male\",\"Male\",\"Male\",\"Female\",\"Male\",\"Male\",\"Male\",\"Male\",\"Male\",\"Female\",\"Female\",\"Female\",\"Male\",\"Male\",\"Male\",\"Male\",\"Male\",\"Male\",\"Male\",\"Male\",\"Male\",\"Male\",\"Male\",\"Male\",\"Male\",\"Male\",\"Male\",\"Male\",\"Male\",\"Female\",\"Male\",\"Male\",\"Male\",\"Male\",\"Male\",\"Male\",\"Male\",\"Male\",\"Male\",\"Male\",\"Male\",\"Male\",\"Male\",\"Male\",\"Male\",\"Male\",\"Male\",\"Male\",\"Male\",\"Male\",\"Male\",\"Female\",\"Male\",\"Male\",\"Male\",\"Male\",\"Male\",\"Male\",\"Male\",\"Male\",\"Male\",\"Male\",\"Female\",\"Male\",\"Male\",\"Male\",\"Male\",\"Male\",\"Male\",\"Female\",\"Male\",\"Male\",\"Male\",\"Male\",\"Male\",\"Male\",\"Male\",\"Male\",\"Male\",\"Male\",\"Male\",\"Male\",\"Male\",\"Male\",\"Female\",\"Male\",\"Male\",\"Male\",\"Male\",\"Male\",\"Male\",\"Male\",\"Male\",\"Male\",\"Male\",\"Male\",\"Male\",\"Male\",\"Male\",\"Male\",\"Male\",\"Male\",\"Female\",\"Male\",\"Male\",\"Male\",\"Male\",\"Male\",\"Male\",\"Male\",\"Male\",\"Male\",\"Male\",\"Male\",\"Male\",\"Male\",\"Male\",\"Male\",\"Female\",\"Male\",\"Male\",\"Male\",\"Male\",\"Male\",\"Male\",\"Male\",\"Female\",\"Male\",\"Male\",\"Male\",\"Female\",\"Male\",\"Male\",\"Male\",\"Male\",\"Male\",\"Male\",\"Male\",\"Male\",\"Male\",\"Male\",\"Male\",\"Male\",\"Male\",\"Male\",\"Male\",\"Male\",\"Male\",\"Male\",\"Male\",\"Female\",\"Male\",\"Female\",\"Male\",\"Male\",\"Male\",\"Male\",\"Female\",\"Female\",\"Female\",\"Male\",\"Female\",\"Male\",\"Female\",\"Male\",\"Female\",\"Male\",\"Male\",\"Female\",\"Male\",\"Female\",\"Female\",\"Male\",\"Female\",\"Male\",\"Male\",\"Female\",\"Male\",\"Male\",\"Female\",\"Male\",\"Male\",\"Male\",\"Male\",\"Male\",\"Male\",\"Male\",\"Male\",\"Male\",\"Male\",\"Male\",\"Male\",\"Male\",\"Male\",\"Female\",\"Female\",\"Female\",\"Male\",\"Male\",\"Female\",\"Male\",\"Male\",\"Male\",\"Male\",\"Male\",\"Male\",\"Male\",\"Male\",\"Male\",\"Male\",\"Male\",\"Female\",\"Male\",\"Female\",\"Male\",\"Female\",\"Male\",\"Male\",\"Male\",\"Male\",\"Male\",\"Female\",\"Male\",\"Female\",\"Male\",\"Male\",\"Male\",\"Male\",\"Male\",\"Male\",\"Male\",\"Male\",\"Male\",\"Female\",\"Male\",\"Female\",\"Male\",\"Male\",\"Male\",\"Male\",\"Male\",\"Female\",\"Male\",\"Male\",\"Male\",\"Male\",\"Male\",\"Male\",\"Male\",\"Female\",\"Female\",\"Male\",\"Male\",\"Male\",\"Male\",\"Male\",\"Male\",\"Male\",\"Male\",\"Male\",\"Male\",\"Male\",\"Male\",\"Male\",\"Male\",\"Male\",\"Male\",\"Male\",\"Male\",\"Male\",\"Male\",\"Male\",\"Male\",\"Male\",\"Male\",\"Male\",\"Male\",\"Male\",\"Male\",\"Male\",\"Male\",\"Male\",\"Female\",\"Female\",\"Male\",\"Male\",\"Male\",\"Male\",\"Male\",\"Female\",\"Male\",\"Male\",\"Male\",\"Female\",\"Male\",\"Male\",\"Male\",\"Male\",\"Male\",\"Male\",\"Male\",\"Male\",\"Male\",\"Male\",\"Male\",\"Female\",\"Male\",\"Male\",\"Male\",\"Male\",\"Male\",\"Male\",\"Male\",\"Male\",\"Male\",\"Female\",\"Male\",\"Male\",\"Male\",\"Male\",\"Male\",\"Female\",\"Male\",\"Male\",\"Male\",\"Female\",\"Male\",\"Male\",\"Male\",\"Male\",\"Male\",\"Male\",\"Male\",\"Male\",\"Male\",\"Male\",\"Male\",\"Male\",\"Male\",\"Female\",\"Male\",\"Female\",\"Male\",\"Male\",\"Male\",\"Male\",\"Male\",\"Female\",\"Male\",\"Male\",\"Male\",\"Male\",\"Male\",\"Male\",\"Male\",\"Female\",\"Male\",\"Male\",\"Male\",\"Male\",\"Male\",\"Male\",\"Male\",\"Female\",\"Male\",\"Male\",\"Female\",\"Male\",\"Male\",\"Female\",\"Male\",\"Male\",\"Female\",\"Male\",\"Male\",\"Male\",\"Male\",\"Female\",\"Male\",\"Male\",\"Male\",\"Male\",\"Male\",\"Male\",\"Male\",\"Female\",\"Male\",\"Male\",\"Male\",\"Male\",\"Male\",\"Male\",\"Male\",\"Male\",\"Male\",\"Male\",\"Male\",\"Male\",\"Male\",\"Male\",\"Male\",\"Female\",\"Male\",\"Male\",\"Male\",\"Male\",\"Male\",\"Male\",\"Male\",\"Male\",\"Male\",\"Female\",\"Female\",\"Male\",\"Male\",\"Male\",\"Female\",\"Male\",\"Male\",\"Male\",\"Male\",\"Male\",\"Male\",\"Male\",\"Male\",\"Male\",\"Female\",\"Male\",\"Male\",\"Male\",\"Male\",\"Male\",\"Male\",\"Male\",\"Male\",\"Male\",\"Male\",\"Male\",\"Male\",\"Male\",\"Male\",\"Male\",\"Male\",\"Female\",\"Male\",\"Male\",\"Female\",\"Male\",\"Male\",\"Male\",\"Male\",\"Male\",\"Male\",\"Male\",\"Male\",\"Male\",\"Male\",\"Male\",\"Male\",\"Male\",\"Male\",\"Male\",\"Female\",\"Female\",\"Male\",\"Male\",\"Male\",\"Male\",\"Male\",\"Male\",\"Male\",\"Male\",\"Male\",\"Male\",\"Female\",\"Male\",\"Male\",\"Male\",\"Male\",\"Male\",\"Male\",\"Male\",\"Male\",\"Female\",\"Male\",\"Male\",\"Male\",\"Male\",\"Male\",\"Male\",\"Male\",\"Male\",\"Male\",\"Female\",\"Female\",\"Male\",\"Male\",\"Male\",\"Male\",\"Male\",\"Male\",\"Male\",\"Male\",\"Male\",\"Male\",\"Male\",\"Male\",\"Male\",\"Male\",\"Male\",\"Male\",\"Male\",\"Male\",\"Male\",\"Male\",\"Male\",\"Male\"],\"xaxis\":\"x\",\"yaxis\":\"y\",\"type\":\"histogram\"}],                        {\"template\":{\"data\":{\"bar\":[{\"error_x\":{\"color\":\"#2a3f5f\"},\"error_y\":{\"color\":\"#2a3f5f\"},\"marker\":{\"line\":{\"color\":\"#E5ECF6\",\"width\":0.5},\"pattern\":{\"fillmode\":\"overlay\",\"size\":10,\"solidity\":0.2}},\"type\":\"bar\"}],\"barpolar\":[{\"marker\":{\"line\":{\"color\":\"#E5ECF6\",\"width\":0.5},\"pattern\":{\"fillmode\":\"overlay\",\"size\":10,\"solidity\":0.2}},\"type\":\"barpolar\"}],\"carpet\":[{\"aaxis\":{\"endlinecolor\":\"#2a3f5f\",\"gridcolor\":\"white\",\"linecolor\":\"white\",\"minorgridcolor\":\"white\",\"startlinecolor\":\"#2a3f5f\"},\"baxis\":{\"endlinecolor\":\"#2a3f5f\",\"gridcolor\":\"white\",\"linecolor\":\"white\",\"minorgridcolor\":\"white\",\"startlinecolor\":\"#2a3f5f\"},\"type\":\"carpet\"}],\"choropleth\":[{\"colorbar\":{\"outlinewidth\":0,\"ticks\":\"\"},\"type\":\"choropleth\"}],\"contour\":[{\"colorbar\":{\"outlinewidth\":0,\"ticks\":\"\"},\"colorscale\":[[0.0,\"#0d0887\"],[0.1111111111111111,\"#46039f\"],[0.2222222222222222,\"#7201a8\"],[0.3333333333333333,\"#9c179e\"],[0.4444444444444444,\"#bd3786\"],[0.5555555555555556,\"#d8576b\"],[0.6666666666666666,\"#ed7953\"],[0.7777777777777778,\"#fb9f3a\"],[0.8888888888888888,\"#fdca26\"],[1.0,\"#f0f921\"]],\"type\":\"contour\"}],\"contourcarpet\":[{\"colorbar\":{\"outlinewidth\":0,\"ticks\":\"\"},\"type\":\"contourcarpet\"}],\"heatmap\":[{\"colorbar\":{\"outlinewidth\":0,\"ticks\":\"\"},\"colorscale\":[[0.0,\"#0d0887\"],[0.1111111111111111,\"#46039f\"],[0.2222222222222222,\"#7201a8\"],[0.3333333333333333,\"#9c179e\"],[0.4444444444444444,\"#bd3786\"],[0.5555555555555556,\"#d8576b\"],[0.6666666666666666,\"#ed7953\"],[0.7777777777777778,\"#fb9f3a\"],[0.8888888888888888,\"#fdca26\"],[1.0,\"#f0f921\"]],\"type\":\"heatmap\"}],\"heatmapgl\":[{\"colorbar\":{\"outlinewidth\":0,\"ticks\":\"\"},\"colorscale\":[[0.0,\"#0d0887\"],[0.1111111111111111,\"#46039f\"],[0.2222222222222222,\"#7201a8\"],[0.3333333333333333,\"#9c179e\"],[0.4444444444444444,\"#bd3786\"],[0.5555555555555556,\"#d8576b\"],[0.6666666666666666,\"#ed7953\"],[0.7777777777777778,\"#fb9f3a\"],[0.8888888888888888,\"#fdca26\"],[1.0,\"#f0f921\"]],\"type\":\"heatmapgl\"}],\"histogram\":[{\"marker\":{\"pattern\":{\"fillmode\":\"overlay\",\"size\":10,\"solidity\":0.2}},\"type\":\"histogram\"}],\"histogram2d\":[{\"colorbar\":{\"outlinewidth\":0,\"ticks\":\"\"},\"colorscale\":[[0.0,\"#0d0887\"],[0.1111111111111111,\"#46039f\"],[0.2222222222222222,\"#7201a8\"],[0.3333333333333333,\"#9c179e\"],[0.4444444444444444,\"#bd3786\"],[0.5555555555555556,\"#d8576b\"],[0.6666666666666666,\"#ed7953\"],[0.7777777777777778,\"#fb9f3a\"],[0.8888888888888888,\"#fdca26\"],[1.0,\"#f0f921\"]],\"type\":\"histogram2d\"}],\"histogram2dcontour\":[{\"colorbar\":{\"outlinewidth\":0,\"ticks\":\"\"},\"colorscale\":[[0.0,\"#0d0887\"],[0.1111111111111111,\"#46039f\"],[0.2222222222222222,\"#7201a8\"],[0.3333333333333333,\"#9c179e\"],[0.4444444444444444,\"#bd3786\"],[0.5555555555555556,\"#d8576b\"],[0.6666666666666666,\"#ed7953\"],[0.7777777777777778,\"#fb9f3a\"],[0.8888888888888888,\"#fdca26\"],[1.0,\"#f0f921\"]],\"type\":\"histogram2dcontour\"}],\"mesh3d\":[{\"colorbar\":{\"outlinewidth\":0,\"ticks\":\"\"},\"type\":\"mesh3d\"}],\"parcoords\":[{\"line\":{\"colorbar\":{\"outlinewidth\":0,\"ticks\":\"\"}},\"type\":\"parcoords\"}],\"pie\":[{\"automargin\":true,\"type\":\"pie\"}],\"scatter\":[{\"marker\":{\"colorbar\":{\"outlinewidth\":0,\"ticks\":\"\"}},\"type\":\"scatter\"}],\"scatter3d\":[{\"line\":{\"colorbar\":{\"outlinewidth\":0,\"ticks\":\"\"}},\"marker\":{\"colorbar\":{\"outlinewidth\":0,\"ticks\":\"\"}},\"type\":\"scatter3d\"}],\"scattercarpet\":[{\"marker\":{\"colorbar\":{\"outlinewidth\":0,\"ticks\":\"\"}},\"type\":\"scattercarpet\"}],\"scattergeo\":[{\"marker\":{\"colorbar\":{\"outlinewidth\":0,\"ticks\":\"\"}},\"type\":\"scattergeo\"}],\"scattergl\":[{\"marker\":{\"colorbar\":{\"outlinewidth\":0,\"ticks\":\"\"}},\"type\":\"scattergl\"}],\"scattermapbox\":[{\"marker\":{\"colorbar\":{\"outlinewidth\":0,\"ticks\":\"\"}},\"type\":\"scattermapbox\"}],\"scatterpolar\":[{\"marker\":{\"colorbar\":{\"outlinewidth\":0,\"ticks\":\"\"}},\"type\":\"scatterpolar\"}],\"scatterpolargl\":[{\"marker\":{\"colorbar\":{\"outlinewidth\":0,\"ticks\":\"\"}},\"type\":\"scatterpolargl\"}],\"scatterternary\":[{\"marker\":{\"colorbar\":{\"outlinewidth\":0,\"ticks\":\"\"}},\"type\":\"scatterternary\"}],\"surface\":[{\"colorbar\":{\"outlinewidth\":0,\"ticks\":\"\"},\"colorscale\":[[0.0,\"#0d0887\"],[0.1111111111111111,\"#46039f\"],[0.2222222222222222,\"#7201a8\"],[0.3333333333333333,\"#9c179e\"],[0.4444444444444444,\"#bd3786\"],[0.5555555555555556,\"#d8576b\"],[0.6666666666666666,\"#ed7953\"],[0.7777777777777778,\"#fb9f3a\"],[0.8888888888888888,\"#fdca26\"],[1.0,\"#f0f921\"]],\"type\":\"surface\"}],\"table\":[{\"cells\":{\"fill\":{\"color\":\"#EBF0F8\"},\"line\":{\"color\":\"white\"}},\"header\":{\"fill\":{\"color\":\"#C8D4E3\"},\"line\":{\"color\":\"white\"}},\"type\":\"table\"}]},\"layout\":{\"annotationdefaults\":{\"arrowcolor\":\"#2a3f5f\",\"arrowhead\":0,\"arrowwidth\":1},\"autotypenumbers\":\"strict\",\"coloraxis\":{\"colorbar\":{\"outlinewidth\":0,\"ticks\":\"\"}},\"colorscale\":{\"diverging\":[[0,\"#8e0152\"],[0.1,\"#c51b7d\"],[0.2,\"#de77ae\"],[0.3,\"#f1b6da\"],[0.4,\"#fde0ef\"],[0.5,\"#f7f7f7\"],[0.6,\"#e6f5d0\"],[0.7,\"#b8e186\"],[0.8,\"#7fbc41\"],[0.9,\"#4d9221\"],[1,\"#276419\"]],\"sequential\":[[0.0,\"#0d0887\"],[0.1111111111111111,\"#46039f\"],[0.2222222222222222,\"#7201a8\"],[0.3333333333333333,\"#9c179e\"],[0.4444444444444444,\"#bd3786\"],[0.5555555555555556,\"#d8576b\"],[0.6666666666666666,\"#ed7953\"],[0.7777777777777778,\"#fb9f3a\"],[0.8888888888888888,\"#fdca26\"],[1.0,\"#f0f921\"]],\"sequentialminus\":[[0.0,\"#0d0887\"],[0.1111111111111111,\"#46039f\"],[0.2222222222222222,\"#7201a8\"],[0.3333333333333333,\"#9c179e\"],[0.4444444444444444,\"#bd3786\"],[0.5555555555555556,\"#d8576b\"],[0.6666666666666666,\"#ed7953\"],[0.7777777777777778,\"#fb9f3a\"],[0.8888888888888888,\"#fdca26\"],[1.0,\"#f0f921\"]]},\"colorway\":[\"#636efa\",\"#EF553B\",\"#00cc96\",\"#ab63fa\",\"#FFA15A\",\"#19d3f3\",\"#FF6692\",\"#B6E880\",\"#FF97FF\",\"#FECB52\"],\"font\":{\"color\":\"#2a3f5f\"},\"geo\":{\"bgcolor\":\"white\",\"lakecolor\":\"white\",\"landcolor\":\"#E5ECF6\",\"showlakes\":true,\"showland\":true,\"subunitcolor\":\"white\"},\"hoverlabel\":{\"align\":\"left\"},\"hovermode\":\"closest\",\"mapbox\":{\"style\":\"light\"},\"paper_bgcolor\":\"white\",\"plot_bgcolor\":\"#E5ECF6\",\"polar\":{\"angularaxis\":{\"gridcolor\":\"white\",\"linecolor\":\"white\",\"ticks\":\"\"},\"bgcolor\":\"#E5ECF6\",\"radialaxis\":{\"gridcolor\":\"white\",\"linecolor\":\"white\",\"ticks\":\"\"}},\"scene\":{\"xaxis\":{\"backgroundcolor\":\"#E5ECF6\",\"gridcolor\":\"white\",\"gridwidth\":2,\"linecolor\":\"white\",\"showbackground\":true,\"ticks\":\"\",\"zerolinecolor\":\"white\"},\"yaxis\":{\"backgroundcolor\":\"#E5ECF6\",\"gridcolor\":\"white\",\"gridwidth\":2,\"linecolor\":\"white\",\"showbackground\":true,\"ticks\":\"\",\"zerolinecolor\":\"white\"},\"zaxis\":{\"backgroundcolor\":\"#E5ECF6\",\"gridcolor\":\"white\",\"gridwidth\":2,\"linecolor\":\"white\",\"showbackground\":true,\"ticks\":\"\",\"zerolinecolor\":\"white\"}},\"shapedefaults\":{\"line\":{\"color\":\"#2a3f5f\"}},\"ternary\":{\"aaxis\":{\"gridcolor\":\"white\",\"linecolor\":\"white\",\"ticks\":\"\"},\"baxis\":{\"gridcolor\":\"white\",\"linecolor\":\"white\",\"ticks\":\"\"},\"bgcolor\":\"#E5ECF6\",\"caxis\":{\"gridcolor\":\"white\",\"linecolor\":\"white\",\"ticks\":\"\"}},\"title\":{\"x\":0.05},\"xaxis\":{\"automargin\":true,\"gridcolor\":\"white\",\"linecolor\":\"white\",\"ticks\":\"\",\"title\":{\"standoff\":15},\"zerolinecolor\":\"white\",\"zerolinewidth\":2},\"yaxis\":{\"automargin\":true,\"gridcolor\":\"white\",\"linecolor\":\"white\",\"ticks\":\"\",\"title\":{\"standoff\":15},\"zerolinecolor\":\"white\",\"zerolinewidth\":2}}},\"xaxis\":{\"anchor\":\"y\",\"domain\":[0.0,1.0],\"title\":{\"text\":\"Gender\"}},\"yaxis\":{\"anchor\":\"x\",\"domain\":[0.0,1.0],\"title\":{\"text\":\"count\"}},\"legend\":{\"title\":{\"text\":\"PlacedOrNot\"},\"tracegroupgap\":0},\"margin\":{\"t\":60},\"barmode\":\"group\"},                        {\"responsive\": true}                    ).then(function(){\n",
              "                            \n",
              "var gd = document.getElementById('405fae0f-01a2-4710-a2a7-0484a484e11c');\n",
              "var x = new MutationObserver(function (mutations, observer) {{\n",
              "        var display = window.getComputedStyle(gd).display;\n",
              "        if (!display || display === 'none') {{\n",
              "            console.log([gd, 'removed!']);\n",
              "            Plotly.purge(gd);\n",
              "            observer.disconnect();\n",
              "        }}\n",
              "}});\n",
              "\n",
              "// Listen for the removal of the full notebook cells\n",
              "var notebookContainer = gd.closest('#notebook-container');\n",
              "if (notebookContainer) {{\n",
              "    x.observe(notebookContainer, {childList: true});\n",
              "}}\n",
              "\n",
              "// Listen for the clearing of the current output cell\n",
              "var outputEl = gd.closest('.output');\n",
              "if (outputEl) {{\n",
              "    x.observe(outputEl, {childList: true});\n",
              "}}\n",
              "\n",
              "                        })                };                            </script>        </div>\n",
              "</body>\n",
              "</html>"
            ]
          },
          "metadata": {}
        }
      ],
      "source": [
        "fig = px.histogram(df, \"Gender\", color = \"PlacedOrNot\", barmode = \"group\")\n",
        "fig.show()\n"
      ]
    },
    {
      "cell_type": "code",
      "execution_count": 14,
      "metadata": {
        "colab": {
          "base_uri": "https://localhost:8080/",
          "height": 542
        },
        "id": "nG1dyT9ZVBEb",
        "outputId": "3d435b58-16bc-497d-ce52-cf4ad7ae44aa"
      },
      "outputs": [
        {
          "output_type": "display_data",
          "data": {
            "text/html": [
              "<html>\n",
              "<head><meta charset=\"utf-8\" /></head>\n",
              "<body>\n",
              "    <div>            <script src=\"https://cdnjs.cloudflare.com/ajax/libs/mathjax/2.7.5/MathJax.js?config=TeX-AMS-MML_SVG\"></script><script type=\"text/javascript\">if (window.MathJax) {MathJax.Hub.Config({SVG: {font: \"STIX-Web\"}});}</script>                <script type=\"text/javascript\">window.PlotlyConfig = {MathJaxConfig: 'local'};</script>\n",
              "        <script src=\"https://cdn.plot.ly/plotly-2.8.3.min.js\"></script>                <div id=\"b6ef9c97-1513-4895-ace3-946add9489ef\" class=\"plotly-graph-div\" style=\"height:525px; width:100%;\"></div>            <script type=\"text/javascript\">                                    window.PLOTLYENV=window.PLOTLYENV || {};                                    if (document.getElementById(\"b6ef9c97-1513-4895-ace3-946add9489ef\")) {                    Plotly.newPlot(                        \"b6ef9c97-1513-4895-ace3-946add9489ef\",                        [{\"alignmentgroup\":\"True\",\"bingroup\":\"x\",\"hovertemplate\":\"PlacedOrNot=1<br>Age=%{x}<br>count=%{y}<extra></extra>\",\"legendgroup\":\"1\",\"marker\":{\"color\":\"#636efa\",\"pattern\":{\"shape\":\"\"}},\"name\":\"1\",\"offsetgroup\":\"1\",\"orientation\":\"v\",\"showlegend\":true,\"x\":[22,21,22,21,22,21,22,21,21,22,22,21,22,22,22,21,22,21,21,22,22,22,22,21,21,22,21,22,21,21,22,21,21,21,21,21,21,21,21,21,22,21,21,21,22,22,21,22,21,22,22,22,21,22,21,21,22,22,21,21,21,22,21,21,21,21,21,22,21,22,22,23,23,24,24,24,24,23,23,24,24,23,23,24,23,23,23,23,23,24,24,23,24,23,24,24,24,23,23,24,24,24,23,24,24,23,24,24,24,24,22,21,21,21,21,21,21,21,22,22,21,21,21,21,22,21,21,22,21,21,22,22,21,22,22,21,21,22,21,21,21,21,22,21,21,22,22,22,21,22,21,21,22,21,22,22,22,21,21,22,21,21,22,21,22,22,21,21,22,22,22,21,22,21,22,22,22,22,21,21,22,22,22,22,22,22,21,21,21,21,22,22,21,22,22,21,22,21,22,21,22,21,22,22,22,21,21,22,22,21,21,22,21,22,22,21,22,21,21,22,21,22,21,22,21,21,21,21,21,21,22,22,21,22,21,22,21,21,22,22,21,22,28,21,22,21,22,21,22,21,22,21,22,22,21,22,21,21,21,22,22,21,22,21,21,21,22,21,21,22,21,22,21,22,21,22,22,22,21,21,22,21,21,21,22,21,22,21,21,21,22,22,22,21,22,21,21,22,22,21,21,30,22,22,21,22,21,22,22,22,22,21,22,21,21,21,22,21,22,21,22,21,21,22,21,21,21,22,22,21,22,21,21,21,22,22,21,22,22,22,22,22,21,21,21,21,22,22,22,21,22,21,22,21,21,21,22,21,21,22,22,22,21,21,22,21,21,22,22,21,22,22,22,21,21,21,21,21,26,24,25,24,25,23,24,25,25,26,26,25,26,24,25,23,24,25,24,24,23,26,26,26,26,26,24,24,23,24,26,23,24,23,26,24,26,23,26,24,23,26,24,25,25,26,24,26,25,22,21,22,22,22,21,21,21,22,22,22,21,22,22,21,21,22,21,21,22,22,22,22,22,22,22,22,22,21,22,21,21,22,21,22,22,22,21,22,22,21,22,22,21,21,21,21,21,21,21,21,21,22,21,22,21,22,22,21,22,22,21,22,21,21,22,21,22,21,21,21,21,21,22,22,22,22,22,21,21,21,22,22,22,22,22,21,22,21,21,22,22,21,21,22,21,22,21,21,22,22,22,21,22,21,21,21,22,21,22,21,22,22,22,22,22,22,22,22,22,22,22,21,21,22,22,22,22,21,21,21,22,21,22,22,21,21,22,22,21,21,21,22,21,22,22,22,21,22,22,22,22,22,22,22,21,21,22,21,21,22,22,21,22,22,21,22,21,22,22,22,22,21,21,22,22,22,21,22,21,22,21,22,21,22,21,22,22,21,21,22,21,21,22,21,21,22,21,21,21,22,22,21,21,21,22,22,21,22,21,21,22,21,22,22,21,22,21,21,21,22,21,21,21,22,21,21,21,22,21,21,22,21,21,21,22,21,22,21,22,22,22,21,22,21,22,22,22,22,21,22,21,21,22,21,22,22,21,21,22,21,21,21,21,21,21,22,21,22,22,22,22,21,21,22,22,21,22,21,22,21,22,22,21,21,21,21,21,21,21,22,21,21,22,22,21,22,21,22,22,21,21,22,21,21,21,21,21,21,22,22,22,21,21,22,22,21,22,22,21,22,22,21,21,22,21,22,22,22,21,21,21,22,22,22,21,22,21,21,22,21,21,21,22,21,22,21,21,21,21,21,21,22,21,22,21,22,22,21,21,22,21,21,21,21,21,21,22,22,21,22,21,25,24,25,26,26,26,26,26,26,26,26,26,24,24,24,25,26,26,25,25,26,26,26,26,24,25,26,25,26,25,25,24,26,24,26,24,26,25,25,26,25,21,21,21,22,22,21,22,22,21,22,22,22,21,21,22,22,22,21,22,21,22,22,21,21,22,21,21,28,22,21,21,22,22,22,21,22,22,21,21,22,22,21,22,22,22,21,22,21,21,22,24,24,22,24,24,24,24,24,21,22,23,22,24,24,23,23,20,24,24,23,22,20,20,21,21,20,21,21,21,23,21,21,24,22,24,21,23,23,23,24,21,22,20,22,20,21,24,21,21,24,22,24,21,23,20,24,24,20,22,21,23,24,24,23,22,24,20,22,21,20,21,22,21,23,21,24,22,23,23,23,20,24,20,22,20,23,24,21,22,24,24,22,23,22,21,20,21,24,21,21,21,23,24,23,23,22,24,24,22,20,24,24,24,24,24,24,23,24,22,22,24,23,24,24,24,24,23,21,20,20,23,24,22,21,22,22,22,24,24,24,24,21,24,24,24,24,21,22,21,23,21,24,24,22,20,21,23,20,20,22,24,21,23,24,22,21,23,21,20,24,22,20,21,22,22,22,24,24,21,20,23,21,23,23,20,20,22,22,21,20,20,19,19,21,19,20,19,21,21,20,21,21,20,22,22,21,22,22,19,22,20,19,21,19,22,21,19,19,21,20,20,22,22,19,22,22,20,20,20,19,19,21,19,22,21,20,19,20,22,20,21,20,21,20,20,22,19,21,19,21,19,22,20,21,19,21,19,19,21,19,19,20,21,20,20,21,21,19,22,19,22,20,20,19,22,21,20,19,19,21,21,21,20,20,21,21,22,21,21,20,19,19,21,22,20,19,21,21,20,20,20,21,20,19,21,19,20,19,19,19,19,20,22,22,21,21,19,21,20,19,19,19,22,21,21,22,19,22,22,22,19,20,21,19,21,20,19,20,19,20,22,20,20,21,22,22,20,21,20,19,19,20,21,21,20,22,19,20,20,21,22,19,20,19,19,21,21,19,20,19,19,20,21,19,20,22,20,19,22,21,22,22,22,20,22,19,19,22,21,19,19,21,19,20,19,19,19,20,22,19,21,20,21,21,20,20,22,22,20,21,21,22,19,20,20,19,21,20,19,21,21,22,22,19,19,20,20,22,20,21,29,22,19,20,19,19,21,21,19,21,19,21,21,19,22,20,22,19,20,19,21,20,20,21,19,19,22,22,20,22,21,20,21,19,22,20,20,21,19,19,20,22,19,19,20,19,28,19,21,19,19,22,19,20,20,19,22,21,19,21,21,22,21,21,20,21,21,20,20,21,20,20,21,20,21,20,20,20,20,21,21,21,21,20,21,21,20,20,21,20,20,21,20,21,21,20,21,21,20,21,20,20,21,21,21,21,21,20,20,21,20,20,20,21,21,20,20,20,21,21,21,21,21,21,21,20,21,20,21,21,21,20,21,20,20,21,21,21,20,21,21,21,20,20,21,21,20,20,20,21,21,20,20,20,21,20,20,20,20,21,20,21,21,20,20,20,21,21,21,20,21,20,21,20,20,21,21,20,21,20,21,21,21,20,20,20,20,20,21,20,20,21,20,20,21,20,21,20,20,21,20,21,21,20,21,20,20,21,20,20,20,20,21,20,20,20,20,20,20,20,20,21,21,20,21,20,20,21,21,21,20,20,21,21,21,21,21,21,21,20,20,20,20,20,20,20,23,21,23,21,21,21,21,22,22,23,22,23,23,21,23,22,23,23,21,23,22,22,22,23,21,22,23,21,23,23,22,23,23,23,21,21,21,22,21,23,22,22,21,23,22,23,21,21,23,21,23,21,21,21,21,22,23,21,22,21,23,23,21,21,23,22,22,23,21,23,23,22,23],\"xaxis\":\"x\",\"yaxis\":\"y\",\"type\":\"histogram\"},{\"alignmentgroup\":\"True\",\"bingroup\":\"x\",\"hovertemplate\":\"PlacedOrNot=0<br>Age=%{x}<br>count=%{y}<extra></extra>\",\"legendgroup\":\"0\",\"marker\":{\"color\":\"#EF553B\",\"pattern\":{\"shape\":\"\"}},\"name\":\"0\",\"offsetgroup\":\"0\",\"orientation\":\"v\",\"showlegend\":true,\"x\":[22,21,21,21,22,21,22,21,21,22,21,22,22,22,21,21,21,22,22,21,21,21,22,22,22,22,21,22,21,23,23,23,24,23,23,23,24,24,24,23,23,23,24,23,23,23,24,23,23,23,22,22,21,21,22,22,21,22,22,22,21,22,21,22,21,22,21,21,22,21,22,22,21,21,21,22,21,21,22,22,21,21,22,21,21,22,21,21,22,21,21,22,22,21,21,21,22,22,22,21,22,22,22,21,21,22,22,22,22,22,22,21,21,21,21,22,21,21,22,21,21,21,21,21,22,22,22,22,22,21,22,22,21,21,21,22,21,22,22,21,22,21,21,22,21,22,21,22,22,21,21,21,22,22,22,22,21,21,22,21,21,21,22,21,22,22,22,22,22,21,21,22,22,21,21,21,22,21,21,22,21,22,21,21,22,22,21,22,22,21,22,22,21,21,21,21,21,21,21,21,22,21,21,21,21,21,21,22,21,22,22,22,21,22,22,21,22,22,22,22,22,22,22,22,21,22,21,22,21,21,21,21,21,22,22,22,21,22,22,22,21,21,22,22,22,22,21,22,22,21,22,22,22,21,21,22,21,22,22,21,21,22,21,22,21,22,21,21,22,21,21,22,21,21,22,21,22,22,21,21,21,22,21,22,22,21,22,22,21,21,22,22,22,21,22,22,21,22,22,22,22,22,21,22,22,22,21,22,22,21,22,21,21,22,22,21,21,21,21,21,22,22,25,23,23,26,23,25,23,23,26,23,24,22,22,22,21,21,21,22,22,21,22,22,22,22,21,21,21,22,21,22,21,21,22,21,21,22,22,22,22,21,22,22,22,22,22,22,22,22,22,21,21,21,22,22,22,22,22,21,22,21,21,22,21,21,21,21,22,21,21,21,21,22,22,22,22,22,21,21,22,22,21,22,21,21,22,22,21,22,22,22,21,21,21,21,21,22,22,21,21,22,22,22,22,22,22,21,22,22,22,22,22,22,22,21,22,22,21,21,21,22,21,22,22,22,21,21,22,22,22,21,22,22,22,22,22,22,21,22,21,21,22,22,22,22,21,22,22,21,21,22,21,22,22,21,21,21,22,22,21,22,22,21,21,21,22,22,22,21,22,22,22,22,21,22,22,22,22,21,21,26,26,24,26,26,26,25,24,25,25,26,26,25,25,26,26,24,26,26,22,21,22,21,21,22,21,22,21,22,21,21,22,22,22,21,21,21,22,22,21,21,21,22,21,21,21,21,22,22,22,22,21,22,22,22,22,22,21,21,21,21,22,22,22,21,22,21,21,22,21,22,21,21,21,22,22,21,22,21,22,22,21,22,21,21,22,22,22,21,21,22,21,21,21,22,21,22,22,21,22,22,21,22,22,21,21,21,22,21,20,23,23,22,22,23,22,24,20,22,20,23,22,22,23,23,21,23,24,21,22,20,20,22,23,20,22,22,23,23,20,23,20,21,23,24,22,24,23,23,23,22,20,20,24,24,21,23,24,20,23,23,24,23,21,22,21,24,20,20,23,22,21,20,21,23,21,21,22,20,21,21,21,23,21,20,21,22,21,22,22,21,20,22,21,22,23,23,22,20,20,24,22,23,22,21,22,23,23,22,20,23,23,21,22,22,21,21,20,22,23,23,21,21,20,23,21,21,20,21,21,22,20,22,22,23,22,20,21,23,23,23,21,22,21,22,22,23,23,21,21,20,21,23,20,21,22,21,24,22,20,20,20,24,22,23,23,22,23,22,21,21,20,20,23,23,22,24,22,24,22,22,22,23,21,20,22,22,21,21,23,21,21,20,21,21,22,24,22,21,23,20,23,21,22,24,21,21,21,20,24,20,20,23,22,21,22,22,21,23,22,21,21,22,23,21,22,22,22,22,21,22,21,21,20,20,22,22,20,22,19,21,22,19,20,22,21,19,21,21,19,21,22,20,22,20,19,22,19,22,19,22,22,21,20,20,19,19,22,22,22,20,22,21,20,20,21,20,19,22,19,22,20,22,22,19,21,19,20,22,21,20,21,19,21,19,20,19,22,22,21,19,21,20,22,19,19,19,20,19,21,21,21,22,19,22,21,20,22,20,22,22,19,20,21,21,19,21,21,21,22,21,22,21,22,21,22,20,19,21,21,21,20,21,19,21,19,20,19,19,19,20,21,22,20,20,19,21,20,20,19,21,21,21,19,19,19,20,22,19,22,20,22,22,19,22,21,21,20,19,20,22,21,19,19,20,22,20,20,21,21,21,22,20,19,22,21,22,20,20,22,20,22,21,21,22,22,19,19,19,22,19,20,20,20,20,20,19,20,19,20,22,22,22,20,22,21,21,20,20,19,20,22,20,19,22,21,20,20,20,20,20,20,20,19,21,22,22,21,20,22,22,19,22,19,20,19,21,22,19,22,22,20,20,20,21,22,21,21,22,21,22,21,19,22,21,20,20,19,22,22,22,19,19,21,22,20,22,20,21,19,22,19,21,21,21,22,21,21,22,22,19,21,19,21,20,20,19,22,22,22,21,21,20,19,21,22,21,20,21,21,21,21,21,20,20,21,20,21,20,20,20,20,20,20,21,20,21,20,20,20,20,20,21,20,21,21,21,20,20,21,21,20,21,21,20,21,21,20,20,21,21,20,20,21,20,21,21,20,21,21,21,20,20,20,21,21,21,21,20,21,21,20,20,21,20,20,21,21,20,20,21,20,20,21,21,20,21,20,21,20,20,20,20,21,20,21,20,21,20,21,20,20,20,21,20,21,20,20,20,20,20,20,21,20,20,20,20,20,21,20,20,20,20,22,22,22,21,23,23,21,23,23,23,23,23,23,21,22,21,21,22,21,22,23,23,23,21,23,23,23,23,21,21,22,22,21,22,21,21,22,21,23,21,21,22,22,22,22,23,23,21,21,21,21,23,21,23,23,23,21,21,22,23,22,21,23,22,23,23,22,21,23,22,23,21,21,23,23,21,22,21,23,23,21,23,21,22,22,22,23,23,23,23,23,22,22],\"xaxis\":\"x\",\"yaxis\":\"y\",\"type\":\"histogram\"}],                        {\"template\":{\"data\":{\"bar\":[{\"error_x\":{\"color\":\"#2a3f5f\"},\"error_y\":{\"color\":\"#2a3f5f\"},\"marker\":{\"line\":{\"color\":\"#E5ECF6\",\"width\":0.5},\"pattern\":{\"fillmode\":\"overlay\",\"size\":10,\"solidity\":0.2}},\"type\":\"bar\"}],\"barpolar\":[{\"marker\":{\"line\":{\"color\":\"#E5ECF6\",\"width\":0.5},\"pattern\":{\"fillmode\":\"overlay\",\"size\":10,\"solidity\":0.2}},\"type\":\"barpolar\"}],\"carpet\":[{\"aaxis\":{\"endlinecolor\":\"#2a3f5f\",\"gridcolor\":\"white\",\"linecolor\":\"white\",\"minorgridcolor\":\"white\",\"startlinecolor\":\"#2a3f5f\"},\"baxis\":{\"endlinecolor\":\"#2a3f5f\",\"gridcolor\":\"white\",\"linecolor\":\"white\",\"minorgridcolor\":\"white\",\"startlinecolor\":\"#2a3f5f\"},\"type\":\"carpet\"}],\"choropleth\":[{\"colorbar\":{\"outlinewidth\":0,\"ticks\":\"\"},\"type\":\"choropleth\"}],\"contour\":[{\"colorbar\":{\"outlinewidth\":0,\"ticks\":\"\"},\"colorscale\":[[0.0,\"#0d0887\"],[0.1111111111111111,\"#46039f\"],[0.2222222222222222,\"#7201a8\"],[0.3333333333333333,\"#9c179e\"],[0.4444444444444444,\"#bd3786\"],[0.5555555555555556,\"#d8576b\"],[0.6666666666666666,\"#ed7953\"],[0.7777777777777778,\"#fb9f3a\"],[0.8888888888888888,\"#fdca26\"],[1.0,\"#f0f921\"]],\"type\":\"contour\"}],\"contourcarpet\":[{\"colorbar\":{\"outlinewidth\":0,\"ticks\":\"\"},\"type\":\"contourcarpet\"}],\"heatmap\":[{\"colorbar\":{\"outlinewidth\":0,\"ticks\":\"\"},\"colorscale\":[[0.0,\"#0d0887\"],[0.1111111111111111,\"#46039f\"],[0.2222222222222222,\"#7201a8\"],[0.3333333333333333,\"#9c179e\"],[0.4444444444444444,\"#bd3786\"],[0.5555555555555556,\"#d8576b\"],[0.6666666666666666,\"#ed7953\"],[0.7777777777777778,\"#fb9f3a\"],[0.8888888888888888,\"#fdca26\"],[1.0,\"#f0f921\"]],\"type\":\"heatmap\"}],\"heatmapgl\":[{\"colorbar\":{\"outlinewidth\":0,\"ticks\":\"\"},\"colorscale\":[[0.0,\"#0d0887\"],[0.1111111111111111,\"#46039f\"],[0.2222222222222222,\"#7201a8\"],[0.3333333333333333,\"#9c179e\"],[0.4444444444444444,\"#bd3786\"],[0.5555555555555556,\"#d8576b\"],[0.6666666666666666,\"#ed7953\"],[0.7777777777777778,\"#fb9f3a\"],[0.8888888888888888,\"#fdca26\"],[1.0,\"#f0f921\"]],\"type\":\"heatmapgl\"}],\"histogram\":[{\"marker\":{\"pattern\":{\"fillmode\":\"overlay\",\"size\":10,\"solidity\":0.2}},\"type\":\"histogram\"}],\"histogram2d\":[{\"colorbar\":{\"outlinewidth\":0,\"ticks\":\"\"},\"colorscale\":[[0.0,\"#0d0887\"],[0.1111111111111111,\"#46039f\"],[0.2222222222222222,\"#7201a8\"],[0.3333333333333333,\"#9c179e\"],[0.4444444444444444,\"#bd3786\"],[0.5555555555555556,\"#d8576b\"],[0.6666666666666666,\"#ed7953\"],[0.7777777777777778,\"#fb9f3a\"],[0.8888888888888888,\"#fdca26\"],[1.0,\"#f0f921\"]],\"type\":\"histogram2d\"}],\"histogram2dcontour\":[{\"colorbar\":{\"outlinewidth\":0,\"ticks\":\"\"},\"colorscale\":[[0.0,\"#0d0887\"],[0.1111111111111111,\"#46039f\"],[0.2222222222222222,\"#7201a8\"],[0.3333333333333333,\"#9c179e\"],[0.4444444444444444,\"#bd3786\"],[0.5555555555555556,\"#d8576b\"],[0.6666666666666666,\"#ed7953\"],[0.7777777777777778,\"#fb9f3a\"],[0.8888888888888888,\"#fdca26\"],[1.0,\"#f0f921\"]],\"type\":\"histogram2dcontour\"}],\"mesh3d\":[{\"colorbar\":{\"outlinewidth\":0,\"ticks\":\"\"},\"type\":\"mesh3d\"}],\"parcoords\":[{\"line\":{\"colorbar\":{\"outlinewidth\":0,\"ticks\":\"\"}},\"type\":\"parcoords\"}],\"pie\":[{\"automargin\":true,\"type\":\"pie\"}],\"scatter\":[{\"marker\":{\"colorbar\":{\"outlinewidth\":0,\"ticks\":\"\"}},\"type\":\"scatter\"}],\"scatter3d\":[{\"line\":{\"colorbar\":{\"outlinewidth\":0,\"ticks\":\"\"}},\"marker\":{\"colorbar\":{\"outlinewidth\":0,\"ticks\":\"\"}},\"type\":\"scatter3d\"}],\"scattercarpet\":[{\"marker\":{\"colorbar\":{\"outlinewidth\":0,\"ticks\":\"\"}},\"type\":\"scattercarpet\"}],\"scattergeo\":[{\"marker\":{\"colorbar\":{\"outlinewidth\":0,\"ticks\":\"\"}},\"type\":\"scattergeo\"}],\"scattergl\":[{\"marker\":{\"colorbar\":{\"outlinewidth\":0,\"ticks\":\"\"}},\"type\":\"scattergl\"}],\"scattermapbox\":[{\"marker\":{\"colorbar\":{\"outlinewidth\":0,\"ticks\":\"\"}},\"type\":\"scattermapbox\"}],\"scatterpolar\":[{\"marker\":{\"colorbar\":{\"outlinewidth\":0,\"ticks\":\"\"}},\"type\":\"scatterpolar\"}],\"scatterpolargl\":[{\"marker\":{\"colorbar\":{\"outlinewidth\":0,\"ticks\":\"\"}},\"type\":\"scatterpolargl\"}],\"scatterternary\":[{\"marker\":{\"colorbar\":{\"outlinewidth\":0,\"ticks\":\"\"}},\"type\":\"scatterternary\"}],\"surface\":[{\"colorbar\":{\"outlinewidth\":0,\"ticks\":\"\"},\"colorscale\":[[0.0,\"#0d0887\"],[0.1111111111111111,\"#46039f\"],[0.2222222222222222,\"#7201a8\"],[0.3333333333333333,\"#9c179e\"],[0.4444444444444444,\"#bd3786\"],[0.5555555555555556,\"#d8576b\"],[0.6666666666666666,\"#ed7953\"],[0.7777777777777778,\"#fb9f3a\"],[0.8888888888888888,\"#fdca26\"],[1.0,\"#f0f921\"]],\"type\":\"surface\"}],\"table\":[{\"cells\":{\"fill\":{\"color\":\"#EBF0F8\"},\"line\":{\"color\":\"white\"}},\"header\":{\"fill\":{\"color\":\"#C8D4E3\"},\"line\":{\"color\":\"white\"}},\"type\":\"table\"}]},\"layout\":{\"annotationdefaults\":{\"arrowcolor\":\"#2a3f5f\",\"arrowhead\":0,\"arrowwidth\":1},\"autotypenumbers\":\"strict\",\"coloraxis\":{\"colorbar\":{\"outlinewidth\":0,\"ticks\":\"\"}},\"colorscale\":{\"diverging\":[[0,\"#8e0152\"],[0.1,\"#c51b7d\"],[0.2,\"#de77ae\"],[0.3,\"#f1b6da\"],[0.4,\"#fde0ef\"],[0.5,\"#f7f7f7\"],[0.6,\"#e6f5d0\"],[0.7,\"#b8e186\"],[0.8,\"#7fbc41\"],[0.9,\"#4d9221\"],[1,\"#276419\"]],\"sequential\":[[0.0,\"#0d0887\"],[0.1111111111111111,\"#46039f\"],[0.2222222222222222,\"#7201a8\"],[0.3333333333333333,\"#9c179e\"],[0.4444444444444444,\"#bd3786\"],[0.5555555555555556,\"#d8576b\"],[0.6666666666666666,\"#ed7953\"],[0.7777777777777778,\"#fb9f3a\"],[0.8888888888888888,\"#fdca26\"],[1.0,\"#f0f921\"]],\"sequentialminus\":[[0.0,\"#0d0887\"],[0.1111111111111111,\"#46039f\"],[0.2222222222222222,\"#7201a8\"],[0.3333333333333333,\"#9c179e\"],[0.4444444444444444,\"#bd3786\"],[0.5555555555555556,\"#d8576b\"],[0.6666666666666666,\"#ed7953\"],[0.7777777777777778,\"#fb9f3a\"],[0.8888888888888888,\"#fdca26\"],[1.0,\"#f0f921\"]]},\"colorway\":[\"#636efa\",\"#EF553B\",\"#00cc96\",\"#ab63fa\",\"#FFA15A\",\"#19d3f3\",\"#FF6692\",\"#B6E880\",\"#FF97FF\",\"#FECB52\"],\"font\":{\"color\":\"#2a3f5f\"},\"geo\":{\"bgcolor\":\"white\",\"lakecolor\":\"white\",\"landcolor\":\"#E5ECF6\",\"showlakes\":true,\"showland\":true,\"subunitcolor\":\"white\"},\"hoverlabel\":{\"align\":\"left\"},\"hovermode\":\"closest\",\"mapbox\":{\"style\":\"light\"},\"paper_bgcolor\":\"white\",\"plot_bgcolor\":\"#E5ECF6\",\"polar\":{\"angularaxis\":{\"gridcolor\":\"white\",\"linecolor\":\"white\",\"ticks\":\"\"},\"bgcolor\":\"#E5ECF6\",\"radialaxis\":{\"gridcolor\":\"white\",\"linecolor\":\"white\",\"ticks\":\"\"}},\"scene\":{\"xaxis\":{\"backgroundcolor\":\"#E5ECF6\",\"gridcolor\":\"white\",\"gridwidth\":2,\"linecolor\":\"white\",\"showbackground\":true,\"ticks\":\"\",\"zerolinecolor\":\"white\"},\"yaxis\":{\"backgroundcolor\":\"#E5ECF6\",\"gridcolor\":\"white\",\"gridwidth\":2,\"linecolor\":\"white\",\"showbackground\":true,\"ticks\":\"\",\"zerolinecolor\":\"white\"},\"zaxis\":{\"backgroundcolor\":\"#E5ECF6\",\"gridcolor\":\"white\",\"gridwidth\":2,\"linecolor\":\"white\",\"showbackground\":true,\"ticks\":\"\",\"zerolinecolor\":\"white\"}},\"shapedefaults\":{\"line\":{\"color\":\"#2a3f5f\"}},\"ternary\":{\"aaxis\":{\"gridcolor\":\"white\",\"linecolor\":\"white\",\"ticks\":\"\"},\"baxis\":{\"gridcolor\":\"white\",\"linecolor\":\"white\",\"ticks\":\"\"},\"bgcolor\":\"#E5ECF6\",\"caxis\":{\"gridcolor\":\"white\",\"linecolor\":\"white\",\"ticks\":\"\"}},\"title\":{\"x\":0.05},\"xaxis\":{\"automargin\":true,\"gridcolor\":\"white\",\"linecolor\":\"white\",\"ticks\":\"\",\"title\":{\"standoff\":15},\"zerolinecolor\":\"white\",\"zerolinewidth\":2},\"yaxis\":{\"automargin\":true,\"gridcolor\":\"white\",\"linecolor\":\"white\",\"ticks\":\"\",\"title\":{\"standoff\":15},\"zerolinecolor\":\"white\",\"zerolinewidth\":2}}},\"xaxis\":{\"anchor\":\"y\",\"domain\":[0.0,1.0],\"title\":{\"text\":\"Age\"}},\"yaxis\":{\"anchor\":\"x\",\"domain\":[0.0,1.0],\"title\":{\"text\":\"count\"}},\"legend\":{\"title\":{\"text\":\"PlacedOrNot\"},\"tracegroupgap\":0},\"margin\":{\"t\":60},\"barmode\":\"group\"},                        {\"responsive\": true}                    ).then(function(){\n",
              "                            \n",
              "var gd = document.getElementById('b6ef9c97-1513-4895-ace3-946add9489ef');\n",
              "var x = new MutationObserver(function (mutations, observer) {{\n",
              "        var display = window.getComputedStyle(gd).display;\n",
              "        if (!display || display === 'none') {{\n",
              "            console.log([gd, 'removed!']);\n",
              "            Plotly.purge(gd);\n",
              "            observer.disconnect();\n",
              "        }}\n",
              "}});\n",
              "\n",
              "// Listen for the removal of the full notebook cells\n",
              "var notebookContainer = gd.closest('#notebook-container');\n",
              "if (notebookContainer) {{\n",
              "    x.observe(notebookContainer, {childList: true});\n",
              "}}\n",
              "\n",
              "// Listen for the clearing of the current output cell\n",
              "var outputEl = gd.closest('.output');\n",
              "if (outputEl) {{\n",
              "    x.observe(outputEl, {childList: true});\n",
              "}}\n",
              "\n",
              "                        })                };                            </script>        </div>\n",
              "</body>\n",
              "</html>"
            ]
          },
          "metadata": {}
        }
      ],
      "source": [
        "fig = px.histogram(df, \"Age\", color = \"PlacedOrNot\", barmode = \"group\")\n",
        "fig.show()"
      ]
    },
    {
      "cell_type": "code",
      "execution_count": 15,
      "metadata": {
        "colab": {
          "base_uri": "https://localhost:8080/",
          "height": 542
        },
        "id": "PLtwlot4VF5D",
        "outputId": "a98ab86c-7846-47de-a736-1e5dac50f777"
      },
      "outputs": [
        {
          "output_type": "display_data",
          "data": {
            "text/html": [
              "<html>\n",
              "<head><meta charset=\"utf-8\" /></head>\n",
              "<body>\n",
              "    <div>            <script src=\"https://cdnjs.cloudflare.com/ajax/libs/mathjax/2.7.5/MathJax.js?config=TeX-AMS-MML_SVG\"></script><script type=\"text/javascript\">if (window.MathJax) {MathJax.Hub.Config({SVG: {font: \"STIX-Web\"}});}</script>                <script type=\"text/javascript\">window.PlotlyConfig = {MathJaxConfig: 'local'};</script>\n",
              "        <script src=\"https://cdn.plot.ly/plotly-2.8.3.min.js\"></script>                <div id=\"6f76c291-b9b7-4242-a061-8cf98263050d\" class=\"plotly-graph-div\" style=\"height:525px; width:100%;\"></div>            <script type=\"text/javascript\">                                    window.PLOTLYENV=window.PLOTLYENV || {};                                    if (document.getElementById(\"6f76c291-b9b7-4242-a061-8cf98263050d\")) {                    Plotly.newPlot(                        \"6f76c291-b9b7-4242-a061-8cf98263050d\",                        [{\"alignmentgroup\":\"True\",\"bingroup\":\"x\",\"hovertemplate\":\"PlacedOrNot=1<br>Stream=%{x}<br>count=%{y}<extra></extra>\",\"legendgroup\":\"1\",\"marker\":{\"color\":\"#636efa\",\"pattern\":{\"shape\":\"\"}},\"name\":\"1\",\"offsetgroup\":\"1\",\"orientation\":\"v\",\"showlegend\":true,\"x\":[\"Electronics And Communication\",\"Computer Science\",\"Information Technology\",\"Information Technology\",\"Mechanical\",\"Computer Science\",\"Electrical\",\"Computer Science\",\"Electronics And Communication\",\"Mechanical\",\"Civil\",\"Electrical\",\"Electrical\",\"Information Technology\",\"Information Technology\",\"Information Technology\",\"Mechanical\",\"Electrical\",\"Computer Science\",\"Civil\",\"Computer Science\",\"Electronics And Communication\",\"Civil\",\"Electrical\",\"Electrical\",\"Information Technology\",\"Electronics And Communication\",\"Computer Science\",\"Electronics And Communication\",\"Information Technology\",\"Electronics And Communication\",\"Electrical\",\"Computer Science\",\"Electronics And Communication\",\"Computer Science\",\"Electronics And Communication\",\"Civil\",\"Electronics And Communication\",\"Electrical\",\"Computer Science\",\"Computer Science\",\"Information Technology\",\"Information Technology\",\"Information Technology\",\"Mechanical\",\"Computer Science\",\"Information Technology\",\"Computer Science\",\"Mechanical\",\"Electrical\",\"Information Technology\",\"Computer Science\",\"Information Technology\",\"Information Technology\",\"Civil\",\"Mechanical\",\"Mechanical\",\"Information Technology\",\"Computer Science\",\"Civil\",\"Computer Science\",\"Mechanical\",\"Information Technology\",\"Mechanical\",\"Electronics And Communication\",\"Computer Science\",\"Civil\",\"Information Technology\",\"Electrical\",\"Computer Science\",\"Information Technology\",\"Computer Science\",\"Civil\",\"Information Technology\",\"Information Technology\",\"Information Technology\",\"Civil\",\"Information Technology\",\"Information Technology\",\"Electronics And Communication\",\"Computer Science\",\"Information Technology\",\"Information Technology\",\"Information Technology\",\"Mechanical\",\"Information Technology\",\"Information Technology\",\"Information Technology\",\"Mechanical\",\"Computer Science\",\"Information Technology\",\"Mechanical\",\"Computer Science\",\"Mechanical\",\"Computer Science\",\"Mechanical\",\"Information Technology\",\"Computer Science\",\"Electronics And Communication\",\"Information Technology\",\"Computer Science\",\"Computer Science\",\"Civil\",\"Information Technology\",\"Computer Science\",\"Computer Science\",\"Civil\",\"Electronics And Communication\",\"Computer Science\",\"Computer Science\",\"Electronics And Communication\",\"Computer Science\",\"Civil\",\"Computer Science\",\"Civil\",\"Information Technology\",\"Information Technology\",\"Electronics And Communication\",\"Electrical\",\"Computer Science\",\"Computer Science\",\"Computer Science\",\"Information Technology\",\"Mechanical\",\"Mechanical\",\"Mechanical\",\"Computer Science\",\"Information Technology\",\"Electrical\",\"Computer Science\",\"Electrical\",\"Computer Science\",\"Computer Science\",\"Electronics And Communication\",\"Computer Science\",\"Information Technology\",\"Information Technology\",\"Computer Science\",\"Information Technology\",\"Mechanical\",\"Information Technology\",\"Electronics And Communication\",\"Computer Science\",\"Computer Science\",\"Information Technology\",\"Information Technology\",\"Computer Science\",\"Mechanical\",\"Electrical\",\"Information Technology\",\"Information Technology\",\"Electrical\",\"Mechanical\",\"Information Technology\",\"Electronics And Communication\",\"Information Technology\",\"Computer Science\",\"Information Technology\",\"Electronics And Communication\",\"Mechanical\",\"Mechanical\",\"Civil\",\"Electronics And Communication\",\"Electronics And Communication\",\"Computer Science\",\"Electronics And Communication\",\"Civil\",\"Civil\",\"Computer Science\",\"Computer Science\",\"Electronics And Communication\",\"Information Technology\",\"Civil\",\"Information Technology\",\"Electronics And Communication\",\"Electrical\",\"Information Technology\",\"Computer Science\",\"Electrical\",\"Computer Science\",\"Information Technology\",\"Computer Science\",\"Civil\",\"Mechanical\",\"Information Technology\",\"Electrical\",\"Computer Science\",\"Computer Science\",\"Mechanical\",\"Computer Science\",\"Civil\",\"Computer Science\",\"Computer Science\",\"Information Technology\",\"Electrical\",\"Information Technology\",\"Mechanical\",\"Electronics And Communication\",\"Computer Science\",\"Electronics And Communication\",\"Information Technology\",\"Information Technology\",\"Electrical\",\"Information Technology\",\"Mechanical\",\"Mechanical\",\"Electronics And Communication\",\"Computer Science\",\"Information Technology\",\"Mechanical\",\"Electronics And Communication\",\"Computer Science\",\"Information Technology\",\"Electrical\",\"Mechanical\",\"Computer Science\",\"Electronics And Communication\",\"Computer Science\",\"Computer Science\",\"Computer Science\",\"Mechanical\",\"Information Technology\",\"Computer Science\",\"Mechanical\",\"Electronics And Communication\",\"Information Technology\",\"Electronics And Communication\",\"Electronics And Communication\",\"Electronics And Communication\",\"Information Technology\",\"Computer Science\",\"Mechanical\",\"Electrical\",\"Mechanical\",\"Computer Science\",\"Civil\",\"Civil\",\"Information Technology\",\"Civil\",\"Electronics And Communication\",\"Civil\",\"Information Technology\",\"Civil\",\"Computer Science\",\"Electronics And Communication\",\"Information Technology\",\"Mechanical\",\"Mechanical\",\"Electronics And Communication\",\"Mechanical\",\"Computer Science\",\"Computer Science\",\"Computer Science\",\"Computer Science\",\"Civil\",\"Information Technology\",\"Information Technology\",\"Mechanical\",\"Information Technology\",\"Mechanical\",\"Information Technology\",\"Computer Science\",\"Computer Science\",\"Computer Science\",\"Information Technology\",\"Computer Science\",\"Information Technology\",\"Electronics And Communication\",\"Information Technology\",\"Information Technology\",\"Information Technology\",\"Mechanical\",\"Civil\",\"Electronics And Communication\",\"Computer Science\",\"Mechanical\",\"Mechanical\",\"Computer Science\",\"Electrical\",\"Information Technology\",\"Electronics And Communication\",\"Information Technology\",\"Computer Science\",\"Mechanical\",\"Mechanical\",\"Computer Science\",\"Electrical\",\"Civil\",\"Computer Science\",\"Computer Science\",\"Mechanical\",\"Electronics And Communication\",\"Electrical\",\"Information Technology\",\"Mechanical\",\"Electronics And Communication\",\"Computer Science\",\"Civil\",\"Electronics And Communication\",\"Civil\",\"Mechanical\",\"Computer Science\",\"Information Technology\",\"Information Technology\",\"Information Technology\",\"Electrical\",\"Computer Science\",\"Computer Science\",\"Electronics And Communication\",\"Information Technology\",\"Electrical\",\"Civil\",\"Electronics And Communication\",\"Electronics And Communication\",\"Information Technology\",\"Electronics And Communication\",\"Information Technology\",\"Electronics And Communication\",\"Computer Science\",\"Electronics And Communication\",\"Information Technology\",\"Information Technology\",\"Computer Science\",\"Information Technology\",\"Computer Science\",\"Information Technology\",\"Computer Science\",\"Information Technology\",\"Computer Science\",\"Electrical\",\"Computer Science\",\"Information Technology\",\"Electrical\",\"Electrical\",\"Electronics And Communication\",\"Mechanical\",\"Civil\",\"Computer Science\",\"Electrical\",\"Electronics And Communication\",\"Electronics And Communication\",\"Mechanical\",\"Mechanical\",\"Information Technology\",\"Electronics And Communication\",\"Information Technology\",\"Information Technology\",\"Electrical\",\"Electronics And Communication\",\"Computer Science\",\"Computer Science\",\"Computer Science\",\"Computer Science\",\"Computer Science\",\"Information Technology\",\"Information Technology\",\"Information Technology\",\"Mechanical\",\"Electronics And Communication\",\"Information Technology\",\"Civil\",\"Information Technology\",\"Electronics And Communication\",\"Electrical\",\"Civil\",\"Information Technology\",\"Computer Science\",\"Information Technology\",\"Civil\",\"Electronics And Communication\",\"Mechanical\",\"Information Technology\",\"Computer Science\",\"Information Technology\",\"Computer Science\",\"Computer Science\",\"Mechanical\",\"Electrical\",\"Electronics And Communication\",\"Electrical\",\"Computer Science\",\"Electronics And Communication\",\"Computer Science\",\"Electronics And Communication\",\"Electrical\",\"Civil\",\"Computer Science\",\"Information Technology\",\"Information Technology\",\"Electrical\",\"Information Technology\",\"Information Technology\",\"Computer Science\",\"Computer Science\",\"Electronics And Communication\",\"Computer Science\",\"Computer Science\",\"Mechanical\",\"Mechanical\",\"Information Technology\",\"Computer Science\",\"Electrical\",\"Electrical\",\"Civil\",\"Mechanical\",\"Computer Science\",\"Electrical\",\"Mechanical\",\"Civil\",\"Mechanical\",\"Computer Science\",\"Information Technology\",\"Computer Science\",\"Information Technology\",\"Electrical\",\"Computer Science\",\"Information Technology\",\"Computer Science\",\"Information Technology\",\"Information Technology\",\"Computer Science\",\"Information Technology\",\"Computer Science\",\"Civil\",\"Mechanical\",\"Electrical\",\"Information Technology\",\"Computer Science\",\"Information Technology\",\"Information Technology\",\"Computer Science\",\"Electronics And Communication\",\"Computer Science\",\"Information Technology\",\"Electrical\",\"Computer Science\",\"Computer Science\",\"Computer Science\",\"Information Technology\",\"Computer Science\",\"Electrical\",\"Electrical\",\"Information Technology\",\"Mechanical\",\"Computer Science\",\"Electronics And Communication\",\"Information Technology\",\"Mechanical\",\"Civil\",\"Computer Science\",\"Electronics And Communication\",\"Computer Science\",\"Electrical\",\"Information Technology\",\"Computer Science\",\"Electronics And Communication\",\"Information Technology\",\"Computer Science\",\"Information Technology\",\"Computer Science\",\"Mechanical\",\"Computer Science\",\"Computer Science\",\"Computer Science\",\"Civil\",\"Mechanical\",\"Information Technology\",\"Mechanical\",\"Computer Science\",\"Information Technology\",\"Electronics And Communication\",\"Computer Science\",\"Civil\",\"Information Technology\",\"Electronics And Communication\",\"Information Technology\",\"Electronics And Communication\",\"Information Technology\",\"Mechanical\",\"Electrical\",\"Information Technology\",\"Information Technology\",\"Information Technology\",\"Computer Science\",\"Mechanical\",\"Computer Science\",\"Information Technology\",\"Electronics And Communication\",\"Electrical\",\"Computer Science\",\"Computer Science\",\"Computer Science\",\"Information Technology\",\"Information Technology\",\"Civil\",\"Computer Science\",\"Mechanical\",\"Electrical\",\"Computer Science\",\"Electronics And Communication\",\"Information Technology\",\"Information Technology\",\"Information Technology\",\"Information Technology\",\"Computer Science\",\"Computer Science\",\"Information Technology\",\"Electronics And Communication\",\"Information Technology\",\"Information Technology\",\"Computer Science\",\"Information Technology\",\"Information Technology\",\"Information Technology\",\"Electronics And Communication\",\"Information Technology\",\"Computer Science\",\"Information Technology\",\"Information Technology\",\"Electrical\",\"Information Technology\",\"Information Technology\",\"Mechanical\",\"Electrical\",\"Information Technology\",\"Mechanical\",\"Civil\",\"Information Technology\",\"Information Technology\",\"Computer Science\",\"Information Technology\",\"Civil\",\"Computer Science\",\"Information Technology\",\"Information Technology\",\"Civil\",\"Information Technology\",\"Computer Science\",\"Information Technology\",\"Computer Science\",\"Information Technology\",\"Computer Science\",\"Civil\",\"Information Technology\",\"Computer Science\",\"Electronics And Communication\",\"Computer Science\",\"Computer Science\",\"Computer Science\",\"Computer Science\",\"Information Technology\",\"Computer Science\",\"Information Technology\",\"Information Technology\",\"Computer Science\",\"Civil\",\"Information Technology\",\"Information Technology\",\"Computer Science\",\"Computer Science\",\"Mechanical\",\"Information Technology\",\"Information Technology\",\"Information Technology\",\"Information Technology\",\"Electrical\",\"Mechanical\",\"Civil\",\"Civil\",\"Computer Science\",\"Information Technology\",\"Computer Science\",\"Civil\",\"Computer Science\",\"Electronics And Communication\",\"Information Technology\",\"Computer Science\",\"Information Technology\",\"Computer Science\",\"Computer Science\",\"Computer Science\",\"Computer Science\",\"Information Technology\",\"Information Technology\",\"Information Technology\",\"Information Technology\",\"Information Technology\",\"Information Technology\",\"Information Technology\",\"Computer Science\",\"Computer Science\",\"Electrical\",\"Information Technology\",\"Information Technology\",\"Mechanical\",\"Information Technology\",\"Information Technology\",\"Information Technology\",\"Information Technology\",\"Information Technology\",\"Electrical\",\"Civil\",\"Information Technology\",\"Information Technology\",\"Information Technology\",\"Computer Science\",\"Electronics And Communication\",\"Information Technology\",\"Mechanical\",\"Mechanical\",\"Information Technology\",\"Computer Science\",\"Computer Science\",\"Civil\",\"Computer Science\",\"Information Technology\",\"Computer Science\",\"Information Technology\",\"Computer Science\",\"Computer Science\",\"Information Technology\",\"Computer Science\",\"Computer Science\",\"Civil\",\"Electrical\",\"Electronics And Communication\",\"Electrical\",\"Computer Science\",\"Electronics And Communication\",\"Electronics And Communication\",\"Mechanical\",\"Electronics And Communication\",\"Electrical\",\"Electronics And Communication\",\"Computer Science\",\"Electronics And Communication\",\"Computer Science\",\"Computer Science\",\"Mechanical\",\"Computer Science\",\"Mechanical\",\"Electronics And Communication\",\"Electrical\",\"Information Technology\",\"Mechanical\",\"Electronics And Communication\",\"Information Technology\",\"Information Technology\",\"Computer Science\",\"Information Technology\",\"Computer Science\",\"Mechanical\",\"Computer Science\",\"Electronics And Communication\",\"Electronics And Communication\",\"Computer Science\",\"Electrical\",\"Electronics And Communication\",\"Information Technology\",\"Mechanical\",\"Electrical\",\"Mechanical\",\"Electrical\",\"Civil\",\"Mechanical\",\"Information Technology\",\"Electronics And Communication\",\"Electronics And Communication\",\"Electronics And Communication\",\"Information Technology\",\"Civil\",\"Electrical\",\"Computer Science\",\"Information Technology\",\"Civil\",\"Civil\",\"Information Technology\",\"Computer Science\",\"Computer Science\",\"Civil\",\"Electronics And Communication\",\"Electrical\",\"Electrical\",\"Electrical\",\"Computer Science\",\"Information Technology\",\"Electrical\",\"Information Technology\",\"Electronics And Communication\",\"Computer Science\",\"Mechanical\",\"Mechanical\",\"Information Technology\",\"Civil\",\"Mechanical\",\"Computer Science\",\"Information Technology\",\"Mechanical\",\"Mechanical\",\"Electrical\",\"Information Technology\",\"Information Technology\",\"Computer Science\",\"Civil\",\"Information Technology\",\"Information Technology\",\"Civil\",\"Electrical\",\"Computer Science\",\"Electrical\",\"Electronics And Communication\",\"Electrical\",\"Civil\",\"Computer Science\",\"Civil\",\"Information Technology\",\"Computer Science\",\"Electronics And Communication\",\"Electrical\",\"Information Technology\",\"Information Technology\",\"Computer Science\",\"Computer Science\",\"Computer Science\",\"Information Technology\",\"Mechanical\",\"Computer Science\",\"Electronics And Communication\",\"Mechanical\",\"Information Technology\",\"Mechanical\",\"Civil\",\"Information Technology\",\"Information Technology\",\"Electronics And Communication\",\"Mechanical\",\"Computer Science\",\"Computer Science\",\"Information Technology\",\"Electronics And Communication\",\"Electronics And Communication\",\"Mechanical\",\"Computer Science\",\"Information Technology\",\"Mechanical\",\"Electrical\",\"Computer Science\",\"Computer Science\",\"Mechanical\",\"Information Technology\",\"Electrical\",\"Information Technology\",\"Electronics And Communication\",\"Information Technology\",\"Mechanical\",\"Mechanical\",\"Computer Science\",\"Electrical\",\"Computer Science\",\"Electrical\",\"Information Technology\",\"Information Technology\",\"Mechanical\",\"Computer Science\",\"Computer Science\",\"Mechanical\",\"Mechanical\",\"Civil\",\"Electrical\",\"Electrical\",\"Electronics And Communication\",\"Computer Science\",\"Computer Science\",\"Electrical\",\"Electrical\",\"Mechanical\",\"Electronics And Communication\",\"Electronics And Communication\",\"Electronics And Communication\",\"Computer Science\",\"Mechanical\",\"Mechanical\",\"Information Technology\",\"Information Technology\",\"Information Technology\",\"Information Technology\",\"Electronics And Communication\",\"Computer Science\",\"Computer Science\",\"Information Technology\",\"Information Technology\",\"Electronics And Communication\",\"Electrical\",\"Electronics And Communication\",\"Information Technology\",\"Mechanical\",\"Information Technology\",\"Computer Science\",\"Electronics And Communication\",\"Information Technology\",\"Information Technology\",\"Electronics And Communication\",\"Computer Science\",\"Computer Science\",\"Information Technology\",\"Civil\",\"Computer Science\",\"Electrical\",\"Mechanical\",\"Electronics And Communication\",\"Computer Science\",\"Computer Science\",\"Computer Science\",\"Electrical\",\"Computer Science\",\"Mechanical\",\"Computer Science\",\"Computer Science\",\"Computer Science\",\"Information Technology\",\"Computer Science\",\"Information Technology\",\"Computer Science\",\"Civil\",\"Electronics And Communication\",\"Mechanical\",\"Computer Science\",\"Computer Science\",\"Computer Science\",\"Computer Science\",\"Computer Science\",\"Electrical\",\"Information Technology\",\"Computer Science\",\"Computer Science\",\"Information Technology\",\"Computer Science\",\"Mechanical\",\"Computer Science\",\"Electronics And Communication\",\"Electrical\",\"Electronics And Communication\",\"Computer Science\",\"Information Technology\",\"Information Technology\",\"Information Technology\",\"Mechanical\",\"Information Technology\",\"Information Technology\",\"Electrical\",\"Information Technology\",\"Civil\",\"Computer Science\",\"Computer Science\",\"Information Technology\",\"Mechanical\",\"Electronics And Communication\",\"Information Technology\",\"Computer Science\",\"Electronics And Communication\",\"Mechanical\",\"Electronics And Communication\",\"Electrical\",\"Electronics And Communication\",\"Information Technology\",\"Civil\",\"Electrical\",\"Computer Science\",\"Electronics And Communication\",\"Electrical\",\"Information Technology\",\"Computer Science\",\"Electrical\",\"Computer Science\",\"Civil\",\"Computer Science\",\"Information Technology\",\"Information Technology\",\"Electrical\",\"Mechanical\",\"Computer Science\",\"Computer Science\",\"Information Technology\",\"Civil\",\"Civil\",\"Information Technology\",\"Information Technology\",\"Electrical\",\"Electrical\",\"Information Technology\",\"Computer Science\",\"Computer Science\",\"Information Technology\",\"Computer Science\",\"Computer Science\",\"Computer Science\",\"Information Technology\",\"Computer Science\",\"Computer Science\",\"Computer Science\",\"Computer Science\",\"Computer Science\",\"Computer Science\",\"Computer Science\",\"Electronics And Communication\",\"Electrical\",\"Electrical\",\"Computer Science\",\"Mechanical\",\"Electronics And Communication\",\"Computer Science\",\"Computer Science\",\"Computer Science\",\"Electrical\",\"Information Technology\",\"Civil\",\"Electronics And Communication\",\"Electrical\",\"Computer Science\",\"Information Technology\",\"Information Technology\",\"Mechanical\",\"Information Technology\",\"Computer Science\",\"Mechanical\",\"Information Technology\",\"Computer Science\",\"Mechanical\",\"Civil\",\"Mechanical\",\"Computer Science\",\"Electronics And Communication\",\"Computer Science\",\"Computer Science\",\"Electronics And Communication\",\"Information Technology\",\"Civil\",\"Information Technology\",\"Electrical\",\"Information Technology\",\"Civil\",\"Computer Science\",\"Computer Science\",\"Computer Science\",\"Civil\",\"Mechanical\",\"Mechanical\",\"Mechanical\",\"Information Technology\",\"Information Technology\",\"Computer Science\",\"Information Technology\",\"Electronics And Communication\",\"Electronics And Communication\",\"Information Technology\",\"Civil\",\"Mechanical\",\"Computer Science\",\"Civil\",\"Information Technology\",\"Civil\",\"Computer Science\",\"Civil\",\"Information Technology\",\"Electrical\",\"Information Technology\",\"Computer Science\",\"Mechanical\",\"Information Technology\",\"Electrical\",\"Civil\",\"Mechanical\",\"Electronics And Communication\",\"Electronics And Communication\",\"Civil\",\"Electrical\",\"Mechanical\",\"Mechanical\",\"Information Technology\",\"Information Technology\",\"Mechanical\",\"Mechanical\",\"Information Technology\",\"Electronics And Communication\",\"Computer Science\",\"Information Technology\",\"Information Technology\",\"Computer Science\",\"Electronics And Communication\",\"Computer Science\",\"Electronics And Communication\",\"Electronics And Communication\",\"Electronics And Communication\",\"Electrical\",\"Computer Science\",\"Information Technology\",\"Information Technology\",\"Electronics And Communication\",\"Electronics And Communication\",\"Computer Science\",\"Electronics And Communication\",\"Computer Science\",\"Information Technology\",\"Electronics And Communication\",\"Information Technology\",\"Civil\",\"Computer Science\",\"Information Technology\",\"Computer Science\",\"Electrical\",\"Information Technology\",\"Computer Science\",\"Information Technology\",\"Electronics And Communication\",\"Mechanical\",\"Civil\",\"Computer Science\",\"Electronics And Communication\",\"Information Technology\",\"Computer Science\",\"Electrical\",\"Computer Science\",\"Civil\",\"Civil\",\"Mechanical\",\"Information Technology\",\"Electronics And Communication\",\"Information Technology\",\"Information Technology\",\"Computer Science\",\"Computer Science\",\"Mechanical\",\"Civil\",\"Information Technology\",\"Electronics And Communication\",\"Computer Science\",\"Computer Science\",\"Computer Science\",\"Information Technology\",\"Civil\",\"Mechanical\",\"Electronics And Communication\",\"Computer Science\",\"Electronics And Communication\",\"Mechanical\",\"Computer Science\",\"Computer Science\",\"Electronics And Communication\",\"Mechanical\",\"Electronics And Communication\",\"Mechanical\",\"Information Technology\",\"Computer Science\",\"Information Technology\",\"Mechanical\",\"Computer Science\",\"Electrical\",\"Information Technology\",\"Electrical\",\"Electrical\",\"Electronics And Communication\",\"Electronics And Communication\",\"Electronics And Communication\",\"Information Technology\",\"Information Technology\",\"Electrical\",\"Electronics And Communication\",\"Civil\",\"Electrical\",\"Information Technology\",\"Information Technology\",\"Information Technology\",\"Mechanical\",\"Information Technology\",\"Mechanical\",\"Information Technology\",\"Computer Science\",\"Information Technology\",\"Information Technology\",\"Computer Science\",\"Electrical\",\"Information Technology\",\"Electrical\",\"Computer Science\",\"Computer Science\",\"Computer Science\",\"Electrical\",\"Civil\",\"Computer Science\",\"Electronics And Communication\",\"Computer Science\",\"Computer Science\",\"Information Technology\",\"Mechanical\",\"Computer Science\",\"Electrical\",\"Mechanical\",\"Computer Science\",\"Computer Science\",\"Computer Science\",\"Information Technology\",\"Information Technology\",\"Electronics And Communication\",\"Computer Science\",\"Computer Science\",\"Computer Science\",\"Electrical\",\"Electronics And Communication\",\"Electrical\",\"Information Technology\",\"Information Technology\",\"Computer Science\",\"Electronics And Communication\",\"Civil\",\"Electronics And Communication\",\"Information Technology\",\"Mechanical\",\"Information Technology\",\"Computer Science\",\"Computer Science\",\"Electronics And Communication\",\"Information Technology\",\"Civil\",\"Computer Science\",\"Information Technology\",\"Information Technology\",\"Mechanical\",\"Civil\",\"Information Technology\",\"Computer Science\",\"Computer Science\",\"Electronics And Communication\",\"Computer Science\",\"Mechanical\",\"Computer Science\",\"Computer Science\",\"Electronics And Communication\",\"Mechanical\",\"Computer Science\",\"Mechanical\",\"Electronics And Communication\",\"Information Technology\",\"Computer Science\",\"Electronics And Communication\",\"Electronics And Communication\",\"Electrical\",\"Computer Science\",\"Computer Science\",\"Electronics And Communication\",\"Computer Science\",\"Electronics And Communication\",\"Mechanical\",\"Electrical\",\"Computer Science\",\"Electrical\",\"Information Technology\",\"Computer Science\",\"Computer Science\",\"Electronics And Communication\",\"Mechanical\",\"Electronics And Communication\",\"Information Technology\",\"Computer Science\",\"Civil\",\"Computer Science\",\"Electrical\",\"Mechanical\",\"Information Technology\",\"Electronics And Communication\",\"Information Technology\",\"Electronics And Communication\",\"Computer Science\",\"Electrical\",\"Electronics And Communication\",\"Electrical\",\"Information Technology\",\"Information Technology\",\"Computer Science\",\"Electronics And Communication\",\"Electrical\",\"Electrical\",\"Information Technology\",\"Computer Science\",\"Computer Science\",\"Electrical\",\"Civil\",\"Computer Science\",\"Computer Science\",\"Electronics And Communication\",\"Mechanical\",\"Information Technology\",\"Electronics And Communication\",\"Information Technology\",\"Information Technology\",\"Information Technology\",\"Computer Science\",\"Computer Science\",\"Electronics And Communication\",\"Mechanical\",\"Electronics And Communication\",\"Electronics And Communication\",\"Computer Science\",\"Information Technology\",\"Computer Science\",\"Computer Science\",\"Electronics And Communication\",\"Computer Science\",\"Civil\",\"Computer Science\",\"Computer Science\",\"Information Technology\",\"Mechanical\",\"Information Technology\",\"Electronics And Communication\",\"Computer Science\",\"Computer Science\",\"Electronics And Communication\",\"Electronics And Communication\",\"Computer Science\",\"Computer Science\",\"Information Technology\",\"Mechanical\",\"Computer Science\",\"Information Technology\",\"Electrical\",\"Civil\",\"Computer Science\",\"Information Technology\",\"Electrical\",\"Information Technology\",\"Civil\",\"Mechanical\",\"Computer Science\",\"Information Technology\",\"Electrical\",\"Computer Science\",\"Civil\",\"Mechanical\",\"Computer Science\",\"Information Technology\",\"Mechanical\",\"Computer Science\",\"Computer Science\",\"Information Technology\",\"Information Technology\",\"Mechanical\",\"Electronics And Communication\",\"Mechanical\",\"Civil\",\"Mechanical\",\"Electronics And Communication\",\"Information Technology\",\"Computer Science\",\"Information Technology\",\"Information Technology\",\"Information Technology\",\"Information Technology\",\"Computer Science\",\"Computer Science\",\"Computer Science\",\"Electronics And Communication\",\"Computer Science\",\"Computer Science\",\"Computer Science\",\"Electrical\",\"Computer Science\",\"Computer Science\",\"Information Technology\",\"Information Technology\",\"Computer Science\",\"Civil\",\"Computer Science\",\"Electrical\",\"Electronics And Communication\",\"Computer Science\",\"Computer Science\",\"Mechanical\",\"Mechanical\",\"Computer Science\",\"Electronics And Communication\",\"Electronics And Communication\",\"Electronics And Communication\",\"Mechanical\",\"Electronics And Communication\",\"Civil\",\"Electrical\",\"Civil\",\"Computer Science\",\"Information Technology\",\"Computer Science\",\"Civil\",\"Civil\",\"Electronics And Communication\",\"Electrical\",\"Computer Science\",\"Computer Science\",\"Information Technology\",\"Mechanical\",\"Electrical\",\"Information Technology\",\"Information Technology\",\"Mechanical\",\"Electrical\",\"Computer Science\",\"Electronics And Communication\",\"Electrical\",\"Information Technology\",\"Civil\",\"Electrical\",\"Information Technology\",\"Electronics And Communication\",\"Computer Science\",\"Computer Science\",\"Electrical\",\"Civil\",\"Electronics And Communication\",\"Electronics And Communication\",\"Electronics And Communication\",\"Computer Science\",\"Mechanical\",\"Mechanical\",\"Civil\",\"Computer Science\",\"Information Technology\",\"Information Technology\",\"Electrical\",\"Electrical\",\"Computer Science\",\"Information Technology\",\"Electronics And Communication\",\"Information Technology\",\"Electronics And Communication\",\"Information Technology\",\"Electrical\",\"Civil\",\"Computer Science\",\"Computer Science\",\"Computer Science\",\"Civil\",\"Mechanical\",\"Mechanical\",\"Computer Science\",\"Mechanical\",\"Computer Science\",\"Electronics And Communication\",\"Electronics And Communication\",\"Civil\",\"Information Technology\",\"Computer Science\",\"Information Technology\",\"Electrical\",\"Information Technology\",\"Computer Science\",\"Computer Science\",\"Electronics And Communication\",\"Mechanical\",\"Civil\",\"Computer Science\",\"Civil\",\"Electrical\",\"Information Technology\",\"Mechanical\",\"Electronics And Communication\",\"Civil\",\"Mechanical\",\"Electronics And Communication\",\"Computer Science\",\"Mechanical\",\"Electrical\",\"Mechanical\",\"Mechanical\",\"Information Technology\",\"Electrical\",\"Electrical\",\"Mechanical\",\"Computer Science\",\"Civil\",\"Electrical\",\"Electronics And Communication\",\"Civil\",\"Electronics And Communication\",\"Computer Science\",\"Mechanical\",\"Electrical\",\"Electrical\",\"Civil\",\"Mechanical\",\"Information Technology\",\"Computer Science\",\"Electrical\",\"Information Technology\",\"Computer Science\",\"Civil\",\"Computer Science\",\"Mechanical\",\"Civil\",\"Computer Science\",\"Computer Science\",\"Electrical\",\"Mechanical\",\"Electronics And Communication\",\"Electronics And Communication\",\"Electronics And Communication\",\"Civil\",\"Electronics And Communication\",\"Information Technology\",\"Mechanical\",\"Information Technology\",\"Computer Science\",\"Mechanical\",\"Information Technology\",\"Mechanical\",\"Civil\",\"Electrical\",\"Civil\",\"Mechanical\",\"Electrical\",\"Electronics And Communication\",\"Computer Science\",\"Information Technology\",\"Information Technology\",\"Information Technology\",\"Computer Science\",\"Electronics And Communication\",\"Information Technology\",\"Computer Science\",\"Civil\",\"Computer Science\",\"Civil\",\"Computer Science\",\"Electrical\",\"Civil\",\"Information Technology\",\"Computer Science\",\"Information Technology\",\"Electronics And Communication\",\"Computer Science\",\"Electrical\",\"Civil\",\"Electronics And Communication\",\"Computer Science\",\"Computer Science\",\"Computer Science\",\"Information Technology\",\"Computer Science\",\"Electrical\",\"Electrical\",\"Computer Science\",\"Mechanical\",\"Computer Science\",\"Electronics And Communication\",\"Mechanical\",\"Computer Science\",\"Information Technology\",\"Civil\",\"Electronics And Communication\",\"Information Technology\",\"Electrical\",\"Electrical\",\"Computer Science\",\"Mechanical\",\"Civil\",\"Electronics And Communication\",\"Mechanical\",\"Electronics And Communication\",\"Electronics And Communication\",\"Civil\",\"Electrical\",\"Information Technology\",\"Electronics And Communication\",\"Electrical\",\"Electronics And Communication\",\"Electronics And Communication\",\"Electrical\",\"Civil\",\"Computer Science\",\"Mechanical\",\"Computer Science\",\"Electronics And Communication\",\"Information Technology\",\"Electrical\",\"Electrical\",\"Mechanical\",\"Civil\",\"Electrical\",\"Information Technology\",\"Electronics And Communication\",\"Electrical\",\"Information Technology\",\"Electrical\",\"Electronics And Communication\",\"Electronics And Communication\",\"Computer Science\",\"Civil\",\"Computer Science\",\"Electrical\",\"Electronics And Communication\",\"Information Technology\",\"Computer Science\",\"Electronics And Communication\",\"Information Technology\",\"Electronics And Communication\",\"Information Technology\",\"Computer Science\",\"Information Technology\",\"Information Technology\",\"Information Technology\",\"Electronics And Communication\",\"Computer Science\",\"Electronics And Communication\",\"Computer Science\",\"Electrical\",\"Electrical\",\"Computer Science\",\"Information Technology\",\"Electrical\",\"Mechanical\",\"Information Technology\",\"Computer Science\",\"Mechanical\",\"Electrical\",\"Computer Science\",\"Information Technology\",\"Civil\",\"Electronics And Communication\",\"Electronics And Communication\",\"Electronics And Communication\",\"Information Technology\",\"Information Technology\",\"Computer Science\",\"Electronics And Communication\",\"Civil\",\"Computer Science\",\"Computer Science\",\"Electrical\",\"Electronics And Communication\",\"Information Technology\",\"Computer Science\",\"Mechanical\",\"Mechanical\",\"Information Technology\",\"Information Technology\",\"Computer Science\",\"Electronics And Communication\",\"Civil\",\"Electrical\",\"Electrical\",\"Computer Science\",\"Electrical\",\"Electrical\",\"Electrical\",\"Electronics And Communication\",\"Information Technology\",\"Electrical\",\"Electronics And Communication\",\"Electronics And Communication\",\"Computer Science\",\"Electrical\",\"Computer Science\",\"Electronics And Communication\",\"Information Technology\",\"Mechanical\",\"Information Technology\",\"Civil\",\"Electrical\",\"Civil\",\"Electronics And Communication\",\"Computer Science\",\"Computer Science\",\"Computer Science\",\"Information Technology\",\"Civil\",\"Mechanical\",\"Electronics And Communication\",\"Electronics And Communication\",\"Electronics And Communication\",\"Information Technology\",\"Electronics And Communication\",\"Information Technology\",\"Mechanical\",\"Electronics And Communication\",\"Mechanical\",\"Civil\",\"Computer Science\",\"Information Technology\",\"Information Technology\",\"Computer Science\",\"Civil\",\"Information Technology\",\"Civil\",\"Electronics And Communication\",\"Electronics And Communication\",\"Electronics And Communication\",\"Electronics And Communication\",\"Mechanical\",\"Computer Science\",\"Information Technology\",\"Electronics And Communication\",\"Computer Science\",\"Computer Science\",\"Computer Science\",\"Electronics And Communication\",\"Electronics And Communication\",\"Computer Science\",\"Information Technology\",\"Civil\",\"Mechanical\",\"Mechanical\",\"Electronics And Communication\",\"Electronics And Communication\",\"Electrical\",\"Information Technology\",\"Electronics And Communication\",\"Electronics And Communication\",\"Information Technology\",\"Mechanical\",\"Information Technology\",\"Information Technology\",\"Electrical\",\"Computer Science\",\"Civil\",\"Electronics And Communication\",\"Computer Science\",\"Information Technology\",\"Computer Science\",\"Computer Science\",\"Computer Science\",\"Electrical\",\"Electronics And Communication\",\"Mechanical\",\"Electronics And Communication\",\"Computer Science\",\"Civil\",\"Computer Science\",\"Computer Science\",\"Mechanical\",\"Computer Science\",\"Computer Science\",\"Civil\"],\"xaxis\":\"x\",\"yaxis\":\"y\",\"type\":\"histogram\"},{\"alignmentgroup\":\"True\",\"bingroup\":\"x\",\"hovertemplate\":\"PlacedOrNot=0<br>Stream=%{x}<br>count=%{y}<extra></extra>\",\"legendgroup\":\"0\",\"marker\":{\"color\":\"#EF553B\",\"pattern\":{\"shape\":\"\"}},\"name\":\"0\",\"offsetgroup\":\"0\",\"orientation\":\"v\",\"showlegend\":true,\"x\":[\"Electronics And Communication\",\"Computer Science\",\"Information Technology\",\"Computer Science\",\"Computer Science\",\"Computer Science\",\"Computer Science\",\"Civil\",\"Computer Science\",\"Computer Science\",\"Computer Science\",\"Civil\",\"Electronics And Communication\",\"Electronics And Communication\",\"Civil\",\"Electrical\",\"Information Technology\",\"Information Technology\",\"Electrical\",\"Electronics And Communication\",\"Electrical\",\"Computer Science\",\"Civil\",\"Mechanical\",\"Information Technology\",\"Electronics And Communication\",\"Computer Science\",\"Information Technology\",\"Mechanical\",\"Mechanical\",\"Electrical\",\"Information Technology\",\"Electrical\",\"Information Technology\",\"Electrical\",\"Electronics And Communication\",\"Information Technology\",\"Information Technology\",\"Electronics And Communication\",\"Computer Science\",\"Mechanical\",\"Electrical\",\"Electrical\",\"Mechanical\",\"Electrical\",\"Electrical\",\"Information Technology\",\"Electronics And Communication\",\"Information Technology\",\"Computer Science\",\"Mechanical\",\"Computer Science\",\"Electrical\",\"Information Technology\",\"Computer Science\",\"Computer Science\",\"Information Technology\",\"Civil\",\"Civil\",\"Information Technology\",\"Mechanical\",\"Information Technology\",\"Electronics And Communication\",\"Civil\",\"Electrical\",\"Civil\",\"Computer Science\",\"Computer Science\",\"Electronics And Communication\",\"Information Technology\",\"Computer Science\",\"Computer Science\",\"Mechanical\",\"Computer Science\",\"Information Technology\",\"Computer Science\",\"Electronics And Communication\",\"Information Technology\",\"Computer Science\",\"Computer Science\",\"Electronics And Communication\",\"Computer Science\",\"Information Technology\",\"Electrical\",\"Information Technology\",\"Information Technology\",\"Civil\",\"Civil\",\"Electrical\",\"Electronics And Communication\",\"Mechanical\",\"Computer Science\",\"Civil\",\"Civil\",\"Computer Science\",\"Mechanical\",\"Mechanical\",\"Information Technology\",\"Computer Science\",\"Computer Science\",\"Information Technology\",\"Computer Science\",\"Civil\",\"Electrical\",\"Mechanical\",\"Civil\",\"Electrical\",\"Electronics And Communication\",\"Civil\",\"Electronics And Communication\",\"Computer Science\",\"Civil\",\"Information Technology\",\"Civil\",\"Electrical\",\"Information Technology\",\"Electronics And Communication\",\"Electronics And Communication\",\"Mechanical\",\"Civil\",\"Civil\",\"Computer Science\",\"Mechanical\",\"Civil\",\"Information Technology\",\"Computer Science\",\"Civil\",\"Computer Science\",\"Civil\",\"Electronics And Communication\",\"Computer Science\",\"Civil\",\"Computer Science\",\"Mechanical\",\"Electronics And Communication\",\"Electronics And Communication\",\"Computer Science\",\"Electronics And Communication\",\"Mechanical\",\"Information Technology\",\"Electronics And Communication\",\"Civil\",\"Mechanical\",\"Electrical\",\"Electronics And Communication\",\"Electronics And Communication\",\"Information Technology\",\"Electronics And Communication\",\"Computer Science\",\"Electrical\",\"Information Technology\",\"Computer Science\",\"Information Technology\",\"Information Technology\",\"Civil\",\"Mechanical\",\"Information Technology\",\"Mechanical\",\"Computer Science\",\"Computer Science\",\"Computer Science\",\"Information Technology\",\"Electronics And Communication\",\"Information Technology\",\"Mechanical\",\"Electronics And Communication\",\"Information Technology\",\"Civil\",\"Computer Science\",\"Mechanical\",\"Information Technology\",\"Electrical\",\"Mechanical\",\"Electronics And Communication\",\"Information Technology\",\"Computer Science\",\"Information Technology\",\"Mechanical\",\"Computer Science\",\"Electrical\",\"Information Technology\",\"Electronics And Communication\",\"Electrical\",\"Electronics And Communication\",\"Computer Science\",\"Mechanical\",\"Electrical\",\"Civil\",\"Information Technology\",\"Computer Science\",\"Electrical\",\"Computer Science\",\"Computer Science\",\"Electrical\",\"Computer Science\",\"Electrical\",\"Information Technology\",\"Computer Science\",\"Mechanical\",\"Civil\",\"Computer Science\",\"Electrical\",\"Electrical\",\"Computer Science\",\"Computer Science\",\"Electronics And Communication\",\"Information Technology\",\"Mechanical\",\"Electrical\",\"Mechanical\",\"Electronics And Communication\",\"Information Technology\",\"Electronics And Communication\",\"Civil\",\"Electrical\",\"Mechanical\",\"Information Technology\",\"Mechanical\",\"Electrical\",\"Mechanical\",\"Civil\",\"Electronics And Communication\",\"Electrical\",\"Mechanical\",\"Computer Science\",\"Civil\",\"Information Technology\",\"Computer Science\",\"Electrical\",\"Information Technology\",\"Electronics And Communication\",\"Computer Science\",\"Civil\",\"Electronics And Communication\",\"Electrical\",\"Mechanical\",\"Civil\",\"Mechanical\",\"Electronics And Communication\",\"Mechanical\",\"Computer Science\",\"Mechanical\",\"Information Technology\",\"Mechanical\",\"Information Technology\",\"Computer Science\",\"Computer Science\",\"Civil\",\"Computer Science\",\"Information Technology\",\"Electronics And Communication\",\"Civil\",\"Electrical\",\"Civil\",\"Computer Science\",\"Electrical\",\"Computer Science\",\"Electrical\",\"Electrical\",\"Computer Science\",\"Computer Science\",\"Electrical\",\"Electrical\",\"Information Technology\",\"Computer Science\",\"Electronics And Communication\",\"Information Technology\",\"Civil\",\"Computer Science\",\"Information Technology\",\"Computer Science\",\"Civil\",\"Computer Science\",\"Computer Science\",\"Computer Science\",\"Computer Science\",\"Computer Science\",\"Information Technology\",\"Information Technology\",\"Computer Science\",\"Civil\",\"Electrical\",\"Electronics And Communication\",\"Mechanical\",\"Electronics And Communication\",\"Mechanical\",\"Civil\",\"Computer Science\",\"Mechanical\",\"Mechanical\",\"Electronics And Communication\",\"Electrical\",\"Mechanical\",\"Electrical\",\"Electronics And Communication\",\"Electrical\",\"Mechanical\",\"Electronics And Communication\",\"Information Technology\",\"Computer Science\",\"Computer Science\",\"Information Technology\",\"Electronics And Communication\",\"Mechanical\",\"Computer Science\",\"Electrical\",\"Civil\",\"Civil\",\"Electrical\",\"Computer Science\",\"Information Technology\",\"Mechanical\",\"Computer Science\",\"Computer Science\",\"Information Technology\",\"Electronics And Communication\",\"Mechanical\",\"Electrical\",\"Civil\",\"Computer Science\",\"Information Technology\",\"Civil\",\"Computer Science\",\"Civil\",\"Civil\",\"Mechanical\",\"Information Technology\",\"Electrical\",\"Mechanical\",\"Civil\",\"Civil\",\"Electronics And Communication\",\"Civil\",\"Electrical\",\"Computer Science\",\"Mechanical\",\"Electronics And Communication\",\"Electrical\",\"Mechanical\",\"Electrical\",\"Civil\",\"Information Technology\",\"Civil\",\"Electrical\",\"Civil\",\"Civil\",\"Civil\",\"Electronics And Communication\",\"Civil\",\"Electronics And Communication\",\"Electrical\",\"Civil\",\"Electronics And Communication\",\"Mechanical\",\"Electronics And Communication\",\"Mechanical\",\"Mechanical\",\"Computer Science\",\"Electrical\",\"Electronics And Communication\",\"Electrical\",\"Electronics And Communication\",\"Mechanical\",\"Information Technology\",\"Electronics And Communication\",\"Mechanical\",\"Mechanical\",\"Civil\",\"Electronics And Communication\",\"Mechanical\",\"Mechanical\",\"Electrical\",\"Computer Science\",\"Electrical\",\"Mechanical\",\"Electrical\",\"Civil\",\"Information Technology\",\"Mechanical\",\"Information Technology\",\"Mechanical\",\"Information Technology\",\"Computer Science\",\"Information Technology\",\"Information Technology\",\"Electrical\",\"Electronics And Communication\",\"Civil\",\"Civil\",\"Civil\",\"Civil\",\"Civil\",\"Mechanical\",\"Electronics And Communication\",\"Mechanical\",\"Computer Science\",\"Mechanical\",\"Mechanical\",\"Mechanical\",\"Mechanical\",\"Mechanical\",\"Electronics And Communication\",\"Electrical\",\"Electronics And Communication\",\"Mechanical\",\"Computer Science\",\"Civil\",\"Mechanical\",\"Electronics And Communication\",\"Electrical\",\"Mechanical\",\"Mechanical\",\"Civil\",\"Civil\",\"Electronics And Communication\",\"Computer Science\",\"Civil\",\"Electrical\",\"Civil\",\"Civil\",\"Electrical\",\"Mechanical\",\"Mechanical\",\"Mechanical\",\"Computer Science\",\"Mechanical\",\"Civil\",\"Computer Science\",\"Computer Science\",\"Electrical\",\"Electronics And Communication\",\"Civil\",\"Computer Science\",\"Electronics And Communication\",\"Electrical\",\"Civil\",\"Information Technology\",\"Computer Science\",\"Information Technology\",\"Information Technology\",\"Computer Science\",\"Information Technology\",\"Civil\",\"Mechanical\",\"Mechanical\",\"Information Technology\",\"Electrical\",\"Mechanical\",\"Electrical\",\"Information Technology\",\"Civil\",\"Information Technology\",\"Electronics And Communication\",\"Electronics And Communication\",\"Computer Science\",\"Electronics And Communication\",\"Computer Science\",\"Civil\",\"Civil\",\"Computer Science\",\"Civil\",\"Mechanical\",\"Information Technology\",\"Computer Science\",\"Civil\",\"Mechanical\",\"Mechanical\",\"Information Technology\",\"Information Technology\",\"Mechanical\",\"Electrical\",\"Information Technology\",\"Civil\",\"Electronics And Communication\",\"Electrical\",\"Computer Science\",\"Civil\",\"Mechanical\",\"Electronics And Communication\",\"Mechanical\",\"Mechanical\",\"Mechanical\",\"Civil\",\"Information Technology\",\"Civil\",\"Computer Science\",\"Information Technology\",\"Electronics And Communication\",\"Computer Science\",\"Electronics And Communication\",\"Mechanical\",\"Computer Science\",\"Information Technology\",\"Mechanical\",\"Mechanical\",\"Civil\",\"Mechanical\",\"Civil\",\"Computer Science\",\"Information Technology\",\"Electrical\",\"Electrical\",\"Computer Science\",\"Computer Science\",\"Computer Science\",\"Information Technology\",\"Mechanical\",\"Information Technology\",\"Electronics And Communication\",\"Mechanical\",\"Computer Science\",\"Computer Science\",\"Electronics And Communication\",\"Computer Science\",\"Mechanical\",\"Civil\",\"Information Technology\",\"Information Technology\",\"Mechanical\",\"Mechanical\",\"Civil\",\"Electrical\",\"Computer Science\",\"Mechanical\",\"Information Technology\",\"Computer Science\",\"Information Technology\",\"Electrical\",\"Information Technology\",\"Information Technology\",\"Information Technology\",\"Information Technology\",\"Electronics And Communication\",\"Electronics And Communication\",\"Information Technology\",\"Computer Science\",\"Information Technology\",\"Information Technology\",\"Information Technology\",\"Electrical\",\"Computer Science\",\"Information Technology\",\"Electronics And Communication\",\"Information Technology\",\"Computer Science\",\"Mechanical\",\"Electronics And Communication\",\"Information Technology\",\"Mechanical\",\"Computer Science\",\"Civil\",\"Civil\",\"Electronics And Communication\",\"Mechanical\",\"Civil\",\"Information Technology\",\"Mechanical\",\"Civil\",\"Civil\",\"Mechanical\",\"Information Technology\",\"Mechanical\",\"Information Technology\",\"Electronics And Communication\",\"Computer Science\",\"Computer Science\",\"Electronics And Communication\",\"Electrical\",\"Electrical\",\"Computer Science\",\"Electronics And Communication\",\"Computer Science\",\"Information Technology\",\"Information Technology\",\"Information Technology\",\"Information Technology\",\"Computer Science\",\"Computer Science\",\"Information Technology\",\"Computer Science\",\"Computer Science\",\"Computer Science\",\"Computer Science\",\"Electronics And Communication\",\"Electronics And Communication\",\"Computer Science\",\"Mechanical\",\"Information Technology\",\"Mechanical\",\"Information Technology\",\"Electrical\",\"Information Technology\",\"Information Technology\",\"Mechanical\",\"Electronics And Communication\",\"Information Technology\",\"Electronics And Communication\",\"Electronics And Communication\",\"Electrical\",\"Computer Science\",\"Electronics And Communication\",\"Computer Science\",\"Information Technology\",\"Electronics And Communication\",\"Civil\",\"Computer Science\",\"Computer Science\",\"Information Technology\",\"Computer Science\",\"Computer Science\",\"Electrical\",\"Electronics And Communication\",\"Electrical\",\"Information Technology\",\"Information Technology\",\"Mechanical\",\"Electrical\",\"Mechanical\",\"Computer Science\",\"Electrical\",\"Civil\",\"Mechanical\",\"Computer Science\",\"Mechanical\",\"Computer Science\",\"Computer Science\",\"Mechanical\",\"Computer Science\",\"Electronics And Communication\",\"Electronics And Communication\",\"Computer Science\",\"Computer Science\",\"Information Technology\",\"Computer Science\",\"Electronics And Communication\",\"Mechanical\",\"Electronics And Communication\",\"Computer Science\",\"Electrical\",\"Computer Science\",\"Information Technology\",\"Computer Science\",\"Civil\",\"Mechanical\",\"Information Technology\",\"Electronics And Communication\",\"Civil\",\"Computer Science\",\"Computer Science\",\"Information Technology\",\"Information Technology\",\"Civil\",\"Computer Science\",\"Computer Science\",\"Mechanical\",\"Civil\",\"Information Technology\",\"Electrical\",\"Information Technology\",\"Civil\",\"Electronics And Communication\",\"Information Technology\",\"Electronics And Communication\",\"Information Technology\",\"Electronics And Communication\",\"Information Technology\",\"Electronics And Communication\",\"Computer Science\",\"Mechanical\",\"Computer Science\",\"Electronics And Communication\",\"Civil\",\"Civil\",\"Electrical\",\"Information Technology\",\"Computer Science\",\"Mechanical\",\"Electronics And Communication\",\"Computer Science\",\"Electronics And Communication\",\"Information Technology\",\"Computer Science\",\"Civil\",\"Mechanical\",\"Mechanical\",\"Mechanical\",\"Electrical\",\"Information Technology\",\"Information Technology\",\"Information Technology\",\"Information Technology\",\"Civil\",\"Mechanical\",\"Computer Science\",\"Computer Science\",\"Electronics And Communication\",\"Electronics And Communication\",\"Information Technology\",\"Computer Science\",\"Computer Science\",\"Mechanical\",\"Computer Science\",\"Information Technology\",\"Electronics And Communication\",\"Mechanical\",\"Mechanical\",\"Mechanical\",\"Mechanical\",\"Civil\",\"Electrical\",\"Computer Science\",\"Computer Science\",\"Civil\",\"Information Technology\",\"Information Technology\",\"Electrical\",\"Information Technology\",\"Electronics And Communication\",\"Computer Science\",\"Information Technology\",\"Mechanical\",\"Civil\",\"Mechanical\",\"Electrical\",\"Mechanical\",\"Mechanical\",\"Civil\",\"Computer Science\",\"Information Technology\",\"Computer Science\",\"Electronics And Communication\",\"Electrical\",\"Civil\",\"Mechanical\",\"Information Technology\",\"Civil\",\"Computer Science\",\"Mechanical\",\"Mechanical\",\"Computer Science\",\"Computer Science\",\"Computer Science\",\"Computer Science\",\"Civil\",\"Electronics And Communication\",\"Electrical\",\"Information Technology\",\"Civil\",\"Civil\",\"Electrical\",\"Computer Science\",\"Computer Science\",\"Computer Science\",\"Computer Science\",\"Computer Science\",\"Information Technology\",\"Information Technology\",\"Information Technology\",\"Information Technology\",\"Electronics And Communication\",\"Information Technology\",\"Civil\",\"Information Technology\",\"Civil\",\"Information Technology\",\"Information Technology\",\"Electronics And Communication\",\"Information Technology\",\"Mechanical\",\"Computer Science\",\"Computer Science\",\"Electrical\",\"Computer Science\",\"Mechanical\",\"Electronics And Communication\",\"Computer Science\",\"Electronics And Communication\",\"Electronics And Communication\",\"Information Technology\",\"Civil\",\"Electronics And Communication\",\"Civil\",\"Information Technology\",\"Mechanical\",\"Civil\",\"Mechanical\",\"Computer Science\",\"Computer Science\",\"Electronics And Communication\",\"Mechanical\",\"Electronics And Communication\",\"Electrical\",\"Information Technology\",\"Mechanical\",\"Computer Science\",\"Electrical\",\"Civil\",\"Information Technology\",\"Computer Science\",\"Computer Science\",\"Computer Science\",\"Information Technology\",\"Computer Science\",\"Information Technology\",\"Mechanical\",\"Mechanical\",\"Information Technology\",\"Civil\",\"Electronics And Communication\",\"Computer Science\",\"Computer Science\",\"Information Technology\",\"Information Technology\",\"Information Technology\",\"Computer Science\",\"Computer Science\",\"Computer Science\",\"Mechanical\",\"Information Technology\",\"Electrical\",\"Mechanical\",\"Computer Science\",\"Computer Science\",\"Electronics And Communication\",\"Information Technology\",\"Information Technology\",\"Information Technology\",\"Electronics And Communication\",\"Computer Science\",\"Computer Science\",\"Information Technology\",\"Information Technology\",\"Civil\",\"Information Technology\",\"Computer Science\",\"Computer Science\",\"Mechanical\",\"Electronics And Communication\",\"Mechanical\",\"Computer Science\",\"Civil\",\"Civil\",\"Electrical\",\"Civil\",\"Computer Science\",\"Computer Science\",\"Computer Science\",\"Information Technology\",\"Electrical\",\"Computer Science\",\"Civil\",\"Information Technology\",\"Computer Science\",\"Computer Science\",\"Information Technology\",\"Information Technology\",\"Computer Science\",\"Computer Science\",\"Electrical\",\"Computer Science\",\"Computer Science\",\"Electrical\",\"Information Technology\",\"Electronics And Communication\",\"Computer Science\",\"Information Technology\",\"Civil\",\"Electrical\",\"Electronics And Communication\",\"Electronics And Communication\",\"Computer Science\",\"Computer Science\",\"Mechanical\",\"Information Technology\",\"Computer Science\",\"Information Technology\",\"Civil\",\"Electrical\",\"Electrical\",\"Electrical\",\"Computer Science\",\"Mechanical\",\"Computer Science\",\"Computer Science\",\"Information Technology\",\"Mechanical\",\"Information Technology\",\"Information Technology\",\"Information Technology\",\"Electrical\",\"Information Technology\",\"Mechanical\",\"Electrical\",\"Computer Science\",\"Computer Science\",\"Mechanical\",\"Electrical\",\"Computer Science\",\"Civil\",\"Information Technology\",\"Civil\",\"Electronics And Communication\",\"Computer Science\",\"Information Technology\",\"Computer Science\",\"Computer Science\",\"Information Technology\",\"Civil\",\"Information Technology\",\"Electronics And Communication\",\"Computer Science\",\"Electrical\",\"Information Technology\",\"Electrical\",\"Mechanical\",\"Mechanical\",\"Electrical\",\"Electrical\",\"Information Technology\",\"Mechanical\",\"Civil\",\"Electronics And Communication\",\"Electrical\",\"Computer Science\",\"Information Technology\",\"Civil\",\"Mechanical\",\"Computer Science\",\"Electronics And Communication\",\"Information Technology\",\"Information Technology\",\"Electrical\",\"Information Technology\",\"Electronics And Communication\",\"Mechanical\",\"Computer Science\",\"Computer Science\",\"Computer Science\",\"Information Technology\",\"Computer Science\",\"Electrical\",\"Civil\",\"Electronics And Communication\",\"Mechanical\",\"Electrical\",\"Civil\",\"Mechanical\",\"Electrical\",\"Electrical\",\"Electrical\",\"Mechanical\",\"Computer Science\",\"Electrical\",\"Electronics And Communication\",\"Mechanical\",\"Mechanical\",\"Civil\",\"Electronics And Communication\",\"Electrical\",\"Information Technology\",\"Information Technology\",\"Electrical\",\"Mechanical\",\"Civil\",\"Mechanical\",\"Mechanical\",\"Information Technology\",\"Computer Science\",\"Civil\",\"Electrical\",\"Computer Science\",\"Computer Science\",\"Computer Science\",\"Information Technology\",\"Mechanical\",\"Electronics And Communication\",\"Computer Science\",\"Information Technology\",\"Civil\",\"Information Technology\",\"Information Technology\",\"Electrical\",\"Information Technology\",\"Electronics And Communication\",\"Information Technology\",\"Information Technology\",\"Electronics And Communication\",\"Civil\",\"Electronics And Communication\",\"Information Technology\",\"Information Technology\",\"Computer Science\",\"Civil\",\"Information Technology\",\"Electrical\",\"Civil\",\"Civil\",\"Information Technology\",\"Computer Science\",\"Electronics And Communication\",\"Computer Science\",\"Electronics And Communication\",\"Mechanical\",\"Information Technology\",\"Electronics And Communication\",\"Computer Science\",\"Mechanical\",\"Electronics And Communication\",\"Electrical\",\"Computer Science\",\"Computer Science\",\"Mechanical\",\"Electrical\",\"Information Technology\",\"Information Technology\",\"Information Technology\",\"Electronics And Communication\",\"Computer Science\",\"Electronics And Communication\",\"Information Technology\",\"Electrical\",\"Civil\",\"Civil\",\"Information Technology\",\"Electronics And Communication\",\"Information Technology\",\"Computer Science\",\"Computer Science\",\"Civil\",\"Computer Science\",\"Computer Science\",\"Mechanical\",\"Information Technology\",\"Electrical\",\"Mechanical\",\"Computer Science\",\"Electrical\",\"Computer Science\",\"Mechanical\",\"Computer Science\",\"Computer Science\",\"Computer Science\",\"Electronics And Communication\",\"Civil\",\"Electronics And Communication\",\"Information Technology\",\"Electrical\",\"Mechanical\",\"Mechanical\",\"Information Technology\",\"Mechanical\",\"Electronics And Communication\",\"Mechanical\",\"Electronics And Communication\",\"Civil\",\"Electronics And Communication\",\"Civil\",\"Civil\",\"Mechanical\",\"Mechanical\",\"Computer Science\",\"Mechanical\",\"Civil\",\"Computer Science\",\"Computer Science\",\"Electrical\",\"Mechanical\",\"Electrical\",\"Electrical\",\"Electronics And Communication\",\"Computer Science\",\"Civil\",\"Civil\",\"Computer Science\",\"Civil\",\"Computer Science\",\"Computer Science\",\"Computer Science\",\"Civil\",\"Information Technology\",\"Computer Science\",\"Information Technology\",\"Electronics And Communication\",\"Computer Science\",\"Computer Science\",\"Mechanical\",\"Electronics And Communication\",\"Civil\",\"Mechanical\",\"Information Technology\",\"Computer Science\",\"Civil\",\"Computer Science\",\"Mechanical\",\"Electrical\",\"Information Technology\",\"Information Technology\",\"Computer Science\",\"Information Technology\",\"Electronics And Communication\",\"Information Technology\",\"Civil\",\"Electronics And Communication\",\"Computer Science\",\"Computer Science\",\"Information Technology\",\"Electrical\",\"Computer Science\",\"Electrical\",\"Computer Science\",\"Electronics And Communication\",\"Information Technology\",\"Information Technology\",\"Information Technology\",\"Computer Science\",\"Electronics And Communication\",\"Information Technology\",\"Computer Science\",\"Information Technology\",\"Electrical\",\"Computer Science\",\"Computer Science\",\"Computer Science\",\"Civil\",\"Civil\",\"Information Technology\",\"Electronics And Communication\",\"Computer Science\",\"Mechanical\",\"Mechanical\",\"Electronics And Communication\",\"Computer Science\",\"Mechanical\",\"Civil\",\"Electronics And Communication\",\"Information Technology\",\"Computer Science\",\"Mechanical\",\"Civil\",\"Information Technology\",\"Electronics And Communication\",\"Information Technology\",\"Mechanical\",\"Electronics And Communication\",\"Mechanical\",\"Civil\",\"Computer Science\",\"Computer Science\",\"Computer Science\",\"Electronics And Communication\",\"Mechanical\",\"Computer Science\",\"Information Technology\",\"Civil\",\"Mechanical\",\"Mechanical\",\"Computer Science\",\"Mechanical\",\"Information Technology\",\"Civil\",\"Mechanical\",\"Computer Science\",\"Information Technology\",\"Civil\",\"Mechanical\",\"Information Technology\",\"Mechanical\",\"Information Technology\",\"Information Technology\",\"Mechanical\",\"Electrical\",\"Electrical\",\"Computer Science\",\"Computer Science\",\"Civil\",\"Mechanical\",\"Computer Science\",\"Civil\",\"Information Technology\",\"Computer Science\",\"Information Technology\",\"Mechanical\",\"Information Technology\",\"Computer Science\",\"Information Technology\",\"Information Technology\",\"Computer Science\",\"Computer Science\",\"Computer Science\",\"Civil\",\"Electronics And Communication\",\"Mechanical\",\"Mechanical\",\"Information Technology\",\"Mechanical\",\"Information Technology\",\"Computer Science\",\"Computer Science\",\"Mechanical\",\"Computer Science\",\"Information Technology\",\"Information Technology\",\"Information Technology\",\"Computer Science\",\"Computer Science\",\"Computer Science\",\"Mechanical\",\"Computer Science\",\"Electronics And Communication\",\"Electronics And Communication\",\"Electrical\",\"Information Technology\",\"Electronics And Communication\",\"Information Technology\",\"Electrical\",\"Computer Science\",\"Mechanical\",\"Information Technology\",\"Information Technology\",\"Mechanical\",\"Computer Science\",\"Information Technology\",\"Computer Science\",\"Computer Science\",\"Computer Science\",\"Electronics And Communication\",\"Electrical\",\"Computer Science\",\"Civil\",\"Electrical\",\"Computer Science\",\"Electronics And Communication\",\"Mechanical\",\"Electronics And Communication\",\"Mechanical\",\"Electronics And Communication\",\"Information Technology\",\"Computer Science\",\"Computer Science\",\"Mechanical\",\"Computer Science\",\"Mechanical\",\"Electrical\",\"Computer Science\",\"Electrical\",\"Civil\",\"Information Technology\",\"Computer Science\",\"Mechanical\",\"Computer Science\",\"Mechanical\",\"Civil\",\"Civil\",\"Information Technology\",\"Mechanical\",\"Electronics And Communication\",\"Computer Science\",\"Information Technology\",\"Electronics And Communication\",\"Information Technology\",\"Information Technology\",\"Mechanical\",\"Information Technology\",\"Computer Science\",\"Information Technology\",\"Mechanical\",\"Mechanical\",\"Mechanical\",\"Computer Science\",\"Information Technology\",\"Mechanical\",\"Electrical\",\"Mechanical\",\"Information Technology\",\"Electrical\",\"Information Technology\",\"Computer Science\",\"Mechanical\",\"Information Technology\",\"Electronics And Communication\",\"Information Technology\",\"Electrical\",\"Information Technology\",\"Computer Science\",\"Information Technology\",\"Information Technology\",\"Mechanical\",\"Information Technology\",\"Information Technology\",\"Information Technology\",\"Civil\",\"Computer Science\",\"Computer Science\",\"Computer Science\",\"Electronics And Communication\",\"Information Technology\",\"Information Technology\",\"Electrical\",\"Mechanical\",\"Information Technology\",\"Electrical\",\"Mechanical\",\"Computer Science\",\"Computer Science\",\"Computer Science\",\"Mechanical\",\"Computer Science\",\"Information Technology\",\"Mechanical\",\"Computer Science\",\"Electronics And Communication\",\"Electrical\",\"Mechanical\",\"Information Technology\",\"Computer Science\",\"Information Technology\",\"Electrical\",\"Electronics And Communication\",\"Information Technology\",\"Electrical\",\"Computer Science\",\"Information Technology\",\"Mechanical\",\"Information Technology\",\"Mechanical\",\"Information Technology\",\"Computer Science\"],\"xaxis\":\"x\",\"yaxis\":\"y\",\"type\":\"histogram\"}],                        {\"template\":{\"data\":{\"bar\":[{\"error_x\":{\"color\":\"#2a3f5f\"},\"error_y\":{\"color\":\"#2a3f5f\"},\"marker\":{\"line\":{\"color\":\"#E5ECF6\",\"width\":0.5},\"pattern\":{\"fillmode\":\"overlay\",\"size\":10,\"solidity\":0.2}},\"type\":\"bar\"}],\"barpolar\":[{\"marker\":{\"line\":{\"color\":\"#E5ECF6\",\"width\":0.5},\"pattern\":{\"fillmode\":\"overlay\",\"size\":10,\"solidity\":0.2}},\"type\":\"barpolar\"}],\"carpet\":[{\"aaxis\":{\"endlinecolor\":\"#2a3f5f\",\"gridcolor\":\"white\",\"linecolor\":\"white\",\"minorgridcolor\":\"white\",\"startlinecolor\":\"#2a3f5f\"},\"baxis\":{\"endlinecolor\":\"#2a3f5f\",\"gridcolor\":\"white\",\"linecolor\":\"white\",\"minorgridcolor\":\"white\",\"startlinecolor\":\"#2a3f5f\"},\"type\":\"carpet\"}],\"choropleth\":[{\"colorbar\":{\"outlinewidth\":0,\"ticks\":\"\"},\"type\":\"choropleth\"}],\"contour\":[{\"colorbar\":{\"outlinewidth\":0,\"ticks\":\"\"},\"colorscale\":[[0.0,\"#0d0887\"],[0.1111111111111111,\"#46039f\"],[0.2222222222222222,\"#7201a8\"],[0.3333333333333333,\"#9c179e\"],[0.4444444444444444,\"#bd3786\"],[0.5555555555555556,\"#d8576b\"],[0.6666666666666666,\"#ed7953\"],[0.7777777777777778,\"#fb9f3a\"],[0.8888888888888888,\"#fdca26\"],[1.0,\"#f0f921\"]],\"type\":\"contour\"}],\"contourcarpet\":[{\"colorbar\":{\"outlinewidth\":0,\"ticks\":\"\"},\"type\":\"contourcarpet\"}],\"heatmap\":[{\"colorbar\":{\"outlinewidth\":0,\"ticks\":\"\"},\"colorscale\":[[0.0,\"#0d0887\"],[0.1111111111111111,\"#46039f\"],[0.2222222222222222,\"#7201a8\"],[0.3333333333333333,\"#9c179e\"],[0.4444444444444444,\"#bd3786\"],[0.5555555555555556,\"#d8576b\"],[0.6666666666666666,\"#ed7953\"],[0.7777777777777778,\"#fb9f3a\"],[0.8888888888888888,\"#fdca26\"],[1.0,\"#f0f921\"]],\"type\":\"heatmap\"}],\"heatmapgl\":[{\"colorbar\":{\"outlinewidth\":0,\"ticks\":\"\"},\"colorscale\":[[0.0,\"#0d0887\"],[0.1111111111111111,\"#46039f\"],[0.2222222222222222,\"#7201a8\"],[0.3333333333333333,\"#9c179e\"],[0.4444444444444444,\"#bd3786\"],[0.5555555555555556,\"#d8576b\"],[0.6666666666666666,\"#ed7953\"],[0.7777777777777778,\"#fb9f3a\"],[0.8888888888888888,\"#fdca26\"],[1.0,\"#f0f921\"]],\"type\":\"heatmapgl\"}],\"histogram\":[{\"marker\":{\"pattern\":{\"fillmode\":\"overlay\",\"size\":10,\"solidity\":0.2}},\"type\":\"histogram\"}],\"histogram2d\":[{\"colorbar\":{\"outlinewidth\":0,\"ticks\":\"\"},\"colorscale\":[[0.0,\"#0d0887\"],[0.1111111111111111,\"#46039f\"],[0.2222222222222222,\"#7201a8\"],[0.3333333333333333,\"#9c179e\"],[0.4444444444444444,\"#bd3786\"],[0.5555555555555556,\"#d8576b\"],[0.6666666666666666,\"#ed7953\"],[0.7777777777777778,\"#fb9f3a\"],[0.8888888888888888,\"#fdca26\"],[1.0,\"#f0f921\"]],\"type\":\"histogram2d\"}],\"histogram2dcontour\":[{\"colorbar\":{\"outlinewidth\":0,\"ticks\":\"\"},\"colorscale\":[[0.0,\"#0d0887\"],[0.1111111111111111,\"#46039f\"],[0.2222222222222222,\"#7201a8\"],[0.3333333333333333,\"#9c179e\"],[0.4444444444444444,\"#bd3786\"],[0.5555555555555556,\"#d8576b\"],[0.6666666666666666,\"#ed7953\"],[0.7777777777777778,\"#fb9f3a\"],[0.8888888888888888,\"#fdca26\"],[1.0,\"#f0f921\"]],\"type\":\"histogram2dcontour\"}],\"mesh3d\":[{\"colorbar\":{\"outlinewidth\":0,\"ticks\":\"\"},\"type\":\"mesh3d\"}],\"parcoords\":[{\"line\":{\"colorbar\":{\"outlinewidth\":0,\"ticks\":\"\"}},\"type\":\"parcoords\"}],\"pie\":[{\"automargin\":true,\"type\":\"pie\"}],\"scatter\":[{\"marker\":{\"colorbar\":{\"outlinewidth\":0,\"ticks\":\"\"}},\"type\":\"scatter\"}],\"scatter3d\":[{\"line\":{\"colorbar\":{\"outlinewidth\":0,\"ticks\":\"\"}},\"marker\":{\"colorbar\":{\"outlinewidth\":0,\"ticks\":\"\"}},\"type\":\"scatter3d\"}],\"scattercarpet\":[{\"marker\":{\"colorbar\":{\"outlinewidth\":0,\"ticks\":\"\"}},\"type\":\"scattercarpet\"}],\"scattergeo\":[{\"marker\":{\"colorbar\":{\"outlinewidth\":0,\"ticks\":\"\"}},\"type\":\"scattergeo\"}],\"scattergl\":[{\"marker\":{\"colorbar\":{\"outlinewidth\":0,\"ticks\":\"\"}},\"type\":\"scattergl\"}],\"scattermapbox\":[{\"marker\":{\"colorbar\":{\"outlinewidth\":0,\"ticks\":\"\"}},\"type\":\"scattermapbox\"}],\"scatterpolar\":[{\"marker\":{\"colorbar\":{\"outlinewidth\":0,\"ticks\":\"\"}},\"type\":\"scatterpolar\"}],\"scatterpolargl\":[{\"marker\":{\"colorbar\":{\"outlinewidth\":0,\"ticks\":\"\"}},\"type\":\"scatterpolargl\"}],\"scatterternary\":[{\"marker\":{\"colorbar\":{\"outlinewidth\":0,\"ticks\":\"\"}},\"type\":\"scatterternary\"}],\"surface\":[{\"colorbar\":{\"outlinewidth\":0,\"ticks\":\"\"},\"colorscale\":[[0.0,\"#0d0887\"],[0.1111111111111111,\"#46039f\"],[0.2222222222222222,\"#7201a8\"],[0.3333333333333333,\"#9c179e\"],[0.4444444444444444,\"#bd3786\"],[0.5555555555555556,\"#d8576b\"],[0.6666666666666666,\"#ed7953\"],[0.7777777777777778,\"#fb9f3a\"],[0.8888888888888888,\"#fdca26\"],[1.0,\"#f0f921\"]],\"type\":\"surface\"}],\"table\":[{\"cells\":{\"fill\":{\"color\":\"#EBF0F8\"},\"line\":{\"color\":\"white\"}},\"header\":{\"fill\":{\"color\":\"#C8D4E3\"},\"line\":{\"color\":\"white\"}},\"type\":\"table\"}]},\"layout\":{\"annotationdefaults\":{\"arrowcolor\":\"#2a3f5f\",\"arrowhead\":0,\"arrowwidth\":1},\"autotypenumbers\":\"strict\",\"coloraxis\":{\"colorbar\":{\"outlinewidth\":0,\"ticks\":\"\"}},\"colorscale\":{\"diverging\":[[0,\"#8e0152\"],[0.1,\"#c51b7d\"],[0.2,\"#de77ae\"],[0.3,\"#f1b6da\"],[0.4,\"#fde0ef\"],[0.5,\"#f7f7f7\"],[0.6,\"#e6f5d0\"],[0.7,\"#b8e186\"],[0.8,\"#7fbc41\"],[0.9,\"#4d9221\"],[1,\"#276419\"]],\"sequential\":[[0.0,\"#0d0887\"],[0.1111111111111111,\"#46039f\"],[0.2222222222222222,\"#7201a8\"],[0.3333333333333333,\"#9c179e\"],[0.4444444444444444,\"#bd3786\"],[0.5555555555555556,\"#d8576b\"],[0.6666666666666666,\"#ed7953\"],[0.7777777777777778,\"#fb9f3a\"],[0.8888888888888888,\"#fdca26\"],[1.0,\"#f0f921\"]],\"sequentialminus\":[[0.0,\"#0d0887\"],[0.1111111111111111,\"#46039f\"],[0.2222222222222222,\"#7201a8\"],[0.3333333333333333,\"#9c179e\"],[0.4444444444444444,\"#bd3786\"],[0.5555555555555556,\"#d8576b\"],[0.6666666666666666,\"#ed7953\"],[0.7777777777777778,\"#fb9f3a\"],[0.8888888888888888,\"#fdca26\"],[1.0,\"#f0f921\"]]},\"colorway\":[\"#636efa\",\"#EF553B\",\"#00cc96\",\"#ab63fa\",\"#FFA15A\",\"#19d3f3\",\"#FF6692\",\"#B6E880\",\"#FF97FF\",\"#FECB52\"],\"font\":{\"color\":\"#2a3f5f\"},\"geo\":{\"bgcolor\":\"white\",\"lakecolor\":\"white\",\"landcolor\":\"#E5ECF6\",\"showlakes\":true,\"showland\":true,\"subunitcolor\":\"white\"},\"hoverlabel\":{\"align\":\"left\"},\"hovermode\":\"closest\",\"mapbox\":{\"style\":\"light\"},\"paper_bgcolor\":\"white\",\"plot_bgcolor\":\"#E5ECF6\",\"polar\":{\"angularaxis\":{\"gridcolor\":\"white\",\"linecolor\":\"white\",\"ticks\":\"\"},\"bgcolor\":\"#E5ECF6\",\"radialaxis\":{\"gridcolor\":\"white\",\"linecolor\":\"white\",\"ticks\":\"\"}},\"scene\":{\"xaxis\":{\"backgroundcolor\":\"#E5ECF6\",\"gridcolor\":\"white\",\"gridwidth\":2,\"linecolor\":\"white\",\"showbackground\":true,\"ticks\":\"\",\"zerolinecolor\":\"white\"},\"yaxis\":{\"backgroundcolor\":\"#E5ECF6\",\"gridcolor\":\"white\",\"gridwidth\":2,\"linecolor\":\"white\",\"showbackground\":true,\"ticks\":\"\",\"zerolinecolor\":\"white\"},\"zaxis\":{\"backgroundcolor\":\"#E5ECF6\",\"gridcolor\":\"white\",\"gridwidth\":2,\"linecolor\":\"white\",\"showbackground\":true,\"ticks\":\"\",\"zerolinecolor\":\"white\"}},\"shapedefaults\":{\"line\":{\"color\":\"#2a3f5f\"}},\"ternary\":{\"aaxis\":{\"gridcolor\":\"white\",\"linecolor\":\"white\",\"ticks\":\"\"},\"baxis\":{\"gridcolor\":\"white\",\"linecolor\":\"white\",\"ticks\":\"\"},\"bgcolor\":\"#E5ECF6\",\"caxis\":{\"gridcolor\":\"white\",\"linecolor\":\"white\",\"ticks\":\"\"}},\"title\":{\"x\":0.05},\"xaxis\":{\"automargin\":true,\"gridcolor\":\"white\",\"linecolor\":\"white\",\"ticks\":\"\",\"title\":{\"standoff\":15},\"zerolinecolor\":\"white\",\"zerolinewidth\":2},\"yaxis\":{\"automargin\":true,\"gridcolor\":\"white\",\"linecolor\":\"white\",\"ticks\":\"\",\"title\":{\"standoff\":15},\"zerolinecolor\":\"white\",\"zerolinewidth\":2}}},\"xaxis\":{\"anchor\":\"y\",\"domain\":[0.0,1.0],\"title\":{\"text\":\"Stream\"}},\"yaxis\":{\"anchor\":\"x\",\"domain\":[0.0,1.0],\"title\":{\"text\":\"count\"}},\"legend\":{\"title\":{\"text\":\"PlacedOrNot\"},\"tracegroupgap\":0},\"margin\":{\"t\":60},\"barmode\":\"group\"},                        {\"responsive\": true}                    ).then(function(){\n",
              "                            \n",
              "var gd = document.getElementById('6f76c291-b9b7-4242-a061-8cf98263050d');\n",
              "var x = new MutationObserver(function (mutations, observer) {{\n",
              "        var display = window.getComputedStyle(gd).display;\n",
              "        if (!display || display === 'none') {{\n",
              "            console.log([gd, 'removed!']);\n",
              "            Plotly.purge(gd);\n",
              "            observer.disconnect();\n",
              "        }}\n",
              "}});\n",
              "\n",
              "// Listen for the removal of the full notebook cells\n",
              "var notebookContainer = gd.closest('#notebook-container');\n",
              "if (notebookContainer) {{\n",
              "    x.observe(notebookContainer, {childList: true});\n",
              "}}\n",
              "\n",
              "// Listen for the clearing of the current output cell\n",
              "var outputEl = gd.closest('.output');\n",
              "if (outputEl) {{\n",
              "    x.observe(outputEl, {childList: true});\n",
              "}}\n",
              "\n",
              "                        })                };                            </script>        </div>\n",
              "</body>\n",
              "</html>"
            ]
          },
          "metadata": {}
        }
      ],
      "source": [
        "fig = px.histogram(df, \"Stream\", color = \"PlacedOrNot\", barmode = \"group\")\n",
        "fig.show()"
      ]
    },
    {
      "cell_type": "code",
      "execution_count": 16,
      "metadata": {
        "colab": {
          "base_uri": "https://localhost:8080/",
          "height": 542
        },
        "id": "fNiKF7DsVQ8J",
        "outputId": "904a3495-4aac-4896-a672-e947ed5e6caf"
      },
      "outputs": [
        {
          "output_type": "display_data",
          "data": {
            "text/html": [
              "<html>\n",
              "<head><meta charset=\"utf-8\" /></head>\n",
              "<body>\n",
              "    <div>            <script src=\"https://cdnjs.cloudflare.com/ajax/libs/mathjax/2.7.5/MathJax.js?config=TeX-AMS-MML_SVG\"></script><script type=\"text/javascript\">if (window.MathJax) {MathJax.Hub.Config({SVG: {font: \"STIX-Web\"}});}</script>                <script type=\"text/javascript\">window.PlotlyConfig = {MathJaxConfig: 'local'};</script>\n",
              "        <script src=\"https://cdn.plot.ly/plotly-2.8.3.min.js\"></script>                <div id=\"78f593f7-6cbe-4d73-bbf2-464c99cda6f9\" class=\"plotly-graph-div\" style=\"height:525px; width:100%;\"></div>            <script type=\"text/javascript\">                                    window.PLOTLYENV=window.PLOTLYENV || {};                                    if (document.getElementById(\"78f593f7-6cbe-4d73-bbf2-464c99cda6f9\")) {                    Plotly.newPlot(                        \"78f593f7-6cbe-4d73-bbf2-464c99cda6f9\",                        [{\"alignmentgroup\":\"True\",\"bingroup\":\"x\",\"hovertemplate\":\"PlacedOrNot=1<br>Internships=%{x}<br>count=%{y}<extra></extra>\",\"legendgroup\":\"1\",\"marker\":{\"color\":\"#636efa\",\"pattern\":{\"shape\":\"\"}},\"name\":\"1\",\"offsetgroup\":\"1\",\"orientation\":\"v\",\"showlegend\":true,\"x\":[1,0,1,0,0,2,1,1,2,0,0,0,1,1,1,0,1,1,1,0,1,0,0,1,1,2,3,1,1,2,0,1,1,3,1,0,0,0,1,2,0,0,0,1,0,1,0,2,0,1,0,3,0,1,0,0,0,0,1,0,1,0,0,0,2,0,1,1,1,1,0,0,0,2,0,1,1,1,1,1,0,1,1,3,0,2,1,1,2,2,1,0,1,1,0,0,0,1,0,3,2,2,0,1,1,1,0,2,2,0,0,1,3,0,1,1,0,0,1,2,0,2,2,0,0,0,2,1,1,3,1,2,2,1,1,0,0,1,2,1,2,2,0,3,0,1,1,1,2,0,1,1,0,1,1,2,0,0,2,1,0,0,0,1,0,0,0,0,2,2,1,2,1,0,1,2,0,1,0,1,2,1,0,0,0,1,1,0,0,2,0,0,1,0,0,0,0,0,2,1,0,0,1,1,0,0,1,1,1,0,0,0,2,0,0,1,0,0,0,2,0,0,1,0,0,1,1,2,2,2,2,0,3,0,0,1,0,1,0,1,1,0,0,2,2,1,0,0,0,0,0,0,0,0,0,1,1,0,1,0,0,3,0,0,1,0,1,0,1,0,1,0,2,0,0,2,0,1,0,3,3,0,1,2,0,1,0,1,1,1,0,1,0,1,1,0,2,1,0,1,1,1,0,1,0,0,2,2,0,0,1,1,0,1,1,0,2,0,1,0,0,2,2,2,2,2,2,1,2,1,1,1,1,2,1,1,2,1,2,2,1,2,1,2,2,2,1,2,2,2,1,2,1,1,2,1,1,2,1,0,1,1,1,0,1,2,1,0,2,2,0,0,1,2,0,0,2,1,2,1,2,0,1,0,1,0,1,1,1,0,0,0,1,1,1,0,0,2,1,1,1,2,0,0,0,1,0,0,0,0,1,1,3,1,1,1,1,1,0,1,1,1,0,0,0,1,1,0,0,1,1,1,1,1,0,2,1,1,0,1,0,1,2,0,1,1,1,1,0,1,1,2,0,1,0,0,0,1,0,1,0,1,1,1,1,1,0,0,0,1,1,2,0,0,2,0,0,1,1,0,0,0,0,1,1,0,0,2,0,1,1,2,2,1,0,1,0,2,0,2,0,1,0,0,1,0,2,1,0,0,0,1,1,1,0,0,1,0,0,1,2,3,0,0,1,0,1,0,1,0,2,0,0,2,2,1,0,1,2,1,1,1,0,2,0,0,1,1,2,1,0,0,0,0,0,1,1,1,1,1,1,1,0,0,2,0,0,0,0,1,0,0,0,1,1,0,0,1,1,2,2,1,1,1,1,2,0,2,1,1,1,2,2,2,1,1,2,2,1,2,2,2,2,2,2,2,1,1,2,2,2,2,1,2,1,1,2,1,1,2,2,2,2,2,2,2,2,2,2,1,2,1,2,2,1,2,2,2,2,2,1,1,1,1,2,2,2,1,2,1,1,1,2,2,1,1,1,2,2,2,2,1,2,2,1,2,1,1,2,1,1,1,1,2,2,2,1,1,2,2,2,1,2,1,1,1,0,0,0,1,1,0,0,0,0,0,1,0,2,0,1,1,0,1,2,1,0,0,1,0,1,0,0,1,0,1,1,0,1,1,1,1,2,0,0,0,2,0,1,1,0,0,0,0,1,1,1,1,1,1,1,0,1,0,1,0,2,3,0,2,1,0,1,0,0,0,0,2,1,1,0,1,1,0,0,0,2,2,0,1,1,1,0,0,1,1,0,1,0,1,0,0,0,1,0,0,0,0,1,0,1,0,0,0,1,0,1,1,0,0,1,0,1,1,2,1,0,0,0,0,0,0,0,1,0,1,0,2,1,1,0,0,1,0,1,1,1,1,2,2,0,0,0,1,1,0,0,1,1,0,1,0,1,0,1,1,0,2,2,0,3,0,0,2,0,1,1,2,1,0,0,3,0,2,1,2,1,3,0,0,2,0,1,1,0,1,2,1,0,1,3,2,1,1,0,0,1,0,2,1,1,1,1,1,1,1,1,0,1,1,1,2,1,0,1,0,1,2,0,1,1,0,1,0,1,0,0,0,0,0,0,0,0,0,0,0,2,1,0,1,0,0,1,1,0,1,0,0,2,0,0,1,0,1,1,1,0,0,0,0,1,1,0,2,0,0,1,1,0,1,0,1,0,1,0,1,3,1,0,0,0,0,0,1,2,0,0,0,1,0,1,0,2,1,0,1,1,1,0,1,0,0,0,0,1,1,0,1,1,0,0,1,2,0,1,0,0,1,2,2,0,3,0,1,0,1,1,2,0,1,1,2,0,0,0,1,0,0,0,1,0,0,0,1,1,0,2,1,0,0,0,1,0,1,1,2,1,1,0,0,0,2,2,2,0,1,1,2,1,1,1,2,0,0,2,0,0,1,1,2,0,1,1,2,0,0,2,1,0,1,2,1,1,1,0,0,0,1,1,0,0,1,1,1,0,0,0,1,1,0,1,0,1,1,1,1,1,1,0,1,0,3,2,1,1,0,1,1,1,2,0,0,0,1,1,1,1,1,0,1,1,0,1,0,2,0,0,1,0,0,0,1,0,0,0,1,0,1,0,2,0,0,1,0,0,0,1,0,1,2,3,1,2,2,1,1,0,1,2,0,2,0,0,2,1,2,2,0,0,0,0,3,2,2,1,0,0,2,1,0,1,1,2,1,1,1,1,0,0,2,0,3,1,1,1,0,0,1,0,0,0,0,1,1,1,1,1,1,0,0,1,1,0,2,1,0,1,0,3,1,0,0,1,1,0,1,1,0,2,1,3,0,1,3,3,0,1,1,2,1,1,1,1,2,0,1,2,1,0,1,0,0,1,2,1,3,0,2,0,0,0,1,0,1,1,0,0,0,1,1,0,0,1,1,0,2,1,1,1,0,0,1,2,1,2,2,1,0,0,1,0,1,1,1,0,2,0,0,0,1,1,2,0,1,1,0,2,0,2,0,1,1,0,0,2,0,0,2,2,0,1,1,0,1,0,0,1,1,0,1,0,1,2,1,1,0,0,2,1,0,1,0,2,1,0,1,1,0,1,0,1,0,1,0,0,0,0,0,0,1,1,1,2,0,1,2,1,1,1,0,0,2,0,1,2,0,0,0,2,0,0,1,0,2,1,0,1,0,1,3,1,1,1,1,0,2,3,1,1,1,0,1,0,0,1,1,1,0,1,1,1,2,2,0,1,1,0,1,2,1,0,2,0,1,1,0,1,3,1,2,2,0,0,1,1,0,1,1,1,1,1,1,1,0,1,0,0,0,1,2,1,0,1,0,0,0,0,1,0,3,1,3,0,0,3,1,0,1,1,2,1,0,0,0,1,1,0,0,0,0,1,2,2,0,1,0,0,0,0,2,1,2,1,2,0,2,1,1,1,0,0,0,1,0,1,0,1,0,3,0,1,0,1,0,1,1,1,0,0,0,0,1,1,2,1,0,2,0,0,0,0,2,2,0,0,1,0,1,0,0,0,2,0,1,0,1,1,1,2,0,1,0,0,1,0,1,0,1,1,2,1,1,1,2,3,1,1,1,0,0,1,1,1,1,1,3,0,0,1,2,0,2,0,0,0,1,2,2,0,2,1,2,0,1,0,0,1,0,0,0,2,1,0,0,1,3,1,0,0,1,0,0,0,0,1,2,1,1,0,0,0,2,0,1,3,0,1,0,0],\"xaxis\":\"x\",\"yaxis\":\"y\",\"type\":\"histogram\"},{\"alignmentgroup\":\"True\",\"bingroup\":\"x\",\"hovertemplate\":\"PlacedOrNot=0<br>Internships=%{x}<br>count=%{y}<extra></extra>\",\"legendgroup\":\"0\",\"marker\":{\"color\":\"#EF553B\",\"pattern\":{\"shape\":\"\"}},\"name\":\"0\",\"offsetgroup\":\"0\",\"orientation\":\"v\",\"showlegend\":true,\"x\":[0,0,1,1,1,2,1,0,1,1,1,0,1,0,1,0,1,1,1,0,3,0,1,1,2,0,2,0,0,1,0,1,0,1,0,1,1,1,0,0,1,0,0,0,0,0,0,2,0,1,0,1,0,1,1,1,2,0,0,1,1,1,1,0,2,1,1,1,1,0,0,0,0,0,0,1,2,1,2,1,1,1,1,0,1,0,1,1,1,2,1,0,0,0,1,1,0,1,1,1,1,0,0,1,1,0,1,0,1,1,1,0,1,1,0,1,0,1,0,0,1,1,2,0,0,0,1,2,0,0,0,0,0,1,0,1,1,0,0,1,0,0,1,0,1,0,1,0,1,0,0,1,0,0,1,0,0,1,0,0,0,1,1,0,1,0,0,0,1,0,0,0,1,1,1,0,1,1,2,0,0,2,0,1,1,0,0,0,0,0,2,1,1,0,0,1,1,1,0,0,0,0,1,0,0,0,1,1,0,0,1,1,0,0,0,1,2,1,0,0,0,1,1,0,0,0,0,1,0,0,1,1,0,1,1,2,0,1,1,1,0,1,0,0,1,1,1,1,1,1,0,1,1,1,0,1,1,1,1,1,0,0,0,1,0,1,0,0,0,0,1,0,2,1,1,0,1,1,2,1,2,1,1,2,1,1,1,2,1,1,1,1,1,0,1,1,0,0,1,0,0,0,1,1,2,1,1,0,0,1,0,0,1,0,1,0,0,0,0,1,1,1,0,0,1,1,1,0,0,1,0,1,0,1,1,0,0,1,1,0,0,0,0,0,1,0,0,1,0,1,0,0,0,0,3,0,0,1,0,1,1,0,1,0,0,1,1,0,0,1,1,1,0,0,0,1,0,1,0,1,1,1,0,0,0,0,1,2,0,0,1,1,1,0,1,1,0,0,0,0,0,1,0,1,1,0,0,0,1,0,0,0,0,1,1,1,2,1,2,1,1,1,1,1,2,1,1,1,1,2,1,1,1,1,2,2,1,1,1,2,2,1,2,1,1,1,1,1,1,1,1,1,2,2,1,1,1,2,2,1,1,1,2,2,1,1,1,1,0,0,0,1,1,1,1,1,0,1,0,0,1,1,0,1,0,0,0,1,0,1,1,1,0,0,0,1,2,0,0,0,0,0,0,1,1,1,0,1,1,0,0,1,1,0,0,0,0,1,0,1,1,0,1,0,0,1,1,0,0,0,0,1,1,1,1,1,1,0,0,1,1,0,1,3,1,0,1,1,0,0,1,1,1,0,0,1,0,0,2,0,0,0,0,1,1,0,0,0,0,2,0,0,1,0,0,1,1,0,0,0,1,0,1,0,1,0,0,0,1,1,0,1,0,0,0,0,1,0,0,0,1,3,0,1,1,1,0,0,1,1,1,0,2,2,0,0,1,0,1,1,1,0,1,1,0,1,0,0,1,1,0,2,0,0,1,0,1,0,0,1,0,1,2,1,1,0,1,1,0,0,0,2,1,2,0,0,0,1,1,0,0,0,0,0,1,2,0,1,1,2,0,0,0,0,0,1,0,0,0,0,1,0,0,1,0,0,0,0,0,0,1,0,0,0,0,0,0,1,1,0,0,2,1,0,1,1,1,0,1,0,1,1,0,0,1,1,0,0,0,0,1,1,0,0,1,0,0,1,0,2,1,1,0,0,0,1,0,0,1,0,1,1,1,0,0,1,0,1,0,0,0,3,0,1,1,1,1,1,0,1,1,0,1,1,1,0,1,1,1,0,0,1,0,1,0,1,0,1,0,0,1,0,1,1,0,1,0,1,0,0,0,0,1,0,1,0,0,1,1,0,0,0,0,1,1,1,1,0,1,0,1,0,0,0,0,0,0,0,1,0,1,1,0,0,0,0,0,1,0,3,0,0,1,2,0,1,3,0,1,1,1,0,0,0,1,0,0,1,0,1,0,0,2,1,1,1,1,0,0,0,0,0,1,0,0,1,1,1,0,0,1,0,1,0,0,0,0,1,2,0,0,2,1,1,0,0,1,1,0,0,2,0,0,2,0,0,0,1,1,0,1,0,0,1,2,1,0,0,0,0,0,0,1,0,1,0,1,0,2,0,1,0,0,0,0,0,0,0,0,0,1,0,1,0,0,2,1,0,1,1,0,1,1,1,0,0,0,0,0,0,0,0,0,1,0,0,1,0,0,1,1,0,1,1,0,0,0,0,1,0,1,0,1,3,1,1,0,0,1,0,0,0,1,0,1,1,1,0,1,0,0,1,1,0,0,0,0,0,1,1,0,0,0,0,0,1,1,0,1,1,1,1,0,1,0,1,0,0,1,0,0,1,1,0,1,1,1,0,0,0,0,1,0,3,1,1,1,0,1,0,0,0,1,1,1,0,1,1,0,0,1,0,0,1,0,0,1,0,0,1,2,0,0,1,0,1,0,0,0,1,1,0,0,1,0,1,1,1,0,0,1,0,1,1,0,1,1,0,0,1,0,1,1,1,0,0,1,1,0,2,0,0,1,1,0,0,0,1,3,2,1,0,0,0,0,0,0,0,0,0,0,1,0,0,2,0,1,1,0,0,1,0,0,1,1,0,0,0,0,0,0,0,1,0,0,1,1,1,0,0,0,1,0,0,0,0,1,1,1,0,0,2,0,0,0,0,1,0,1,0,2,0,1,0,0,0,1,0,0,0,1,0,0,1,0,1,1,0,1,1,1,1,0,0,0,0,1,0,0,2,1,0,1,0,1,1,0,1,1,0,0,1,1,1,0,1,1,0,0,0,0,1,0,0,0,0,0,0,1,1,1,0,1,1,0,0,1,1,0,1,1,0,0,1,0,0,1,1,0,1,0,1,0,0,0,1,1,0,0,1,0,0,0,1,0,1,0,0,1,0,0,0,1,0,0,1,1,0,0,0,1,0,1,1,0,0,0,0,1,1,0,1,0,0,2,1,1,0,0,0,1,1,0,0,0,0,1,0,0,0,0,0,0,1,1,1,0,0,0,1,0,0,1,0,1,1,1],\"xaxis\":\"x\",\"yaxis\":\"y\",\"type\":\"histogram\"}],                        {\"template\":{\"data\":{\"bar\":[{\"error_x\":{\"color\":\"#2a3f5f\"},\"error_y\":{\"color\":\"#2a3f5f\"},\"marker\":{\"line\":{\"color\":\"#E5ECF6\",\"width\":0.5},\"pattern\":{\"fillmode\":\"overlay\",\"size\":10,\"solidity\":0.2}},\"type\":\"bar\"}],\"barpolar\":[{\"marker\":{\"line\":{\"color\":\"#E5ECF6\",\"width\":0.5},\"pattern\":{\"fillmode\":\"overlay\",\"size\":10,\"solidity\":0.2}},\"type\":\"barpolar\"}],\"carpet\":[{\"aaxis\":{\"endlinecolor\":\"#2a3f5f\",\"gridcolor\":\"white\",\"linecolor\":\"white\",\"minorgridcolor\":\"white\",\"startlinecolor\":\"#2a3f5f\"},\"baxis\":{\"endlinecolor\":\"#2a3f5f\",\"gridcolor\":\"white\",\"linecolor\":\"white\",\"minorgridcolor\":\"white\",\"startlinecolor\":\"#2a3f5f\"},\"type\":\"carpet\"}],\"choropleth\":[{\"colorbar\":{\"outlinewidth\":0,\"ticks\":\"\"},\"type\":\"choropleth\"}],\"contour\":[{\"colorbar\":{\"outlinewidth\":0,\"ticks\":\"\"},\"colorscale\":[[0.0,\"#0d0887\"],[0.1111111111111111,\"#46039f\"],[0.2222222222222222,\"#7201a8\"],[0.3333333333333333,\"#9c179e\"],[0.4444444444444444,\"#bd3786\"],[0.5555555555555556,\"#d8576b\"],[0.6666666666666666,\"#ed7953\"],[0.7777777777777778,\"#fb9f3a\"],[0.8888888888888888,\"#fdca26\"],[1.0,\"#f0f921\"]],\"type\":\"contour\"}],\"contourcarpet\":[{\"colorbar\":{\"outlinewidth\":0,\"ticks\":\"\"},\"type\":\"contourcarpet\"}],\"heatmap\":[{\"colorbar\":{\"outlinewidth\":0,\"ticks\":\"\"},\"colorscale\":[[0.0,\"#0d0887\"],[0.1111111111111111,\"#46039f\"],[0.2222222222222222,\"#7201a8\"],[0.3333333333333333,\"#9c179e\"],[0.4444444444444444,\"#bd3786\"],[0.5555555555555556,\"#d8576b\"],[0.6666666666666666,\"#ed7953\"],[0.7777777777777778,\"#fb9f3a\"],[0.8888888888888888,\"#fdca26\"],[1.0,\"#f0f921\"]],\"type\":\"heatmap\"}],\"heatmapgl\":[{\"colorbar\":{\"outlinewidth\":0,\"ticks\":\"\"},\"colorscale\":[[0.0,\"#0d0887\"],[0.1111111111111111,\"#46039f\"],[0.2222222222222222,\"#7201a8\"],[0.3333333333333333,\"#9c179e\"],[0.4444444444444444,\"#bd3786\"],[0.5555555555555556,\"#d8576b\"],[0.6666666666666666,\"#ed7953\"],[0.7777777777777778,\"#fb9f3a\"],[0.8888888888888888,\"#fdca26\"],[1.0,\"#f0f921\"]],\"type\":\"heatmapgl\"}],\"histogram\":[{\"marker\":{\"pattern\":{\"fillmode\":\"overlay\",\"size\":10,\"solidity\":0.2}},\"type\":\"histogram\"}],\"histogram2d\":[{\"colorbar\":{\"outlinewidth\":0,\"ticks\":\"\"},\"colorscale\":[[0.0,\"#0d0887\"],[0.1111111111111111,\"#46039f\"],[0.2222222222222222,\"#7201a8\"],[0.3333333333333333,\"#9c179e\"],[0.4444444444444444,\"#bd3786\"],[0.5555555555555556,\"#d8576b\"],[0.6666666666666666,\"#ed7953\"],[0.7777777777777778,\"#fb9f3a\"],[0.8888888888888888,\"#fdca26\"],[1.0,\"#f0f921\"]],\"type\":\"histogram2d\"}],\"histogram2dcontour\":[{\"colorbar\":{\"outlinewidth\":0,\"ticks\":\"\"},\"colorscale\":[[0.0,\"#0d0887\"],[0.1111111111111111,\"#46039f\"],[0.2222222222222222,\"#7201a8\"],[0.3333333333333333,\"#9c179e\"],[0.4444444444444444,\"#bd3786\"],[0.5555555555555556,\"#d8576b\"],[0.6666666666666666,\"#ed7953\"],[0.7777777777777778,\"#fb9f3a\"],[0.8888888888888888,\"#fdca26\"],[1.0,\"#f0f921\"]],\"type\":\"histogram2dcontour\"}],\"mesh3d\":[{\"colorbar\":{\"outlinewidth\":0,\"ticks\":\"\"},\"type\":\"mesh3d\"}],\"parcoords\":[{\"line\":{\"colorbar\":{\"outlinewidth\":0,\"ticks\":\"\"}},\"type\":\"parcoords\"}],\"pie\":[{\"automargin\":true,\"type\":\"pie\"}],\"scatter\":[{\"marker\":{\"colorbar\":{\"outlinewidth\":0,\"ticks\":\"\"}},\"type\":\"scatter\"}],\"scatter3d\":[{\"line\":{\"colorbar\":{\"outlinewidth\":0,\"ticks\":\"\"}},\"marker\":{\"colorbar\":{\"outlinewidth\":0,\"ticks\":\"\"}},\"type\":\"scatter3d\"}],\"scattercarpet\":[{\"marker\":{\"colorbar\":{\"outlinewidth\":0,\"ticks\":\"\"}},\"type\":\"scattercarpet\"}],\"scattergeo\":[{\"marker\":{\"colorbar\":{\"outlinewidth\":0,\"ticks\":\"\"}},\"type\":\"scattergeo\"}],\"scattergl\":[{\"marker\":{\"colorbar\":{\"outlinewidth\":0,\"ticks\":\"\"}},\"type\":\"scattergl\"}],\"scattermapbox\":[{\"marker\":{\"colorbar\":{\"outlinewidth\":0,\"ticks\":\"\"}},\"type\":\"scattermapbox\"}],\"scatterpolar\":[{\"marker\":{\"colorbar\":{\"outlinewidth\":0,\"ticks\":\"\"}},\"type\":\"scatterpolar\"}],\"scatterpolargl\":[{\"marker\":{\"colorbar\":{\"outlinewidth\":0,\"ticks\":\"\"}},\"type\":\"scatterpolargl\"}],\"scatterternary\":[{\"marker\":{\"colorbar\":{\"outlinewidth\":0,\"ticks\":\"\"}},\"type\":\"scatterternary\"}],\"surface\":[{\"colorbar\":{\"outlinewidth\":0,\"ticks\":\"\"},\"colorscale\":[[0.0,\"#0d0887\"],[0.1111111111111111,\"#46039f\"],[0.2222222222222222,\"#7201a8\"],[0.3333333333333333,\"#9c179e\"],[0.4444444444444444,\"#bd3786\"],[0.5555555555555556,\"#d8576b\"],[0.6666666666666666,\"#ed7953\"],[0.7777777777777778,\"#fb9f3a\"],[0.8888888888888888,\"#fdca26\"],[1.0,\"#f0f921\"]],\"type\":\"surface\"}],\"table\":[{\"cells\":{\"fill\":{\"color\":\"#EBF0F8\"},\"line\":{\"color\":\"white\"}},\"header\":{\"fill\":{\"color\":\"#C8D4E3\"},\"line\":{\"color\":\"white\"}},\"type\":\"table\"}]},\"layout\":{\"annotationdefaults\":{\"arrowcolor\":\"#2a3f5f\",\"arrowhead\":0,\"arrowwidth\":1},\"autotypenumbers\":\"strict\",\"coloraxis\":{\"colorbar\":{\"outlinewidth\":0,\"ticks\":\"\"}},\"colorscale\":{\"diverging\":[[0,\"#8e0152\"],[0.1,\"#c51b7d\"],[0.2,\"#de77ae\"],[0.3,\"#f1b6da\"],[0.4,\"#fde0ef\"],[0.5,\"#f7f7f7\"],[0.6,\"#e6f5d0\"],[0.7,\"#b8e186\"],[0.8,\"#7fbc41\"],[0.9,\"#4d9221\"],[1,\"#276419\"]],\"sequential\":[[0.0,\"#0d0887\"],[0.1111111111111111,\"#46039f\"],[0.2222222222222222,\"#7201a8\"],[0.3333333333333333,\"#9c179e\"],[0.4444444444444444,\"#bd3786\"],[0.5555555555555556,\"#d8576b\"],[0.6666666666666666,\"#ed7953\"],[0.7777777777777778,\"#fb9f3a\"],[0.8888888888888888,\"#fdca26\"],[1.0,\"#f0f921\"]],\"sequentialminus\":[[0.0,\"#0d0887\"],[0.1111111111111111,\"#46039f\"],[0.2222222222222222,\"#7201a8\"],[0.3333333333333333,\"#9c179e\"],[0.4444444444444444,\"#bd3786\"],[0.5555555555555556,\"#d8576b\"],[0.6666666666666666,\"#ed7953\"],[0.7777777777777778,\"#fb9f3a\"],[0.8888888888888888,\"#fdca26\"],[1.0,\"#f0f921\"]]},\"colorway\":[\"#636efa\",\"#EF553B\",\"#00cc96\",\"#ab63fa\",\"#FFA15A\",\"#19d3f3\",\"#FF6692\",\"#B6E880\",\"#FF97FF\",\"#FECB52\"],\"font\":{\"color\":\"#2a3f5f\"},\"geo\":{\"bgcolor\":\"white\",\"lakecolor\":\"white\",\"landcolor\":\"#E5ECF6\",\"showlakes\":true,\"showland\":true,\"subunitcolor\":\"white\"},\"hoverlabel\":{\"align\":\"left\"},\"hovermode\":\"closest\",\"mapbox\":{\"style\":\"light\"},\"paper_bgcolor\":\"white\",\"plot_bgcolor\":\"#E5ECF6\",\"polar\":{\"angularaxis\":{\"gridcolor\":\"white\",\"linecolor\":\"white\",\"ticks\":\"\"},\"bgcolor\":\"#E5ECF6\",\"radialaxis\":{\"gridcolor\":\"white\",\"linecolor\":\"white\",\"ticks\":\"\"}},\"scene\":{\"xaxis\":{\"backgroundcolor\":\"#E5ECF6\",\"gridcolor\":\"white\",\"gridwidth\":2,\"linecolor\":\"white\",\"showbackground\":true,\"ticks\":\"\",\"zerolinecolor\":\"white\"},\"yaxis\":{\"backgroundcolor\":\"#E5ECF6\",\"gridcolor\":\"white\",\"gridwidth\":2,\"linecolor\":\"white\",\"showbackground\":true,\"ticks\":\"\",\"zerolinecolor\":\"white\"},\"zaxis\":{\"backgroundcolor\":\"#E5ECF6\",\"gridcolor\":\"white\",\"gridwidth\":2,\"linecolor\":\"white\",\"showbackground\":true,\"ticks\":\"\",\"zerolinecolor\":\"white\"}},\"shapedefaults\":{\"line\":{\"color\":\"#2a3f5f\"}},\"ternary\":{\"aaxis\":{\"gridcolor\":\"white\",\"linecolor\":\"white\",\"ticks\":\"\"},\"baxis\":{\"gridcolor\":\"white\",\"linecolor\":\"white\",\"ticks\":\"\"},\"bgcolor\":\"#E5ECF6\",\"caxis\":{\"gridcolor\":\"white\",\"linecolor\":\"white\",\"ticks\":\"\"}},\"title\":{\"x\":0.05},\"xaxis\":{\"automargin\":true,\"gridcolor\":\"white\",\"linecolor\":\"white\",\"ticks\":\"\",\"title\":{\"standoff\":15},\"zerolinecolor\":\"white\",\"zerolinewidth\":2},\"yaxis\":{\"automargin\":true,\"gridcolor\":\"white\",\"linecolor\":\"white\",\"ticks\":\"\",\"title\":{\"standoff\":15},\"zerolinecolor\":\"white\",\"zerolinewidth\":2}}},\"xaxis\":{\"anchor\":\"y\",\"domain\":[0.0,1.0],\"title\":{\"text\":\"Internships\"}},\"yaxis\":{\"anchor\":\"x\",\"domain\":[0.0,1.0],\"title\":{\"text\":\"count\"}},\"legend\":{\"title\":{\"text\":\"PlacedOrNot\"},\"tracegroupgap\":0},\"margin\":{\"t\":60},\"barmode\":\"group\"},                        {\"responsive\": true}                    ).then(function(){\n",
              "                            \n",
              "var gd = document.getElementById('78f593f7-6cbe-4d73-bbf2-464c99cda6f9');\n",
              "var x = new MutationObserver(function (mutations, observer) {{\n",
              "        var display = window.getComputedStyle(gd).display;\n",
              "        if (!display || display === 'none') {{\n",
              "            console.log([gd, 'removed!']);\n",
              "            Plotly.purge(gd);\n",
              "            observer.disconnect();\n",
              "        }}\n",
              "}});\n",
              "\n",
              "// Listen for the removal of the full notebook cells\n",
              "var notebookContainer = gd.closest('#notebook-container');\n",
              "if (notebookContainer) {{\n",
              "    x.observe(notebookContainer, {childList: true});\n",
              "}}\n",
              "\n",
              "// Listen for the clearing of the current output cell\n",
              "var outputEl = gd.closest('.output');\n",
              "if (outputEl) {{\n",
              "    x.observe(outputEl, {childList: true});\n",
              "}}\n",
              "\n",
              "                        })                };                            </script>        </div>\n",
              "</body>\n",
              "</html>"
            ]
          },
          "metadata": {}
        }
      ],
      "source": [
        "fig = px.histogram(df, \"Internships\", color = \"PlacedOrNot\", barmode = \"group\")\n",
        "fig.show()"
      ]
    },
    {
      "cell_type": "code",
      "execution_count": 17,
      "metadata": {
        "colab": {
          "base_uri": "https://localhost:8080/",
          "height": 542
        },
        "id": "fCbqsoxjVigb",
        "outputId": "ed07abd6-83ed-4016-a63e-c3b94c6128bf"
      },
      "outputs": [
        {
          "output_type": "display_data",
          "data": {
            "text/html": [
              "<html>\n",
              "<head><meta charset=\"utf-8\" /></head>\n",
              "<body>\n",
              "    <div>            <script src=\"https://cdnjs.cloudflare.com/ajax/libs/mathjax/2.7.5/MathJax.js?config=TeX-AMS-MML_SVG\"></script><script type=\"text/javascript\">if (window.MathJax) {MathJax.Hub.Config({SVG: {font: \"STIX-Web\"}});}</script>                <script type=\"text/javascript\">window.PlotlyConfig = {MathJaxConfig: 'local'};</script>\n",
              "        <script src=\"https://cdn.plot.ly/plotly-2.8.3.min.js\"></script>                <div id=\"b882741a-5959-40e0-abe2-912903b2d0be\" class=\"plotly-graph-div\" style=\"height:525px; width:100%;\"></div>            <script type=\"text/javascript\">                                    window.PLOTLYENV=window.PLOTLYENV || {};                                    if (document.getElementById(\"b882741a-5959-40e0-abe2-912903b2d0be\")) {                    Plotly.newPlot(                        \"b882741a-5959-40e0-abe2-912903b2d0be\",                        [{\"alignmentgroup\":\"True\",\"bingroup\":\"x\",\"hovertemplate\":\"PlacedOrNot=1<br>CGPA=%{x}<br>count=%{y}<extra></extra>\",\"legendgroup\":\"1\",\"marker\":{\"color\":\"#636efa\",\"pattern\":{\"shape\":\"\"}},\"name\":\"1\",\"offsetgroup\":\"1\",\"orientation\":\"v\",\"showlegend\":true,\"x\":[8,7,6,8,8,6,8,8,8,8,8,8,8,8,8,6,8,7,6,7,8,8,8,7,7,8,6,8,7,7,8,8,8,6,7,8,8,8,8,9,8,8,9,8,9,9,8,9,8,8,9,9,8,9,8,9,8,8,8,9,9,8,8,8,7,8,8,6,6,8,8,7,6,6,6,7,7,7,6,6,6,7,7,5,6,6,5,7,7,7,7,6,6,6,6,6,5,5,7,7,5,5,7,6,7,5,7,6,6,7,7,6,6,6,6,6,7,7,6,6,8,7,6,8,8,8,8,8,7,6,8,8,7,8,8,8,8,8,7,8,8,6,8,8,8,8,8,8,6,8,8,7,8,8,8,6,8,6,7,8,6,7,8,6,8,7,8,8,6,7,7,7,6,7,8,8,6,6,8,7,7,8,6,6,6,8,6,8,7,8,8,8,8,8,6,8,8,8,7,7,8,8,8,6,8,6,8,8,7,7,8,6,8,8,7,8,8,8,8,8,8,8,8,8,8,8,8,8,7,6,6,8,7,8,8,8,8,8,8,8,8,8,8,7,6,8,6,8,8,6,7,7,8,6,6,8,8,8,6,6,7,8,6,8,8,8,6,8,8,6,8,6,6,6,7,7,7,7,6,8,8,7,8,6,8,8,8,8,8,8,8,8,8,8,8,8,7,8,8,8,8,8,8,8,8,8,7,6,8,8,8,8,8,7,8,7,6,7,6,8,8,6,8,7,7,8,7,7,7,8,8,8,7,8,8,8,8,6,6,8,8,6,8,6,8,8,8,8,8,6,7,6,6,8,6,7,6,6,7,6,8,8,8,8,8,8,8,8,6,8,8,8,8,8,8,8,6,8,6,8,6,6,8,9,7,9,8,6,6,8,8,8,8,6,9,8,7,8,8,8,9,8,9,6,9,7,8,8,9,9,8,8,7,6,8,6,7,7,8,6,6,6,8,8,6,8,8,6,6,6,6,8,6,6,8,8,8,8,7,6,8,7,8,8,8,8,8,8,8,8,8,8,8,7,8,8,7,7,6,8,8,6,7,8,8,8,8,8,6,7,8,8,8,7,6,8,7,8,8,8,6,6,6,7,8,7,8,8,7,7,8,7,6,6,8,8,8,7,6,7,8,6,8,8,7,8,6,8,8,8,6,8,8,8,8,8,7,6,7,8,7,8,8,8,8,8,8,6,6,8,6,8,7,8,8,8,6,8,7,7,7,7,8,7,6,8,8,6,7,8,7,7,8,7,8,8,6,8,7,7,8,8,6,7,8,8,8,8,8,7,6,8,8,8,7,8,6,8,8,7,7,7,6,6,7,8,6,8,8,8,7,6,7,7,8,8,6,7,8,7,8,8,6,6,8,6,7,7,6,6,7,7,6,6,7,8,7,8,8,8,8,8,7,8,7,6,8,8,6,8,8,8,6,6,8,6,8,8,8,8,8,8,8,9,8,7,9,9,7,9,8,9,9,9,8,9,8,8,8,9,7,9,8,9,9,9,8,8,9,8,8,9,9,8,9,8,9,8,8,7,8,7,8,8,8,9,9,9,8,9,8,9,8,8,8,9,8,9,9,8,8,9,9,9,8,9,9,8,9,8,8,8,9,9,9,8,9,9,8,8,8,9,9,9,7,8,8,8,9,9,9,9,9,9,8,9,8,8,9,7,8,9,9,7,9,9,9,9,9,9,7,9,8,9,9,8,9,8,9,9,7,9,8,8,9,9,9,8,8,8,8,8,9,8,8,8,8,9,9,8,9,8,8,8,8,8,8,9,9,9,8,8,9,8,9,9,8,8,9,7,6,6,7,6,7,6,6,6,6,6,6,6,6,7,6,6,6,6,7,6,7,7,6,6,6,6,7,7,7,7,6,6,7,7,7,6,6,6,6,6,7,7,8,8,8,8,8,8,6,8,8,8,8,6,8,8,8,8,8,8,8,6,8,7,8,8,7,8,8,8,8,8,8,8,8,8,8,8,8,8,6,7,8,8,8,8,8,8,8,8,8,6,6,7,7,7,6,8,7,8,7,7,6,6,6,8,8,6,6,6,8,8,7,7,8,8,8,8,7,8,8,6,8,7,7,8,7,7,8,8,8,6,7,8,8,7,8,8,6,6,6,6,7,7,6,7,8,8,8,7,8,7,8,8,7,8,8,8,8,7,8,8,7,8,6,8,8,8,7,8,8,6,8,8,6,7,6,8,7,6,8,8,7,8,6,8,8,8,8,8,8,8,8,8,8,8,6,6,8,8,6,7,8,6,6,6,6,6,6,6,6,6,6,6,6,6,8,7,8,8,8,6,8,8,8,8,8,6,8,6,7,8,6,6,8,6,8,8,8,8,8,7,6,8,8,6,8,8,8,8,8,8,8,8,8,8,7,7,7,7,8,7,8,8,6,8,6,6,8,8,8,8,8,6,8,8,8,7,7,8,7,8,8,7,7,8,8,8,8,8,8,8,8,8,8,8,8,7,7,8,8,8,8,8,8,8,8,7,8,7,7,8,8,8,8,8,8,8,8,7,8,8,8,8,8,8,8,8,8,8,8,8,8,8,8,8,8,8,8,8,8,8,8,7,8,8,8,8,8,8,7,8,7,8,8,8,8,8,8,8,6,8,7,6,8,7,8,8,8,8,8,8,8,6,8,6,6,8,8,8,8,7,6,8,7,8,8,7,7,8,8,8,7,8,9,9,6,8,9,8,9,6,6,9,7,9,8,8,8,9,9,6,9,7,8,6,8,9,6,9,6,9,9,8,9,8,7,8,9,7,9,7,8,8,8,9,9,6,7,9,7,9,6,9,9,8,6,9,9,8,7,8,8,6,8,7,7,6,7,7,7,6,8,8,6,6,8,8,7,8,8,8,8,8,6,8,8,8,8,8,7,8,8,7,8,7,6,7,6,7,8,8,8,7,7,6,8,8,8,8,8,8,7,8,7,7,8,8,8,8,7,8,8,7,8,8,8,8,7,8,8,8,8,8,7,8,8,7,8,7,8,8,8,7,8,8,8,8,8,8,8,8,6,8,7,8,8,8,8,8,8,8,6,8,8,8,8,8,8,8,8,8,8,8,8,8,6,8,8,8,8,8,8,8,8,6,8,7,8,8,8,6,8,7,7,8,8,8,6,8,8,8,8,6,8,8,8,8,7,6,8,7,8,8,7,6,8,8,8,8,8,8,8,8,8,8,8,7,8,8,8,6,6,7,8,8,8,8,9,9,9,9,8,8,8,7,9,7,8,7,8,8,8,9,8,9,9,9,9,8,9,8,8,8,9,9,8,9,8,9,9,9,7,9,9,8,9,8,8,9,9,8,8,9,9,8,9,8,9,9,7,9,8,9,7,8,7,8,8,9,7,7,8,9,8,9,7,8,8,7,8,8,8,7,9,8,9,7,9,9,8,8,7,9,8,8,8,9,8,9,7,8,9,9,9,8,8,8,9,8,7,9,9,8,7,8,8,8,8,8,8,8,8,8,8,7,8,8,8,8,8,8,8,8,8,8,8,8,6,7,8,8,8,8,8,8,8,8,8,6,8,8,8,8,8,7,8,7,8,8,8,8,8,8,8,8,8,8,8,8,8,6,7,8,8,8,6,8,6,6,8,7,8,8,8,8,8,8,7,8,8,8,8,7,8,6,8,8,8,8,8,8,8,8,8,8,8,8,8,8,8,8,8,8,8,8,8,8,8],\"xaxis\":\"x\",\"yaxis\":\"y\",\"type\":\"histogram\"},{\"alignmentgroup\":\"True\",\"bingroup\":\"x\",\"hovertemplate\":\"PlacedOrNot=0<br>CGPA=%{x}<br>count=%{y}<extra></extra>\",\"legendgroup\":\"0\",\"marker\":{\"color\":\"#EF553B\",\"pattern\":{\"shape\":\"\"}},\"name\":\"0\",\"offsetgroup\":\"0\",\"orientation\":\"v\",\"showlegend\":true,\"x\":[6,7,7,6,7,6,7,6,7,7,6,7,7,7,7,7,6,6,6,7,6,6,6,7,7,6,7,7,7,5,5,6,7,6,6,7,5,7,5,6,7,5,5,5,6,5,5,6,5,6,5,5,5,6,5,5,5,6,7,7,5,6,6,5,5,7,7,6,5,6,5,5,7,5,5,5,6,5,7,6,7,7,6,7,7,6,6,7,7,6,6,7,6,6,7,6,6,7,7,6,7,6,7,6,7,7,6,6,7,6,7,6,6,7,6,7,6,7,6,7,7,7,6,7,7,7,6,6,6,7,6,7,6,6,6,6,6,7,7,6,7,7,6,6,7,7,7,7,6,6,6,7,6,6,6,7,6,6,7,7,6,6,6,6,6,7,7,6,6,6,6,6,6,6,5,6,5,5,5,5,5,7,7,6,6,6,6,6,7,6,6,6,7,6,7,6,6,6,6,7,7,6,6,7,7,6,6,7,6,7,6,6,6,6,7,6,7,7,6,7,6,7,7,7,7,6,7,7,7,7,6,6,7,7,7,7,6,6,7,7,7,7,7,7,7,6,6,6,7,7,7,7,6,7,6,7,7,7,7,7,7,7,7,6,7,7,6,7,6,7,7,7,7,7,6,7,6,7,7,7,6,6,7,7,7,6,6,7,7,6,7,7,6,7,7,6,7,7,7,7,6,7,6,7,7,7,6,6,7,7,6,7,6,7,7,6,7,7,6,7,7,6,7,7,7,7,7,7,7,7,7,6,7,6,6,7,6,6,7,7,6,6,6,7,6,6,6,6,6,6,7,7,7,7,7,6,6,6,7,6,6,6,7,6,7,7,6,6,6,7,6,6,6,6,6,7,6,7,7,6,7,6,6,7,7,6,7,7,7,6,7,6,6,7,7,7,7,7,7,7,7,6,7,6,6,7,6,7,7,6,6,7,6,7,6,6,7,7,7,6,6,6,6,7,7,7,6,6,6,7,7,7,7,7,7,7,7,6,7,7,7,7,7,6,7,6,6,6,6,7,6,7,7,7,6,7,7,7,7,7,7,7,7,7,7,7,7,7,7,7,7,7,7,7,7,7,7,7,7,7,7,7,7,7,7,7,7,7,7,7,7,7,7,7,7,7,7,7,7,7,7,7,7,7,7,7,7,7,7,7,7,7,7,7,7,7,7,7,7,7,6,6,7,6,7,7,7,6,7,7,7,7,7,6,6,6,6,7,6,6,7,7,6,7,6,7,7,6,7,6,7,6,7,6,7,6,6,6,7,7,6,6,7,7,7,7,7,7,6,7,7,6,6,6,7,6,6,7,7,6,6,6,6,6,6,7,6,7,7,6,6,7,7,7,6,7,6,7,6,6,6,6,6,6,6,7,7,7,6,7,7,7,7,7,6,7,7,7,6,7,6,6,6,7,7,7,6,7,7,6,6,7,6,7,6,6,7,6,6,7,6,6,5,5,6,5,6,5,5,5,5,6,5,5,5,5,5,6,7,7,6,7,7,7,7,7,7,7,7,7,6,6,7,7,6,7,7,7,6,7,6,6,6,6,6,6,6,6,7,6,6,7,7,6,6,7,6,5,5,5,5,5,6,5,6,5,5,5,5,5,5,5,5,6,5,6,5,6,5,6,5,6,5,6,5,5,5,6,6,5,5,6,6,6,6,6,6,6,5,5,5,6,6,5,6,6,5,6,6,6,6,7,7,7,6,6,6,6,7,7,6,7,6,7,6,7,6,6,6,6,7,6,6,6,7,6,7,7,6,7,6,7,6,7,7,7,7,6,7,7,6,7,6,6,6,6,7,7,6,7,6,7,6,6,7,7,7,7,7,7,7,6,7,7,6,6,6,6,7,6,6,6,6,7,7,7,7,7,7,7,7,7,7,7,7,7,7,7,7,7,7,7,7,7,7,7,7,7,7,7,7,7,7,7,7,7,7,7,6,6,7,6,6,6,7,7,7,6,7,6,7,6,6,6,7,6,7,6,6,7,6,7,6,7,6,6,6,7,6,7,7,6,7,7,6,6,6,6,7,6,6,6,6,7,7,7,6,7,6,7,5,7,5,5,5,5,5,5,5,6,7,5,5,5,7,6,7,5,7,6,5,5,5,7,5,7,6,6,7,6,7,6,6,6,7,7,7,6,6,7,6,7,7,6,6,7,6,6,6,6,6,6,6,6,7,7,6,7,6,7,7,6,7,6,6,7,6,6,6,7,6,7,7,6,7,7,7,7,6,6,7,6,7,6,6,7,7,7,7,6,6,6,6,7,7,7,6,7,6,7,6,6,6,6,6,6,6,6,6,7,6,6,6,6,7,7,6,7,7,6,7,7,6,6,7,6,6,6,6,7,6,6,6,7,7,6,7,6,6,7,7,6,7,6,6,6,7,7,6,6,7,6,6,7,7,6,6,7,7,6,6,6,6,6,6,6,7,6,6,6,7,6,6,7,7,6,7,7,7,6,7,6,6,6,7,6,7,7,7,7,6,6,6,7,6,7,7,6,7,7,6,6,6,6,6,7,7,7,7,7,7,6,7,7,7,6,6,7,6,7,6,6,6,6,6,7,7,7,6,7,6,6,6,7,7,6,6,7,6,6,6,6,6,7,7,7,7,6,7,6,7,7,7,7,6,7,7,7,7,6,6,7,7,7,7,7,7,7,7,7,7,7,7,7,7,7,7,7,7,7,7,7,7,7,7,7,7,7,7,7,7,7,7,6,6,6,6,6,6,7,6,7,7,7,7,7,7,6,6,6,6,7,6,7,7,6,6,7,6,6,6,6,6,6,7,6,6,7,6,6,7,7,7,7,6,7,6,7,6,7,7,7,6,7,6,6,6,6,6,6,7,6,6,7,7,6,7,7,7,7,7,7,7,7,7,6,7,6,6,6,7,7,7,7,6,7,7,6,6,7,6,6,7,7,7,7,6,6,7,6,6,7,7,6,6,6,7,6,6,7,7,7,6,7,7,7,7,7,7,6,6,7,7,7,7,7,7],\"xaxis\":\"x\",\"yaxis\":\"y\",\"type\":\"histogram\"}],                        {\"template\":{\"data\":{\"bar\":[{\"error_x\":{\"color\":\"#2a3f5f\"},\"error_y\":{\"color\":\"#2a3f5f\"},\"marker\":{\"line\":{\"color\":\"#E5ECF6\",\"width\":0.5},\"pattern\":{\"fillmode\":\"overlay\",\"size\":10,\"solidity\":0.2}},\"type\":\"bar\"}],\"barpolar\":[{\"marker\":{\"line\":{\"color\":\"#E5ECF6\",\"width\":0.5},\"pattern\":{\"fillmode\":\"overlay\",\"size\":10,\"solidity\":0.2}},\"type\":\"barpolar\"}],\"carpet\":[{\"aaxis\":{\"endlinecolor\":\"#2a3f5f\",\"gridcolor\":\"white\",\"linecolor\":\"white\",\"minorgridcolor\":\"white\",\"startlinecolor\":\"#2a3f5f\"},\"baxis\":{\"endlinecolor\":\"#2a3f5f\",\"gridcolor\":\"white\",\"linecolor\":\"white\",\"minorgridcolor\":\"white\",\"startlinecolor\":\"#2a3f5f\"},\"type\":\"carpet\"}],\"choropleth\":[{\"colorbar\":{\"outlinewidth\":0,\"ticks\":\"\"},\"type\":\"choropleth\"}],\"contour\":[{\"colorbar\":{\"outlinewidth\":0,\"ticks\":\"\"},\"colorscale\":[[0.0,\"#0d0887\"],[0.1111111111111111,\"#46039f\"],[0.2222222222222222,\"#7201a8\"],[0.3333333333333333,\"#9c179e\"],[0.4444444444444444,\"#bd3786\"],[0.5555555555555556,\"#d8576b\"],[0.6666666666666666,\"#ed7953\"],[0.7777777777777778,\"#fb9f3a\"],[0.8888888888888888,\"#fdca26\"],[1.0,\"#f0f921\"]],\"type\":\"contour\"}],\"contourcarpet\":[{\"colorbar\":{\"outlinewidth\":0,\"ticks\":\"\"},\"type\":\"contourcarpet\"}],\"heatmap\":[{\"colorbar\":{\"outlinewidth\":0,\"ticks\":\"\"},\"colorscale\":[[0.0,\"#0d0887\"],[0.1111111111111111,\"#46039f\"],[0.2222222222222222,\"#7201a8\"],[0.3333333333333333,\"#9c179e\"],[0.4444444444444444,\"#bd3786\"],[0.5555555555555556,\"#d8576b\"],[0.6666666666666666,\"#ed7953\"],[0.7777777777777778,\"#fb9f3a\"],[0.8888888888888888,\"#fdca26\"],[1.0,\"#f0f921\"]],\"type\":\"heatmap\"}],\"heatmapgl\":[{\"colorbar\":{\"outlinewidth\":0,\"ticks\":\"\"},\"colorscale\":[[0.0,\"#0d0887\"],[0.1111111111111111,\"#46039f\"],[0.2222222222222222,\"#7201a8\"],[0.3333333333333333,\"#9c179e\"],[0.4444444444444444,\"#bd3786\"],[0.5555555555555556,\"#d8576b\"],[0.6666666666666666,\"#ed7953\"],[0.7777777777777778,\"#fb9f3a\"],[0.8888888888888888,\"#fdca26\"],[1.0,\"#f0f921\"]],\"type\":\"heatmapgl\"}],\"histogram\":[{\"marker\":{\"pattern\":{\"fillmode\":\"overlay\",\"size\":10,\"solidity\":0.2}},\"type\":\"histogram\"}],\"histogram2d\":[{\"colorbar\":{\"outlinewidth\":0,\"ticks\":\"\"},\"colorscale\":[[0.0,\"#0d0887\"],[0.1111111111111111,\"#46039f\"],[0.2222222222222222,\"#7201a8\"],[0.3333333333333333,\"#9c179e\"],[0.4444444444444444,\"#bd3786\"],[0.5555555555555556,\"#d8576b\"],[0.6666666666666666,\"#ed7953\"],[0.7777777777777778,\"#fb9f3a\"],[0.8888888888888888,\"#fdca26\"],[1.0,\"#f0f921\"]],\"type\":\"histogram2d\"}],\"histogram2dcontour\":[{\"colorbar\":{\"outlinewidth\":0,\"ticks\":\"\"},\"colorscale\":[[0.0,\"#0d0887\"],[0.1111111111111111,\"#46039f\"],[0.2222222222222222,\"#7201a8\"],[0.3333333333333333,\"#9c179e\"],[0.4444444444444444,\"#bd3786\"],[0.5555555555555556,\"#d8576b\"],[0.6666666666666666,\"#ed7953\"],[0.7777777777777778,\"#fb9f3a\"],[0.8888888888888888,\"#fdca26\"],[1.0,\"#f0f921\"]],\"type\":\"histogram2dcontour\"}],\"mesh3d\":[{\"colorbar\":{\"outlinewidth\":0,\"ticks\":\"\"},\"type\":\"mesh3d\"}],\"parcoords\":[{\"line\":{\"colorbar\":{\"outlinewidth\":0,\"ticks\":\"\"}},\"type\":\"parcoords\"}],\"pie\":[{\"automargin\":true,\"type\":\"pie\"}],\"scatter\":[{\"marker\":{\"colorbar\":{\"outlinewidth\":0,\"ticks\":\"\"}},\"type\":\"scatter\"}],\"scatter3d\":[{\"line\":{\"colorbar\":{\"outlinewidth\":0,\"ticks\":\"\"}},\"marker\":{\"colorbar\":{\"outlinewidth\":0,\"ticks\":\"\"}},\"type\":\"scatter3d\"}],\"scattercarpet\":[{\"marker\":{\"colorbar\":{\"outlinewidth\":0,\"ticks\":\"\"}},\"type\":\"scattercarpet\"}],\"scattergeo\":[{\"marker\":{\"colorbar\":{\"outlinewidth\":0,\"ticks\":\"\"}},\"type\":\"scattergeo\"}],\"scattergl\":[{\"marker\":{\"colorbar\":{\"outlinewidth\":0,\"ticks\":\"\"}},\"type\":\"scattergl\"}],\"scattermapbox\":[{\"marker\":{\"colorbar\":{\"outlinewidth\":0,\"ticks\":\"\"}},\"type\":\"scattermapbox\"}],\"scatterpolar\":[{\"marker\":{\"colorbar\":{\"outlinewidth\":0,\"ticks\":\"\"}},\"type\":\"scatterpolar\"}],\"scatterpolargl\":[{\"marker\":{\"colorbar\":{\"outlinewidth\":0,\"ticks\":\"\"}},\"type\":\"scatterpolargl\"}],\"scatterternary\":[{\"marker\":{\"colorbar\":{\"outlinewidth\":0,\"ticks\":\"\"}},\"type\":\"scatterternary\"}],\"surface\":[{\"colorbar\":{\"outlinewidth\":0,\"ticks\":\"\"},\"colorscale\":[[0.0,\"#0d0887\"],[0.1111111111111111,\"#46039f\"],[0.2222222222222222,\"#7201a8\"],[0.3333333333333333,\"#9c179e\"],[0.4444444444444444,\"#bd3786\"],[0.5555555555555556,\"#d8576b\"],[0.6666666666666666,\"#ed7953\"],[0.7777777777777778,\"#fb9f3a\"],[0.8888888888888888,\"#fdca26\"],[1.0,\"#f0f921\"]],\"type\":\"surface\"}],\"table\":[{\"cells\":{\"fill\":{\"color\":\"#EBF0F8\"},\"line\":{\"color\":\"white\"}},\"header\":{\"fill\":{\"color\":\"#C8D4E3\"},\"line\":{\"color\":\"white\"}},\"type\":\"table\"}]},\"layout\":{\"annotationdefaults\":{\"arrowcolor\":\"#2a3f5f\",\"arrowhead\":0,\"arrowwidth\":1},\"autotypenumbers\":\"strict\",\"coloraxis\":{\"colorbar\":{\"outlinewidth\":0,\"ticks\":\"\"}},\"colorscale\":{\"diverging\":[[0,\"#8e0152\"],[0.1,\"#c51b7d\"],[0.2,\"#de77ae\"],[0.3,\"#f1b6da\"],[0.4,\"#fde0ef\"],[0.5,\"#f7f7f7\"],[0.6,\"#e6f5d0\"],[0.7,\"#b8e186\"],[0.8,\"#7fbc41\"],[0.9,\"#4d9221\"],[1,\"#276419\"]],\"sequential\":[[0.0,\"#0d0887\"],[0.1111111111111111,\"#46039f\"],[0.2222222222222222,\"#7201a8\"],[0.3333333333333333,\"#9c179e\"],[0.4444444444444444,\"#bd3786\"],[0.5555555555555556,\"#d8576b\"],[0.6666666666666666,\"#ed7953\"],[0.7777777777777778,\"#fb9f3a\"],[0.8888888888888888,\"#fdca26\"],[1.0,\"#f0f921\"]],\"sequentialminus\":[[0.0,\"#0d0887\"],[0.1111111111111111,\"#46039f\"],[0.2222222222222222,\"#7201a8\"],[0.3333333333333333,\"#9c179e\"],[0.4444444444444444,\"#bd3786\"],[0.5555555555555556,\"#d8576b\"],[0.6666666666666666,\"#ed7953\"],[0.7777777777777778,\"#fb9f3a\"],[0.8888888888888888,\"#fdca26\"],[1.0,\"#f0f921\"]]},\"colorway\":[\"#636efa\",\"#EF553B\",\"#00cc96\",\"#ab63fa\",\"#FFA15A\",\"#19d3f3\",\"#FF6692\",\"#B6E880\",\"#FF97FF\",\"#FECB52\"],\"font\":{\"color\":\"#2a3f5f\"},\"geo\":{\"bgcolor\":\"white\",\"lakecolor\":\"white\",\"landcolor\":\"#E5ECF6\",\"showlakes\":true,\"showland\":true,\"subunitcolor\":\"white\"},\"hoverlabel\":{\"align\":\"left\"},\"hovermode\":\"closest\",\"mapbox\":{\"style\":\"light\"},\"paper_bgcolor\":\"white\",\"plot_bgcolor\":\"#E5ECF6\",\"polar\":{\"angularaxis\":{\"gridcolor\":\"white\",\"linecolor\":\"white\",\"ticks\":\"\"},\"bgcolor\":\"#E5ECF6\",\"radialaxis\":{\"gridcolor\":\"white\",\"linecolor\":\"white\",\"ticks\":\"\"}},\"scene\":{\"xaxis\":{\"backgroundcolor\":\"#E5ECF6\",\"gridcolor\":\"white\",\"gridwidth\":2,\"linecolor\":\"white\",\"showbackground\":true,\"ticks\":\"\",\"zerolinecolor\":\"white\"},\"yaxis\":{\"backgroundcolor\":\"#E5ECF6\",\"gridcolor\":\"white\",\"gridwidth\":2,\"linecolor\":\"white\",\"showbackground\":true,\"ticks\":\"\",\"zerolinecolor\":\"white\"},\"zaxis\":{\"backgroundcolor\":\"#E5ECF6\",\"gridcolor\":\"white\",\"gridwidth\":2,\"linecolor\":\"white\",\"showbackground\":true,\"ticks\":\"\",\"zerolinecolor\":\"white\"}},\"shapedefaults\":{\"line\":{\"color\":\"#2a3f5f\"}},\"ternary\":{\"aaxis\":{\"gridcolor\":\"white\",\"linecolor\":\"white\",\"ticks\":\"\"},\"baxis\":{\"gridcolor\":\"white\",\"linecolor\":\"white\",\"ticks\":\"\"},\"bgcolor\":\"#E5ECF6\",\"caxis\":{\"gridcolor\":\"white\",\"linecolor\":\"white\",\"ticks\":\"\"}},\"title\":{\"x\":0.05},\"xaxis\":{\"automargin\":true,\"gridcolor\":\"white\",\"linecolor\":\"white\",\"ticks\":\"\",\"title\":{\"standoff\":15},\"zerolinecolor\":\"white\",\"zerolinewidth\":2},\"yaxis\":{\"automargin\":true,\"gridcolor\":\"white\",\"linecolor\":\"white\",\"ticks\":\"\",\"title\":{\"standoff\":15},\"zerolinecolor\":\"white\",\"zerolinewidth\":2}}},\"xaxis\":{\"anchor\":\"y\",\"domain\":[0.0,1.0],\"title\":{\"text\":\"CGPA\"}},\"yaxis\":{\"anchor\":\"x\",\"domain\":[0.0,1.0],\"title\":{\"text\":\"count\"}},\"legend\":{\"title\":{\"text\":\"PlacedOrNot\"},\"tracegroupgap\":0},\"margin\":{\"t\":60},\"barmode\":\"group\"},                        {\"responsive\": true}                    ).then(function(){\n",
              "                            \n",
              "var gd = document.getElementById('b882741a-5959-40e0-abe2-912903b2d0be');\n",
              "var x = new MutationObserver(function (mutations, observer) {{\n",
              "        var display = window.getComputedStyle(gd).display;\n",
              "        if (!display || display === 'none') {{\n",
              "            console.log([gd, 'removed!']);\n",
              "            Plotly.purge(gd);\n",
              "            observer.disconnect();\n",
              "        }}\n",
              "}});\n",
              "\n",
              "// Listen for the removal of the full notebook cells\n",
              "var notebookContainer = gd.closest('#notebook-container');\n",
              "if (notebookContainer) {{\n",
              "    x.observe(notebookContainer, {childList: true});\n",
              "}}\n",
              "\n",
              "// Listen for the clearing of the current output cell\n",
              "var outputEl = gd.closest('.output');\n",
              "if (outputEl) {{\n",
              "    x.observe(outputEl, {childList: true});\n",
              "}}\n",
              "\n",
              "                        })                };                            </script>        </div>\n",
              "</body>\n",
              "</html>"
            ]
          },
          "metadata": {}
        }
      ],
      "source": [
        "fig = px.histogram(df, \"CGPA\", color = \"PlacedOrNot\", barmode = \"group\")\n",
        "fig.show()"
      ]
    },
    {
      "cell_type": "code",
      "execution_count": 18,
      "metadata": {
        "colab": {
          "base_uri": "https://localhost:8080/",
          "height": 542
        },
        "id": "5yq6rOvmV8oM",
        "outputId": "ac2e8721-f44b-4317-e250-201a26d98cdb"
      },
      "outputs": [
        {
          "output_type": "display_data",
          "data": {
            "text/html": [
              "<html>\n",
              "<head><meta charset=\"utf-8\" /></head>\n",
              "<body>\n",
              "    <div>            <script src=\"https://cdnjs.cloudflare.com/ajax/libs/mathjax/2.7.5/MathJax.js?config=TeX-AMS-MML_SVG\"></script><script type=\"text/javascript\">if (window.MathJax) {MathJax.Hub.Config({SVG: {font: \"STIX-Web\"}});}</script>                <script type=\"text/javascript\">window.PlotlyConfig = {MathJaxConfig: 'local'};</script>\n",
              "        <script src=\"https://cdn.plot.ly/plotly-2.8.3.min.js\"></script>                <div id=\"e045200c-7ee8-4104-8139-f25795c71f7b\" class=\"plotly-graph-div\" style=\"height:525px; width:100%;\"></div>            <script type=\"text/javascript\">                                    window.PLOTLYENV=window.PLOTLYENV || {};                                    if (document.getElementById(\"e045200c-7ee8-4104-8139-f25795c71f7b\")) {                    Plotly.newPlot(                        \"e045200c-7ee8-4104-8139-f25795c71f7b\",                        [{\"alignmentgroup\":\"True\",\"bingroup\":\"x\",\"hovertemplate\":\"PlacedOrNot=1<br>Hostel=%{x}<br>count=%{y}<extra></extra>\",\"legendgroup\":\"1\",\"marker\":{\"color\":\"#636efa\",\"pattern\":{\"shape\":\"\"}},\"name\":\"1\",\"offsetgroup\":\"1\",\"orientation\":\"v\",\"showlegend\":true,\"x\":[1,1,0,0,1,0,0,0,0,1,0,1,0,0,0,0,1,0,0,0,0,0,1,1,0,0,0,0,0,0,0,0,1,0,0,0,0,0,0,0,0,0,0,1,0,0,0,0,1,0,0,0,0,0,0,1,1,0,0,0,0,1,0,1,0,0,0,0,0,0,0,0,0,0,0,0,0,0,0,0,0,1,1,0,1,0,0,0,1,0,0,1,0,1,0,0,0,0,0,0,0,0,1,0,0,0,0,0,0,0,0,0,1,0,0,0,0,0,0,0,0,0,1,1,1,0,0,0,0,0,0,0,0,0,0,0,0,0,0,1,1,0,0,0,0,1,1,1,0,0,0,0,1,0,1,0,0,0,0,1,1,1,0,1,0,0,0,0,0,0,1,0,0,0,0,0,0,1,0,0,0,1,0,1,0,0,0,0,0,0,1,0,0,0,0,0,1,0,1,0,0,0,0,0,1,1,0,1,0,1,0,0,0,0,1,0,0,0,0,0,1,0,0,1,0,0,1,0,0,1,0,1,0,1,1,0,0,1,0,0,0,0,1,0,0,1,1,1,0,1,0,0,0,0,0,0,0,1,0,1,0,0,0,0,0,1,0,0,1,0,0,1,1,0,0,1,1,0,0,1,1,0,0,1,1,1,0,0,1,0,1,0,0,0,0,0,0,0,0,0,1,0,0,1,0,0,0,0,0,0,0,0,0,0,0,0,0,0,0,0,0,1,0,1,0,0,0,1,0,0,0,0,0,0,0,1,1,1,0,0,0,1,1,0,0,0,0,0,0,0,0,0,1,1,1,0,0,1,0,0,0,0,1,0,0,0,0,0,1,0,1,0,0,0,0,0,1,0,0,0,0,0,0,0,0,1,0,0,1,0,0,0,0,0,0,0,0,1,1,0,0,1,0,0,0,0,0,0,0,1,1,0,0,0,0,0,0,0,0,0,0,0,0,1,1,0,0,0,0,0,1,0,1,0,0,1,0,0,0,0,0,0,0,1,0,1,0,1,1,0,0,0,0,1,1,0,0,0,0,0,1,0,0,0,0,0,0,1,0,1,1,0,1,0,0,0,0,0,1,1,0,0,0,0,1,0,0,0,0,0,0,0,0,0,0,0,1,1,1,0,0,0,0,0,0,0,0,1,0,0,0,0,0,0,0,0,1,0,0,0,0,0,1,0,0,1,0,0,0,0,0,0,0,0,0,0,0,0,1,0,0,0,0,0,0,0,0,0,0,0,0,0,0,0,0,0,0,0,0,0,1,1,0,0,0,1,1,0,1,0,0,1,0,0,0,0,0,0,1,1,0,0,1,0,0,0,0,0,0,1,0,0,0,0,1,1,0,0,0,0,0,1,0,0,0,1,0,0,1,1,0,0,0,1,0,0,0,0,0,0,0,0,0,0,0,0,0,0,0,1,1,0,0,0,0,0,0,1,1,1,1,0,0,1,1,1,0,0,1,0,0,1,0,0,0,0,0,0,0,1,1,1,0,0,1,0,1,0,0,0,0,0,0,0,0,0,1,0,1,1,0,1,0,0,1,1,0,0,0,1,1,1,0,0,1,1,1,1,1,1,0,0,1,0,0,0,0,0,0,0,0,0,0,0,0,0,0,0,0,1,0,0,0,1,0,1,0,0,1,0,1,0,0,0,1,1,1,0,0,0,1,1,0,0,1,0,0,0,1,0,0,0,0,0,1,1,0,0,0,0,0,1,1,1,0,1,0,0,0,1,1,0,0,0,0,1,0,0,0,0,1,1,0,0,0,0,0,0,0,0,0,0,0,0,1,1,1,0,0,0,0,0,0,0,0,0,0,0,1,0,0,1,0,0,0,0,0,0,1,0,1,0,0,0,0,1,0,0,0,0,0,0,0,0,0,0,1,1,0,0,0,0,0,0,0,0,1,0,0,0,0,1,1,0,0,1,0,0,0,0,1,0,0,0,1,0,0,1,0,0,0,0,0,0,1,0,0,0,0,1,0,0,0,0,0,0,1,0,0,0,0,1,0,0,0,0,0,0,0,1,0,1,0,0,0,0,0,0,1,0,0,0,1,0,0,0,0,0,0,0,0,1,0,0,1,0,0,1,0,1,1,0,0,0,0,0,0,0,1,0,0,0,1,1,1,0,1,1,0,0,0,0,0,0,0,1,0,0,0,0,1,0,0,0,0,0,0,1,0,0,0,1,0,0,0,0,1,1,0,0,1,1,0,0,0,0,0,0,0,1,0,0,0,0,0,0,0,1,1,0,0,1,0,0,0,0,0,0,0,1,0,0,0,0,1,0,1,0,0,0,0,0,1,1,0,1,0,0,0,0,0,0,1,0,0,0,0,0,0,0,1,1,0,0,1,0,0,1,1,0,1,0,0,0,1,0,0,0,0,0,0,0,0,0,0,0,0,0,0,0,0,0,1,0,1,0,0,0,0,0,1,0,0,0,0,1,0,0,1,0,0,0,0,1,1,0,1,1,0,0,1,0,0,0,1,0,0,0,0,1,0,1,0,0,1,0,1,1,0,0,0,0,0,0,1,1,1,0,0,1,0,0,0,1,0,0,0,1,0,1,0,0,0,0,0,0,0,0,0,0,0,1,1,0,0,0,0,0,0,1,0,0,0,1,0,0,1,0,0,0,1,0,0,0,0,0,0,1,0,1,0,0,0,0,0,1,0,1,0,1,0,1,0,0,0,0,1,0,1,1,0,0,0,0,0,0,0,0,0,0,0,0,0,0,0,0,0,1,0,1,0,1,0,0,0,1,0,0,0,0,1,1,0,1,0,0,1,1,0,1,1,1,0,1,1,1,0,1,1,1,1,0,0,0,0,0,0,0,1,1,0,0,1,0,0,1,0,0,0,0,0,0,0,0,0,0,1,0,0,0,0,0,1,0,1,0,0,0,0,0,0,0,0,0,0,0,1,0,0,1,0,1,0,1,0,0,0,0,0,0,0,1,0,0,0,0,0,0,0,1,1,0,1,0,0,0,0,0,0,0,0,0,0,0,1,0,1,0,1,1,1,0,1,0,0,0,1,0,0,0,0,0,0,0,0,1,0,0,0,0,0,0,0,1,1,0,0,1,0,1,0,0,0,0,1,0,0,0,0,1,0,0,1,0,0,1,1,0,1,0,0,0,0,0,1,0,0,0,0,1,0,0,0,0,0,0,1,0,0,1,0,1,0,0,0,1,0,0,0,1,1,0,0,0,1,1,0,0,0,1,1,0,0,0,0,0,0,0,0,1,0,0,0,1,0,0,0,0,1,1,0,1,0,0,0,0,0,0,0,1,1,1,0,1,0,0,1,0,0,0,0,1,0,0,0,0,1,0,1,0,0,0,1,0,0,1,0,0,0,0,0,0,0,0,0,0,0,0,1,0,1,0,0,0,0,0,0,0,1,0,0,0,0,0,0,1,0,0,1,1,0,0,0,0,0,1,0,0,0,1,0,0,0,1,1,0,0,0,1,1,0,0,0,0,0,0,0,1,0,0,0,0,0,0,0,0,1,0,1,0,0,1,0,0,0,0,0,0,0,0,1,0,1,0,0,0,0,0,0,1,1,1,0,0,1,1,0,1,0,0,0,0,0,0,1,1,0,0,0,0,0,0,0,0,0,1,1,1,0,0,0,1,0,0,0,1,0,0,0,1,0,0,0,0,1,0,0,0,0,1,0,0,0,1,0,1,0,0,0],\"xaxis\":\"x\",\"yaxis\":\"y\",\"type\":\"histogram\"},{\"alignmentgroup\":\"True\",\"bingroup\":\"x\",\"hovertemplate\":\"PlacedOrNot=0<br>Hostel=%{x}<br>count=%{y}<extra></extra>\",\"legendgroup\":\"0\",\"marker\":{\"color\":\"#EF553B\",\"pattern\":{\"shape\":\"\"}},\"name\":\"0\",\"offsetgroup\":\"0\",\"orientation\":\"v\",\"showlegend\":true,\"x\":[0,0,0,1,0,1,1,0,0,0,0,0,0,0,0,0,0,0,0,0,1,0,1,0,0,0,0,0,0,0,1,0,0,0,0,0,0,0,0,0,1,0,1,1,0,0,0,0,0,0,1,0,0,0,0,0,0,0,0,1,1,1,0,0,0,0,1,0,1,0,0,0,1,0,0,1,1,1,1,0,0,1,0,0,0,0,0,1,0,1,1,0,0,1,1,1,1,0,0,1,0,1,1,0,1,0,0,0,0,0,1,0,0,0,1,1,0,0,1,0,1,0,1,0,0,0,1,1,0,0,0,0,1,1,0,1,0,0,1,0,0,0,1,0,0,0,0,0,0,0,0,1,0,0,1,0,0,1,0,0,0,1,0,0,1,0,0,0,0,1,0,0,0,0,1,1,0,1,0,0,0,0,0,1,0,1,0,1,0,0,0,0,0,0,0,0,0,0,1,0,0,0,0,0,0,0,0,1,0,1,1,1,0,0,0,1,0,1,0,1,1,0,0,1,0,0,0,1,0,0,0,0,0,0,0,1,1,1,0,1,0,0,0,1,0,0,0,0,1,0,0,0,1,0,0,0,0,0,0,0,0,0,0,0,0,0,0,1,0,0,0,1,0,0,0,0,0,0,0,0,0,0,0,1,0,1,0,0,1,1,0,0,1,0,0,0,1,0,1,0,0,0,0,1,0,1,0,0,0,0,0,1,0,0,0,0,1,0,0,0,0,0,0,0,0,1,0,0,1,0,0,1,0,0,0,1,0,0,0,1,1,0,0,0,0,0,0,1,0,0,0,0,0,1,0,1,1,0,1,1,0,0,1,0,0,1,0,1,0,1,1,1,0,0,1,0,1,0,1,1,1,0,0,0,0,0,1,0,1,0,0,0,1,0,1,1,1,1,1,1,1,0,0,0,1,1,0,1,0,0,1,1,0,0,1,0,0,0,0,0,0,1,1,1,0,1,0,1,0,0,1,0,0,0,0,0,0,0,0,0,1,0,0,1,1,0,0,1,0,0,0,0,0,0,0,0,1,1,0,0,1,1,0,0,0,1,1,0,0,1,0,0,0,1,0,0,0,1,0,1,1,1,0,1,0,0,0,0,0,0,1,1,0,1,0,0,1,0,0,0,0,1,1,0,0,0,0,0,0,1,0,0,1,1,1,0,0,0,1,1,0,0,0,1,0,0,0,0,0,0,0,0,0,0,1,0,1,0,0,1,0,0,0,1,1,1,0,0,1,1,0,0,0,1,0,0,1,0,1,1,0,1,0,0,0,0,0,0,0,0,0,0,0,0,0,0,1,0,0,1,0,1,0,0,0,0,1,0,1,0,0,0,0,1,0,0,0,0,0,0,0,0,0,0,0,0,0,0,1,1,0,0,0,0,0,0,0,1,0,0,0,1,0,1,0,0,1,1,0,0,0,0,0,0,0,1,0,0,0,0,0,0,0,1,1,0,0,0,1,0,0,0,0,0,0,0,0,0,0,1,0,0,0,0,0,1,0,0,1,1,0,0,0,0,0,1,1,0,0,0,1,0,1,1,1,1,0,0,0,0,0,1,1,0,0,0,0,0,1,1,1,1,0,0,1,1,0,1,0,0,0,0,0,0,0,1,0,0,0,0,1,0,1,0,1,1,0,0,0,0,0,0,0,1,0,0,0,1,1,0,1,0,0,1,0,1,0,0,0,0,0,0,1,0,0,0,0,0,0,1,0,0,0,1,0,0,0,0,1,0,1,0,0,1,0,0,0,1,0,1,1,0,1,1,0,1,0,1,0,1,0,0,1,1,0,0,0,0,0,1,0,0,0,0,1,1,1,1,1,0,0,0,0,0,0,0,0,1,0,0,1,1,0,0,0,0,0,0,0,0,0,0,0,0,0,0,1,0,1,1,0,0,0,1,0,0,0,0,0,0,0,0,0,0,1,0,0,0,0,0,0,0,0,0,0,0,0,0,0,0,0,0,1,0,0,0,0,0,0,1,0,1,0,0,0,1,0,1,0,0,0,1,0,0,1,1,1,0,0,0,0,0,0,0,0,0,0,0,0,0,0,0,0,1,1,1,0,0,0,1,0,0,0,0,0,0,1,0,0,0,1,1,0,0,0,0,1,0,0,0,1,0,0,1,0,1,1,0,0,0,1,0,0,0,1,1,0,0,0,0,0,0,0,0,1,0,0,1,0,0,0,1,0,1,1,1,0,0,0,0,0,0,0,0,0,0,0,0,0,0,0,0,0,0,0,0,0,0,0,0,0,0,1,0,0,1,1,0,0,1,0,1,0,0,0,0,0,0,0,0,0,0,0,0,0,0,0,0,1,0,0,0,0,0,1,0,0,0,1,0,0,0,1,0,0,0,1,1,1,0,1,0,1,0,0,0,0,0,1,1,1,1,0,0,0,0,1,1,0,0,0,0,1,0,1,0,0,0,0,0,0,0,1,0,0,0,0,0,1,0,0,1,1,1,0,0,0,0,0,0,0,1,1,1,0,0,1,0,0,0,0,0,0,0,0,0,0,0,0,0,0,0,0,0,0,0,1,0,1,1,0,1,1,0,0,0,0,0,1,0,0,0,1,0,1,0,0,1,0,0,1,1,0,0,1,1,0,1,0,1,1,0,0,1,1,0,1,0,0,0,0,0,1,1,0,1,1,0,0,1,0,1,0,0,0,0,0,1,0,1,0,1,1,0,1,0,0,0,1,0,0,0,1,0,0,0,1,0,1,0,0,0,1,0,0,0,0,0,0,1,0,0,1,0,0,0,0,0,0,0,0,0,0,0,1,0,1,0,0,1,0,1,0,0,1,0,0,0,1,0,1,0,0,0,1,1,1,0,0,0,0,1,0,0,0,1,1,1,0,0,1,0,0,0,1,0,0,1,0,0,0,0,0,0,0,0,1,0,0,0,0,0,0,1,0,1,1,0,1,0,0,1,0,1,1,1,0,0,0,0,0,0,1,0,0,1,0,0,0,0,0,0,1,0,1,0,0],\"xaxis\":\"x\",\"yaxis\":\"y\",\"type\":\"histogram\"}],                        {\"template\":{\"data\":{\"bar\":[{\"error_x\":{\"color\":\"#2a3f5f\"},\"error_y\":{\"color\":\"#2a3f5f\"},\"marker\":{\"line\":{\"color\":\"#E5ECF6\",\"width\":0.5},\"pattern\":{\"fillmode\":\"overlay\",\"size\":10,\"solidity\":0.2}},\"type\":\"bar\"}],\"barpolar\":[{\"marker\":{\"line\":{\"color\":\"#E5ECF6\",\"width\":0.5},\"pattern\":{\"fillmode\":\"overlay\",\"size\":10,\"solidity\":0.2}},\"type\":\"barpolar\"}],\"carpet\":[{\"aaxis\":{\"endlinecolor\":\"#2a3f5f\",\"gridcolor\":\"white\",\"linecolor\":\"white\",\"minorgridcolor\":\"white\",\"startlinecolor\":\"#2a3f5f\"},\"baxis\":{\"endlinecolor\":\"#2a3f5f\",\"gridcolor\":\"white\",\"linecolor\":\"white\",\"minorgridcolor\":\"white\",\"startlinecolor\":\"#2a3f5f\"},\"type\":\"carpet\"}],\"choropleth\":[{\"colorbar\":{\"outlinewidth\":0,\"ticks\":\"\"},\"type\":\"choropleth\"}],\"contour\":[{\"colorbar\":{\"outlinewidth\":0,\"ticks\":\"\"},\"colorscale\":[[0.0,\"#0d0887\"],[0.1111111111111111,\"#46039f\"],[0.2222222222222222,\"#7201a8\"],[0.3333333333333333,\"#9c179e\"],[0.4444444444444444,\"#bd3786\"],[0.5555555555555556,\"#d8576b\"],[0.6666666666666666,\"#ed7953\"],[0.7777777777777778,\"#fb9f3a\"],[0.8888888888888888,\"#fdca26\"],[1.0,\"#f0f921\"]],\"type\":\"contour\"}],\"contourcarpet\":[{\"colorbar\":{\"outlinewidth\":0,\"ticks\":\"\"},\"type\":\"contourcarpet\"}],\"heatmap\":[{\"colorbar\":{\"outlinewidth\":0,\"ticks\":\"\"},\"colorscale\":[[0.0,\"#0d0887\"],[0.1111111111111111,\"#46039f\"],[0.2222222222222222,\"#7201a8\"],[0.3333333333333333,\"#9c179e\"],[0.4444444444444444,\"#bd3786\"],[0.5555555555555556,\"#d8576b\"],[0.6666666666666666,\"#ed7953\"],[0.7777777777777778,\"#fb9f3a\"],[0.8888888888888888,\"#fdca26\"],[1.0,\"#f0f921\"]],\"type\":\"heatmap\"}],\"heatmapgl\":[{\"colorbar\":{\"outlinewidth\":0,\"ticks\":\"\"},\"colorscale\":[[0.0,\"#0d0887\"],[0.1111111111111111,\"#46039f\"],[0.2222222222222222,\"#7201a8\"],[0.3333333333333333,\"#9c179e\"],[0.4444444444444444,\"#bd3786\"],[0.5555555555555556,\"#d8576b\"],[0.6666666666666666,\"#ed7953\"],[0.7777777777777778,\"#fb9f3a\"],[0.8888888888888888,\"#fdca26\"],[1.0,\"#f0f921\"]],\"type\":\"heatmapgl\"}],\"histogram\":[{\"marker\":{\"pattern\":{\"fillmode\":\"overlay\",\"size\":10,\"solidity\":0.2}},\"type\":\"histogram\"}],\"histogram2d\":[{\"colorbar\":{\"outlinewidth\":0,\"ticks\":\"\"},\"colorscale\":[[0.0,\"#0d0887\"],[0.1111111111111111,\"#46039f\"],[0.2222222222222222,\"#7201a8\"],[0.3333333333333333,\"#9c179e\"],[0.4444444444444444,\"#bd3786\"],[0.5555555555555556,\"#d8576b\"],[0.6666666666666666,\"#ed7953\"],[0.7777777777777778,\"#fb9f3a\"],[0.8888888888888888,\"#fdca26\"],[1.0,\"#f0f921\"]],\"type\":\"histogram2d\"}],\"histogram2dcontour\":[{\"colorbar\":{\"outlinewidth\":0,\"ticks\":\"\"},\"colorscale\":[[0.0,\"#0d0887\"],[0.1111111111111111,\"#46039f\"],[0.2222222222222222,\"#7201a8\"],[0.3333333333333333,\"#9c179e\"],[0.4444444444444444,\"#bd3786\"],[0.5555555555555556,\"#d8576b\"],[0.6666666666666666,\"#ed7953\"],[0.7777777777777778,\"#fb9f3a\"],[0.8888888888888888,\"#fdca26\"],[1.0,\"#f0f921\"]],\"type\":\"histogram2dcontour\"}],\"mesh3d\":[{\"colorbar\":{\"outlinewidth\":0,\"ticks\":\"\"},\"type\":\"mesh3d\"}],\"parcoords\":[{\"line\":{\"colorbar\":{\"outlinewidth\":0,\"ticks\":\"\"}},\"type\":\"parcoords\"}],\"pie\":[{\"automargin\":true,\"type\":\"pie\"}],\"scatter\":[{\"marker\":{\"colorbar\":{\"outlinewidth\":0,\"ticks\":\"\"}},\"type\":\"scatter\"}],\"scatter3d\":[{\"line\":{\"colorbar\":{\"outlinewidth\":0,\"ticks\":\"\"}},\"marker\":{\"colorbar\":{\"outlinewidth\":0,\"ticks\":\"\"}},\"type\":\"scatter3d\"}],\"scattercarpet\":[{\"marker\":{\"colorbar\":{\"outlinewidth\":0,\"ticks\":\"\"}},\"type\":\"scattercarpet\"}],\"scattergeo\":[{\"marker\":{\"colorbar\":{\"outlinewidth\":0,\"ticks\":\"\"}},\"type\":\"scattergeo\"}],\"scattergl\":[{\"marker\":{\"colorbar\":{\"outlinewidth\":0,\"ticks\":\"\"}},\"type\":\"scattergl\"}],\"scattermapbox\":[{\"marker\":{\"colorbar\":{\"outlinewidth\":0,\"ticks\":\"\"}},\"type\":\"scattermapbox\"}],\"scatterpolar\":[{\"marker\":{\"colorbar\":{\"outlinewidth\":0,\"ticks\":\"\"}},\"type\":\"scatterpolar\"}],\"scatterpolargl\":[{\"marker\":{\"colorbar\":{\"outlinewidth\":0,\"ticks\":\"\"}},\"type\":\"scatterpolargl\"}],\"scatterternary\":[{\"marker\":{\"colorbar\":{\"outlinewidth\":0,\"ticks\":\"\"}},\"type\":\"scatterternary\"}],\"surface\":[{\"colorbar\":{\"outlinewidth\":0,\"ticks\":\"\"},\"colorscale\":[[0.0,\"#0d0887\"],[0.1111111111111111,\"#46039f\"],[0.2222222222222222,\"#7201a8\"],[0.3333333333333333,\"#9c179e\"],[0.4444444444444444,\"#bd3786\"],[0.5555555555555556,\"#d8576b\"],[0.6666666666666666,\"#ed7953\"],[0.7777777777777778,\"#fb9f3a\"],[0.8888888888888888,\"#fdca26\"],[1.0,\"#f0f921\"]],\"type\":\"surface\"}],\"table\":[{\"cells\":{\"fill\":{\"color\":\"#EBF0F8\"},\"line\":{\"color\":\"white\"}},\"header\":{\"fill\":{\"color\":\"#C8D4E3\"},\"line\":{\"color\":\"white\"}},\"type\":\"table\"}]},\"layout\":{\"annotationdefaults\":{\"arrowcolor\":\"#2a3f5f\",\"arrowhead\":0,\"arrowwidth\":1},\"autotypenumbers\":\"strict\",\"coloraxis\":{\"colorbar\":{\"outlinewidth\":0,\"ticks\":\"\"}},\"colorscale\":{\"diverging\":[[0,\"#8e0152\"],[0.1,\"#c51b7d\"],[0.2,\"#de77ae\"],[0.3,\"#f1b6da\"],[0.4,\"#fde0ef\"],[0.5,\"#f7f7f7\"],[0.6,\"#e6f5d0\"],[0.7,\"#b8e186\"],[0.8,\"#7fbc41\"],[0.9,\"#4d9221\"],[1,\"#276419\"]],\"sequential\":[[0.0,\"#0d0887\"],[0.1111111111111111,\"#46039f\"],[0.2222222222222222,\"#7201a8\"],[0.3333333333333333,\"#9c179e\"],[0.4444444444444444,\"#bd3786\"],[0.5555555555555556,\"#d8576b\"],[0.6666666666666666,\"#ed7953\"],[0.7777777777777778,\"#fb9f3a\"],[0.8888888888888888,\"#fdca26\"],[1.0,\"#f0f921\"]],\"sequentialminus\":[[0.0,\"#0d0887\"],[0.1111111111111111,\"#46039f\"],[0.2222222222222222,\"#7201a8\"],[0.3333333333333333,\"#9c179e\"],[0.4444444444444444,\"#bd3786\"],[0.5555555555555556,\"#d8576b\"],[0.6666666666666666,\"#ed7953\"],[0.7777777777777778,\"#fb9f3a\"],[0.8888888888888888,\"#fdca26\"],[1.0,\"#f0f921\"]]},\"colorway\":[\"#636efa\",\"#EF553B\",\"#00cc96\",\"#ab63fa\",\"#FFA15A\",\"#19d3f3\",\"#FF6692\",\"#B6E880\",\"#FF97FF\",\"#FECB52\"],\"font\":{\"color\":\"#2a3f5f\"},\"geo\":{\"bgcolor\":\"white\",\"lakecolor\":\"white\",\"landcolor\":\"#E5ECF6\",\"showlakes\":true,\"showland\":true,\"subunitcolor\":\"white\"},\"hoverlabel\":{\"align\":\"left\"},\"hovermode\":\"closest\",\"mapbox\":{\"style\":\"light\"},\"paper_bgcolor\":\"white\",\"plot_bgcolor\":\"#E5ECF6\",\"polar\":{\"angularaxis\":{\"gridcolor\":\"white\",\"linecolor\":\"white\",\"ticks\":\"\"},\"bgcolor\":\"#E5ECF6\",\"radialaxis\":{\"gridcolor\":\"white\",\"linecolor\":\"white\",\"ticks\":\"\"}},\"scene\":{\"xaxis\":{\"backgroundcolor\":\"#E5ECF6\",\"gridcolor\":\"white\",\"gridwidth\":2,\"linecolor\":\"white\",\"showbackground\":true,\"ticks\":\"\",\"zerolinecolor\":\"white\"},\"yaxis\":{\"backgroundcolor\":\"#E5ECF6\",\"gridcolor\":\"white\",\"gridwidth\":2,\"linecolor\":\"white\",\"showbackground\":true,\"ticks\":\"\",\"zerolinecolor\":\"white\"},\"zaxis\":{\"backgroundcolor\":\"#E5ECF6\",\"gridcolor\":\"white\",\"gridwidth\":2,\"linecolor\":\"white\",\"showbackground\":true,\"ticks\":\"\",\"zerolinecolor\":\"white\"}},\"shapedefaults\":{\"line\":{\"color\":\"#2a3f5f\"}},\"ternary\":{\"aaxis\":{\"gridcolor\":\"white\",\"linecolor\":\"white\",\"ticks\":\"\"},\"baxis\":{\"gridcolor\":\"white\",\"linecolor\":\"white\",\"ticks\":\"\"},\"bgcolor\":\"#E5ECF6\",\"caxis\":{\"gridcolor\":\"white\",\"linecolor\":\"white\",\"ticks\":\"\"}},\"title\":{\"x\":0.05},\"xaxis\":{\"automargin\":true,\"gridcolor\":\"white\",\"linecolor\":\"white\",\"ticks\":\"\",\"title\":{\"standoff\":15},\"zerolinecolor\":\"white\",\"zerolinewidth\":2},\"yaxis\":{\"automargin\":true,\"gridcolor\":\"white\",\"linecolor\":\"white\",\"ticks\":\"\",\"title\":{\"standoff\":15},\"zerolinecolor\":\"white\",\"zerolinewidth\":2}}},\"xaxis\":{\"anchor\":\"y\",\"domain\":[0.0,1.0],\"title\":{\"text\":\"Hostel\"}},\"yaxis\":{\"anchor\":\"x\",\"domain\":[0.0,1.0],\"title\":{\"text\":\"count\"}},\"legend\":{\"title\":{\"text\":\"PlacedOrNot\"},\"tracegroupgap\":0},\"margin\":{\"t\":60},\"barmode\":\"group\"},                        {\"responsive\": true}                    ).then(function(){\n",
              "                            \n",
              "var gd = document.getElementById('e045200c-7ee8-4104-8139-f25795c71f7b');\n",
              "var x = new MutationObserver(function (mutations, observer) {{\n",
              "        var display = window.getComputedStyle(gd).display;\n",
              "        if (!display || display === 'none') {{\n",
              "            console.log([gd, 'removed!']);\n",
              "            Plotly.purge(gd);\n",
              "            observer.disconnect();\n",
              "        }}\n",
              "}});\n",
              "\n",
              "// Listen for the removal of the full notebook cells\n",
              "var notebookContainer = gd.closest('#notebook-container');\n",
              "if (notebookContainer) {{\n",
              "    x.observe(notebookContainer, {childList: true});\n",
              "}}\n",
              "\n",
              "// Listen for the clearing of the current output cell\n",
              "var outputEl = gd.closest('.output');\n",
              "if (outputEl) {{\n",
              "    x.observe(outputEl, {childList: true});\n",
              "}}\n",
              "\n",
              "                        })                };                            </script>        </div>\n",
              "</body>\n",
              "</html>"
            ]
          },
          "metadata": {}
        }
      ],
      "source": [
        "fig = px.histogram(df, \"Hostel\", color = \"PlacedOrNot\", barmode = \"group\")\n",
        "fig.show()"
      ]
    },
    {
      "cell_type": "code",
      "execution_count": 19,
      "metadata": {
        "colab": {
          "base_uri": "https://localhost:8080/",
          "height": 542
        },
        "id": "Bfj65EP7WDuu",
        "outputId": "d9efe243-bfc6-42f6-b4b0-52dc0e5012b3"
      },
      "outputs": [
        {
          "output_type": "display_data",
          "data": {
            "text/html": [
              "<html>\n",
              "<head><meta charset=\"utf-8\" /></head>\n",
              "<body>\n",
              "    <div>            <script src=\"https://cdnjs.cloudflare.com/ajax/libs/mathjax/2.7.5/MathJax.js?config=TeX-AMS-MML_SVG\"></script><script type=\"text/javascript\">if (window.MathJax) {MathJax.Hub.Config({SVG: {font: \"STIX-Web\"}});}</script>                <script type=\"text/javascript\">window.PlotlyConfig = {MathJaxConfig: 'local'};</script>\n",
              "        <script src=\"https://cdn.plot.ly/plotly-2.8.3.min.js\"></script>                <div id=\"941b58ed-5d3d-4a9b-ac29-2a2103e9f11d\" class=\"plotly-graph-div\" style=\"height:525px; width:100%;\"></div>            <script type=\"text/javascript\">                                    window.PLOTLYENV=window.PLOTLYENV || {};                                    if (document.getElementById(\"941b58ed-5d3d-4a9b-ac29-2a2103e9f11d\")) {                    Plotly.newPlot(                        \"941b58ed-5d3d-4a9b-ac29-2a2103e9f11d\",                        [{\"alignmentgroup\":\"True\",\"bingroup\":\"x\",\"hovertemplate\":\"PlacedOrNot=1<br>HistoryOfBacklogs=%{x}<br>count=%{y}<extra></extra>\",\"legendgroup\":\"1\",\"marker\":{\"color\":\"#636efa\",\"pattern\":{\"shape\":\"\"}},\"name\":\"1\",\"offsetgroup\":\"1\",\"orientation\":\"v\",\"showlegend\":true,\"x\":[1,1,0,1,0,0,1,1,0,0,0,0,0,0,0,0,0,0,0,0,0,1,0,1,0,0,0,0,1,0,0,0,0,0,0,0,0,0,0,1,0,0,0,0,0,0,0,0,1,0,0,0,0,0,0,0,1,0,0,0,0,0,0,0,0,0,1,0,0,0,0,0,0,0,0,0,1,0,0,1,0,0,0,1,0,0,0,0,0,0,0,1,0,1,0,0,0,0,0,0,0,0,0,0,0,0,0,0,0,1,0,0,0,1,0,0,0,0,0,0,0,0,0,0,0,0,0,0,0,0,1,0,0,0,0,0,1,0,0,0,0,0,0,0,1,1,1,0,0,0,0,0,1,0,1,0,1,1,0,0,1,0,0,1,0,0,0,0,0,0,1,0,0,0,0,1,1,0,0,0,1,0,0,0,0,0,0,0,1,0,0,0,0,0,0,0,1,0,0,1,0,0,1,0,1,0,0,0,0,0,0,0,0,0,0,0,0,1,1,0,0,0,0,0,0,0,1,0,0,0,0,0,0,1,0,0,0,0,0,1,1,0,0,0,0,0,0,0,0,0,1,0,1,0,0,0,0,0,1,1,0,0,0,1,1,1,0,1,0,1,0,0,0,0,0,0,0,0,0,0,1,1,0,0,0,0,1,0,0,0,0,0,0,0,0,0,0,0,0,0,0,0,1,0,1,0,0,0,0,0,0,0,0,0,1,0,0,0,0,0,0,0,0,0,0,0,0,0,0,0,1,1,1,0,0,0,1,0,0,0,0,0,0,0,0,1,0,0,0,0,0,0,0,0,0,1,0,0,0,0,0,0,1,0,0,1,0,0,0,0,0,0,0,0,0,1,0,0,0,1,0,0,0,0,0,0,0,0,0,0,0,0,0,0,0,0,1,0,0,0,0,0,1,0,1,0,0,0,0,1,0,0,0,0,0,0,0,0,0,1,0,0,0,0,0,0,0,0,0,0,0,0,0,0,0,0,0,0,0,0,0,1,0,0,0,1,0,0,0,0,0,1,0,0,0,1,0,0,0,0,0,0,0,0,0,0,0,0,0,0,0,0,0,0,0,0,0,0,0,0,0,0,0,0,0,0,1,0,0,0,0,0,0,0,1,0,0,1,0,0,0,0,0,0,0,1,0,1,0,0,1,0,1,0,0,0,0,0,0,0,0,0,0,1,0,0,0,0,0,1,0,0,0,1,0,1,0,0,0,0,1,0,0,1,0,0,0,0,0,0,1,0,0,0,0,0,0,0,0,0,0,0,1,1,0,1,0,0,0,0,1,0,0,1,1,0,0,0,0,0,0,0,1,1,0,1,0,0,0,1,0,0,1,1,1,0,1,0,0,1,0,1,0,0,0,0,0,1,0,0,0,0,0,0,0,0,0,0,1,1,0,0,0,1,0,0,0,0,0,1,1,0,0,0,0,0,0,0,0,0,0,1,1,0,0,1,0,0,0,0,0,0,0,0,0,0,1,0,0,0,1,1,0,0,0,0,1,0,0,0,0,0,0,0,1,0,0,0,0,0,0,0,0,1,0,0,0,0,0,0,1,1,0,0,0,1,0,0,0,0,0,0,0,0,0,0,1,0,0,0,0,0,1,0,0,0,0,0,0,0,0,0,0,1,0,0,0,0,0,0,0,0,0,0,1,0,0,1,0,0,1,0,0,0,0,0,1,0,1,0,0,0,0,0,0,0,0,1,0,0,0,0,0,0,0,1,0,0,0,1,1,0,0,0,0,0,0,0,0,0,0,0,0,0,0,0,0,0,0,0,0,0,0,0,0,0,1,0,0,0,1,0,0,0,0,1,1,0,0,0,0,1,1,0,0,0,1,0,0,0,0,0,0,0,0,1,0,0,1,1,0,0,0,0,0,0,1,0,0,0,0,0,0,0,0,0,0,0,0,1,0,1,1,0,1,0,0,0,0,1,0,0,0,0,0,0,0,0,0,0,0,1,0,0,0,0,0,0,0,0,0,0,0,1,0,0,0,0,1,0,0,1,0,0,0,0,0,0,0,0,0,1,0,0,1,1,0,0,0,1,0,1,0,0,0,0,1,0,0,0,0,0,0,0,0,1,1,0,0,0,1,0,0,0,0,0,0,0,1,0,0,0,0,0,0,0,0,1,0,0,0,0,0,0,0,0,0,0,0,0,0,1,0,0,0,0,0,0,1,0,0,1,0,0,0,0,0,1,0,0,1,0,0,0,1,0,0,0,1,1,0,0,0,0,0,1,0,1,1,0,0,0,0,0,1,0,0,0,0,0,0,0,0,1,0,0,0,0,0,0,0,0,0,0,0,0,0,0,0,0,0,0,0,0,1,0,0,0,0,0,1,1,1,0,0,0,0,1,0,0,1,0,0,0,0,0,0,0,1,0,1,0,0,1,0,0,0,0,1,0,0,0,0,0,0,0,1,0,0,0,0,1,0,0,0,0,0,1,0,0,0,0,0,0,0,0,0,0,1,1,0,0,1,0,1,0,1,0,0,0,1,0,0,0,1,1,0,1,0,0,0,0,1,0,0,0,0,0,0,0,0,0,0,1,0,0,0,0,0,0,0,0,0,0,0,0,0,0,0,0,0,0,1,1,1,0,0,0,1,0,0,0,0,0,0,0,0,0,0,0,1,0,0,0,0,0,0,0,0,1,0,0,0,0,0,0,1,0,0,1,0,1,0,0,1,0,1,0,1,1,0,0,0,0,1,0,0,0,1,1,1,0,1,1,0,0,1,1,0,0,0,0,0,0,0,0,0,0,1,0,0,1,0,0,0,0,0,0,1,0,0,1,0,0,0,0,1,0,0,0,1,0,0,0,0,0,0,0,1,0,0,1,0,0,0,0,1,0,0,0,0,0,0,0,0,0,1,0,0,1,0,0,1,0,1,0,0,0,0,1,0,0,0,0,0,0,0,0,1,0,0,0,0,0,0,1,0,0,0,0,1,0,0,1,0,1,0,0,0,0,0,0,0,1,0,0,0,0,0,0,0,1,0,0,0,0,0,0,0,0,0,0,0,0,0,0,0,0,0,1,0,0,0,0,0,0,0,1,0,1,0,0,0,1,0,0,0,0,0,0,1,0,1,1,0,0,0,1,1,0,1,0,0,0,0,0,0,1,0,0,0,0,1,0,0,1,0,0,0,0,0,1,0,0,0,0,0,0,0,0,1,0,0,0,0,0,0,0,0,0,0,0,0,0,0,0,0,0,0,0,0,0,0,0,0,0,0,0,0,1,0,0,0,0,0,1,0,0,0,0,1,0,0,0,0,0,0,0,0,1,1,0,1,0,1,0,1,1,0,0,0,1,0,1,0,0,1,0,1,0,1,0,0,0,0,0,0,0,0,1,0,0,0,0,0,0,0,0,0,0,0,0,1,0,0,0,0,0,0,0,1,0,0,1,0,0,0,0,0,0,1,0,0,1,0,1,1,0,0,0,0,0,0,0,1,0,0,0,0,0,1,0,0,0,0,1,0,0,0,0,0,0,0,0,0,0,0,1,0,0,1,0,0,0,0,0,0,0,0,0,1,0,0,0,1,0,0,1,0,0,1,1,0,0,0,0,0,0,0,0,0,0,0,0,1,0,0,0,0,0,0,0,1,0,0,1,0,0,0,0,1,0,0,0,0,0,0,0,0,0,0,0,0,0,0,0,0,0,0,0,0,1,0,0,0,0,1,0,0],\"xaxis\":\"x\",\"yaxis\":\"y\",\"type\":\"histogram\"},{\"alignmentgroup\":\"True\",\"bingroup\":\"x\",\"hovertemplate\":\"PlacedOrNot=0<br>HistoryOfBacklogs=%{x}<br>count=%{y}<extra></extra>\",\"legendgroup\":\"0\",\"marker\":{\"color\":\"#EF553B\",\"pattern\":{\"shape\":\"\"}},\"name\":\"0\",\"offsetgroup\":\"0\",\"orientation\":\"v\",\"showlegend\":true,\"x\":[0,1,0,0,0,1,0,0,0,0,0,0,1,0,0,0,0,0,1,0,1,0,0,0,0,0,0,0,0,0,0,0,0,0,0,0,0,0,0,0,0,0,0,1,0,0,0,0,0,0,0,0,0,0,0,0,0,0,1,0,0,0,1,0,1,0,0,0,0,0,0,0,0,0,1,0,1,1,0,0,0,0,0,0,0,1,0,0,0,1,1,0,0,0,0,0,0,0,0,0,0,0,1,0,0,0,0,0,0,0,0,0,0,0,0,1,0,0,0,0,0,0,0,0,0,0,0,1,0,0,1,0,0,0,0,1,0,0,1,0,0,0,0,1,0,0,1,0,0,0,0,0,0,0,0,0,0,1,1,0,0,0,1,0,0,0,1,0,0,0,1,0,0,1,0,1,0,1,1,0,1,1,1,1,0,0,0,0,0,1,1,0,0,0,0,0,0,0,1,0,1,0,1,1,1,0,0,0,0,0,1,0,0,0,1,0,0,0,0,0,0,0,0,1,0,0,0,0,0,0,0,0,0,1,0,0,1,0,0,0,1,0,0,0,0,0,0,0,0,1,0,0,1,1,0,0,0,1,0,0,0,1,0,0,0,0,0,0,0,0,0,0,1,0,0,1,0,0,1,0,0,0,0,0,0,0,0,0,0,1,1,0,0,0,0,1,0,0,0,1,0,0,0,1,0,1,0,0,0,0,0,0,0,0,0,0,0,0,0,0,0,0,0,0,1,0,0,0,0,0,0,1,0,0,0,0,0,0,0,0,1,0,0,0,0,0,0,1,0,0,0,1,0,0,0,0,0,0,0,1,0,0,0,0,0,0,0,0,0,0,0,1,1,0,0,0,1,0,1,0,1,0,0,0,0,0,1,0,0,0,0,0,0,0,1,0,0,0,0,0,0,0,0,0,0,0,1,0,0,0,0,0,0,0,1,1,0,1,0,0,0,0,0,0,0,0,0,1,1,0,1,0,0,0,0,0,0,0,0,1,1,0,0,0,0,0,0,0,0,0,0,1,0,1,0,1,0,0,1,1,0,0,0,1,0,0,0,0,0,0,0,0,0,1,1,0,0,0,0,0,0,0,0,0,0,1,1,0,1,0,0,0,0,0,0,0,0,1,0,0,0,0,0,0,0,0,1,0,1,0,0,0,1,0,0,0,0,0,0,1,0,0,0,0,0,0,1,0,0,0,1,0,0,1,0,0,0,1,0,1,0,0,1,1,0,0,1,0,1,1,0,1,0,0,1,0,0,0,1,0,1,1,1,0,0,1,0,0,0,0,0,0,0,0,1,0,0,1,1,0,0,0,0,0,0,0,0,0,1,0,0,0,0,0,0,0,0,0,0,0,0,1,0,0,0,0,0,0,0,0,1,0,0,0,0,0,0,0,0,0,0,0,0,0,0,0,0,1,0,0,1,0,0,0,0,1,0,1,0,0,0,0,0,0,0,0,0,0,1,1,0,0,0,0,1,0,0,1,0,1,1,1,0,0,0,0,0,0,1,1,0,0,0,0,0,0,0,1,1,0,0,1,1,0,0,0,0,0,0,0,0,1,0,0,0,0,0,0,0,1,0,0,0,0,0,0,0,1,0,0,0,0,0,0,0,1,0,0,0,0,0,1,1,0,0,0,1,1,0,0,0,1,1,0,0,1,0,1,0,1,0,0,0,0,0,1,0,0,1,1,1,1,0,0,0,0,0,0,0,0,0,0,0,0,0,0,1,0,0,1,0,0,0,0,0,0,0,1,0,1,1,0,0,0,0,0,0,0,0,0,0,0,0,1,0,0,0,0,0,1,0,1,0,0,1,0,0,0,0,0,0,0,0,0,0,0,0,0,0,0,0,0,0,0,0,0,0,0,0,0,0,0,0,1,1,0,1,0,1,0,0,0,0,0,0,0,0,0,0,1,0,0,0,0,0,0,0,0,0,0,0,0,0,1,1,0,1,0,0,0,0,1,0,1,0,0,0,0,1,1,0,0,0,0,0,1,0,0,0,0,1,0,0,1,1,0,1,0,0,1,0,0,0,0,0,0,1,0,0,0,1,0,0,0,0,0,0,0,0,0,0,0,0,0,0,0,0,0,0,0,0,0,0,0,0,0,0,0,0,0,1,0,0,1,0,0,0,0,1,0,0,0,0,0,1,0,0,0,0,1,0,0,0,0,0,0,0,0,0,0,0,1,0,1,1,0,0,0,1,0,0,0,0,0,0,0,0,0,0,0,0,0,0,0,0,0,0,0,0,0,0,0,0,0,0,0,0,0,0,0,0,0,0,0,0,0,0,0,0,0,0,0,0,0,0,0,0,1,0,0,1,0,0,1,0,0,0,0,0,1,0,0,1,0,1,0,1,0,1,1,0,0,0,0,0,0,0,1,1,0,0,0,0,0,0,0,0,0,0,0,0,0,0,0,0,0,0,0,0,0,0,0,0,0,0,0,0,0,1,0,1,0,0,1,0,1,0,0,0,0,1,0,1,0,1,0,0,0,0,0,0,0,0,0,1,0,1,1,1,0,0,0,0,0,0,0,1,0,0,0,1,1,1,0,0,0,0,0,1,0,0,0,0,0,0,0,0,0,1,0,0,0,0,0,0,0,0,0,0,0,1,1,1,0,0,0,0,0,1,1,1,0,0,0,1,1,0,0,0,0,0,0,0,0,0,0,0,0,0,0,0,0,1,0,1,0,0,0,0,1,1,0,0,0,0,0,0,0,1,0,1,1,1,0,0,0,0,0,0,1,0,0,0,0,1,0,0,0,0,0,0,0,1,1,0,1,0,0,0,0,0,0,1,0,0,0,1,0,0,0,1,1,0,1,0,1,0,1,1,0,1,0,1,0,0,1,0,0,0,1,0,0,0,0,0,1,0,0,0,0,0,0,0,0,0,0,0,1,0,0,0,0,1,1,0,0,0,0,0,0,1,0,0,0,0,0,0,0,0,1,0,0,0,1,0,1,0,0,0,1,1,0,0,0,0,0,0],\"xaxis\":\"x\",\"yaxis\":\"y\",\"type\":\"histogram\"}],                        {\"template\":{\"data\":{\"bar\":[{\"error_x\":{\"color\":\"#2a3f5f\"},\"error_y\":{\"color\":\"#2a3f5f\"},\"marker\":{\"line\":{\"color\":\"#E5ECF6\",\"width\":0.5},\"pattern\":{\"fillmode\":\"overlay\",\"size\":10,\"solidity\":0.2}},\"type\":\"bar\"}],\"barpolar\":[{\"marker\":{\"line\":{\"color\":\"#E5ECF6\",\"width\":0.5},\"pattern\":{\"fillmode\":\"overlay\",\"size\":10,\"solidity\":0.2}},\"type\":\"barpolar\"}],\"carpet\":[{\"aaxis\":{\"endlinecolor\":\"#2a3f5f\",\"gridcolor\":\"white\",\"linecolor\":\"white\",\"minorgridcolor\":\"white\",\"startlinecolor\":\"#2a3f5f\"},\"baxis\":{\"endlinecolor\":\"#2a3f5f\",\"gridcolor\":\"white\",\"linecolor\":\"white\",\"minorgridcolor\":\"white\",\"startlinecolor\":\"#2a3f5f\"},\"type\":\"carpet\"}],\"choropleth\":[{\"colorbar\":{\"outlinewidth\":0,\"ticks\":\"\"},\"type\":\"choropleth\"}],\"contour\":[{\"colorbar\":{\"outlinewidth\":0,\"ticks\":\"\"},\"colorscale\":[[0.0,\"#0d0887\"],[0.1111111111111111,\"#46039f\"],[0.2222222222222222,\"#7201a8\"],[0.3333333333333333,\"#9c179e\"],[0.4444444444444444,\"#bd3786\"],[0.5555555555555556,\"#d8576b\"],[0.6666666666666666,\"#ed7953\"],[0.7777777777777778,\"#fb9f3a\"],[0.8888888888888888,\"#fdca26\"],[1.0,\"#f0f921\"]],\"type\":\"contour\"}],\"contourcarpet\":[{\"colorbar\":{\"outlinewidth\":0,\"ticks\":\"\"},\"type\":\"contourcarpet\"}],\"heatmap\":[{\"colorbar\":{\"outlinewidth\":0,\"ticks\":\"\"},\"colorscale\":[[0.0,\"#0d0887\"],[0.1111111111111111,\"#46039f\"],[0.2222222222222222,\"#7201a8\"],[0.3333333333333333,\"#9c179e\"],[0.4444444444444444,\"#bd3786\"],[0.5555555555555556,\"#d8576b\"],[0.6666666666666666,\"#ed7953\"],[0.7777777777777778,\"#fb9f3a\"],[0.8888888888888888,\"#fdca26\"],[1.0,\"#f0f921\"]],\"type\":\"heatmap\"}],\"heatmapgl\":[{\"colorbar\":{\"outlinewidth\":0,\"ticks\":\"\"},\"colorscale\":[[0.0,\"#0d0887\"],[0.1111111111111111,\"#46039f\"],[0.2222222222222222,\"#7201a8\"],[0.3333333333333333,\"#9c179e\"],[0.4444444444444444,\"#bd3786\"],[0.5555555555555556,\"#d8576b\"],[0.6666666666666666,\"#ed7953\"],[0.7777777777777778,\"#fb9f3a\"],[0.8888888888888888,\"#fdca26\"],[1.0,\"#f0f921\"]],\"type\":\"heatmapgl\"}],\"histogram\":[{\"marker\":{\"pattern\":{\"fillmode\":\"overlay\",\"size\":10,\"solidity\":0.2}},\"type\":\"histogram\"}],\"histogram2d\":[{\"colorbar\":{\"outlinewidth\":0,\"ticks\":\"\"},\"colorscale\":[[0.0,\"#0d0887\"],[0.1111111111111111,\"#46039f\"],[0.2222222222222222,\"#7201a8\"],[0.3333333333333333,\"#9c179e\"],[0.4444444444444444,\"#bd3786\"],[0.5555555555555556,\"#d8576b\"],[0.6666666666666666,\"#ed7953\"],[0.7777777777777778,\"#fb9f3a\"],[0.8888888888888888,\"#fdca26\"],[1.0,\"#f0f921\"]],\"type\":\"histogram2d\"}],\"histogram2dcontour\":[{\"colorbar\":{\"outlinewidth\":0,\"ticks\":\"\"},\"colorscale\":[[0.0,\"#0d0887\"],[0.1111111111111111,\"#46039f\"],[0.2222222222222222,\"#7201a8\"],[0.3333333333333333,\"#9c179e\"],[0.4444444444444444,\"#bd3786\"],[0.5555555555555556,\"#d8576b\"],[0.6666666666666666,\"#ed7953\"],[0.7777777777777778,\"#fb9f3a\"],[0.8888888888888888,\"#fdca26\"],[1.0,\"#f0f921\"]],\"type\":\"histogram2dcontour\"}],\"mesh3d\":[{\"colorbar\":{\"outlinewidth\":0,\"ticks\":\"\"},\"type\":\"mesh3d\"}],\"parcoords\":[{\"line\":{\"colorbar\":{\"outlinewidth\":0,\"ticks\":\"\"}},\"type\":\"parcoords\"}],\"pie\":[{\"automargin\":true,\"type\":\"pie\"}],\"scatter\":[{\"marker\":{\"colorbar\":{\"outlinewidth\":0,\"ticks\":\"\"}},\"type\":\"scatter\"}],\"scatter3d\":[{\"line\":{\"colorbar\":{\"outlinewidth\":0,\"ticks\":\"\"}},\"marker\":{\"colorbar\":{\"outlinewidth\":0,\"ticks\":\"\"}},\"type\":\"scatter3d\"}],\"scattercarpet\":[{\"marker\":{\"colorbar\":{\"outlinewidth\":0,\"ticks\":\"\"}},\"type\":\"scattercarpet\"}],\"scattergeo\":[{\"marker\":{\"colorbar\":{\"outlinewidth\":0,\"ticks\":\"\"}},\"type\":\"scattergeo\"}],\"scattergl\":[{\"marker\":{\"colorbar\":{\"outlinewidth\":0,\"ticks\":\"\"}},\"type\":\"scattergl\"}],\"scattermapbox\":[{\"marker\":{\"colorbar\":{\"outlinewidth\":0,\"ticks\":\"\"}},\"type\":\"scattermapbox\"}],\"scatterpolar\":[{\"marker\":{\"colorbar\":{\"outlinewidth\":0,\"ticks\":\"\"}},\"type\":\"scatterpolar\"}],\"scatterpolargl\":[{\"marker\":{\"colorbar\":{\"outlinewidth\":0,\"ticks\":\"\"}},\"type\":\"scatterpolargl\"}],\"scatterternary\":[{\"marker\":{\"colorbar\":{\"outlinewidth\":0,\"ticks\":\"\"}},\"type\":\"scatterternary\"}],\"surface\":[{\"colorbar\":{\"outlinewidth\":0,\"ticks\":\"\"},\"colorscale\":[[0.0,\"#0d0887\"],[0.1111111111111111,\"#46039f\"],[0.2222222222222222,\"#7201a8\"],[0.3333333333333333,\"#9c179e\"],[0.4444444444444444,\"#bd3786\"],[0.5555555555555556,\"#d8576b\"],[0.6666666666666666,\"#ed7953\"],[0.7777777777777778,\"#fb9f3a\"],[0.8888888888888888,\"#fdca26\"],[1.0,\"#f0f921\"]],\"type\":\"surface\"}],\"table\":[{\"cells\":{\"fill\":{\"color\":\"#EBF0F8\"},\"line\":{\"color\":\"white\"}},\"header\":{\"fill\":{\"color\":\"#C8D4E3\"},\"line\":{\"color\":\"white\"}},\"type\":\"table\"}]},\"layout\":{\"annotationdefaults\":{\"arrowcolor\":\"#2a3f5f\",\"arrowhead\":0,\"arrowwidth\":1},\"autotypenumbers\":\"strict\",\"coloraxis\":{\"colorbar\":{\"outlinewidth\":0,\"ticks\":\"\"}},\"colorscale\":{\"diverging\":[[0,\"#8e0152\"],[0.1,\"#c51b7d\"],[0.2,\"#de77ae\"],[0.3,\"#f1b6da\"],[0.4,\"#fde0ef\"],[0.5,\"#f7f7f7\"],[0.6,\"#e6f5d0\"],[0.7,\"#b8e186\"],[0.8,\"#7fbc41\"],[0.9,\"#4d9221\"],[1,\"#276419\"]],\"sequential\":[[0.0,\"#0d0887\"],[0.1111111111111111,\"#46039f\"],[0.2222222222222222,\"#7201a8\"],[0.3333333333333333,\"#9c179e\"],[0.4444444444444444,\"#bd3786\"],[0.5555555555555556,\"#d8576b\"],[0.6666666666666666,\"#ed7953\"],[0.7777777777777778,\"#fb9f3a\"],[0.8888888888888888,\"#fdca26\"],[1.0,\"#f0f921\"]],\"sequentialminus\":[[0.0,\"#0d0887\"],[0.1111111111111111,\"#46039f\"],[0.2222222222222222,\"#7201a8\"],[0.3333333333333333,\"#9c179e\"],[0.4444444444444444,\"#bd3786\"],[0.5555555555555556,\"#d8576b\"],[0.6666666666666666,\"#ed7953\"],[0.7777777777777778,\"#fb9f3a\"],[0.8888888888888888,\"#fdca26\"],[1.0,\"#f0f921\"]]},\"colorway\":[\"#636efa\",\"#EF553B\",\"#00cc96\",\"#ab63fa\",\"#FFA15A\",\"#19d3f3\",\"#FF6692\",\"#B6E880\",\"#FF97FF\",\"#FECB52\"],\"font\":{\"color\":\"#2a3f5f\"},\"geo\":{\"bgcolor\":\"white\",\"lakecolor\":\"white\",\"landcolor\":\"#E5ECF6\",\"showlakes\":true,\"showland\":true,\"subunitcolor\":\"white\"},\"hoverlabel\":{\"align\":\"left\"},\"hovermode\":\"closest\",\"mapbox\":{\"style\":\"light\"},\"paper_bgcolor\":\"white\",\"plot_bgcolor\":\"#E5ECF6\",\"polar\":{\"angularaxis\":{\"gridcolor\":\"white\",\"linecolor\":\"white\",\"ticks\":\"\"},\"bgcolor\":\"#E5ECF6\",\"radialaxis\":{\"gridcolor\":\"white\",\"linecolor\":\"white\",\"ticks\":\"\"}},\"scene\":{\"xaxis\":{\"backgroundcolor\":\"#E5ECF6\",\"gridcolor\":\"white\",\"gridwidth\":2,\"linecolor\":\"white\",\"showbackground\":true,\"ticks\":\"\",\"zerolinecolor\":\"white\"},\"yaxis\":{\"backgroundcolor\":\"#E5ECF6\",\"gridcolor\":\"white\",\"gridwidth\":2,\"linecolor\":\"white\",\"showbackground\":true,\"ticks\":\"\",\"zerolinecolor\":\"white\"},\"zaxis\":{\"backgroundcolor\":\"#E5ECF6\",\"gridcolor\":\"white\",\"gridwidth\":2,\"linecolor\":\"white\",\"showbackground\":true,\"ticks\":\"\",\"zerolinecolor\":\"white\"}},\"shapedefaults\":{\"line\":{\"color\":\"#2a3f5f\"}},\"ternary\":{\"aaxis\":{\"gridcolor\":\"white\",\"linecolor\":\"white\",\"ticks\":\"\"},\"baxis\":{\"gridcolor\":\"white\",\"linecolor\":\"white\",\"ticks\":\"\"},\"bgcolor\":\"#E5ECF6\",\"caxis\":{\"gridcolor\":\"white\",\"linecolor\":\"white\",\"ticks\":\"\"}},\"title\":{\"x\":0.05},\"xaxis\":{\"automargin\":true,\"gridcolor\":\"white\",\"linecolor\":\"white\",\"ticks\":\"\",\"title\":{\"standoff\":15},\"zerolinecolor\":\"white\",\"zerolinewidth\":2},\"yaxis\":{\"automargin\":true,\"gridcolor\":\"white\",\"linecolor\":\"white\",\"ticks\":\"\",\"title\":{\"standoff\":15},\"zerolinecolor\":\"white\",\"zerolinewidth\":2}}},\"xaxis\":{\"anchor\":\"y\",\"domain\":[0.0,1.0],\"title\":{\"text\":\"HistoryOfBacklogs\"}},\"yaxis\":{\"anchor\":\"x\",\"domain\":[0.0,1.0],\"title\":{\"text\":\"count\"}},\"legend\":{\"title\":{\"text\":\"PlacedOrNot\"},\"tracegroupgap\":0},\"margin\":{\"t\":60},\"barmode\":\"group\"},                        {\"responsive\": true}                    ).then(function(){\n",
              "                            \n",
              "var gd = document.getElementById('941b58ed-5d3d-4a9b-ac29-2a2103e9f11d');\n",
              "var x = new MutationObserver(function (mutations, observer) {{\n",
              "        var display = window.getComputedStyle(gd).display;\n",
              "        if (!display || display === 'none') {{\n",
              "            console.log([gd, 'removed!']);\n",
              "            Plotly.purge(gd);\n",
              "            observer.disconnect();\n",
              "        }}\n",
              "}});\n",
              "\n",
              "// Listen for the removal of the full notebook cells\n",
              "var notebookContainer = gd.closest('#notebook-container');\n",
              "if (notebookContainer) {{\n",
              "    x.observe(notebookContainer, {childList: true});\n",
              "}}\n",
              "\n",
              "// Listen for the clearing of the current output cell\n",
              "var outputEl = gd.closest('.output');\n",
              "if (outputEl) {{\n",
              "    x.observe(outputEl, {childList: true});\n",
              "}}\n",
              "\n",
              "                        })                };                            </script>        </div>\n",
              "</body>\n",
              "</html>"
            ]
          },
          "metadata": {}
        }
      ],
      "source": [
        "fig = px.histogram(df, \"HistoryOfBacklogs\", color = \"PlacedOrNot\", barmode = \"group\")\n",
        "fig.show()"
      ]
    },
    {
      "cell_type": "code",
      "execution_count": 20,
      "metadata": {
        "id": "BAZzHFFrWIpq",
        "colab": {
          "base_uri": "https://localhost:8080/",
          "height": 1000
        },
        "outputId": "457b906e-0c22-4e97-c9a6-69da836c7aa9"
      },
      "outputs": [
        {
          "output_type": "stream",
          "name": "stderr",
          "text": [
            "/usr/local/lib/python3.7/dist-packages/seaborn/axisgrid.py:2076: UserWarning:\n",
            "\n",
            "The `size` parameter has been renamed to `height`; please update your code.\n",
            "\n"
          ]
        },
        {
          "output_type": "display_data",
          "data": {
            "text/plain": [
              "<Figure size 1150.25x1080 with 30 Axes>"
            ],
            "image/png": "[encoded data removed]"
          },
          "metadata": {
            "needs_background": "light"
          }
        }
      ],
      "source": [
        "sns.pairplot(df, hue=\"PlacedOrNot\", size=3, palette='Greens_r')\n",
        "plt.show()"
      ]
    },
    {
      "cell_type": "markdown",
      "metadata": {
        "id": "uXtXZavqdRs1"
      },
      "source": [
        "**The Correlations**"
      ]
    },
    {
      "cell_type": "code",
      "execution_count": 21,
      "metadata": {
        "id": "QJc2qxWic30X",
        "colab": {
          "base_uri": "https://localhost:8080/",
          "height": 867
        },
        "outputId": "d349f4d6-b77a-4f18-8c1e-b0920b6c1e0d"
      },
      "outputs": [
        {
          "output_type": "display_data",
          "data": {
            "text/plain": [
              "<Figure size 1080x1080 with 2 Axes>"
            ],
            "image/png": "[encoded data removed]"
          },
          "metadata": {
            "needs_background": "light"
          }
        }
      ],
      "source": [
        "#heatmap\n",
        "correl = df.corr()\n",
        "cor_feature = correl.index\n",
        "plt.figure(figsize=(15,15))\n",
        "phm = sns.heatmap(df[cor_feature].corr(),annot=True)"
      ]
    },
    {
      "cell_type": "markdown",
      "metadata": {
        "id": "YMmjxRr9p744"
      },
      "source": [
        "# Data Preprocessing"
      ]
    },
    {
      "cell_type": "code",
      "execution_count": 22,
      "metadata": {
        "id": "qqPPaI9rqbTa",
        "colab": {
          "base_uri": "https://localhost:8080/"
        },
        "outputId": "9cde6bd3-8faf-475a-d10c-340c227cf7fa"
      },
      "outputs": [
        {
          "output_type": "execute_result",
          "data": {
            "text/plain": [
              "array(['Male', 'Female'], dtype=object)"
            ]
          },
          "metadata": {},
          "execution_count": 22
        }
      ],
      "source": [
        "# Encode Category Data\n",
        "df['Gender'].unique()"
      ]
    },
    {
      "cell_type": "code",
      "execution_count": 23,
      "metadata": {
        "id": "9KUhXB_Xq7wE",
        "colab": {
          "base_uri": "https://localhost:8080/"
        },
        "outputId": "4cae55fc-e835-47a9-8639-60608ae1cb40"
      },
      "outputs": [
        {
          "output_type": "execute_result",
          "data": {
            "text/plain": [
              "array(['Electronics And Communication', 'Computer Science',\n",
              "       'Information Technology', 'Mechanical', 'Electrical', 'Civil'],\n",
              "      dtype=object)"
            ]
          },
          "metadata": {},
          "execution_count": 23
        }
      ],
      "source": [
        "# Encode Category Data\n",
        "df['Stream'].unique()"
      ]
    },
    {
      "cell_type": "code",
      "execution_count": 24,
      "metadata": {
        "id": "CmH_v2rAs-9x"
      },
      "outputs": [],
      "source": [
        "#Using label encoding\n",
        "\n",
        "encode = LabelEncoder()\n",
        "encol = ['Gender','Stream']\n",
        "for encols in encol:\n",
        "  df[encols] = encode.fit_transform(df[encols])"
      ]
    },
    {
      "cell_type": "code",
      "execution_count": 25,
      "metadata": {
        "id": "lL4ZrTBlvH6g",
        "colab": {
          "base_uri": "https://localhost:8080/",
          "height": 206
        },
        "outputId": "501c39b9-5326-4210-d320-0d2c5c3ea2c1"
      },
      "outputs": [
        {
          "output_type": "execute_result",
          "data": {
            "text/plain": [
              "   Age  Gender  Stream  Internships  CGPA  Hostel  HistoryOfBacklogs  \\\n",
              "0   22       1       3            1     8       1                  1   \n",
              "1   21       0       1            0     7       1                  1   \n",
              "2   22       0       4            1     6       0                  0   \n",
              "3   21       1       4            0     8       0                  1   \n",
              "4   22       1       5            0     8       1                  0   \n",
              "\n",
              "   PlacedOrNot  \n",
              "0            1  \n",
              "1            1  \n",
              "2            1  \n",
              "3            1  \n",
              "4            1  "
            ],
            "text/html": [
              "\n",
              "  <div id=\"df-d4d832aa-983a-464d-8f65-617441f72b75\">\n",
              "    <div class=\"colab-df-container\">\n",
              "      <div>\n",
              "<style scoped>\n",
              "    .dataframe tbody tr th:only-of-type {\n",
              "        vertical-align: middle;\n",
              "    }\n",
              "\n",
              "    .dataframe tbody tr th {\n",
              "        vertical-align: top;\n",
              "    }\n",
              "\n",
              "    .dataframe thead th {\n",
              "        text-align: right;\n",
              "    }\n",
              "</style>\n",
              "<table border=\"1\" class=\"dataframe\">\n",
              "  <thead>\n",
              "    <tr style=\"text-align: right;\">\n",
              "      <th></th>\n",
              "      <th>Age</th>\n",
              "      <th>Gender</th>\n",
              "      <th>Stream</th>\n",
              "      <th>Internships</th>\n",
              "      <th>CGPA</th>\n",
              "      <th>Hostel</th>\n",
              "      <th>HistoryOfBacklogs</th>\n",
              "      <th>PlacedOrNot</th>\n",
              "    </tr>\n",
              "  </thead>\n",
              "  <tbody>\n",
              "    <tr>\n",
              "      <th>0</th>\n",
              "      <td>22</td>\n",
              "      <td>1</td>\n",
              "      <td>3</td>\n",
              "      <td>1</td>\n",
              "      <td>8</td>\n",
              "      <td>1</td>\n",
              "      <td>1</td>\n",
              "      <td>1</td>\n",
              "    </tr>\n",
              "    <tr>\n",
              "      <th>1</th>\n",
              "      <td>21</td>\n",
              "      <td>0</td>\n",
              "      <td>1</td>\n",
              "      <td>0</td>\n",
              "      <td>7</td>\n",
              "      <td>1</td>\n",
              "      <td>1</td>\n",
              "      <td>1</td>\n",
              "    </tr>\n",
              "    <tr>\n",
              "      <th>2</th>\n",
              "      <td>22</td>\n",
              "      <td>0</td>\n",
              "      <td>4</td>\n",
              "      <td>1</td>\n",
              "      <td>6</td>\n",
              "      <td>0</td>\n",
              "      <td>0</td>\n",
              "      <td>1</td>\n",
              "    </tr>\n",
              "    <tr>\n",
              "      <th>3</th>\n",
              "      <td>21</td>\n",
              "      <td>1</td>\n",
              "      <td>4</td>\n",
              "      <td>0</td>\n",
              "      <td>8</td>\n",
              "      <td>0</td>\n",
              "      <td>1</td>\n",
              "      <td>1</td>\n",
              "    </tr>\n",
              "    <tr>\n",
              "      <th>4</th>\n",
              "      <td>22</td>\n",
              "      <td>1</td>\n",
              "      <td>5</td>\n",
              "      <td>0</td>\n",
              "      <td>8</td>\n",
              "      <td>1</td>\n",
              "      <td>0</td>\n",
              "      <td>1</td>\n",
              "    </tr>\n",
              "  </tbody>\n",
              "</table>\n",
              "</div>\n",
              "      <button class=\"colab-df-convert\" onclick=\"convertToInteractive('df-d4d832aa-983a-464d-8f65-617441f72b75')\"\n",
              "              title=\"Convert this dataframe to an interactive table.\"\n",
              "              style=\"display:none;\">\n",
              "        \n",
              "  <svg xmlns=\"http://www.w3.org/2000/svg\" height=\"24px\"viewBox=\"0 0 24 24\"\n",
              "       width=\"24px\">\n",
              "    <path d=\"M0 0h24v24H0V0z\" fill=\"none\"/>\n",
              "    <path d=\"M18.56 5.44l.94 2.06.94-2.06 2.06-.94-2.06-.94-.94-2.06-.94 2.06-2.06.94zm-11 1L8.5 8.5l.94-2.06 2.06-.94-2.06-.94L8.5 2.5l-.94 2.06-2.06.94zm10 10l.94 2.06.94-2.06 2.06-.94-2.06-.94-.94-2.06-.94 2.06-2.06.94z\"/><path d=\"M17.41 7.96l-1.37-1.37c-.4-.4-.92-.59-1.43-.59-.52 0-1.04.2-1.43.59L10.3 9.45l-7.72 7.72c-.78.78-.78 2.05 0 2.83L4 21.41c.39.39.9.59 1.41.59.51 0 1.02-.2 1.41-.59l7.78-7.78 2.81-2.81c.8-.78.8-2.07 0-2.86zM5.41 20L4 18.59l7.72-7.72 1.47 1.35L5.41 20z\"/>\n",
              "  </svg>\n",
              "      </button>\n",
              "      \n",
              "  <style>\n",
              "    .colab-df-container {\n",
              "      display:flex;\n",
              "      flex-wrap:wrap;\n",
              "      gap: 12px;\n",
              "    }\n",
              "\n",
              "    .colab-df-convert {\n",
              "      background-color: #E8F0FE;\n",
              "      border: none;\n",
              "      border-radius: 50%;\n",
              "      cursor: pointer;\n",
              "      display: none;\n",
              "      fill: #1967D2;\n",
              "      height: 32px;\n",
              "      padding: 0 0 0 0;\n",
              "      width: 32px;\n",
              "    }\n",
              "\n",
              "    .colab-df-convert:hover {\n",
              "      background-color: #E2EBFA;\n",
              "      box-shadow: 0px 1px 2px rgba(60, 64, 67, 0.3), 0px 1px 3px 1px rgba(60, 64, 67, 0.15);\n",
              "      fill: #174EA6;\n",
              "    }\n",
              "\n",
              "    [theme=dark] .colab-df-convert {\n",
              "      background-color: #3B4455;\n",
              "      fill: #D2E3FC;\n",
              "    }\n",
              "\n",
              "    [theme=dark] .colab-df-convert:hover {\n",
              "      background-color: #434B5C;\n",
              "      box-shadow: 0px 1px 3px 1px rgba(0, 0, 0, 0.15);\n",
              "      filter: drop-shadow(0px 1px 2px rgba(0, 0, 0, 0.3));\n",
              "      fill: #FFFFFF;\n",
              "    }\n",
              "  </style>\n",
              "\n",
              "      <script>\n",
              "        const buttonEl =\n",
              "          document.querySelector('#df-d4d832aa-983a-464d-8f65-617441f72b75 button.colab-df-convert');\n",
              "        buttonEl.style.display =\n",
              "          google.colab.kernel.accessAllowed ? 'block' : 'none';\n",
              "\n",
              "        async function convertToInteractive(key) {\n",
              "          const element = document.querySelector('#df-d4d832aa-983a-464d-8f65-617441f72b75');\n",
              "          const dataTable =\n",
              "            await google.colab.kernel.invokeFunction('convertToInteractive',\n",
              "                                                     [key], {});\n",
              "          if (!dataTable) return;\n",
              "\n",
              "          const docLinkHtml = 'Like what you see? Visit the ' +\n",
              "            '<a target=\"_blank\" href=https://colab.research.google.com/notebooks/data_table.ipynb>data table notebook</a>'\n",
              "            + ' to learn more about interactive tables.';\n",
              "          element.innerHTML = '';\n",
              "          dataTable['output_type'] = 'display_data';\n",
              "          await google.colab.output.renderOutput(dataTable, element);\n",
              "          const docLink = document.createElement('div');\n",
              "          docLink.innerHTML = docLinkHtml;\n",
              "          element.appendChild(docLink);\n",
              "        }\n",
              "      </script>\n",
              "    </div>\n",
              "  </div>\n",
              "  "
            ]
          },
          "metadata": {},
          "execution_count": 25
        }
      ],
      "source": [
        "df.head()"
      ]
    },
    {
      "cell_type": "code",
      "execution_count": 26,
      "metadata": {
        "id": "5yJ_IvbmvNC3"
      },
      "outputs": [],
      "source": [
        "X = df.drop(\"PlacedOrNot\", axis = 1)\n",
        "Y = df[\"PlacedOrNot\"]"
      ]
    },
    {
      "cell_type": "code",
      "execution_count": 27,
      "metadata": {
        "id": "PYVWix_tyToE"
      },
      "outputs": [],
      "source": [
        "Y = pd.DataFrame(Y)"
      ]
    },
    {
      "cell_type": "code",
      "execution_count": 28,
      "metadata": {
        "id": "nBvdbt4nypOQ",
        "colab": {
          "base_uri": "https://localhost:8080/",
          "height": 206
        },
        "outputId": "ca20943f-6b04-4d6d-8009-1d486de2266b"
      },
      "outputs": [
        {
          "output_type": "execute_result",
          "data": {
            "text/plain": [
              "   Age  Gender  Stream  Internships  CGPA  Hostel  HistoryOfBacklogs\n",
              "0   22       1       3            1     8       1                  1\n",
              "1   21       0       1            0     7       1                  1\n",
              "2   22       0       4            1     6       0                  0\n",
              "3   21       1       4            0     8       0                  1\n",
              "4   22       1       5            0     8       1                  0"
            ],
            "text/html": [
              "\n",
              "  <div id=\"df-16ed84f7-1927-4e41-b9a4-10bede77e78c\">\n",
              "    <div class=\"colab-df-container\">\n",
              "      <div>\n",
              "<style scoped>\n",
              "    .dataframe tbody tr th:only-of-type {\n",
              "        vertical-align: middle;\n",
              "    }\n",
              "\n",
              "    .dataframe tbody tr th {\n",
              "        vertical-align: top;\n",
              "    }\n",
              "\n",
              "    .dataframe thead th {\n",
              "        text-align: right;\n",
              "    }\n",
              "</style>\n",
              "<table border=\"1\" class=\"dataframe\">\n",
              "  <thead>\n",
              "    <tr style=\"text-align: right;\">\n",
              "      <th></th>\n",
              "      <th>Age</th>\n",
              "      <th>Gender</th>\n",
              "      <th>Stream</th>\n",
              "      <th>Internships</th>\n",
              "      <th>CGPA</th>\n",
              "      <th>Hostel</th>\n",
              "      <th>HistoryOfBacklogs</th>\n",
              "    </tr>\n",
              "  </thead>\n",
              "  <tbody>\n",
              "    <tr>\n",
              "      <th>0</th>\n",
              "      <td>22</td>\n",
              "      <td>1</td>\n",
              "      <td>3</td>\n",
              "      <td>1</td>\n",
              "      <td>8</td>\n",
              "      <td>1</td>\n",
              "      <td>1</td>\n",
              "    </tr>\n",
              "    <tr>\n",
              "      <th>1</th>\n",
              "      <td>21</td>\n",
              "      <td>0</td>\n",
              "      <td>1</td>\n",
              "      <td>0</td>\n",
              "      <td>7</td>\n",
              "      <td>1</td>\n",
              "      <td>1</td>\n",
              "    </tr>\n",
              "    <tr>\n",
              "      <th>2</th>\n",
              "      <td>22</td>\n",
              "      <td>0</td>\n",
              "      <td>4</td>\n",
              "      <td>1</td>\n",
              "      <td>6</td>\n",
              "      <td>0</td>\n",
              "      <td>0</td>\n",
              "    </tr>\n",
              "    <tr>\n",
              "      <th>3</th>\n",
              "      <td>21</td>\n",
              "      <td>1</td>\n",
              "      <td>4</td>\n",
              "      <td>0</td>\n",
              "      <td>8</td>\n",
              "      <td>0</td>\n",
              "      <td>1</td>\n",
              "    </tr>\n",
              "    <tr>\n",
              "      <th>4</th>\n",
              "      <td>22</td>\n",
              "      <td>1</td>\n",
              "      <td>5</td>\n",
              "      <td>0</td>\n",
              "      <td>8</td>\n",
              "      <td>1</td>\n",
              "      <td>0</td>\n",
              "    </tr>\n",
              "  </tbody>\n",
              "</table>\n",
              "</div>\n",
              "      <button class=\"colab-df-convert\" onclick=\"convertToInteractive('df-16ed84f7-1927-4e41-b9a4-10bede77e78c')\"\n",
              "              title=\"Convert this dataframe to an interactive table.\"\n",
              "              style=\"display:none;\">\n",
              "        \n",
              "  <svg xmlns=\"http://www.w3.org/2000/svg\" height=\"24px\"viewBox=\"0 0 24 24\"\n",
              "       width=\"24px\">\n",
              "    <path d=\"M0 0h24v24H0V0z\" fill=\"none\"/>\n",
              "    <path d=\"M18.56 5.44l.94 2.06.94-2.06 2.06-.94-2.06-.94-.94-2.06-.94 2.06-2.06.94zm-11 1L8.5 8.5l.94-2.06 2.06-.94-2.06-.94L8.5 2.5l-.94 2.06-2.06.94zm10 10l.94 2.06.94-2.06 2.06-.94-2.06-.94-.94-2.06-.94 2.06-2.06.94z\"/><path d=\"M17.41 7.96l-1.37-1.37c-.4-.4-.92-.59-1.43-.59-.52 0-1.04.2-1.43.59L10.3 9.45l-7.72 7.72c-.78.78-.78 2.05 0 2.83L4 21.41c.39.39.9.59 1.41.59.51 0 1.02-.2 1.41-.59l7.78-7.78 2.81-2.81c.8-.78.8-2.07 0-2.86zM5.41 20L4 18.59l7.72-7.72 1.47 1.35L5.41 20z\"/>\n",
              "  </svg>\n",
              "      </button>\n",
              "      \n",
              "  <style>\n",
              "    .colab-df-container {\n",
              "      display:flex;\n",
              "      flex-wrap:wrap;\n",
              "      gap: 12px;\n",
              "    }\n",
              "\n",
              "    .colab-df-convert {\n",
              "      background-color: #E8F0FE;\n",
              "      border: none;\n",
              "      border-radius: 50%;\n",
              "      cursor: pointer;\n",
              "      display: none;\n",
              "      fill: #1967D2;\n",
              "      height: 32px;\n",
              "      padding: 0 0 0 0;\n",
              "      width: 32px;\n",
              "    }\n",
              "\n",
              "    .colab-df-convert:hover {\n",
              "      background-color: #E2EBFA;\n",
              "      box-shadow: 0px 1px 2px rgba(60, 64, 67, 0.3), 0px 1px 3px 1px rgba(60, 64, 67, 0.15);\n",
              "      fill: #174EA6;\n",
              "    }\n",
              "\n",
              "    [theme=dark] .colab-df-convert {\n",
              "      background-color: #3B4455;\n",
              "      fill: #D2E3FC;\n",
              "    }\n",
              "\n",
              "    [theme=dark] .colab-df-convert:hover {\n",
              "      background-color: #434B5C;\n",
              "      box-shadow: 0px 1px 3px 1px rgba(0, 0, 0, 0.15);\n",
              "      filter: drop-shadow(0px 1px 2px rgba(0, 0, 0, 0.3));\n",
              "      fill: #FFFFFF;\n",
              "    }\n",
              "  </style>\n",
              "\n",
              "      <script>\n",
              "        const buttonEl =\n",
              "          document.querySelector('#df-16ed84f7-1927-4e41-b9a4-10bede77e78c button.colab-df-convert');\n",
              "        buttonEl.style.display =\n",
              "          google.colab.kernel.accessAllowed ? 'block' : 'none';\n",
              "\n",
              "        async function convertToInteractive(key) {\n",
              "          const element = document.querySelector('#df-16ed84f7-1927-4e41-b9a4-10bede77e78c');\n",
              "          const dataTable =\n",
              "            await google.colab.kernel.invokeFunction('convertToInteractive',\n",
              "                                                     [key], {});\n",
              "          if (!dataTable) return;\n",
              "\n",
              "          const docLinkHtml = 'Like what you see? Visit the ' +\n",
              "            '<a target=\"_blank\" href=https://colab.research.google.com/notebooks/data_table.ipynb>data table notebook</a>'\n",
              "            + ' to learn more about interactive tables.';\n",
              "          element.innerHTML = '';\n",
              "          dataTable['output_type'] = 'display_data';\n",
              "          await google.colab.output.renderOutput(dataTable, element);\n",
              "          const docLink = document.createElement('div');\n",
              "          docLink.innerHTML = docLinkHtml;\n",
              "          element.appendChild(docLink);\n",
              "        }\n",
              "      </script>\n",
              "    </div>\n",
              "  </div>\n",
              "  "
            ]
          },
          "metadata": {},
          "execution_count": 28
        }
      ],
      "source": [
        "X.head()"
      ]
    },
    {
      "cell_type": "code",
      "execution_count": 29,
      "metadata": {
        "id": "cv2MFHZTy0uo",
        "colab": {
          "base_uri": "https://localhost:8080/",
          "height": 206
        },
        "outputId": "afb7cc83-fa6d-4641-8af5-cfe0f42c886f"
      },
      "outputs": [
        {
          "output_type": "execute_result",
          "data": {
            "text/plain": [
              "   PlacedOrNot\n",
              "0            1\n",
              "1            1\n",
              "2            1\n",
              "3            1\n",
              "4            1"
            ],
            "text/html": [
              "\n",
              "  <div id=\"df-668d5cd9-2905-4166-ae31-34309dc6cf23\">\n",
              "    <div class=\"colab-df-container\">\n",
              "      <div>\n",
              "<style scoped>\n",
              "    .dataframe tbody tr th:only-of-type {\n",
              "        vertical-align: middle;\n",
              "    }\n",
              "\n",
              "    .dataframe tbody tr th {\n",
              "        vertical-align: top;\n",
              "    }\n",
              "\n",
              "    .dataframe thead th {\n",
              "        text-align: right;\n",
              "    }\n",
              "</style>\n",
              "<table border=\"1\" class=\"dataframe\">\n",
              "  <thead>\n",
              "    <tr style=\"text-align: right;\">\n",
              "      <th></th>\n",
              "      <th>PlacedOrNot</th>\n",
              "    </tr>\n",
              "  </thead>\n",
              "  <tbody>\n",
              "    <tr>\n",
              "      <th>0</th>\n",
              "      <td>1</td>\n",
              "    </tr>\n",
              "    <tr>\n",
              "      <th>1</th>\n",
              "      <td>1</td>\n",
              "    </tr>\n",
              "    <tr>\n",
              "      <th>2</th>\n",
              "      <td>1</td>\n",
              "    </tr>\n",
              "    <tr>\n",
              "      <th>3</th>\n",
              "      <td>1</td>\n",
              "    </tr>\n",
              "    <tr>\n",
              "      <th>4</th>\n",
              "      <td>1</td>\n",
              "    </tr>\n",
              "  </tbody>\n",
              "</table>\n",
              "</div>\n",
              "      <button class=\"colab-df-convert\" onclick=\"convertToInteractive('df-668d5cd9-2905-4166-ae31-34309dc6cf23')\"\n",
              "              title=\"Convert this dataframe to an interactive table.\"\n",
              "              style=\"display:none;\">\n",
              "        \n",
              "  <svg xmlns=\"http://www.w3.org/2000/svg\" height=\"24px\"viewBox=\"0 0 24 24\"\n",
              "       width=\"24px\">\n",
              "    <path d=\"M0 0h24v24H0V0z\" fill=\"none\"/>\n",
              "    <path d=\"M18.56 5.44l.94 2.06.94-2.06 2.06-.94-2.06-.94-.94-2.06-.94 2.06-2.06.94zm-11 1L8.5 8.5l.94-2.06 2.06-.94-2.06-.94L8.5 2.5l-.94 2.06-2.06.94zm10 10l.94 2.06.94-2.06 2.06-.94-2.06-.94-.94-2.06-.94 2.06-2.06.94z\"/><path d=\"M17.41 7.96l-1.37-1.37c-.4-.4-.92-.59-1.43-.59-.52 0-1.04.2-1.43.59L10.3 9.45l-7.72 7.72c-.78.78-.78 2.05 0 2.83L4 21.41c.39.39.9.59 1.41.59.51 0 1.02-.2 1.41-.59l7.78-7.78 2.81-2.81c.8-.78.8-2.07 0-2.86zM5.41 20L4 18.59l7.72-7.72 1.47 1.35L5.41 20z\"/>\n",
              "  </svg>\n",
              "      </button>\n",
              "      \n",
              "  <style>\n",
              "    .colab-df-container {\n",
              "      display:flex;\n",
              "      flex-wrap:wrap;\n",
              "      gap: 12px;\n",
              "    }\n",
              "\n",
              "    .colab-df-convert {\n",
              "      background-color: #E8F0FE;\n",
              "      border: none;\n",
              "      border-radius: 50%;\n",
              "      cursor: pointer;\n",
              "      display: none;\n",
              "      fill: #1967D2;\n",
              "      height: 32px;\n",
              "      padding: 0 0 0 0;\n",
              "      width: 32px;\n",
              "    }\n",
              "\n",
              "    .colab-df-convert:hover {\n",
              "      background-color: #E2EBFA;\n",
              "      box-shadow: 0px 1px 2px rgba(60, 64, 67, 0.3), 0px 1px 3px 1px rgba(60, 64, 67, 0.15);\n",
              "      fill: #174EA6;\n",
              "    }\n",
              "\n",
              "    [theme=dark] .colab-df-convert {\n",
              "      background-color: #3B4455;\n",
              "      fill: #D2E3FC;\n",
              "    }\n",
              "\n",
              "    [theme=dark] .colab-df-convert:hover {\n",
              "      background-color: #434B5C;\n",
              "      box-shadow: 0px 1px 3px 1px rgba(0, 0, 0, 0.15);\n",
              "      filter: drop-shadow(0px 1px 2px rgba(0, 0, 0, 0.3));\n",
              "      fill: #FFFFFF;\n",
              "    }\n",
              "  </style>\n",
              "\n",
              "      <script>\n",
              "        const buttonEl =\n",
              "          document.querySelector('#df-668d5cd9-2905-4166-ae31-34309dc6cf23 button.colab-df-convert');\n",
              "        buttonEl.style.display =\n",
              "          google.colab.kernel.accessAllowed ? 'block' : 'none';\n",
              "\n",
              "        async function convertToInteractive(key) {\n",
              "          const element = document.querySelector('#df-668d5cd9-2905-4166-ae31-34309dc6cf23');\n",
              "          const dataTable =\n",
              "            await google.colab.kernel.invokeFunction('convertToInteractive',\n",
              "                                                     [key], {});\n",
              "          if (!dataTable) return;\n",
              "\n",
              "          const docLinkHtml = 'Like what you see? Visit the ' +\n",
              "            '<a target=\"_blank\" href=https://colab.research.google.com/notebooks/data_table.ipynb>data table notebook</a>'\n",
              "            + ' to learn more about interactive tables.';\n",
              "          element.innerHTML = '';\n",
              "          dataTable['output_type'] = 'display_data';\n",
              "          await google.colab.output.renderOutput(dataTable, element);\n",
              "          const docLink = document.createElement('div');\n",
              "          docLink.innerHTML = docLinkHtml;\n",
              "          element.appendChild(docLink);\n",
              "        }\n",
              "      </script>\n",
              "    </div>\n",
              "  </div>\n",
              "  "
            ]
          },
          "metadata": {},
          "execution_count": 29
        }
      ],
      "source": [
        "Y.head()"
      ]
    },
    {
      "cell_type": "code",
      "execution_count": 30,
      "metadata": {
        "id": "djQAtgs8y37i"
      },
      "outputs": [],
      "source": [
        "#Training DataSet\n",
        "x_train,x_test,y_train,y_test = train_test_split(X, Y, test_size=0.2, random_state = 0)"
      ]
    },
    {
      "cell_type": "markdown",
      "source": [
        "# XGB Classifier"
      ],
      "metadata": {
        "id": "N0tqQhhGQosF"
      }
    },
    {
      "cell_type": "code",
      "source": [
        "# defining the model\n",
        "clf = XGBClassifier(learning_rate=0.09, \n",
        "                    n_estimators=100, \n",
        "                    use_label_encoder=False,\n",
        "                    random_state=42)\n",
        "    \n",
        "clf.fit(x_train, y_train, eval_metric='logloss')\n",
        "predictions = clf.predict(x_test) \n",
        "xgb = accuracy_score(y_test, predictions)"
      ],
      "metadata": {
        "colab": {
          "base_uri": "https://localhost:8080/"
        },
        "id": "sQ2-SXZYQmcN",
        "outputId": "d78b9857-6be6-4817-bfcb-2a71a8fbb6c1"
      },
      "execution_count": 31,
      "outputs": [
        {
          "output_type": "stream",
          "name": "stderr",
          "text": [
            "/usr/local/lib/python3.7/dist-packages/sklearn/preprocessing/_label.py:98: DataConversionWarning:\n",
            "\n",
            "A column-vector y was passed when a 1d array was expected. Please change the shape of y to (n_samples, ), for example using ravel().\n",
            "\n",
            "/usr/local/lib/python3.7/dist-packages/sklearn/preprocessing/_label.py:133: DataConversionWarning:\n",
            "\n",
            "A column-vector y was passed when a 1d array was expected. Please change the shape of y to (n_samples, ), for example using ravel().\n",
            "\n"
          ]
        }
      ]
    },
    {
      "cell_type": "code",
      "source": [
        "xgb"
      ],
      "metadata": {
        "colab": {
          "base_uri": "https://localhost:8080/"
        },
        "id": "wsfQr9DPQ8Vw",
        "outputId": "3061cced-5e31-4015-8e69-8cdb73b0747a"
      },
      "execution_count": 32,
      "outputs": [
        {
          "output_type": "execute_result",
          "data": {
            "text/plain": [
              "0.8855218855218855"
            ]
          },
          "metadata": {},
          "execution_count": 32
        }
      ]
    },
    {
      "cell_type": "code",
      "source": [
        "print(\"f1_score: \" + str(f1_score(y_test, predictions)))"
      ],
      "metadata": {
        "colab": {
          "base_uri": "https://localhost:8080/"
        },
        "id": "E7IX4nvqRE5R",
        "outputId": "00b6312a-eb5a-474e-884f-0db6187e2ad1"
      },
      "execution_count": 33,
      "outputs": [
        {
          "output_type": "stream",
          "name": "stdout",
          "text": [
            "f1_score: 0.892063492063492\n"
          ]
        }
      ]
    },
    {
      "cell_type": "code",
      "source": [
        "predictions"
      ],
      "metadata": {
        "colab": {
          "base_uri": "https://localhost:8080/"
        },
        "id": "4f5s4sptRIRC",
        "outputId": "780cd1f7-dc66-4912-abd9-78044a552be3"
      },
      "execution_count": 34,
      "outputs": [
        {
          "output_type": "execute_result",
          "data": {
            "text/plain": [
              "array([1, 1, 0, 0, 0, 0, 1, 1, 0, 1, 1, 1, 0, 1, 1, 0, 1, 0, 1, 0, 0, 1,\n",
              "       1, 0, 0, 0, 1, 1, 0, 0, 1, 0, 1, 1, 0, 1, 1, 0, 0, 0, 0, 1, 1, 0,\n",
              "       0, 1, 1, 0, 1, 0, 0, 0, 1, 1, 1, 0, 1, 1, 1, 0, 0, 1, 1, 1, 0, 0,\n",
              "       0, 0, 0, 1, 0, 0, 0, 1, 0, 1, 0, 1, 0, 1, 0, 0, 1, 0, 0, 0, 0, 1,\n",
              "       0, 1, 1, 0, 1, 0, 1, 0, 1, 0, 1, 1, 1, 0, 1, 1, 0, 0, 1, 1, 0, 0,\n",
              "       1, 0, 1, 0, 1, 1, 1, 1, 0, 0, 0, 0, 0, 0, 0, 1, 1, 0, 0, 1, 0, 1,\n",
              "       0, 0, 1, 1, 1, 0, 0, 0, 0, 0, 1, 0, 1, 0, 0, 0, 1, 0, 1, 1, 0, 0,\n",
              "       1, 1, 1, 1, 0, 1, 0, 1, 1, 1, 0, 0, 1, 0, 1, 1, 0, 0, 1, 1, 0, 1,\n",
              "       1, 0, 1, 1, 1, 0, 0, 1, 0, 0, 1, 0, 0, 1, 0, 0, 1, 1, 0, 1, 1, 1,\n",
              "       1, 0, 1, 1, 0, 0, 0, 0, 1, 1, 0, 0, 1, 0, 1, 1, 1, 0, 1, 1, 0, 1,\n",
              "       0, 0, 1, 0, 0, 0, 0, 1, 1, 1, 0, 1, 0, 1, 0, 1, 1, 1, 0, 0, 0, 1,\n",
              "       1, 0, 0, 1, 1, 1, 1, 1, 0, 1, 0, 0, 1, 1, 0, 1, 1, 0, 1, 1, 1, 0,\n",
              "       1, 0, 0, 1, 0, 0, 1, 0, 0, 1, 0, 1, 1, 0, 1, 0, 0, 1, 0, 0, 0, 0,\n",
              "       1, 1, 1, 1, 1, 0, 1, 0, 0, 1, 0, 0, 0, 1, 1, 1, 0, 1, 1, 1, 1, 1,\n",
              "       0, 1, 0, 1, 1, 0, 0, 0, 0, 0, 0, 0, 0, 1, 0, 0, 0, 1, 0, 1, 0, 1,\n",
              "       1, 1, 1, 1, 1, 0, 0, 0, 0, 0, 0, 0, 0, 0, 1, 1, 0, 1, 0, 0, 1, 1,\n",
              "       0, 1, 1, 1, 0, 0, 1, 0, 0, 0, 0, 0, 1, 1, 1, 1, 1, 0, 1, 0, 1, 1,\n",
              "       0, 0, 0, 1, 0, 0, 1, 0, 0, 0, 1, 0, 1, 0, 0, 0, 1, 1, 0, 0, 0, 0,\n",
              "       1, 0, 1, 1, 1, 0, 0, 0, 1, 1, 0, 0, 0, 1, 1, 0, 0, 1, 1, 1, 0, 0,\n",
              "       0, 0, 1, 0, 1, 1, 1, 1, 0, 0, 1, 0, 1, 1, 1, 0, 0, 1, 0, 0, 0, 0,\n",
              "       1, 1, 1, 0, 0, 0, 1, 1, 0, 1, 1, 0, 1, 1, 1, 1, 0, 1, 0, 1, 1, 1,\n",
              "       0, 0, 0, 0, 0, 1, 0, 1, 0, 1, 1, 0, 1, 0, 1, 1, 0, 1, 1, 1, 0, 0,\n",
              "       1, 1, 1, 1, 1, 0, 0, 1, 1, 1, 0, 1, 0, 1, 0, 1, 0, 0, 1, 0, 0, 0,\n",
              "       1, 1, 0, 1, 0, 0, 1, 1, 1, 0, 1, 0, 1, 1, 1, 1, 0, 1, 0, 0, 1, 0,\n",
              "       0, 0, 1, 0, 1, 0, 0, 1, 0, 1, 0, 1, 0, 1, 0, 0, 1, 0, 0, 1, 0, 0,\n",
              "       0, 1, 1, 1, 1, 1, 1, 0, 1, 1, 1, 0, 0, 1, 1, 1, 1, 0, 1, 0, 0, 0,\n",
              "       1, 1, 0, 1, 0, 1, 0, 0, 1, 1, 0, 1, 1, 0, 0, 0, 1, 1, 1, 0, 0, 0])"
            ]
          },
          "metadata": {},
          "execution_count": 34
        }
      ]
    },
    {
      "cell_type": "markdown",
      "source": [
        "# Randomized Search CV"
      ],
      "metadata": {
        "id": "cEC9z1U3Q_6A"
      }
    },
    {
      "cell_type": "code",
      "source": [
        "# Number of trees in random forest\n",
        "n_estimators = [int(x) for x in np.linspace(start = 100, stop = 1200, num = 12)]\n",
        "learning_rate = [ float(x) for x in [0.9, 0.1, 0.09, 0.01]]"
      ],
      "metadata": {
        "id": "DUirQ0IxRPdj"
      },
      "execution_count": 35,
      "outputs": []
    },
    {
      "cell_type": "code",
      "source": [
        "random_grid = {'n_estimators': n_estimators,\n",
        "               'learning_rate': learning_rate,\n",
        "               }\n",
        "\n",
        "print(random_grid)"
      ],
      "metadata": {
        "colab": {
          "base_uri": "https://localhost:8080/"
        },
        "id": "bqenqrP6RU78",
        "outputId": "d2505d86-f719-4027-9b81-5391d1438b28"
      },
      "execution_count": 36,
      "outputs": [
        {
          "output_type": "stream",
          "name": "stdout",
          "text": [
            "{'n_estimators': [100, 200, 300, 400, 500, 600, 700, 800, 900, 1000, 1100, 1200], 'learning_rate': [0.9, 0.1, 0.09, 0.01]}\n"
          ]
        }
      ]
    },
    {
      "cell_type": "code",
      "source": [
        "clf2 = XGBClassifier()\n",
        "model = RandomizedSearchCV(estimator = clf2, param_distributions = random_grid, n_iter = 10, cv = 5, verbose=2, random_state=42, n_jobs = 1)"
      ],
      "metadata": {
        "id": "f_ienuZzRaND"
      },
      "execution_count": 37,
      "outputs": []
    },
    {
      "cell_type": "code",
      "source": [
        "model.fit(x_train, y_train, eval_metric='logloss')"
      ],
      "metadata": {
        "colab": {
          "base_uri": "https://localhost:8080/"
        },
        "id": "ch1_WhsnRljM",
        "outputId": "d2446708-eb20-4269-8ab7-af9b3baa0a37"
      },
      "execution_count": 38,
      "outputs": [
        {
          "output_type": "stream",
          "name": "stdout",
          "text": [
            "Fitting 5 folds for each of 10 candidates, totalling 50 fits\n"
          ]
        },
        {
          "output_type": "stream",
          "name": "stderr",
          "text": [
            "/usr/local/lib/python3.7/dist-packages/sklearn/preprocessing/_label.py:98: DataConversionWarning:\n",
            "\n",
            "A column-vector y was passed when a 1d array was expected. Please change the shape of y to (n_samples, ), for example using ravel().\n",
            "\n",
            "/usr/local/lib/python3.7/dist-packages/sklearn/preprocessing/_label.py:133: DataConversionWarning:\n",
            "\n",
            "A column-vector y was passed when a 1d array was expected. Please change the shape of y to (n_samples, ), for example using ravel().\n",
            "\n"
          ]
        },
        {
          "output_type": "stream",
          "name": "stdout",
          "text": [
            "[CV] END ...............learning_rate=0.09, n_estimators=400; total time=   0.7s\n"
          ]
        },
        {
          "output_type": "stream",
          "name": "stderr",
          "text": [
            "/usr/local/lib/python3.7/dist-packages/sklearn/preprocessing/_label.py:98: DataConversionWarning:\n",
            "\n",
            "A column-vector y was passed when a 1d array was expected. Please change the shape of y to (n_samples, ), for example using ravel().\n",
            "\n",
            "/usr/local/lib/python3.7/dist-packages/sklearn/preprocessing/_label.py:133: DataConversionWarning:\n",
            "\n",
            "A column-vector y was passed when a 1d array was expected. Please change the shape of y to (n_samples, ), for example using ravel().\n",
            "\n"
          ]
        },
        {
          "output_type": "stream",
          "name": "stdout",
          "text": [
            "[CV] END ...............learning_rate=0.09, n_estimators=400; total time=   0.6s\n"
          ]
        },
        {
          "output_type": "stream",
          "name": "stderr",
          "text": [
            "/usr/local/lib/python3.7/dist-packages/sklearn/preprocessing/_label.py:98: DataConversionWarning:\n",
            "\n",
            "A column-vector y was passed when a 1d array was expected. Please change the shape of y to (n_samples, ), for example using ravel().\n",
            "\n",
            "/usr/local/lib/python3.7/dist-packages/sklearn/preprocessing/_label.py:133: DataConversionWarning:\n",
            "\n",
            "A column-vector y was passed when a 1d array was expected. Please change the shape of y to (n_samples, ), for example using ravel().\n",
            "\n"
          ]
        },
        {
          "output_type": "stream",
          "name": "stdout",
          "text": [
            "[CV] END ...............learning_rate=0.09, n_estimators=400; total time=   0.6s\n"
          ]
        },
        {
          "output_type": "stream",
          "name": "stderr",
          "text": [
            "/usr/local/lib/python3.7/dist-packages/sklearn/preprocessing/_label.py:98: DataConversionWarning:\n",
            "\n",
            "A column-vector y was passed when a 1d array was expected. Please change the shape of y to (n_samples, ), for example using ravel().\n",
            "\n",
            "/usr/local/lib/python3.7/dist-packages/sklearn/preprocessing/_label.py:133: DataConversionWarning:\n",
            "\n",
            "A column-vector y was passed when a 1d array was expected. Please change the shape of y to (n_samples, ), for example using ravel().\n",
            "\n"
          ]
        },
        {
          "output_type": "stream",
          "name": "stdout",
          "text": [
            "[CV] END ...............learning_rate=0.09, n_estimators=400; total time=   0.7s\n"
          ]
        },
        {
          "output_type": "stream",
          "name": "stderr",
          "text": [
            "/usr/local/lib/python3.7/dist-packages/sklearn/preprocessing/_label.py:98: DataConversionWarning:\n",
            "\n",
            "A column-vector y was passed when a 1d array was expected. Please change the shape of y to (n_samples, ), for example using ravel().\n",
            "\n",
            "/usr/local/lib/python3.7/dist-packages/sklearn/preprocessing/_label.py:133: DataConversionWarning:\n",
            "\n",
            "A column-vector y was passed when a 1d array was expected. Please change the shape of y to (n_samples, ), for example using ravel().\n",
            "\n"
          ]
        },
        {
          "output_type": "stream",
          "name": "stdout",
          "text": [
            "[CV] END ...............learning_rate=0.09, n_estimators=400; total time=   0.7s\n"
          ]
        },
        {
          "output_type": "stream",
          "name": "stderr",
          "text": [
            "/usr/local/lib/python3.7/dist-packages/sklearn/preprocessing/_label.py:98: DataConversionWarning:\n",
            "\n",
            "A column-vector y was passed when a 1d array was expected. Please change the shape of y to (n_samples, ), for example using ravel().\n",
            "\n",
            "/usr/local/lib/python3.7/dist-packages/sklearn/preprocessing/_label.py:133: DataConversionWarning:\n",
            "\n",
            "A column-vector y was passed when a 1d array was expected. Please change the shape of y to (n_samples, ), for example using ravel().\n",
            "\n"
          ]
        },
        {
          "output_type": "stream",
          "name": "stdout",
          "text": [
            "[CV] END ...............learning_rate=0.01, n_estimators=500; total time=   0.4s\n"
          ]
        },
        {
          "output_type": "stream",
          "name": "stderr",
          "text": [
            "/usr/local/lib/python3.7/dist-packages/sklearn/preprocessing/_label.py:98: DataConversionWarning:\n",
            "\n",
            "A column-vector y was passed when a 1d array was expected. Please change the shape of y to (n_samples, ), for example using ravel().\n",
            "\n",
            "/usr/local/lib/python3.7/dist-packages/sklearn/preprocessing/_label.py:133: DataConversionWarning:\n",
            "\n",
            "A column-vector y was passed when a 1d array was expected. Please change the shape of y to (n_samples, ), for example using ravel().\n",
            "\n"
          ]
        },
        {
          "output_type": "stream",
          "name": "stdout",
          "text": [
            "[CV] END ...............learning_rate=0.01, n_estimators=500; total time=   0.4s\n"
          ]
        },
        {
          "output_type": "stream",
          "name": "stderr",
          "text": [
            "/usr/local/lib/python3.7/dist-packages/sklearn/preprocessing/_label.py:98: DataConversionWarning:\n",
            "\n",
            "A column-vector y was passed when a 1d array was expected. Please change the shape of y to (n_samples, ), for example using ravel().\n",
            "\n",
            "/usr/local/lib/python3.7/dist-packages/sklearn/preprocessing/_label.py:133: DataConversionWarning:\n",
            "\n",
            "A column-vector y was passed when a 1d array was expected. Please change the shape of y to (n_samples, ), for example using ravel().\n",
            "\n"
          ]
        },
        {
          "output_type": "stream",
          "name": "stdout",
          "text": [
            "[CV] END ...............learning_rate=0.01, n_estimators=500; total time=   0.4s\n"
          ]
        },
        {
          "output_type": "stream",
          "name": "stderr",
          "text": [
            "/usr/local/lib/python3.7/dist-packages/sklearn/preprocessing/_label.py:98: DataConversionWarning:\n",
            "\n",
            "A column-vector y was passed when a 1d array was expected. Please change the shape of y to (n_samples, ), for example using ravel().\n",
            "\n",
            "/usr/local/lib/python3.7/dist-packages/sklearn/preprocessing/_label.py:133: DataConversionWarning:\n",
            "\n",
            "A column-vector y was passed when a 1d array was expected. Please change the shape of y to (n_samples, ), for example using ravel().\n",
            "\n"
          ]
        },
        {
          "output_type": "stream",
          "name": "stdout",
          "text": [
            "[CV] END ...............learning_rate=0.01, n_estimators=500; total time=   0.4s\n"
          ]
        },
        {
          "output_type": "stream",
          "name": "stderr",
          "text": [
            "/usr/local/lib/python3.7/dist-packages/sklearn/preprocessing/_label.py:98: DataConversionWarning:\n",
            "\n",
            "A column-vector y was passed when a 1d array was expected. Please change the shape of y to (n_samples, ), for example using ravel().\n",
            "\n",
            "/usr/local/lib/python3.7/dist-packages/sklearn/preprocessing/_label.py:133: DataConversionWarning:\n",
            "\n",
            "A column-vector y was passed when a 1d array was expected. Please change the shape of y to (n_samples, ), for example using ravel().\n",
            "\n"
          ]
        },
        {
          "output_type": "stream",
          "name": "stdout",
          "text": [
            "[CV] END ...............learning_rate=0.01, n_estimators=500; total time=   0.4s\n"
          ]
        },
        {
          "output_type": "stream",
          "name": "stderr",
          "text": [
            "/usr/local/lib/python3.7/dist-packages/sklearn/preprocessing/_label.py:98: DataConversionWarning:\n",
            "\n",
            "A column-vector y was passed when a 1d array was expected. Please change the shape of y to (n_samples, ), for example using ravel().\n",
            "\n",
            "/usr/local/lib/python3.7/dist-packages/sklearn/preprocessing/_label.py:133: DataConversionWarning:\n",
            "\n",
            "A column-vector y was passed when a 1d array was expected. Please change the shape of y to (n_samples, ), for example using ravel().\n",
            "\n"
          ]
        },
        {
          "output_type": "stream",
          "name": "stdout",
          "text": [
            "[CV] END ...............learning_rate=0.09, n_estimators=300; total time=   0.2s\n"
          ]
        },
        {
          "output_type": "stream",
          "name": "stderr",
          "text": [
            "/usr/local/lib/python3.7/dist-packages/sklearn/preprocessing/_label.py:98: DataConversionWarning:\n",
            "\n",
            "A column-vector y was passed when a 1d array was expected. Please change the shape of y to (n_samples, ), for example using ravel().\n",
            "\n",
            "/usr/local/lib/python3.7/dist-packages/sklearn/preprocessing/_label.py:133: DataConversionWarning:\n",
            "\n",
            "A column-vector y was passed when a 1d array was expected. Please change the shape of y to (n_samples, ), for example using ravel().\n",
            "\n"
          ]
        },
        {
          "output_type": "stream",
          "name": "stdout",
          "text": [
            "[CV] END ...............learning_rate=0.09, n_estimators=300; total time=   0.2s\n"
          ]
        },
        {
          "output_type": "stream",
          "name": "stderr",
          "text": [
            "/usr/local/lib/python3.7/dist-packages/sklearn/preprocessing/_label.py:98: DataConversionWarning:\n",
            "\n",
            "A column-vector y was passed when a 1d array was expected. Please change the shape of y to (n_samples, ), for example using ravel().\n",
            "\n",
            "/usr/local/lib/python3.7/dist-packages/sklearn/preprocessing/_label.py:133: DataConversionWarning:\n",
            "\n",
            "A column-vector y was passed when a 1d array was expected. Please change the shape of y to (n_samples, ), for example using ravel().\n",
            "\n"
          ]
        },
        {
          "output_type": "stream",
          "name": "stdout",
          "text": [
            "[CV] END ...............learning_rate=0.09, n_estimators=300; total time=   0.2s\n"
          ]
        },
        {
          "output_type": "stream",
          "name": "stderr",
          "text": [
            "/usr/local/lib/python3.7/dist-packages/sklearn/preprocessing/_label.py:98: DataConversionWarning:\n",
            "\n",
            "A column-vector y was passed when a 1d array was expected. Please change the shape of y to (n_samples, ), for example using ravel().\n",
            "\n",
            "/usr/local/lib/python3.7/dist-packages/sklearn/preprocessing/_label.py:133: DataConversionWarning:\n",
            "\n",
            "A column-vector y was passed when a 1d array was expected. Please change the shape of y to (n_samples, ), for example using ravel().\n",
            "\n"
          ]
        },
        {
          "output_type": "stream",
          "name": "stdout",
          "text": [
            "[CV] END ...............learning_rate=0.09, n_estimators=300; total time=   0.2s\n"
          ]
        },
        {
          "output_type": "stream",
          "name": "stderr",
          "text": [
            "/usr/local/lib/python3.7/dist-packages/sklearn/preprocessing/_label.py:98: DataConversionWarning:\n",
            "\n",
            "A column-vector y was passed when a 1d array was expected. Please change the shape of y to (n_samples, ), for example using ravel().\n",
            "\n",
            "/usr/local/lib/python3.7/dist-packages/sklearn/preprocessing/_label.py:133: DataConversionWarning:\n",
            "\n",
            "A column-vector y was passed when a 1d array was expected. Please change the shape of y to (n_samples, ), for example using ravel().\n",
            "\n"
          ]
        },
        {
          "output_type": "stream",
          "name": "stdout",
          "text": [
            "[CV] END ...............learning_rate=0.09, n_estimators=300; total time=   0.2s\n"
          ]
        },
        {
          "output_type": "stream",
          "name": "stderr",
          "text": [
            "/usr/local/lib/python3.7/dist-packages/sklearn/preprocessing/_label.py:98: DataConversionWarning:\n",
            "\n",
            "A column-vector y was passed when a 1d array was expected. Please change the shape of y to (n_samples, ), for example using ravel().\n",
            "\n",
            "/usr/local/lib/python3.7/dist-packages/sklearn/preprocessing/_label.py:133: DataConversionWarning:\n",
            "\n",
            "A column-vector y was passed when a 1d array was expected. Please change the shape of y to (n_samples, ), for example using ravel().\n",
            "\n"
          ]
        },
        {
          "output_type": "stream",
          "name": "stdout",
          "text": [
            "[CV] END ...............learning_rate=0.01, n_estimators=800; total time=   0.6s\n"
          ]
        },
        {
          "output_type": "stream",
          "name": "stderr",
          "text": [
            "/usr/local/lib/python3.7/dist-packages/sklearn/preprocessing/_label.py:98: DataConversionWarning:\n",
            "\n",
            "A column-vector y was passed when a 1d array was expected. Please change the shape of y to (n_samples, ), for example using ravel().\n",
            "\n",
            "/usr/local/lib/python3.7/dist-packages/sklearn/preprocessing/_label.py:133: DataConversionWarning:\n",
            "\n",
            "A column-vector y was passed when a 1d array was expected. Please change the shape of y to (n_samples, ), for example using ravel().\n",
            "\n"
          ]
        },
        {
          "output_type": "stream",
          "name": "stdout",
          "text": [
            "[CV] END ...............learning_rate=0.01, n_estimators=800; total time=   0.6s\n"
          ]
        },
        {
          "output_type": "stream",
          "name": "stderr",
          "text": [
            "/usr/local/lib/python3.7/dist-packages/sklearn/preprocessing/_label.py:98: DataConversionWarning:\n",
            "\n",
            "A column-vector y was passed when a 1d array was expected. Please change the shape of y to (n_samples, ), for example using ravel().\n",
            "\n",
            "/usr/local/lib/python3.7/dist-packages/sklearn/preprocessing/_label.py:133: DataConversionWarning:\n",
            "\n",
            "A column-vector y was passed when a 1d array was expected. Please change the shape of y to (n_samples, ), for example using ravel().\n",
            "\n"
          ]
        },
        {
          "output_type": "stream",
          "name": "stdout",
          "text": [
            "[CV] END ...............learning_rate=0.01, n_estimators=800; total time=   0.6s\n"
          ]
        },
        {
          "output_type": "stream",
          "name": "stderr",
          "text": [
            "/usr/local/lib/python3.7/dist-packages/sklearn/preprocessing/_label.py:98: DataConversionWarning:\n",
            "\n",
            "A column-vector y was passed when a 1d array was expected. Please change the shape of y to (n_samples, ), for example using ravel().\n",
            "\n",
            "/usr/local/lib/python3.7/dist-packages/sklearn/preprocessing/_label.py:133: DataConversionWarning:\n",
            "\n",
            "A column-vector y was passed when a 1d array was expected. Please change the shape of y to (n_samples, ), for example using ravel().\n",
            "\n"
          ]
        },
        {
          "output_type": "stream",
          "name": "stdout",
          "text": [
            "[CV] END ...............learning_rate=0.01, n_estimators=800; total time=   0.6s\n"
          ]
        },
        {
          "output_type": "stream",
          "name": "stderr",
          "text": [
            "/usr/local/lib/python3.7/dist-packages/sklearn/preprocessing/_label.py:98: DataConversionWarning:\n",
            "\n",
            "A column-vector y was passed when a 1d array was expected. Please change the shape of y to (n_samples, ), for example using ravel().\n",
            "\n",
            "/usr/local/lib/python3.7/dist-packages/sklearn/preprocessing/_label.py:133: DataConversionWarning:\n",
            "\n",
            "A column-vector y was passed when a 1d array was expected. Please change the shape of y to (n_samples, ), for example using ravel().\n",
            "\n"
          ]
        },
        {
          "output_type": "stream",
          "name": "stdout",
          "text": [
            "[CV] END ...............learning_rate=0.01, n_estimators=800; total time=   0.6s\n",
            "[CV] END ...............learning_rate=0.09, n_estimators=100; total time=   0.1s\n",
            "[CV] END ...............learning_rate=0.09, n_estimators=100; total time=   0.1s\n"
          ]
        },
        {
          "output_type": "stream",
          "name": "stderr",
          "text": [
            "/usr/local/lib/python3.7/dist-packages/sklearn/preprocessing/_label.py:98: DataConversionWarning:\n",
            "\n",
            "A column-vector y was passed when a 1d array was expected. Please change the shape of y to (n_samples, ), for example using ravel().\n",
            "\n",
            "/usr/local/lib/python3.7/dist-packages/sklearn/preprocessing/_label.py:133: DataConversionWarning:\n",
            "\n",
            "A column-vector y was passed when a 1d array was expected. Please change the shape of y to (n_samples, ), for example using ravel().\n",
            "\n",
            "/usr/local/lib/python3.7/dist-packages/sklearn/preprocessing/_label.py:98: DataConversionWarning:\n",
            "\n",
            "A column-vector y was passed when a 1d array was expected. Please change the shape of y to (n_samples, ), for example using ravel().\n",
            "\n",
            "/usr/local/lib/python3.7/dist-packages/sklearn/preprocessing/_label.py:133: DataConversionWarning:\n",
            "\n",
            "A column-vector y was passed when a 1d array was expected. Please change the shape of y to (n_samples, ), for example using ravel().\n",
            "\n",
            "/usr/local/lib/python3.7/dist-packages/sklearn/preprocessing/_label.py:98: DataConversionWarning:\n",
            "\n",
            "A column-vector y was passed when a 1d array was expected. Please change the shape of y to (n_samples, ), for example using ravel().\n",
            "\n",
            "/usr/local/lib/python3.7/dist-packages/sklearn/preprocessing/_label.py:133: DataConversionWarning:\n",
            "\n",
            "A column-vector y was passed when a 1d array was expected. Please change the shape of y to (n_samples, ), for example using ravel().\n",
            "\n"
          ]
        },
        {
          "output_type": "stream",
          "name": "stdout",
          "text": [
            "[CV] END ...............learning_rate=0.09, n_estimators=100; total time=   0.1s\n",
            "[CV] END ...............learning_rate=0.09, n_estimators=100; total time=   0.1s\n",
            "[CV] END ...............learning_rate=0.09, n_estimators=100; total time=   0.1s\n"
          ]
        },
        {
          "output_type": "stream",
          "name": "stderr",
          "text": [
            "/usr/local/lib/python3.7/dist-packages/sklearn/preprocessing/_label.py:98: DataConversionWarning:\n",
            "\n",
            "A column-vector y was passed when a 1d array was expected. Please change the shape of y to (n_samples, ), for example using ravel().\n",
            "\n",
            "/usr/local/lib/python3.7/dist-packages/sklearn/preprocessing/_label.py:133: DataConversionWarning:\n",
            "\n",
            "A column-vector y was passed when a 1d array was expected. Please change the shape of y to (n_samples, ), for example using ravel().\n",
            "\n",
            "/usr/local/lib/python3.7/dist-packages/sklearn/preprocessing/_label.py:98: DataConversionWarning:\n",
            "\n",
            "A column-vector y was passed when a 1d array was expected. Please change the shape of y to (n_samples, ), for example using ravel().\n",
            "\n",
            "/usr/local/lib/python3.7/dist-packages/sklearn/preprocessing/_label.py:133: DataConversionWarning:\n",
            "\n",
            "A column-vector y was passed when a 1d array was expected. Please change the shape of y to (n_samples, ), for example using ravel().\n",
            "\n",
            "/usr/local/lib/python3.7/dist-packages/sklearn/preprocessing/_label.py:98: DataConversionWarning:\n",
            "\n",
            "A column-vector y was passed when a 1d array was expected. Please change the shape of y to (n_samples, ), for example using ravel().\n",
            "\n",
            "/usr/local/lib/python3.7/dist-packages/sklearn/preprocessing/_label.py:133: DataConversionWarning:\n",
            "\n",
            "A column-vector y was passed when a 1d array was expected. Please change the shape of y to (n_samples, ), for example using ravel().\n",
            "\n"
          ]
        },
        {
          "output_type": "stream",
          "name": "stdout",
          "text": [
            "[CV] END ...............learning_rate=0.01, n_estimators=200; total time=   0.2s\n",
            "[CV] END ...............learning_rate=0.01, n_estimators=200; total time=   0.2s\n"
          ]
        },
        {
          "output_type": "stream",
          "name": "stderr",
          "text": [
            "/usr/local/lib/python3.7/dist-packages/sklearn/preprocessing/_label.py:98: DataConversionWarning:\n",
            "\n",
            "A column-vector y was passed when a 1d array was expected. Please change the shape of y to (n_samples, ), for example using ravel().\n",
            "\n",
            "/usr/local/lib/python3.7/dist-packages/sklearn/preprocessing/_label.py:133: DataConversionWarning:\n",
            "\n",
            "A column-vector y was passed when a 1d array was expected. Please change the shape of y to (n_samples, ), for example using ravel().\n",
            "\n",
            "/usr/local/lib/python3.7/dist-packages/sklearn/preprocessing/_label.py:98: DataConversionWarning:\n",
            "\n",
            "A column-vector y was passed when a 1d array was expected. Please change the shape of y to (n_samples, ), for example using ravel().\n",
            "\n",
            "/usr/local/lib/python3.7/dist-packages/sklearn/preprocessing/_label.py:133: DataConversionWarning:\n",
            "\n",
            "A column-vector y was passed when a 1d array was expected. Please change the shape of y to (n_samples, ), for example using ravel().\n",
            "\n"
          ]
        },
        {
          "output_type": "stream",
          "name": "stdout",
          "text": [
            "[CV] END ...............learning_rate=0.01, n_estimators=200; total time=   0.2s\n",
            "[CV] END ...............learning_rate=0.01, n_estimators=200; total time=   0.2s\n"
          ]
        },
        {
          "output_type": "stream",
          "name": "stderr",
          "text": [
            "/usr/local/lib/python3.7/dist-packages/sklearn/preprocessing/_label.py:98: DataConversionWarning:\n",
            "\n",
            "A column-vector y was passed when a 1d array was expected. Please change the shape of y to (n_samples, ), for example using ravel().\n",
            "\n",
            "/usr/local/lib/python3.7/dist-packages/sklearn/preprocessing/_label.py:133: DataConversionWarning:\n",
            "\n",
            "A column-vector y was passed when a 1d array was expected. Please change the shape of y to (n_samples, ), for example using ravel().\n",
            "\n",
            "/usr/local/lib/python3.7/dist-packages/sklearn/preprocessing/_label.py:98: DataConversionWarning:\n",
            "\n",
            "A column-vector y was passed when a 1d array was expected. Please change the shape of y to (n_samples, ), for example using ravel().\n",
            "\n",
            "/usr/local/lib/python3.7/dist-packages/sklearn/preprocessing/_label.py:133: DataConversionWarning:\n",
            "\n",
            "A column-vector y was passed when a 1d array was expected. Please change the shape of y to (n_samples, ), for example using ravel().\n",
            "\n"
          ]
        },
        {
          "output_type": "stream",
          "name": "stdout",
          "text": [
            "[CV] END ...............learning_rate=0.01, n_estimators=200; total time=   0.2s\n",
            "[CV] END ................learning_rate=0.1, n_estimators=100; total time=   0.1s\n",
            "[CV] END ................learning_rate=0.1, n_estimators=100; total time=   0.1s\n"
          ]
        },
        {
          "output_type": "stream",
          "name": "stderr",
          "text": [
            "/usr/local/lib/python3.7/dist-packages/sklearn/preprocessing/_label.py:98: DataConversionWarning:\n",
            "\n",
            "A column-vector y was passed when a 1d array was expected. Please change the shape of y to (n_samples, ), for example using ravel().\n",
            "\n",
            "/usr/local/lib/python3.7/dist-packages/sklearn/preprocessing/_label.py:133: DataConversionWarning:\n",
            "\n",
            "A column-vector y was passed when a 1d array was expected. Please change the shape of y to (n_samples, ), for example using ravel().\n",
            "\n",
            "/usr/local/lib/python3.7/dist-packages/sklearn/preprocessing/_label.py:98: DataConversionWarning:\n",
            "\n",
            "A column-vector y was passed when a 1d array was expected. Please change the shape of y to (n_samples, ), for example using ravel().\n",
            "\n",
            "/usr/local/lib/python3.7/dist-packages/sklearn/preprocessing/_label.py:133: DataConversionWarning:\n",
            "\n",
            "A column-vector y was passed when a 1d array was expected. Please change the shape of y to (n_samples, ), for example using ravel().\n",
            "\n",
            "/usr/local/lib/python3.7/dist-packages/sklearn/preprocessing/_label.py:98: DataConversionWarning:\n",
            "\n",
            "A column-vector y was passed when a 1d array was expected. Please change the shape of y to (n_samples, ), for example using ravel().\n",
            "\n",
            "/usr/local/lib/python3.7/dist-packages/sklearn/preprocessing/_label.py:133: DataConversionWarning:\n",
            "\n",
            "A column-vector y was passed when a 1d array was expected. Please change the shape of y to (n_samples, ), for example using ravel().\n",
            "\n"
          ]
        },
        {
          "output_type": "stream",
          "name": "stdout",
          "text": [
            "[CV] END ................learning_rate=0.1, n_estimators=100; total time=   0.1s\n",
            "[CV] END ................learning_rate=0.1, n_estimators=100; total time=   0.1s\n",
            "[CV] END ................learning_rate=0.1, n_estimators=100; total time=   0.1s\n"
          ]
        },
        {
          "output_type": "stream",
          "name": "stderr",
          "text": [
            "/usr/local/lib/python3.7/dist-packages/sklearn/preprocessing/_label.py:98: DataConversionWarning:\n",
            "\n",
            "A column-vector y was passed when a 1d array was expected. Please change the shape of y to (n_samples, ), for example using ravel().\n",
            "\n",
            "/usr/local/lib/python3.7/dist-packages/sklearn/preprocessing/_label.py:133: DataConversionWarning:\n",
            "\n",
            "A column-vector y was passed when a 1d array was expected. Please change the shape of y to (n_samples, ), for example using ravel().\n",
            "\n",
            "/usr/local/lib/python3.7/dist-packages/sklearn/preprocessing/_label.py:98: DataConversionWarning:\n",
            "\n",
            "A column-vector y was passed when a 1d array was expected. Please change the shape of y to (n_samples, ), for example using ravel().\n",
            "\n",
            "/usr/local/lib/python3.7/dist-packages/sklearn/preprocessing/_label.py:133: DataConversionWarning:\n",
            "\n",
            "A column-vector y was passed when a 1d array was expected. Please change the shape of y to (n_samples, ), for example using ravel().\n",
            "\n",
            "/usr/local/lib/python3.7/dist-packages/sklearn/preprocessing/_label.py:98: DataConversionWarning:\n",
            "\n",
            "A column-vector y was passed when a 1d array was expected. Please change the shape of y to (n_samples, ), for example using ravel().\n",
            "\n",
            "/usr/local/lib/python3.7/dist-packages/sklearn/preprocessing/_label.py:133: DataConversionWarning:\n",
            "\n",
            "A column-vector y was passed when a 1d array was expected. Please change the shape of y to (n_samples, ), for example using ravel().\n",
            "\n"
          ]
        },
        {
          "output_type": "stream",
          "name": "stdout",
          "text": [
            "[CV] END ................learning_rate=0.1, n_estimators=800; total time=   0.6s\n"
          ]
        },
        {
          "output_type": "stream",
          "name": "stderr",
          "text": [
            "/usr/local/lib/python3.7/dist-packages/sklearn/preprocessing/_label.py:98: DataConversionWarning:\n",
            "\n",
            "A column-vector y was passed when a 1d array was expected. Please change the shape of y to (n_samples, ), for example using ravel().\n",
            "\n",
            "/usr/local/lib/python3.7/dist-packages/sklearn/preprocessing/_label.py:133: DataConversionWarning:\n",
            "\n",
            "A column-vector y was passed when a 1d array was expected. Please change the shape of y to (n_samples, ), for example using ravel().\n",
            "\n"
          ]
        },
        {
          "output_type": "stream",
          "name": "stdout",
          "text": [
            "[CV] END ................learning_rate=0.1, n_estimators=800; total time=   0.6s\n"
          ]
        },
        {
          "output_type": "stream",
          "name": "stderr",
          "text": [
            "/usr/local/lib/python3.7/dist-packages/sklearn/preprocessing/_label.py:98: DataConversionWarning:\n",
            "\n",
            "A column-vector y was passed when a 1d array was expected. Please change the shape of y to (n_samples, ), for example using ravel().\n",
            "\n",
            "/usr/local/lib/python3.7/dist-packages/sklearn/preprocessing/_label.py:133: DataConversionWarning:\n",
            "\n",
            "A column-vector y was passed when a 1d array was expected. Please change the shape of y to (n_samples, ), for example using ravel().\n",
            "\n"
          ]
        },
        {
          "output_type": "stream",
          "name": "stdout",
          "text": [
            "[CV] END ................learning_rate=0.1, n_estimators=800; total time=   0.6s\n"
          ]
        },
        {
          "output_type": "stream",
          "name": "stderr",
          "text": [
            "/usr/local/lib/python3.7/dist-packages/sklearn/preprocessing/_label.py:98: DataConversionWarning:\n",
            "\n",
            "A column-vector y was passed when a 1d array was expected. Please change the shape of y to (n_samples, ), for example using ravel().\n",
            "\n",
            "/usr/local/lib/python3.7/dist-packages/sklearn/preprocessing/_label.py:133: DataConversionWarning:\n",
            "\n",
            "A column-vector y was passed when a 1d array was expected. Please change the shape of y to (n_samples, ), for example using ravel().\n",
            "\n"
          ]
        },
        {
          "output_type": "stream",
          "name": "stdout",
          "text": [
            "[CV] END ................learning_rate=0.1, n_estimators=800; total time=   0.6s\n"
          ]
        },
        {
          "output_type": "stream",
          "name": "stderr",
          "text": [
            "/usr/local/lib/python3.7/dist-packages/sklearn/preprocessing/_label.py:98: DataConversionWarning:\n",
            "\n",
            "A column-vector y was passed when a 1d array was expected. Please change the shape of y to (n_samples, ), for example using ravel().\n",
            "\n",
            "/usr/local/lib/python3.7/dist-packages/sklearn/preprocessing/_label.py:133: DataConversionWarning:\n",
            "\n",
            "A column-vector y was passed when a 1d array was expected. Please change the shape of y to (n_samples, ), for example using ravel().\n",
            "\n"
          ]
        },
        {
          "output_type": "stream",
          "name": "stdout",
          "text": [
            "[CV] END ................learning_rate=0.1, n_estimators=800; total time=   0.6s\n"
          ]
        },
        {
          "output_type": "stream",
          "name": "stderr",
          "text": [
            "/usr/local/lib/python3.7/dist-packages/sklearn/preprocessing/_label.py:98: DataConversionWarning:\n",
            "\n",
            "A column-vector y was passed when a 1d array was expected. Please change the shape of y to (n_samples, ), for example using ravel().\n",
            "\n",
            "/usr/local/lib/python3.7/dist-packages/sklearn/preprocessing/_label.py:133: DataConversionWarning:\n",
            "\n",
            "A column-vector y was passed when a 1d array was expected. Please change the shape of y to (n_samples, ), for example using ravel().\n",
            "\n"
          ]
        },
        {
          "output_type": "stream",
          "name": "stdout",
          "text": [
            "[CV] END ................learning_rate=0.9, n_estimators=500; total time=   0.4s\n"
          ]
        },
        {
          "output_type": "stream",
          "name": "stderr",
          "text": [
            "/usr/local/lib/python3.7/dist-packages/sklearn/preprocessing/_label.py:98: DataConversionWarning:\n",
            "\n",
            "A column-vector y was passed when a 1d array was expected. Please change the shape of y to (n_samples, ), for example using ravel().\n",
            "\n",
            "/usr/local/lib/python3.7/dist-packages/sklearn/preprocessing/_label.py:133: DataConversionWarning:\n",
            "\n",
            "A column-vector y was passed when a 1d array was expected. Please change the shape of y to (n_samples, ), for example using ravel().\n",
            "\n"
          ]
        },
        {
          "output_type": "stream",
          "name": "stdout",
          "text": [
            "[CV] END ................learning_rate=0.9, n_estimators=500; total time=   0.4s\n"
          ]
        },
        {
          "output_type": "stream",
          "name": "stderr",
          "text": [
            "/usr/local/lib/python3.7/dist-packages/sklearn/preprocessing/_label.py:98: DataConversionWarning:\n",
            "\n",
            "A column-vector y was passed when a 1d array was expected. Please change the shape of y to (n_samples, ), for example using ravel().\n",
            "\n",
            "/usr/local/lib/python3.7/dist-packages/sklearn/preprocessing/_label.py:133: DataConversionWarning:\n",
            "\n",
            "A column-vector y was passed when a 1d array was expected. Please change the shape of y to (n_samples, ), for example using ravel().\n",
            "\n"
          ]
        },
        {
          "output_type": "stream",
          "name": "stdout",
          "text": [
            "[CV] END ................learning_rate=0.9, n_estimators=500; total time=   0.4s\n"
          ]
        },
        {
          "output_type": "stream",
          "name": "stderr",
          "text": [
            "/usr/local/lib/python3.7/dist-packages/sklearn/preprocessing/_label.py:98: DataConversionWarning:\n",
            "\n",
            "A column-vector y was passed when a 1d array was expected. Please change the shape of y to (n_samples, ), for example using ravel().\n",
            "\n",
            "/usr/local/lib/python3.7/dist-packages/sklearn/preprocessing/_label.py:133: DataConversionWarning:\n",
            "\n",
            "A column-vector y was passed when a 1d array was expected. Please change the shape of y to (n_samples, ), for example using ravel().\n",
            "\n"
          ]
        },
        {
          "output_type": "stream",
          "name": "stdout",
          "text": [
            "[CV] END ................learning_rate=0.9, n_estimators=500; total time=   0.4s\n"
          ]
        },
        {
          "output_type": "stream",
          "name": "stderr",
          "text": [
            "/usr/local/lib/python3.7/dist-packages/sklearn/preprocessing/_label.py:98: DataConversionWarning:\n",
            "\n",
            "A column-vector y was passed when a 1d array was expected. Please change the shape of y to (n_samples, ), for example using ravel().\n",
            "\n",
            "/usr/local/lib/python3.7/dist-packages/sklearn/preprocessing/_label.py:133: DataConversionWarning:\n",
            "\n",
            "A column-vector y was passed when a 1d array was expected. Please change the shape of y to (n_samples, ), for example using ravel().\n",
            "\n"
          ]
        },
        {
          "output_type": "stream",
          "name": "stdout",
          "text": [
            "[CV] END ................learning_rate=0.9, n_estimators=500; total time=   0.4s\n",
            "[CV] END ...............learning_rate=0.09, n_estimators=200; total time=   0.2s\n"
          ]
        },
        {
          "output_type": "stream",
          "name": "stderr",
          "text": [
            "/usr/local/lib/python3.7/dist-packages/sklearn/preprocessing/_label.py:98: DataConversionWarning:\n",
            "\n",
            "A column-vector y was passed when a 1d array was expected. Please change the shape of y to (n_samples, ), for example using ravel().\n",
            "\n",
            "/usr/local/lib/python3.7/dist-packages/sklearn/preprocessing/_label.py:133: DataConversionWarning:\n",
            "\n",
            "A column-vector y was passed when a 1d array was expected. Please change the shape of y to (n_samples, ), for example using ravel().\n",
            "\n",
            "/usr/local/lib/python3.7/dist-packages/sklearn/preprocessing/_label.py:98: DataConversionWarning:\n",
            "\n",
            "A column-vector y was passed when a 1d array was expected. Please change the shape of y to (n_samples, ), for example using ravel().\n",
            "\n",
            "/usr/local/lib/python3.7/dist-packages/sklearn/preprocessing/_label.py:133: DataConversionWarning:\n",
            "\n",
            "A column-vector y was passed when a 1d array was expected. Please change the shape of y to (n_samples, ), for example using ravel().\n",
            "\n"
          ]
        },
        {
          "output_type": "stream",
          "name": "stdout",
          "text": [
            "[CV] END ...............learning_rate=0.09, n_estimators=200; total time=   0.2s\n",
            "[CV] END ...............learning_rate=0.09, n_estimators=200; total time=   0.2s\n"
          ]
        },
        {
          "output_type": "stream",
          "name": "stderr",
          "text": [
            "/usr/local/lib/python3.7/dist-packages/sklearn/preprocessing/_label.py:98: DataConversionWarning:\n",
            "\n",
            "A column-vector y was passed when a 1d array was expected. Please change the shape of y to (n_samples, ), for example using ravel().\n",
            "\n",
            "/usr/local/lib/python3.7/dist-packages/sklearn/preprocessing/_label.py:133: DataConversionWarning:\n",
            "\n",
            "A column-vector y was passed when a 1d array was expected. Please change the shape of y to (n_samples, ), for example using ravel().\n",
            "\n",
            "/usr/local/lib/python3.7/dist-packages/sklearn/preprocessing/_label.py:98: DataConversionWarning:\n",
            "\n",
            "A column-vector y was passed when a 1d array was expected. Please change the shape of y to (n_samples, ), for example using ravel().\n",
            "\n",
            "/usr/local/lib/python3.7/dist-packages/sklearn/preprocessing/_label.py:133: DataConversionWarning:\n",
            "\n",
            "A column-vector y was passed when a 1d array was expected. Please change the shape of y to (n_samples, ), for example using ravel().\n",
            "\n"
          ]
        },
        {
          "output_type": "stream",
          "name": "stdout",
          "text": [
            "[CV] END ...............learning_rate=0.09, n_estimators=200; total time=   0.2s\n",
            "[CV] END ...............learning_rate=0.09, n_estimators=200; total time=   0.2s\n"
          ]
        },
        {
          "output_type": "stream",
          "name": "stderr",
          "text": [
            "/usr/local/lib/python3.7/dist-packages/sklearn/preprocessing/_label.py:98: DataConversionWarning:\n",
            "\n",
            "A column-vector y was passed when a 1d array was expected. Please change the shape of y to (n_samples, ), for example using ravel().\n",
            "\n",
            "/usr/local/lib/python3.7/dist-packages/sklearn/preprocessing/_label.py:133: DataConversionWarning:\n",
            "\n",
            "A column-vector y was passed when a 1d array was expected. Please change the shape of y to (n_samples, ), for example using ravel().\n",
            "\n",
            "/usr/local/lib/python3.7/dist-packages/sklearn/preprocessing/_label.py:98: DataConversionWarning:\n",
            "\n",
            "A column-vector y was passed when a 1d array was expected. Please change the shape of y to (n_samples, ), for example using ravel().\n",
            "\n",
            "/usr/local/lib/python3.7/dist-packages/sklearn/preprocessing/_label.py:133: DataConversionWarning:\n",
            "\n",
            "A column-vector y was passed when a 1d array was expected. Please change the shape of y to (n_samples, ), for example using ravel().\n",
            "\n"
          ]
        },
        {
          "output_type": "execute_result",
          "data": {
            "text/plain": [
              "RandomizedSearchCV(cv=5, estimator=XGBClassifier(), n_jobs=1,\n",
              "                   param_distributions={'learning_rate': [0.9, 0.1, 0.09, 0.01],\n",
              "                                        'n_estimators': [100, 200, 300, 400,\n",
              "                                                         500, 600, 700, 800,\n",
              "                                                         900, 1000, 1100,\n",
              "                                                         1200]},\n",
              "                   random_state=42, verbose=2)"
            ]
          },
          "metadata": {},
          "execution_count": 38
        }
      ]
    },
    {
      "cell_type": "code",
      "source": [
        "model.best_params_"
      ],
      "metadata": {
        "colab": {
          "base_uri": "https://localhost:8080/"
        },
        "id": "-JDY19hERv79",
        "outputId": "6e50af41-6409-40b4-c902-7c24706754c3"
      },
      "execution_count": 39,
      "outputs": [
        {
          "output_type": "execute_result",
          "data": {
            "text/plain": [
              "{'learning_rate': 0.1, 'n_estimators': 800}"
            ]
          },
          "metadata": {},
          "execution_count": 39
        }
      ]
    },
    {
      "cell_type": "code",
      "source": [
        "predictions2 = model.predict(x_test) \n",
        "rscv = accuracy_score(y_test, predictions2)"
      ],
      "metadata": {
        "id": "5c2dg28sRy8V"
      },
      "execution_count": 40,
      "outputs": []
    },
    {
      "cell_type": "code",
      "source": [
        "rscv"
      ],
      "metadata": {
        "colab": {
          "base_uri": "https://localhost:8080/"
        },
        "id": "u2JgBbA1R8dJ",
        "outputId": "2dd3a154-0482-4db4-9ed1-5dccb7513c56"
      },
      "execution_count": 41,
      "outputs": [
        {
          "output_type": "execute_result",
          "data": {
            "text/plain": [
              "0.8905723905723906"
            ]
          },
          "metadata": {},
          "execution_count": 41
        }
      ]
    },
    {
      "cell_type": "markdown",
      "source": [
        "# Decission Tree Classifier"
      ],
      "metadata": {
        "id": "bvS2IAPvSD1C"
      }
    },
    {
      "cell_type": "code",
      "source": [
        "dt = DecisionTreeClassifier()\n",
        "dt.fit(x_train,y_train)\n",
        "y_pred_dt = dt.predict(x_test)\n",
        "dt_acc = accuracy_score(y_test, y_pred_dt)\n",
        "dt_acc"
      ],
      "metadata": {
        "colab": {
          "base_uri": "https://localhost:8080/"
        },
        "id": "isNLnHleSJ_y",
        "outputId": "bad35a87-5169-4f1a-e0bf-592bb4f3db76"
      },
      "execution_count": 42,
      "outputs": [
        {
          "output_type": "execute_result",
          "data": {
            "text/plain": [
              "0.8703703703703703"
            ]
          },
          "metadata": {},
          "execution_count": 42
        }
      ]
    },
    {
      "cell_type": "markdown",
      "source": [
        "# Random Forest Classifier"
      ],
      "metadata": {
        "id": "JfzTgZCuSx_p"
      }
    },
    {
      "cell_type": "code",
      "source": [
        "rf = RandomForestClassifier()\n",
        "param_grid = {\n",
        "                 'n_estimators': [10, 50, 100, 500, 1000],\n",
        "                 'max_depth': [2, 5, 7, 9, 10]\n",
        "             }\n",
        "grid_rf = GridSearchCV(rf, param_grid, cv=10)\n",
        "grid_rf.fit(x_train, y_train)"
      ],
      "metadata": {
        "colab": {
          "base_uri": "https://localhost:8080/"
        },
        "id": "Laq39tuDUOz1",
        "outputId": "dee30e8f-6c53-40ae-cd66-ffc81b01e372"
      },
      "execution_count": 43,
      "outputs": [
        {
          "output_type": "stream",
          "name": "stderr",
          "text": [
            "/usr/local/lib/python3.7/dist-packages/sklearn/model_selection/_validation.py:680: DataConversionWarning:\n",
            "\n",
            "A column-vector y was passed when a 1d array was expected. Please change the shape of y to (n_samples,), for example using ravel().\n",
            "\n",
            "/usr/local/lib/python3.7/dist-packages/sklearn/model_selection/_validation.py:680: DataConversionWarning:\n",
            "\n",
            "A column-vector y was passed when a 1d array was expected. Please change the shape of y to (n_samples,), for example using ravel().\n",
            "\n",
            "/usr/local/lib/python3.7/dist-packages/sklearn/model_selection/_validation.py:680: DataConversionWarning:\n",
            "\n",
            "A column-vector y was passed when a 1d array was expected. Please change the shape of y to (n_samples,), for example using ravel().\n",
            "\n",
            "/usr/local/lib/python3.7/dist-packages/sklearn/model_selection/_validation.py:680: DataConversionWarning:\n",
            "\n",
            "A column-vector y was passed when a 1d array was expected. Please change the shape of y to (n_samples,), for example using ravel().\n",
            "\n",
            "/usr/local/lib/python3.7/dist-packages/sklearn/model_selection/_validation.py:680: DataConversionWarning:\n",
            "\n",
            "A column-vector y was passed when a 1d array was expected. Please change the shape of y to (n_samples,), for example using ravel().\n",
            "\n",
            "/usr/local/lib/python3.7/dist-packages/sklearn/model_selection/_validation.py:680: DataConversionWarning:\n",
            "\n",
            "A column-vector y was passed when a 1d array was expected. Please change the shape of y to (n_samples,), for example using ravel().\n",
            "\n",
            "/usr/local/lib/python3.7/dist-packages/sklearn/model_selection/_validation.py:680: DataConversionWarning:\n",
            "\n",
            "A column-vector y was passed when a 1d array was expected. Please change the shape of y to (n_samples,), for example using ravel().\n",
            "\n",
            "/usr/local/lib/python3.7/dist-packages/sklearn/model_selection/_validation.py:680: DataConversionWarning:\n",
            "\n",
            "A column-vector y was passed when a 1d array was expected. Please change the shape of y to (n_samples,), for example using ravel().\n",
            "\n",
            "/usr/local/lib/python3.7/dist-packages/sklearn/model_selection/_validation.py:680: DataConversionWarning:\n",
            "\n",
            "A column-vector y was passed when a 1d array was expected. Please change the shape of y to (n_samples,), for example using ravel().\n",
            "\n",
            "/usr/local/lib/python3.7/dist-packages/sklearn/model_selection/_validation.py:680: DataConversionWarning:\n",
            "\n",
            "A column-vector y was passed when a 1d array was expected. Please change the shape of y to (n_samples,), for example using ravel().\n",
            "\n",
            "/usr/local/lib/python3.7/dist-packages/sklearn/model_selection/_validation.py:680: DataConversionWarning:\n",
            "\n",
            "A column-vector y was passed when a 1d array was expected. Please change the shape of y to (n_samples,), for example using ravel().\n",
            "\n",
            "/usr/local/lib/python3.7/dist-packages/sklearn/model_selection/_validation.py:680: DataConversionWarning:\n",
            "\n",
            "A column-vector y was passed when a 1d array was expected. Please change the shape of y to (n_samples,), for example using ravel().\n",
            "\n",
            "/usr/local/lib/python3.7/dist-packages/sklearn/model_selection/_validation.py:680: DataConversionWarning:\n",
            "\n",
            "A column-vector y was passed when a 1d array was expected. Please change the shape of y to (n_samples,), for example using ravel().\n",
            "\n",
            "/usr/local/lib/python3.7/dist-packages/sklearn/model_selection/_validation.py:680: DataConversionWarning:\n",
            "\n",
            "A column-vector y was passed when a 1d array was expected. Please change the shape of y to (n_samples,), for example using ravel().\n",
            "\n",
            "/usr/local/lib/python3.7/dist-packages/sklearn/model_selection/_validation.py:680: DataConversionWarning:\n",
            "\n",
            "A column-vector y was passed when a 1d array was expected. Please change the shape of y to (n_samples,), for example using ravel().\n",
            "\n",
            "/usr/local/lib/python3.7/dist-packages/sklearn/model_selection/_validation.py:680: DataConversionWarning:\n",
            "\n",
            "A column-vector y was passed when a 1d array was expected. Please change the shape of y to (n_samples,), for example using ravel().\n",
            "\n",
            "/usr/local/lib/python3.7/dist-packages/sklearn/model_selection/_validation.py:680: DataConversionWarning:\n",
            "\n",
            "A column-vector y was passed when a 1d array was expected. Please change the shape of y to (n_samples,), for example using ravel().\n",
            "\n",
            "/usr/local/lib/python3.7/dist-packages/sklearn/model_selection/_validation.py:680: DataConversionWarning:\n",
            "\n",
            "A column-vector y was passed when a 1d array was expected. Please change the shape of y to (n_samples,), for example using ravel().\n",
            "\n",
            "/usr/local/lib/python3.7/dist-packages/sklearn/model_selection/_validation.py:680: DataConversionWarning:\n",
            "\n",
            "A column-vector y was passed when a 1d array was expected. Please change the shape of y to (n_samples,), for example using ravel().\n",
            "\n",
            "/usr/local/lib/python3.7/dist-packages/sklearn/model_selection/_validation.py:680: DataConversionWarning:\n",
            "\n",
            "A column-vector y was passed when a 1d array was expected. Please change the shape of y to (n_samples,), for example using ravel().\n",
            "\n",
            "/usr/local/lib/python3.7/dist-packages/sklearn/model_selection/_validation.py:680: DataConversionWarning:\n",
            "\n",
            "A column-vector y was passed when a 1d array was expected. Please change the shape of y to (n_samples,), for example using ravel().\n",
            "\n",
            "/usr/local/lib/python3.7/dist-packages/sklearn/model_selection/_validation.py:680: DataConversionWarning:\n",
            "\n",
            "A column-vector y was passed when a 1d array was expected. Please change the shape of y to (n_samples,), for example using ravel().\n",
            "\n",
            "/usr/local/lib/python3.7/dist-packages/sklearn/model_selection/_validation.py:680: DataConversionWarning:\n",
            "\n",
            "A column-vector y was passed when a 1d array was expected. Please change the shape of y to (n_samples,), for example using ravel().\n",
            "\n",
            "/usr/local/lib/python3.7/dist-packages/sklearn/model_selection/_validation.py:680: DataConversionWarning:\n",
            "\n",
            "A column-vector y was passed when a 1d array was expected. Please change the shape of y to (n_samples,), for example using ravel().\n",
            "\n",
            "/usr/local/lib/python3.7/dist-packages/sklearn/model_selection/_validation.py:680: DataConversionWarning:\n",
            "\n",
            "A column-vector y was passed when a 1d array was expected. Please change the shape of y to (n_samples,), for example using ravel().\n",
            "\n",
            "/usr/local/lib/python3.7/dist-packages/sklearn/model_selection/_validation.py:680: DataConversionWarning:\n",
            "\n",
            "A column-vector y was passed when a 1d array was expected. Please change the shape of y to (n_samples,), for example using ravel().\n",
            "\n",
            "/usr/local/lib/python3.7/dist-packages/sklearn/model_selection/_validation.py:680: DataConversionWarning:\n",
            "\n",
            "A column-vector y was passed when a 1d array was expected. Please change the shape of y to (n_samples,), for example using ravel().\n",
            "\n",
            "/usr/local/lib/python3.7/dist-packages/sklearn/model_selection/_validation.py:680: DataConversionWarning:\n",
            "\n",
            "A column-vector y was passed when a 1d array was expected. Please change the shape of y to (n_samples,), for example using ravel().\n",
            "\n",
            "/usr/local/lib/python3.7/dist-packages/sklearn/model_selection/_validation.py:680: DataConversionWarning:\n",
            "\n",
            "A column-vector y was passed when a 1d array was expected. Please change the shape of y to (n_samples,), for example using ravel().\n",
            "\n",
            "/usr/local/lib/python3.7/dist-packages/sklearn/model_selection/_validation.py:680: DataConversionWarning:\n",
            "\n",
            "A column-vector y was passed when a 1d array was expected. Please change the shape of y to (n_samples,), for example using ravel().\n",
            "\n",
            "/usr/local/lib/python3.7/dist-packages/sklearn/model_selection/_validation.py:680: DataConversionWarning:\n",
            "\n",
            "A column-vector y was passed when a 1d array was expected. Please change the shape of y to (n_samples,), for example using ravel().\n",
            "\n",
            "/usr/local/lib/python3.7/dist-packages/sklearn/model_selection/_validation.py:680: DataConversionWarning:\n",
            "\n",
            "A column-vector y was passed when a 1d array was expected. Please change the shape of y to (n_samples,), for example using ravel().\n",
            "\n",
            "/usr/local/lib/python3.7/dist-packages/sklearn/model_selection/_validation.py:680: DataConversionWarning:\n",
            "\n",
            "A column-vector y was passed when a 1d array was expected. Please change the shape of y to (n_samples,), for example using ravel().\n",
            "\n",
            "/usr/local/lib/python3.7/dist-packages/sklearn/model_selection/_validation.py:680: DataConversionWarning:\n",
            "\n",
            "A column-vector y was passed when a 1d array was expected. Please change the shape of y to (n_samples,), for example using ravel().\n",
            "\n",
            "/usr/local/lib/python3.7/dist-packages/sklearn/model_selection/_validation.py:680: DataConversionWarning:\n",
            "\n",
            "A column-vector y was passed when a 1d array was expected. Please change the shape of y to (n_samples,), for example using ravel().\n",
            "\n",
            "/usr/local/lib/python3.7/dist-packages/sklearn/model_selection/_validation.py:680: DataConversionWarning:\n",
            "\n",
            "A column-vector y was passed when a 1d array was expected. Please change the shape of y to (n_samples,), for example using ravel().\n",
            "\n",
            "/usr/local/lib/python3.7/dist-packages/sklearn/model_selection/_validation.py:680: DataConversionWarning:\n",
            "\n",
            "A column-vector y was passed when a 1d array was expected. Please change the shape of y to (n_samples,), for example using ravel().\n",
            "\n",
            "/usr/local/lib/python3.7/dist-packages/sklearn/model_selection/_validation.py:680: DataConversionWarning:\n",
            "\n",
            "A column-vector y was passed when a 1d array was expected. Please change the shape of y to (n_samples,), for example using ravel().\n",
            "\n",
            "/usr/local/lib/python3.7/dist-packages/sklearn/model_selection/_validation.py:680: DataConversionWarning:\n",
            "\n",
            "A column-vector y was passed when a 1d array was expected. Please change the shape of y to (n_samples,), for example using ravel().\n",
            "\n",
            "/usr/local/lib/python3.7/dist-packages/sklearn/model_selection/_validation.py:680: DataConversionWarning:\n",
            "\n",
            "A column-vector y was passed when a 1d array was expected. Please change the shape of y to (n_samples,), for example using ravel().\n",
            "\n",
            "/usr/local/lib/python3.7/dist-packages/sklearn/model_selection/_validation.py:680: DataConversionWarning:\n",
            "\n",
            "A column-vector y was passed when a 1d array was expected. Please change the shape of y to (n_samples,), for example using ravel().\n",
            "\n",
            "/usr/local/lib/python3.7/dist-packages/sklearn/model_selection/_validation.py:680: DataConversionWarning:\n",
            "\n",
            "A column-vector y was passed when a 1d array was expected. Please change the shape of y to (n_samples,), for example using ravel().\n",
            "\n",
            "/usr/local/lib/python3.7/dist-packages/sklearn/model_selection/_validation.py:680: DataConversionWarning:\n",
            "\n",
            "A column-vector y was passed when a 1d array was expected. Please change the shape of y to (n_samples,), for example using ravel().\n",
            "\n",
            "/usr/local/lib/python3.7/dist-packages/sklearn/model_selection/_validation.py:680: DataConversionWarning:\n",
            "\n",
            "A column-vector y was passed when a 1d array was expected. Please change the shape of y to (n_samples,), for example using ravel().\n",
            "\n",
            "/usr/local/lib/python3.7/dist-packages/sklearn/model_selection/_validation.py:680: DataConversionWarning:\n",
            "\n",
            "A column-vector y was passed when a 1d array was expected. Please change the shape of y to (n_samples,), for example using ravel().\n",
            "\n",
            "/usr/local/lib/python3.7/dist-packages/sklearn/model_selection/_validation.py:680: DataConversionWarning:\n",
            "\n",
            "A column-vector y was passed when a 1d array was expected. Please change the shape of y to (n_samples,), for example using ravel().\n",
            "\n",
            "/usr/local/lib/python3.7/dist-packages/sklearn/model_selection/_validation.py:680: DataConversionWarning:\n",
            "\n",
            "A column-vector y was passed when a 1d array was expected. Please change the shape of y to (n_samples,), for example using ravel().\n",
            "\n",
            "/usr/local/lib/python3.7/dist-packages/sklearn/model_selection/_validation.py:680: DataConversionWarning:\n",
            "\n",
            "A column-vector y was passed when a 1d array was expected. Please change the shape of y to (n_samples,), for example using ravel().\n",
            "\n",
            "/usr/local/lib/python3.7/dist-packages/sklearn/model_selection/_validation.py:680: DataConversionWarning:\n",
            "\n",
            "A column-vector y was passed when a 1d array was expected. Please change the shape of y to (n_samples,), for example using ravel().\n",
            "\n",
            "/usr/local/lib/python3.7/dist-packages/sklearn/model_selection/_validation.py:680: DataConversionWarning:\n",
            "\n",
            "A column-vector y was passed when a 1d array was expected. Please change the shape of y to (n_samples,), for example using ravel().\n",
            "\n",
            "/usr/local/lib/python3.7/dist-packages/sklearn/model_selection/_validation.py:680: DataConversionWarning:\n",
            "\n",
            "A column-vector y was passed when a 1d array was expected. Please change the shape of y to (n_samples,), for example using ravel().\n",
            "\n",
            "/usr/local/lib/python3.7/dist-packages/sklearn/model_selection/_validation.py:680: DataConversionWarning:\n",
            "\n",
            "A column-vector y was passed when a 1d array was expected. Please change the shape of y to (n_samples,), for example using ravel().\n",
            "\n",
            "/usr/local/lib/python3.7/dist-packages/sklearn/model_selection/_validation.py:680: DataConversionWarning:\n",
            "\n",
            "A column-vector y was passed when a 1d array was expected. Please change the shape of y to (n_samples,), for example using ravel().\n",
            "\n",
            "/usr/local/lib/python3.7/dist-packages/sklearn/model_selection/_validation.py:680: DataConversionWarning:\n",
            "\n",
            "A column-vector y was passed when a 1d array was expected. Please change the shape of y to (n_samples,), for example using ravel().\n",
            "\n",
            "/usr/local/lib/python3.7/dist-packages/sklearn/model_selection/_validation.py:680: DataConversionWarning:\n",
            "\n",
            "A column-vector y was passed when a 1d array was expected. Please change the shape of y to (n_samples,), for example using ravel().\n",
            "\n",
            "/usr/local/lib/python3.7/dist-packages/sklearn/model_selection/_validation.py:680: DataConversionWarning:\n",
            "\n",
            "A column-vector y was passed when a 1d array was expected. Please change the shape of y to (n_samples,), for example using ravel().\n",
            "\n",
            "/usr/local/lib/python3.7/dist-packages/sklearn/model_selection/_validation.py:680: DataConversionWarning:\n",
            "\n",
            "A column-vector y was passed when a 1d array was expected. Please change the shape of y to (n_samples,), for example using ravel().\n",
            "\n",
            "/usr/local/lib/python3.7/dist-packages/sklearn/model_selection/_validation.py:680: DataConversionWarning:\n",
            "\n",
            "A column-vector y was passed when a 1d array was expected. Please change the shape of y to (n_samples,), for example using ravel().\n",
            "\n",
            "/usr/local/lib/python3.7/dist-packages/sklearn/model_selection/_validation.py:680: DataConversionWarning:\n",
            "\n",
            "A column-vector y was passed when a 1d array was expected. Please change the shape of y to (n_samples,), for example using ravel().\n",
            "\n",
            "/usr/local/lib/python3.7/dist-packages/sklearn/model_selection/_validation.py:680: DataConversionWarning:\n",
            "\n",
            "A column-vector y was passed when a 1d array was expected. Please change the shape of y to (n_samples,), for example using ravel().\n",
            "\n",
            "/usr/local/lib/python3.7/dist-packages/sklearn/model_selection/_validation.py:680: DataConversionWarning:\n",
            "\n",
            "A column-vector y was passed when a 1d array was expected. Please change the shape of y to (n_samples,), for example using ravel().\n",
            "\n",
            "/usr/local/lib/python3.7/dist-packages/sklearn/model_selection/_validation.py:680: DataConversionWarning:\n",
            "\n",
            "A column-vector y was passed when a 1d array was expected. Please change the shape of y to (n_samples,), for example using ravel().\n",
            "\n",
            "/usr/local/lib/python3.7/dist-packages/sklearn/model_selection/_validation.py:680: DataConversionWarning:\n",
            "\n",
            "A column-vector y was passed when a 1d array was expected. Please change the shape of y to (n_samples,), for example using ravel().\n",
            "\n",
            "/usr/local/lib/python3.7/dist-packages/sklearn/model_selection/_validation.py:680: DataConversionWarning:\n",
            "\n",
            "A column-vector y was passed when a 1d array was expected. Please change the shape of y to (n_samples,), for example using ravel().\n",
            "\n",
            "/usr/local/lib/python3.7/dist-packages/sklearn/model_selection/_validation.py:680: DataConversionWarning:\n",
            "\n",
            "A column-vector y was passed when a 1d array was expected. Please change the shape of y to (n_samples,), for example using ravel().\n",
            "\n",
            "/usr/local/lib/python3.7/dist-packages/sklearn/model_selection/_validation.py:680: DataConversionWarning:\n",
            "\n",
            "A column-vector y was passed when a 1d array was expected. Please change the shape of y to (n_samples,), for example using ravel().\n",
            "\n",
            "/usr/local/lib/python3.7/dist-packages/sklearn/model_selection/_validation.py:680: DataConversionWarning:\n",
            "\n",
            "A column-vector y was passed when a 1d array was expected. Please change the shape of y to (n_samples,), for example using ravel().\n",
            "\n",
            "/usr/local/lib/python3.7/dist-packages/sklearn/model_selection/_validation.py:680: DataConversionWarning:\n",
            "\n",
            "A column-vector y was passed when a 1d array was expected. Please change the shape of y to (n_samples,), for example using ravel().\n",
            "\n",
            "/usr/local/lib/python3.7/dist-packages/sklearn/model_selection/_validation.py:680: DataConversionWarning:\n",
            "\n",
            "A column-vector y was passed when a 1d array was expected. Please change the shape of y to (n_samples,), for example using ravel().\n",
            "\n",
            "/usr/local/lib/python3.7/dist-packages/sklearn/model_selection/_validation.py:680: DataConversionWarning:\n",
            "\n",
            "A column-vector y was passed when a 1d array was expected. Please change the shape of y to (n_samples,), for example using ravel().\n",
            "\n",
            "/usr/local/lib/python3.7/dist-packages/sklearn/model_selection/_validation.py:680: DataConversionWarning:\n",
            "\n",
            "A column-vector y was passed when a 1d array was expected. Please change the shape of y to (n_samples,), for example using ravel().\n",
            "\n",
            "/usr/local/lib/python3.7/dist-packages/sklearn/model_selection/_validation.py:680: DataConversionWarning:\n",
            "\n",
            "A column-vector y was passed when a 1d array was expected. Please change the shape of y to (n_samples,), for example using ravel().\n",
            "\n",
            "/usr/local/lib/python3.7/dist-packages/sklearn/model_selection/_validation.py:680: DataConversionWarning:\n",
            "\n",
            "A column-vector y was passed when a 1d array was expected. Please change the shape of y to (n_samples,), for example using ravel().\n",
            "\n",
            "/usr/local/lib/python3.7/dist-packages/sklearn/model_selection/_validation.py:680: DataConversionWarning:\n",
            "\n",
            "A column-vector y was passed when a 1d array was expected. Please change the shape of y to (n_samples,), for example using ravel().\n",
            "\n",
            "/usr/local/lib/python3.7/dist-packages/sklearn/model_selection/_validation.py:680: DataConversionWarning:\n",
            "\n",
            "A column-vector y was passed when a 1d array was expected. Please change the shape of y to (n_samples,), for example using ravel().\n",
            "\n",
            "/usr/local/lib/python3.7/dist-packages/sklearn/model_selection/_validation.py:680: DataConversionWarning:\n",
            "\n",
            "A column-vector y was passed when a 1d array was expected. Please change the shape of y to (n_samples,), for example using ravel().\n",
            "\n",
            "/usr/local/lib/python3.7/dist-packages/sklearn/model_selection/_validation.py:680: DataConversionWarning:\n",
            "\n",
            "A column-vector y was passed when a 1d array was expected. Please change the shape of y to (n_samples,), for example using ravel().\n",
            "\n",
            "/usr/local/lib/python3.7/dist-packages/sklearn/model_selection/_validation.py:680: DataConversionWarning:\n",
            "\n",
            "A column-vector y was passed when a 1d array was expected. Please change the shape of y to (n_samples,), for example using ravel().\n",
            "\n",
            "/usr/local/lib/python3.7/dist-packages/sklearn/model_selection/_validation.py:680: DataConversionWarning:\n",
            "\n",
            "A column-vector y was passed when a 1d array was expected. Please change the shape of y to (n_samples,), for example using ravel().\n",
            "\n",
            "/usr/local/lib/python3.7/dist-packages/sklearn/model_selection/_validation.py:680: DataConversionWarning:\n",
            "\n",
            "A column-vector y was passed when a 1d array was expected. Please change the shape of y to (n_samples,), for example using ravel().\n",
            "\n",
            "/usr/local/lib/python3.7/dist-packages/sklearn/model_selection/_validation.py:680: DataConversionWarning:\n",
            "\n",
            "A column-vector y was passed when a 1d array was expected. Please change the shape of y to (n_samples,), for example using ravel().\n",
            "\n",
            "/usr/local/lib/python3.7/dist-packages/sklearn/model_selection/_validation.py:680: DataConversionWarning:\n",
            "\n",
            "A column-vector y was passed when a 1d array was expected. Please change the shape of y to (n_samples,), for example using ravel().\n",
            "\n",
            "/usr/local/lib/python3.7/dist-packages/sklearn/model_selection/_validation.py:680: DataConversionWarning:\n",
            "\n",
            "A column-vector y was passed when a 1d array was expected. Please change the shape of y to (n_samples,), for example using ravel().\n",
            "\n",
            "/usr/local/lib/python3.7/dist-packages/sklearn/model_selection/_validation.py:680: DataConversionWarning:\n",
            "\n",
            "A column-vector y was passed when a 1d array was expected. Please change the shape of y to (n_samples,), for example using ravel().\n",
            "\n",
            "/usr/local/lib/python3.7/dist-packages/sklearn/model_selection/_validation.py:680: DataConversionWarning:\n",
            "\n",
            "A column-vector y was passed when a 1d array was expected. Please change the shape of y to (n_samples,), for example using ravel().\n",
            "\n",
            "/usr/local/lib/python3.7/dist-packages/sklearn/model_selection/_validation.py:680: DataConversionWarning:\n",
            "\n",
            "A column-vector y was passed when a 1d array was expected. Please change the shape of y to (n_samples,), for example using ravel().\n",
            "\n",
            "/usr/local/lib/python3.7/dist-packages/sklearn/model_selection/_validation.py:680: DataConversionWarning:\n",
            "\n",
            "A column-vector y was passed when a 1d array was expected. Please change the shape of y to (n_samples,), for example using ravel().\n",
            "\n",
            "/usr/local/lib/python3.7/dist-packages/sklearn/model_selection/_validation.py:680: DataConversionWarning:\n",
            "\n",
            "A column-vector y was passed when a 1d array was expected. Please change the shape of y to (n_samples,), for example using ravel().\n",
            "\n",
            "/usr/local/lib/python3.7/dist-packages/sklearn/model_selection/_validation.py:680: DataConversionWarning:\n",
            "\n",
            "A column-vector y was passed when a 1d array was expected. Please change the shape of y to (n_samples,), for example using ravel().\n",
            "\n",
            "/usr/local/lib/python3.7/dist-packages/sklearn/model_selection/_validation.py:680: DataConversionWarning:\n",
            "\n",
            "A column-vector y was passed when a 1d array was expected. Please change the shape of y to (n_samples,), for example using ravel().\n",
            "\n",
            "/usr/local/lib/python3.7/dist-packages/sklearn/model_selection/_validation.py:680: DataConversionWarning:\n",
            "\n",
            "A column-vector y was passed when a 1d array was expected. Please change the shape of y to (n_samples,), for example using ravel().\n",
            "\n",
            "/usr/local/lib/python3.7/dist-packages/sklearn/model_selection/_validation.py:680: DataConversionWarning:\n",
            "\n",
            "A column-vector y was passed when a 1d array was expected. Please change the shape of y to (n_samples,), for example using ravel().\n",
            "\n",
            "/usr/local/lib/python3.7/dist-packages/sklearn/model_selection/_validation.py:680: DataConversionWarning:\n",
            "\n",
            "A column-vector y was passed when a 1d array was expected. Please change the shape of y to (n_samples,), for example using ravel().\n",
            "\n",
            "/usr/local/lib/python3.7/dist-packages/sklearn/model_selection/_validation.py:680: DataConversionWarning:\n",
            "\n",
            "A column-vector y was passed when a 1d array was expected. Please change the shape of y to (n_samples,), for example using ravel().\n",
            "\n",
            "/usr/local/lib/python3.7/dist-packages/sklearn/model_selection/_validation.py:680: DataConversionWarning:\n",
            "\n",
            "A column-vector y was passed when a 1d array was expected. Please change the shape of y to (n_samples,), for example using ravel().\n",
            "\n",
            "/usr/local/lib/python3.7/dist-packages/sklearn/model_selection/_validation.py:680: DataConversionWarning:\n",
            "\n",
            "A column-vector y was passed when a 1d array was expected. Please change the shape of y to (n_samples,), for example using ravel().\n",
            "\n",
            "/usr/local/lib/python3.7/dist-packages/sklearn/model_selection/_validation.py:680: DataConversionWarning:\n",
            "\n",
            "A column-vector y was passed when a 1d array was expected. Please change the shape of y to (n_samples,), for example using ravel().\n",
            "\n",
            "/usr/local/lib/python3.7/dist-packages/sklearn/model_selection/_validation.py:680: DataConversionWarning:\n",
            "\n",
            "A column-vector y was passed when a 1d array was expected. Please change the shape of y to (n_samples,), for example using ravel().\n",
            "\n",
            "/usr/local/lib/python3.7/dist-packages/sklearn/model_selection/_validation.py:680: DataConversionWarning:\n",
            "\n",
            "A column-vector y was passed when a 1d array was expected. Please change the shape of y to (n_samples,), for example using ravel().\n",
            "\n",
            "/usr/local/lib/python3.7/dist-packages/sklearn/model_selection/_validation.py:680: DataConversionWarning:\n",
            "\n",
            "A column-vector y was passed when a 1d array was expected. Please change the shape of y to (n_samples,), for example using ravel().\n",
            "\n",
            "/usr/local/lib/python3.7/dist-packages/sklearn/model_selection/_validation.py:680: DataConversionWarning:\n",
            "\n",
            "A column-vector y was passed when a 1d array was expected. Please change the shape of y to (n_samples,), for example using ravel().\n",
            "\n",
            "/usr/local/lib/python3.7/dist-packages/sklearn/model_selection/_validation.py:680: DataConversionWarning:\n",
            "\n",
            "A column-vector y was passed when a 1d array was expected. Please change the shape of y to (n_samples,), for example using ravel().\n",
            "\n",
            "/usr/local/lib/python3.7/dist-packages/sklearn/model_selection/_validation.py:680: DataConversionWarning:\n",
            "\n",
            "A column-vector y was passed when a 1d array was expected. Please change the shape of y to (n_samples,), for example using ravel().\n",
            "\n",
            "/usr/local/lib/python3.7/dist-packages/sklearn/model_selection/_validation.py:680: DataConversionWarning:\n",
            "\n",
            "A column-vector y was passed when a 1d array was expected. Please change the shape of y to (n_samples,), for example using ravel().\n",
            "\n",
            "/usr/local/lib/python3.7/dist-packages/sklearn/model_selection/_validation.py:680: DataConversionWarning:\n",
            "\n",
            "A column-vector y was passed when a 1d array was expected. Please change the shape of y to (n_samples,), for example using ravel().\n",
            "\n",
            "/usr/local/lib/python3.7/dist-packages/sklearn/model_selection/_validation.py:680: DataConversionWarning:\n",
            "\n",
            "A column-vector y was passed when a 1d array was expected. Please change the shape of y to (n_samples,), for example using ravel().\n",
            "\n",
            "/usr/local/lib/python3.7/dist-packages/sklearn/model_selection/_validation.py:680: DataConversionWarning:\n",
            "\n",
            "A column-vector y was passed when a 1d array was expected. Please change the shape of y to (n_samples,), for example using ravel().\n",
            "\n",
            "/usr/local/lib/python3.7/dist-packages/sklearn/model_selection/_validation.py:680: DataConversionWarning:\n",
            "\n",
            "A column-vector y was passed when a 1d array was expected. Please change the shape of y to (n_samples,), for example using ravel().\n",
            "\n",
            "/usr/local/lib/python3.7/dist-packages/sklearn/model_selection/_validation.py:680: DataConversionWarning:\n",
            "\n",
            "A column-vector y was passed when a 1d array was expected. Please change the shape of y to (n_samples,), for example using ravel().\n",
            "\n",
            "/usr/local/lib/python3.7/dist-packages/sklearn/model_selection/_validation.py:680: DataConversionWarning:\n",
            "\n",
            "A column-vector y was passed when a 1d array was expected. Please change the shape of y to (n_samples,), for example using ravel().\n",
            "\n",
            "/usr/local/lib/python3.7/dist-packages/sklearn/model_selection/_validation.py:680: DataConversionWarning:\n",
            "\n",
            "A column-vector y was passed when a 1d array was expected. Please change the shape of y to (n_samples,), for example using ravel().\n",
            "\n",
            "/usr/local/lib/python3.7/dist-packages/sklearn/model_selection/_validation.py:680: DataConversionWarning:\n",
            "\n",
            "A column-vector y was passed when a 1d array was expected. Please change the shape of y to (n_samples,), for example using ravel().\n",
            "\n",
            "/usr/local/lib/python3.7/dist-packages/sklearn/model_selection/_validation.py:680: DataConversionWarning:\n",
            "\n",
            "A column-vector y was passed when a 1d array was expected. Please change the shape of y to (n_samples,), for example using ravel().\n",
            "\n",
            "/usr/local/lib/python3.7/dist-packages/sklearn/model_selection/_validation.py:680: DataConversionWarning:\n",
            "\n",
            "A column-vector y was passed when a 1d array was expected. Please change the shape of y to (n_samples,), for example using ravel().\n",
            "\n",
            "/usr/local/lib/python3.7/dist-packages/sklearn/model_selection/_validation.py:680: DataConversionWarning:\n",
            "\n",
            "A column-vector y was passed when a 1d array was expected. Please change the shape of y to (n_samples,), for example using ravel().\n",
            "\n",
            "/usr/local/lib/python3.7/dist-packages/sklearn/model_selection/_validation.py:680: DataConversionWarning:\n",
            "\n",
            "A column-vector y was passed when a 1d array was expected. Please change the shape of y to (n_samples,), for example using ravel().\n",
            "\n",
            "/usr/local/lib/python3.7/dist-packages/sklearn/model_selection/_validation.py:680: DataConversionWarning:\n",
            "\n",
            "A column-vector y was passed when a 1d array was expected. Please change the shape of y to (n_samples,), for example using ravel().\n",
            "\n",
            "/usr/local/lib/python3.7/dist-packages/sklearn/model_selection/_validation.py:680: DataConversionWarning:\n",
            "\n",
            "A column-vector y was passed when a 1d array was expected. Please change the shape of y to (n_samples,), for example using ravel().\n",
            "\n",
            "/usr/local/lib/python3.7/dist-packages/sklearn/model_selection/_validation.py:680: DataConversionWarning:\n",
            "\n",
            "A column-vector y was passed when a 1d array was expected. Please change the shape of y to (n_samples,), for example using ravel().\n",
            "\n",
            "/usr/local/lib/python3.7/dist-packages/sklearn/model_selection/_validation.py:680: DataConversionWarning:\n",
            "\n",
            "A column-vector y was passed when a 1d array was expected. Please change the shape of y to (n_samples,), for example using ravel().\n",
            "\n",
            "/usr/local/lib/python3.7/dist-packages/sklearn/model_selection/_validation.py:680: DataConversionWarning:\n",
            "\n",
            "A column-vector y was passed when a 1d array was expected. Please change the shape of y to (n_samples,), for example using ravel().\n",
            "\n",
            "/usr/local/lib/python3.7/dist-packages/sklearn/model_selection/_validation.py:680: DataConversionWarning:\n",
            "\n",
            "A column-vector y was passed when a 1d array was expected. Please change the shape of y to (n_samples,), for example using ravel().\n",
            "\n",
            "/usr/local/lib/python3.7/dist-packages/sklearn/model_selection/_validation.py:680: DataConversionWarning:\n",
            "\n",
            "A column-vector y was passed when a 1d array was expected. Please change the shape of y to (n_samples,), for example using ravel().\n",
            "\n",
            "/usr/local/lib/python3.7/dist-packages/sklearn/model_selection/_validation.py:680: DataConversionWarning:\n",
            "\n",
            "A column-vector y was passed when a 1d array was expected. Please change the shape of y to (n_samples,), for example using ravel().\n",
            "\n",
            "/usr/local/lib/python3.7/dist-packages/sklearn/model_selection/_validation.py:680: DataConversionWarning:\n",
            "\n",
            "A column-vector y was passed when a 1d array was expected. Please change the shape of y to (n_samples,), for example using ravel().\n",
            "\n",
            "/usr/local/lib/python3.7/dist-packages/sklearn/model_selection/_validation.py:680: DataConversionWarning:\n",
            "\n",
            "A column-vector y was passed when a 1d array was expected. Please change the shape of y to (n_samples,), for example using ravel().\n",
            "\n",
            "/usr/local/lib/python3.7/dist-packages/sklearn/model_selection/_validation.py:680: DataConversionWarning:\n",
            "\n",
            "A column-vector y was passed when a 1d array was expected. Please change the shape of y to (n_samples,), for example using ravel().\n",
            "\n",
            "/usr/local/lib/python3.7/dist-packages/sklearn/model_selection/_validation.py:680: DataConversionWarning:\n",
            "\n",
            "A column-vector y was passed when a 1d array was expected. Please change the shape of y to (n_samples,), for example using ravel().\n",
            "\n",
            "/usr/local/lib/python3.7/dist-packages/sklearn/model_selection/_validation.py:680: DataConversionWarning:\n",
            "\n",
            "A column-vector y was passed when a 1d array was expected. Please change the shape of y to (n_samples,), for example using ravel().\n",
            "\n",
            "/usr/local/lib/python3.7/dist-packages/sklearn/model_selection/_validation.py:680: DataConversionWarning:\n",
            "\n",
            "A column-vector y was passed when a 1d array was expected. Please change the shape of y to (n_samples,), for example using ravel().\n",
            "\n",
            "/usr/local/lib/python3.7/dist-packages/sklearn/model_selection/_validation.py:680: DataConversionWarning:\n",
            "\n",
            "A column-vector y was passed when a 1d array was expected. Please change the shape of y to (n_samples,), for example using ravel().\n",
            "\n",
            "/usr/local/lib/python3.7/dist-packages/sklearn/model_selection/_validation.py:680: DataConversionWarning:\n",
            "\n",
            "A column-vector y was passed when a 1d array was expected. Please change the shape of y to (n_samples,), for example using ravel().\n",
            "\n",
            "/usr/local/lib/python3.7/dist-packages/sklearn/model_selection/_validation.py:680: DataConversionWarning:\n",
            "\n",
            "A column-vector y was passed when a 1d array was expected. Please change the shape of y to (n_samples,), for example using ravel().\n",
            "\n",
            "/usr/local/lib/python3.7/dist-packages/sklearn/model_selection/_validation.py:680: DataConversionWarning:\n",
            "\n",
            "A column-vector y was passed when a 1d array was expected. Please change the shape of y to (n_samples,), for example using ravel().\n",
            "\n",
            "/usr/local/lib/python3.7/dist-packages/sklearn/model_selection/_validation.py:680: DataConversionWarning:\n",
            "\n",
            "A column-vector y was passed when a 1d array was expected. Please change the shape of y to (n_samples,), for example using ravel().\n",
            "\n",
            "/usr/local/lib/python3.7/dist-packages/sklearn/model_selection/_validation.py:680: DataConversionWarning:\n",
            "\n",
            "A column-vector y was passed when a 1d array was expected. Please change the shape of y to (n_samples,), for example using ravel().\n",
            "\n",
            "/usr/local/lib/python3.7/dist-packages/sklearn/model_selection/_validation.py:680: DataConversionWarning:\n",
            "\n",
            "A column-vector y was passed when a 1d array was expected. Please change the shape of y to (n_samples,), for example using ravel().\n",
            "\n",
            "/usr/local/lib/python3.7/dist-packages/sklearn/model_selection/_validation.py:680: DataConversionWarning:\n",
            "\n",
            "A column-vector y was passed when a 1d array was expected. Please change the shape of y to (n_samples,), for example using ravel().\n",
            "\n",
            "/usr/local/lib/python3.7/dist-packages/sklearn/model_selection/_validation.py:680: DataConversionWarning:\n",
            "\n",
            "A column-vector y was passed when a 1d array was expected. Please change the shape of y to (n_samples,), for example using ravel().\n",
            "\n",
            "/usr/local/lib/python3.7/dist-packages/sklearn/model_selection/_validation.py:680: DataConversionWarning:\n",
            "\n",
            "A column-vector y was passed when a 1d array was expected. Please change the shape of y to (n_samples,), for example using ravel().\n",
            "\n",
            "/usr/local/lib/python3.7/dist-packages/sklearn/model_selection/_validation.py:680: DataConversionWarning:\n",
            "\n",
            "A column-vector y was passed when a 1d array was expected. Please change the shape of y to (n_samples,), for example using ravel().\n",
            "\n",
            "/usr/local/lib/python3.7/dist-packages/sklearn/model_selection/_validation.py:680: DataConversionWarning:\n",
            "\n",
            "A column-vector y was passed when a 1d array was expected. Please change the shape of y to (n_samples,), for example using ravel().\n",
            "\n",
            "/usr/local/lib/python3.7/dist-packages/sklearn/model_selection/_validation.py:680: DataConversionWarning:\n",
            "\n",
            "A column-vector y was passed when a 1d array was expected. Please change the shape of y to (n_samples,), for example using ravel().\n",
            "\n",
            "/usr/local/lib/python3.7/dist-packages/sklearn/model_selection/_validation.py:680: DataConversionWarning:\n",
            "\n",
            "A column-vector y was passed when a 1d array was expected. Please change the shape of y to (n_samples,), for example using ravel().\n",
            "\n",
            "/usr/local/lib/python3.7/dist-packages/sklearn/model_selection/_validation.py:680: DataConversionWarning:\n",
            "\n",
            "A column-vector y was passed when a 1d array was expected. Please change the shape of y to (n_samples,), for example using ravel().\n",
            "\n",
            "/usr/local/lib/python3.7/dist-packages/sklearn/model_selection/_validation.py:680: DataConversionWarning:\n",
            "\n",
            "A column-vector y was passed when a 1d array was expected. Please change the shape of y to (n_samples,), for example using ravel().\n",
            "\n",
            "/usr/local/lib/python3.7/dist-packages/sklearn/model_selection/_validation.py:680: DataConversionWarning:\n",
            "\n",
            "A column-vector y was passed when a 1d array was expected. Please change the shape of y to (n_samples,), for example using ravel().\n",
            "\n",
            "/usr/local/lib/python3.7/dist-packages/sklearn/model_selection/_validation.py:680: DataConversionWarning:\n",
            "\n",
            "A column-vector y was passed when a 1d array was expected. Please change the shape of y to (n_samples,), for example using ravel().\n",
            "\n",
            "/usr/local/lib/python3.7/dist-packages/sklearn/model_selection/_validation.py:680: DataConversionWarning:\n",
            "\n",
            "A column-vector y was passed when a 1d array was expected. Please change the shape of y to (n_samples,), for example using ravel().\n",
            "\n",
            "/usr/local/lib/python3.7/dist-packages/sklearn/model_selection/_validation.py:680: DataConversionWarning:\n",
            "\n",
            "A column-vector y was passed when a 1d array was expected. Please change the shape of y to (n_samples,), for example using ravel().\n",
            "\n",
            "/usr/local/lib/python3.7/dist-packages/sklearn/model_selection/_validation.py:680: DataConversionWarning:\n",
            "\n",
            "A column-vector y was passed when a 1d array was expected. Please change the shape of y to (n_samples,), for example using ravel().\n",
            "\n",
            "/usr/local/lib/python3.7/dist-packages/sklearn/model_selection/_validation.py:680: DataConversionWarning:\n",
            "\n",
            "A column-vector y was passed when a 1d array was expected. Please change the shape of y to (n_samples,), for example using ravel().\n",
            "\n",
            "/usr/local/lib/python3.7/dist-packages/sklearn/model_selection/_validation.py:680: DataConversionWarning:\n",
            "\n",
            "A column-vector y was passed when a 1d array was expected. Please change the shape of y to (n_samples,), for example using ravel().\n",
            "\n",
            "/usr/local/lib/python3.7/dist-packages/sklearn/model_selection/_validation.py:680: DataConversionWarning:\n",
            "\n",
            "A column-vector y was passed when a 1d array was expected. Please change the shape of y to (n_samples,), for example using ravel().\n",
            "\n",
            "/usr/local/lib/python3.7/dist-packages/sklearn/model_selection/_validation.py:680: DataConversionWarning:\n",
            "\n",
            "A column-vector y was passed when a 1d array was expected. Please change the shape of y to (n_samples,), for example using ravel().\n",
            "\n",
            "/usr/local/lib/python3.7/dist-packages/sklearn/model_selection/_validation.py:680: DataConversionWarning:\n",
            "\n",
            "A column-vector y was passed when a 1d array was expected. Please change the shape of y to (n_samples,), for example using ravel().\n",
            "\n",
            "/usr/local/lib/python3.7/dist-packages/sklearn/model_selection/_validation.py:680: DataConversionWarning:\n",
            "\n",
            "A column-vector y was passed when a 1d array was expected. Please change the shape of y to (n_samples,), for example using ravel().\n",
            "\n",
            "/usr/local/lib/python3.7/dist-packages/sklearn/model_selection/_validation.py:680: DataConversionWarning:\n",
            "\n",
            "A column-vector y was passed when a 1d array was expected. Please change the shape of y to (n_samples,), for example using ravel().\n",
            "\n",
            "/usr/local/lib/python3.7/dist-packages/sklearn/model_selection/_validation.py:680: DataConversionWarning:\n",
            "\n",
            "A column-vector y was passed when a 1d array was expected. Please change the shape of y to (n_samples,), for example using ravel().\n",
            "\n",
            "/usr/local/lib/python3.7/dist-packages/sklearn/model_selection/_validation.py:680: DataConversionWarning:\n",
            "\n",
            "A column-vector y was passed when a 1d array was expected. Please change the shape of y to (n_samples,), for example using ravel().\n",
            "\n",
            "/usr/local/lib/python3.7/dist-packages/sklearn/model_selection/_validation.py:680: DataConversionWarning:\n",
            "\n",
            "A column-vector y was passed when a 1d array was expected. Please change the shape of y to (n_samples,), for example using ravel().\n",
            "\n",
            "/usr/local/lib/python3.7/dist-packages/sklearn/model_selection/_validation.py:680: DataConversionWarning:\n",
            "\n",
            "A column-vector y was passed when a 1d array was expected. Please change the shape of y to (n_samples,), for example using ravel().\n",
            "\n",
            "/usr/local/lib/python3.7/dist-packages/sklearn/model_selection/_validation.py:680: DataConversionWarning:\n",
            "\n",
            "A column-vector y was passed when a 1d array was expected. Please change the shape of y to (n_samples,), for example using ravel().\n",
            "\n",
            "/usr/local/lib/python3.7/dist-packages/sklearn/model_selection/_validation.py:680: DataConversionWarning:\n",
            "\n",
            "A column-vector y was passed when a 1d array was expected. Please change the shape of y to (n_samples,), for example using ravel().\n",
            "\n",
            "/usr/local/lib/python3.7/dist-packages/sklearn/model_selection/_validation.py:680: DataConversionWarning:\n",
            "\n",
            "A column-vector y was passed when a 1d array was expected. Please change the shape of y to (n_samples,), for example using ravel().\n",
            "\n",
            "/usr/local/lib/python3.7/dist-packages/sklearn/model_selection/_validation.py:680: DataConversionWarning:\n",
            "\n",
            "A column-vector y was passed when a 1d array was expected. Please change the shape of y to (n_samples,), for example using ravel().\n",
            "\n",
            "/usr/local/lib/python3.7/dist-packages/sklearn/model_selection/_validation.py:680: DataConversionWarning:\n",
            "\n",
            "A column-vector y was passed when a 1d array was expected. Please change the shape of y to (n_samples,), for example using ravel().\n",
            "\n",
            "/usr/local/lib/python3.7/dist-packages/sklearn/model_selection/_validation.py:680: DataConversionWarning:\n",
            "\n",
            "A column-vector y was passed when a 1d array was expected. Please change the shape of y to (n_samples,), for example using ravel().\n",
            "\n",
            "/usr/local/lib/python3.7/dist-packages/sklearn/model_selection/_validation.py:680: DataConversionWarning:\n",
            "\n",
            "A column-vector y was passed when a 1d array was expected. Please change the shape of y to (n_samples,), for example using ravel().\n",
            "\n",
            "/usr/local/lib/python3.7/dist-packages/sklearn/model_selection/_validation.py:680: DataConversionWarning:\n",
            "\n",
            "A column-vector y was passed when a 1d array was expected. Please change the shape of y to (n_samples,), for example using ravel().\n",
            "\n",
            "/usr/local/lib/python3.7/dist-packages/sklearn/model_selection/_validation.py:680: DataConversionWarning:\n",
            "\n",
            "A column-vector y was passed when a 1d array was expected. Please change the shape of y to (n_samples,), for example using ravel().\n",
            "\n",
            "/usr/local/lib/python3.7/dist-packages/sklearn/model_selection/_validation.py:680: DataConversionWarning:\n",
            "\n",
            "A column-vector y was passed when a 1d array was expected. Please change the shape of y to (n_samples,), for example using ravel().\n",
            "\n",
            "/usr/local/lib/python3.7/dist-packages/sklearn/model_selection/_validation.py:680: DataConversionWarning:\n",
            "\n",
            "A column-vector y was passed when a 1d array was expected. Please change the shape of y to (n_samples,), for example using ravel().\n",
            "\n",
            "/usr/local/lib/python3.7/dist-packages/sklearn/model_selection/_validation.py:680: DataConversionWarning:\n",
            "\n",
            "A column-vector y was passed when a 1d array was expected. Please change the shape of y to (n_samples,), for example using ravel().\n",
            "\n",
            "/usr/local/lib/python3.7/dist-packages/sklearn/model_selection/_validation.py:680: DataConversionWarning:\n",
            "\n",
            "A column-vector y was passed when a 1d array was expected. Please change the shape of y to (n_samples,), for example using ravel().\n",
            "\n",
            "/usr/local/lib/python3.7/dist-packages/sklearn/model_selection/_validation.py:680: DataConversionWarning:\n",
            "\n",
            "A column-vector y was passed when a 1d array was expected. Please change the shape of y to (n_samples,), for example using ravel().\n",
            "\n",
            "/usr/local/lib/python3.7/dist-packages/sklearn/model_selection/_validation.py:680: DataConversionWarning:\n",
            "\n",
            "A column-vector y was passed when a 1d array was expected. Please change the shape of y to (n_samples,), for example using ravel().\n",
            "\n",
            "/usr/local/lib/python3.7/dist-packages/sklearn/model_selection/_validation.py:680: DataConversionWarning:\n",
            "\n",
            "A column-vector y was passed when a 1d array was expected. Please change the shape of y to (n_samples,), for example using ravel().\n",
            "\n",
            "/usr/local/lib/python3.7/dist-packages/sklearn/model_selection/_validation.py:680: DataConversionWarning:\n",
            "\n",
            "A column-vector y was passed when a 1d array was expected. Please change the shape of y to (n_samples,), for example using ravel().\n",
            "\n",
            "/usr/local/lib/python3.7/dist-packages/sklearn/model_selection/_validation.py:680: DataConversionWarning:\n",
            "\n",
            "A column-vector y was passed when a 1d array was expected. Please change the shape of y to (n_samples,), for example using ravel().\n",
            "\n",
            "/usr/local/lib/python3.7/dist-packages/sklearn/model_selection/_validation.py:680: DataConversionWarning:\n",
            "\n",
            "A column-vector y was passed when a 1d array was expected. Please change the shape of y to (n_samples,), for example using ravel().\n",
            "\n",
            "/usr/local/lib/python3.7/dist-packages/sklearn/model_selection/_validation.py:680: DataConversionWarning:\n",
            "\n",
            "A column-vector y was passed when a 1d array was expected. Please change the shape of y to (n_samples,), for example using ravel().\n",
            "\n",
            "/usr/local/lib/python3.7/dist-packages/sklearn/model_selection/_validation.py:680: DataConversionWarning:\n",
            "\n",
            "A column-vector y was passed when a 1d array was expected. Please change the shape of y to (n_samples,), for example using ravel().\n",
            "\n",
            "/usr/local/lib/python3.7/dist-packages/sklearn/model_selection/_validation.py:680: DataConversionWarning:\n",
            "\n",
            "A column-vector y was passed when a 1d array was expected. Please change the shape of y to (n_samples,), for example using ravel().\n",
            "\n",
            "/usr/local/lib/python3.7/dist-packages/sklearn/model_selection/_validation.py:680: DataConversionWarning:\n",
            "\n",
            "A column-vector y was passed when a 1d array was expected. Please change the shape of y to (n_samples,), for example using ravel().\n",
            "\n",
            "/usr/local/lib/python3.7/dist-packages/sklearn/model_selection/_validation.py:680: DataConversionWarning:\n",
            "\n",
            "A column-vector y was passed when a 1d array was expected. Please change the shape of y to (n_samples,), for example using ravel().\n",
            "\n",
            "/usr/local/lib/python3.7/dist-packages/sklearn/model_selection/_validation.py:680: DataConversionWarning:\n",
            "\n",
            "A column-vector y was passed when a 1d array was expected. Please change the shape of y to (n_samples,), for example using ravel().\n",
            "\n",
            "/usr/local/lib/python3.7/dist-packages/sklearn/model_selection/_validation.py:680: DataConversionWarning:\n",
            "\n",
            "A column-vector y was passed when a 1d array was expected. Please change the shape of y to (n_samples,), for example using ravel().\n",
            "\n",
            "/usr/local/lib/python3.7/dist-packages/sklearn/model_selection/_validation.py:680: DataConversionWarning:\n",
            "\n",
            "A column-vector y was passed when a 1d array was expected. Please change the shape of y to (n_samples,), for example using ravel().\n",
            "\n",
            "/usr/local/lib/python3.7/dist-packages/sklearn/model_selection/_validation.py:680: DataConversionWarning:\n",
            "\n",
            "A column-vector y was passed when a 1d array was expected. Please change the shape of y to (n_samples,), for example using ravel().\n",
            "\n",
            "/usr/local/lib/python3.7/dist-packages/sklearn/model_selection/_validation.py:680: DataConversionWarning:\n",
            "\n",
            "A column-vector y was passed when a 1d array was expected. Please change the shape of y to (n_samples,), for example using ravel().\n",
            "\n",
            "/usr/local/lib/python3.7/dist-packages/sklearn/model_selection/_validation.py:680: DataConversionWarning:\n",
            "\n",
            "A column-vector y was passed when a 1d array was expected. Please change the shape of y to (n_samples,), for example using ravel().\n",
            "\n",
            "/usr/local/lib/python3.7/dist-packages/sklearn/model_selection/_validation.py:680: DataConversionWarning:\n",
            "\n",
            "A column-vector y was passed when a 1d array was expected. Please change the shape of y to (n_samples,), for example using ravel().\n",
            "\n",
            "/usr/local/lib/python3.7/dist-packages/sklearn/model_selection/_validation.py:680: DataConversionWarning:\n",
            "\n",
            "A column-vector y was passed when a 1d array was expected. Please change the shape of y to (n_samples,), for example using ravel().\n",
            "\n",
            "/usr/local/lib/python3.7/dist-packages/sklearn/model_selection/_validation.py:680: DataConversionWarning:\n",
            "\n",
            "A column-vector y was passed when a 1d array was expected. Please change the shape of y to (n_samples,), for example using ravel().\n",
            "\n",
            "/usr/local/lib/python3.7/dist-packages/sklearn/model_selection/_validation.py:680: DataConversionWarning:\n",
            "\n",
            "A column-vector y was passed when a 1d array was expected. Please change the shape of y to (n_samples,), for example using ravel().\n",
            "\n",
            "/usr/local/lib/python3.7/dist-packages/sklearn/model_selection/_validation.py:680: DataConversionWarning:\n",
            "\n",
            "A column-vector y was passed when a 1d array was expected. Please change the shape of y to (n_samples,), for example using ravel().\n",
            "\n",
            "/usr/local/lib/python3.7/dist-packages/sklearn/model_selection/_validation.py:680: DataConversionWarning:\n",
            "\n",
            "A column-vector y was passed when a 1d array was expected. Please change the shape of y to (n_samples,), for example using ravel().\n",
            "\n",
            "/usr/local/lib/python3.7/dist-packages/sklearn/model_selection/_validation.py:680: DataConversionWarning:\n",
            "\n",
            "A column-vector y was passed when a 1d array was expected. Please change the shape of y to (n_samples,), for example using ravel().\n",
            "\n",
            "/usr/local/lib/python3.7/dist-packages/sklearn/model_selection/_validation.py:680: DataConversionWarning:\n",
            "\n",
            "A column-vector y was passed when a 1d array was expected. Please change the shape of y to (n_samples,), for example using ravel().\n",
            "\n",
            "/usr/local/lib/python3.7/dist-packages/sklearn/model_selection/_validation.py:680: DataConversionWarning:\n",
            "\n",
            "A column-vector y was passed when a 1d array was expected. Please change the shape of y to (n_samples,), for example using ravel().\n",
            "\n",
            "/usr/local/lib/python3.7/dist-packages/sklearn/model_selection/_validation.py:680: DataConversionWarning:\n",
            "\n",
            "A column-vector y was passed when a 1d array was expected. Please change the shape of y to (n_samples,), for example using ravel().\n",
            "\n",
            "/usr/local/lib/python3.7/dist-packages/sklearn/model_selection/_validation.py:680: DataConversionWarning:\n",
            "\n",
            "A column-vector y was passed when a 1d array was expected. Please change the shape of y to (n_samples,), for example using ravel().\n",
            "\n",
            "/usr/local/lib/python3.7/dist-packages/sklearn/model_selection/_validation.py:680: DataConversionWarning:\n",
            "\n",
            "A column-vector y was passed when a 1d array was expected. Please change the shape of y to (n_samples,), for example using ravel().\n",
            "\n",
            "/usr/local/lib/python3.7/dist-packages/sklearn/model_selection/_validation.py:680: DataConversionWarning:\n",
            "\n",
            "A column-vector y was passed when a 1d array was expected. Please change the shape of y to (n_samples,), for example using ravel().\n",
            "\n",
            "/usr/local/lib/python3.7/dist-packages/sklearn/model_selection/_validation.py:680: DataConversionWarning:\n",
            "\n",
            "A column-vector y was passed when a 1d array was expected. Please change the shape of y to (n_samples,), for example using ravel().\n",
            "\n",
            "/usr/local/lib/python3.7/dist-packages/sklearn/model_selection/_validation.py:680: DataConversionWarning:\n",
            "\n",
            "A column-vector y was passed when a 1d array was expected. Please change the shape of y to (n_samples,), for example using ravel().\n",
            "\n",
            "/usr/local/lib/python3.7/dist-packages/sklearn/model_selection/_validation.py:680: DataConversionWarning:\n",
            "\n",
            "A column-vector y was passed when a 1d array was expected. Please change the shape of y to (n_samples,), for example using ravel().\n",
            "\n",
            "/usr/local/lib/python3.7/dist-packages/sklearn/model_selection/_validation.py:680: DataConversionWarning:\n",
            "\n",
            "A column-vector y was passed when a 1d array was expected. Please change the shape of y to (n_samples,), for example using ravel().\n",
            "\n",
            "/usr/local/lib/python3.7/dist-packages/sklearn/model_selection/_validation.py:680: DataConversionWarning:\n",
            "\n",
            "A column-vector y was passed when a 1d array was expected. Please change the shape of y to (n_samples,), for example using ravel().\n",
            "\n",
            "/usr/local/lib/python3.7/dist-packages/sklearn/model_selection/_validation.py:680: DataConversionWarning:\n",
            "\n",
            "A column-vector y was passed when a 1d array was expected. Please change the shape of y to (n_samples,), for example using ravel().\n",
            "\n",
            "/usr/local/lib/python3.7/dist-packages/sklearn/model_selection/_validation.py:680: DataConversionWarning:\n",
            "\n",
            "A column-vector y was passed when a 1d array was expected. Please change the shape of y to (n_samples,), for example using ravel().\n",
            "\n",
            "/usr/local/lib/python3.7/dist-packages/sklearn/model_selection/_validation.py:680: DataConversionWarning:\n",
            "\n",
            "A column-vector y was passed when a 1d array was expected. Please change the shape of y to (n_samples,), for example using ravel().\n",
            "\n",
            "/usr/local/lib/python3.7/dist-packages/sklearn/model_selection/_validation.py:680: DataConversionWarning:\n",
            "\n",
            "A column-vector y was passed when a 1d array was expected. Please change the shape of y to (n_samples,), for example using ravel().\n",
            "\n",
            "/usr/local/lib/python3.7/dist-packages/sklearn/model_selection/_validation.py:680: DataConversionWarning:\n",
            "\n",
            "A column-vector y was passed when a 1d array was expected. Please change the shape of y to (n_samples,), for example using ravel().\n",
            "\n",
            "/usr/local/lib/python3.7/dist-packages/sklearn/model_selection/_validation.py:680: DataConversionWarning:\n",
            "\n",
            "A column-vector y was passed when a 1d array was expected. Please change the shape of y to (n_samples,), for example using ravel().\n",
            "\n",
            "/usr/local/lib/python3.7/dist-packages/sklearn/model_selection/_validation.py:680: DataConversionWarning:\n",
            "\n",
            "A column-vector y was passed when a 1d array was expected. Please change the shape of y to (n_samples,), for example using ravel().\n",
            "\n",
            "/usr/local/lib/python3.7/dist-packages/sklearn/model_selection/_validation.py:680: DataConversionWarning:\n",
            "\n",
            "A column-vector y was passed when a 1d array was expected. Please change the shape of y to (n_samples,), for example using ravel().\n",
            "\n",
            "/usr/local/lib/python3.7/dist-packages/sklearn/model_selection/_validation.py:680: DataConversionWarning:\n",
            "\n",
            "A column-vector y was passed when a 1d array was expected. Please change the shape of y to (n_samples,), for example using ravel().\n",
            "\n",
            "/usr/local/lib/python3.7/dist-packages/sklearn/model_selection/_validation.py:680: DataConversionWarning:\n",
            "\n",
            "A column-vector y was passed when a 1d array was expected. Please change the shape of y to (n_samples,), for example using ravel().\n",
            "\n",
            "/usr/local/lib/python3.7/dist-packages/sklearn/model_selection/_validation.py:680: DataConversionWarning:\n",
            "\n",
            "A column-vector y was passed when a 1d array was expected. Please change the shape of y to (n_samples,), for example using ravel().\n",
            "\n",
            "/usr/local/lib/python3.7/dist-packages/sklearn/model_selection/_validation.py:680: DataConversionWarning:\n",
            "\n",
            "A column-vector y was passed when a 1d array was expected. Please change the shape of y to (n_samples,), for example using ravel().\n",
            "\n",
            "/usr/local/lib/python3.7/dist-packages/sklearn/model_selection/_validation.py:680: DataConversionWarning:\n",
            "\n",
            "A column-vector y was passed when a 1d array was expected. Please change the shape of y to (n_samples,), for example using ravel().\n",
            "\n",
            "/usr/local/lib/python3.7/dist-packages/sklearn/model_selection/_validation.py:680: DataConversionWarning:\n",
            "\n",
            "A column-vector y was passed when a 1d array was expected. Please change the shape of y to (n_samples,), for example using ravel().\n",
            "\n",
            "/usr/local/lib/python3.7/dist-packages/sklearn/model_selection/_validation.py:680: DataConversionWarning:\n",
            "\n",
            "A column-vector y was passed when a 1d array was expected. Please change the shape of y to (n_samples,), for example using ravel().\n",
            "\n",
            "/usr/local/lib/python3.7/dist-packages/sklearn/model_selection/_validation.py:680: DataConversionWarning:\n",
            "\n",
            "A column-vector y was passed when a 1d array was expected. Please change the shape of y to (n_samples,), for example using ravel().\n",
            "\n",
            "/usr/local/lib/python3.7/dist-packages/sklearn/model_selection/_validation.py:680: DataConversionWarning:\n",
            "\n",
            "A column-vector y was passed when a 1d array was expected. Please change the shape of y to (n_samples,), for example using ravel().\n",
            "\n",
            "/usr/local/lib/python3.7/dist-packages/sklearn/model_selection/_validation.py:680: DataConversionWarning:\n",
            "\n",
            "A column-vector y was passed when a 1d array was expected. Please change the shape of y to (n_samples,), for example using ravel().\n",
            "\n",
            "/usr/local/lib/python3.7/dist-packages/sklearn/model_selection/_validation.py:680: DataConversionWarning:\n",
            "\n",
            "A column-vector y was passed when a 1d array was expected. Please change the shape of y to (n_samples,), for example using ravel().\n",
            "\n",
            "/usr/local/lib/python3.7/dist-packages/sklearn/model_selection/_validation.py:680: DataConversionWarning:\n",
            "\n",
            "A column-vector y was passed when a 1d array was expected. Please change the shape of y to (n_samples,), for example using ravel().\n",
            "\n",
            "/usr/local/lib/python3.7/dist-packages/sklearn/model_selection/_validation.py:680: DataConversionWarning:\n",
            "\n",
            "A column-vector y was passed when a 1d array was expected. Please change the shape of y to (n_samples,), for example using ravel().\n",
            "\n",
            "/usr/local/lib/python3.7/dist-packages/sklearn/model_selection/_validation.py:680: DataConversionWarning:\n",
            "\n",
            "A column-vector y was passed when a 1d array was expected. Please change the shape of y to (n_samples,), for example using ravel().\n",
            "\n",
            "/usr/local/lib/python3.7/dist-packages/sklearn/model_selection/_validation.py:680: DataConversionWarning:\n",
            "\n",
            "A column-vector y was passed when a 1d array was expected. Please change the shape of y to (n_samples,), for example using ravel().\n",
            "\n",
            "/usr/local/lib/python3.7/dist-packages/sklearn/model_selection/_validation.py:680: DataConversionWarning:\n",
            "\n",
            "A column-vector y was passed when a 1d array was expected. Please change the shape of y to (n_samples,), for example using ravel().\n",
            "\n",
            "/usr/local/lib/python3.7/dist-packages/sklearn/model_selection/_validation.py:680: DataConversionWarning:\n",
            "\n",
            "A column-vector y was passed when a 1d array was expected. Please change the shape of y to (n_samples,), for example using ravel().\n",
            "\n",
            "/usr/local/lib/python3.7/dist-packages/sklearn/model_selection/_validation.py:680: DataConversionWarning:\n",
            "\n",
            "A column-vector y was passed when a 1d array was expected. Please change the shape of y to (n_samples,), for example using ravel().\n",
            "\n",
            "/usr/local/lib/python3.7/dist-packages/sklearn/model_selection/_validation.py:680: DataConversionWarning:\n",
            "\n",
            "A column-vector y was passed when a 1d array was expected. Please change the shape of y to (n_samples,), for example using ravel().\n",
            "\n",
            "/usr/local/lib/python3.7/dist-packages/sklearn/model_selection/_validation.py:680: DataConversionWarning:\n",
            "\n",
            "A column-vector y was passed when a 1d array was expected. Please change the shape of y to (n_samples,), for example using ravel().\n",
            "\n",
            "/usr/local/lib/python3.7/dist-packages/sklearn/model_selection/_validation.py:680: DataConversionWarning:\n",
            "\n",
            "A column-vector y was passed when a 1d array was expected. Please change the shape of y to (n_samples,), for example using ravel().\n",
            "\n",
            "/usr/local/lib/python3.7/dist-packages/sklearn/model_selection/_validation.py:680: DataConversionWarning:\n",
            "\n",
            "A column-vector y was passed when a 1d array was expected. Please change the shape of y to (n_samples,), for example using ravel().\n",
            "\n",
            "/usr/local/lib/python3.7/dist-packages/sklearn/model_selection/_validation.py:680: DataConversionWarning:\n",
            "\n",
            "A column-vector y was passed when a 1d array was expected. Please change the shape of y to (n_samples,), for example using ravel().\n",
            "\n",
            "/usr/local/lib/python3.7/dist-packages/sklearn/model_selection/_validation.py:680: DataConversionWarning:\n",
            "\n",
            "A column-vector y was passed when a 1d array was expected. Please change the shape of y to (n_samples,), for example using ravel().\n",
            "\n",
            "/usr/local/lib/python3.7/dist-packages/sklearn/model_selection/_validation.py:680: DataConversionWarning:\n",
            "\n",
            "A column-vector y was passed when a 1d array was expected. Please change the shape of y to (n_samples,), for example using ravel().\n",
            "\n",
            "/usr/local/lib/python3.7/dist-packages/sklearn/model_selection/_validation.py:680: DataConversionWarning:\n",
            "\n",
            "A column-vector y was passed when a 1d array was expected. Please change the shape of y to (n_samples,), for example using ravel().\n",
            "\n",
            "/usr/local/lib/python3.7/dist-packages/sklearn/model_selection/_validation.py:680: DataConversionWarning:\n",
            "\n",
            "A column-vector y was passed when a 1d array was expected. Please change the shape of y to (n_samples,), for example using ravel().\n",
            "\n",
            "/usr/local/lib/python3.7/dist-packages/sklearn/model_selection/_validation.py:680: DataConversionWarning:\n",
            "\n",
            "A column-vector y was passed when a 1d array was expected. Please change the shape of y to (n_samples,), for example using ravel().\n",
            "\n",
            "/usr/local/lib/python3.7/dist-packages/sklearn/model_selection/_validation.py:680: DataConversionWarning:\n",
            "\n",
            "A column-vector y was passed when a 1d array was expected. Please change the shape of y to (n_samples,), for example using ravel().\n",
            "\n",
            "/usr/local/lib/python3.7/dist-packages/sklearn/model_selection/_validation.py:680: DataConversionWarning:\n",
            "\n",
            "A column-vector y was passed when a 1d array was expected. Please change the shape of y to (n_samples,), for example using ravel().\n",
            "\n",
            "/usr/local/lib/python3.7/dist-packages/sklearn/model_selection/_validation.py:680: DataConversionWarning:\n",
            "\n",
            "A column-vector y was passed when a 1d array was expected. Please change the shape of y to (n_samples,), for example using ravel().\n",
            "\n",
            "/usr/local/lib/python3.7/dist-packages/sklearn/model_selection/_validation.py:680: DataConversionWarning:\n",
            "\n",
            "A column-vector y was passed when a 1d array was expected. Please change the shape of y to (n_samples,), for example using ravel().\n",
            "\n",
            "/usr/local/lib/python3.7/dist-packages/sklearn/model_selection/_search.py:926: DataConversionWarning:\n",
            "\n",
            "A column-vector y was passed when a 1d array was expected. Please change the shape of y to (n_samples,), for example using ravel().\n",
            "\n"
          ]
        },
        {
          "output_type": "execute_result",
          "data": {
            "text/plain": [
              "GridSearchCV(cv=10, estimator=RandomForestClassifier(),\n",
              "             param_grid={'max_depth': [2, 5, 7, 9, 10],\n",
              "                         'n_estimators': [10, 50, 100, 500, 1000]})"
            ]
          },
          "metadata": {},
          "execution_count": 43
        }
      ]
    },
    {
      "cell_type": "code",
      "source": [
        "grid_rf.best_estimator_"
      ],
      "metadata": {
        "colab": {
          "base_uri": "https://localhost:8080/"
        },
        "id": "sRFf5Yq_TnCv",
        "outputId": "de44cd23-8714-4478-953b-e598b1d5120c"
      },
      "execution_count": 44,
      "outputs": [
        {
          "output_type": "execute_result",
          "data": {
            "text/plain": [
              "RandomForestClassifier(max_depth=10)"
            ]
          },
          "metadata": {},
          "execution_count": 44
        }
      ]
    },
    {
      "cell_type": "code",
      "source": [
        "y_pred = grid_rf.predict(x_test)"
      ],
      "metadata": {
        "id": "RMtMdTiKTn8n"
      },
      "execution_count": 45,
      "outputs": []
    },
    {
      "cell_type": "code",
      "source": [
        "confusion_matrix(y_test, y_pred)"
      ],
      "metadata": {
        "colab": {
          "base_uri": "https://localhost:8080/"
        },
        "id": "j3B2uJc1UkHp",
        "outputId": "006ccb93-6491-431f-fe83-531e7fdd46b9"
      },
      "execution_count": 46,
      "outputs": [
        {
          "output_type": "execute_result",
          "data": {
            "text/plain": [
              "array([[248,  11],\n",
              "       [ 56, 279]])"
            ]
          },
          "metadata": {},
          "execution_count": 46
        }
      ]
    },
    {
      "cell_type": "code",
      "source": [
        "rfc = accuracy_score(y_test, y_pred)"
      ],
      "metadata": {
        "id": "vPTjeU9AVFLU"
      },
      "execution_count": 47,
      "outputs": []
    },
    {
      "cell_type": "code",
      "source": [
        "rfc"
      ],
      "metadata": {
        "colab": {
          "base_uri": "https://localhost:8080/"
        },
        "id": "c5HD9o-oVwjT",
        "outputId": "ea5f2498-d7b3-4059-8e0f-0e3eb7093cb9"
      },
      "execution_count": 48,
      "outputs": [
        {
          "output_type": "execute_result",
          "data": {
            "text/plain": [
              "0.8872053872053872"
            ]
          },
          "metadata": {},
          "execution_count": 48
        }
      ]
    },
    {
      "cell_type": "markdown",
      "source": [
        "# All Model Accuracy Score"
      ],
      "metadata": {
        "id": "J_ba4dpAVObW"
      }
    },
    {
      "cell_type": "code",
      "source": [
        "models = pd.DataFrame({\"Models\": [\"XGB Classifier\",\"RandomizedSearchCV\",\"Decission Tree Classifier\",\"RandomForestCLassifier\"], \"Accuracy\": [xgb, rscv, dt_acc, rfc]})\n",
        "models"
      ],
      "metadata": {
        "colab": {
          "base_uri": "https://localhost:8080/",
          "height": 175
        },
        "id": "2AvEqVKeVR99",
        "outputId": "322ffb95-6151-48b9-eb27-9fea5ae48566"
      },
      "execution_count": 49,
      "outputs": [
        {
          "output_type": "execute_result",
          "data": {
            "text/plain": [
              "                      Models  Accuracy\n",
              "0             XGB Classifier  0.885522\n",
              "1         RandomizedSearchCV  0.890572\n",
              "2  Decission Tree Classifier  0.870370\n",
              "3     RandomForestCLassifier  0.887205"
            ],
            "text/html": [
              "\n",
              "  <div id=\"df-187ca04e-1925-46fd-b495-e37f827113d0\">\n",
              "    <div class=\"colab-df-container\">\n",
              "      <div>\n",
              "<style scoped>\n",
              "    .dataframe tbody tr th:only-of-type {\n",
              "        vertical-align: middle;\n",
              "    }\n",
              "\n",
              "    .dataframe tbody tr th {\n",
              "        vertical-align: top;\n",
              "    }\n",
              "\n",
              "    .dataframe thead th {\n",
              "        text-align: right;\n",
              "    }\n",
              "</style>\n",
              "<table border=\"1\" class=\"dataframe\">\n",
              "  <thead>\n",
              "    <tr style=\"text-align: right;\">\n",
              "      <th></th>\n",
              "      <th>Models</th>\n",
              "      <th>Accuracy</th>\n",
              "    </tr>\n",
              "  </thead>\n",
              "  <tbody>\n",
              "    <tr>\n",
              "      <th>0</th>\n",
              "      <td>XGB Classifier</td>\n",
              "      <td>0.885522</td>\n",
              "    </tr>\n",
              "    <tr>\n",
              "      <th>1</th>\n",
              "      <td>RandomizedSearchCV</td>\n",
              "      <td>0.890572</td>\n",
              "    </tr>\n",
              "    <tr>\n",
              "      <th>2</th>\n",
              "      <td>Decission Tree Classifier</td>\n",
              "      <td>0.870370</td>\n",
              "    </tr>\n",
              "    <tr>\n",
              "      <th>3</th>\n",
              "      <td>RandomForestCLassifier</td>\n",
              "      <td>0.887205</td>\n",
              "    </tr>\n",
              "  </tbody>\n",
              "</table>\n",
              "</div>\n",
              "      <button class=\"colab-df-convert\" onclick=\"convertToInteractive('df-187ca04e-1925-46fd-b495-e37f827113d0')\"\n",
              "              title=\"Convert this dataframe to an interactive table.\"\n",
              "              style=\"display:none;\">\n",
              "        \n",
              "  <svg xmlns=\"http://www.w3.org/2000/svg\" height=\"24px\"viewBox=\"0 0 24 24\"\n",
              "       width=\"24px\">\n",
              "    <path d=\"M0 0h24v24H0V0z\" fill=\"none\"/>\n",
              "    <path d=\"M18.56 5.44l.94 2.06.94-2.06 2.06-.94-2.06-.94-.94-2.06-.94 2.06-2.06.94zm-11 1L8.5 8.5l.94-2.06 2.06-.94-2.06-.94L8.5 2.5l-.94 2.06-2.06.94zm10 10l.94 2.06.94-2.06 2.06-.94-2.06-.94-.94-2.06-.94 2.06-2.06.94z\"/><path d=\"M17.41 7.96l-1.37-1.37c-.4-.4-.92-.59-1.43-.59-.52 0-1.04.2-1.43.59L10.3 9.45l-7.72 7.72c-.78.78-.78 2.05 0 2.83L4 21.41c.39.39.9.59 1.41.59.51 0 1.02-.2 1.41-.59l7.78-7.78 2.81-2.81c.8-.78.8-2.07 0-2.86zM5.41 20L4 18.59l7.72-7.72 1.47 1.35L5.41 20z\"/>\n",
              "  </svg>\n",
              "      </button>\n",
              "      \n",
              "  <style>\n",
              "    .colab-df-container {\n",
              "      display:flex;\n",
              "      flex-wrap:wrap;\n",
              "      gap: 12px;\n",
              "    }\n",
              "\n",
              "    .colab-df-convert {\n",
              "      background-color: #E8F0FE;\n",
              "      border: none;\n",
              "      border-radius: 50%;\n",
              "      cursor: pointer;\n",
              "      display: none;\n",
              "      fill: #1967D2;\n",
              "      height: 32px;\n",
              "      padding: 0 0 0 0;\n",
              "      width: 32px;\n",
              "    }\n",
              "\n",
              "    .colab-df-convert:hover {\n",
              "      background-color: #E2EBFA;\n",
              "      box-shadow: 0px 1px 2px rgba(60, 64, 67, 0.3), 0px 1px 3px 1px rgba(60, 64, 67, 0.15);\n",
              "      fill: #174EA6;\n",
              "    }\n",
              "\n",
              "    [theme=dark] .colab-df-convert {\n",
              "      background-color: #3B4455;\n",
              "      fill: #D2E3FC;\n",
              "    }\n",
              "\n",
              "    [theme=dark] .colab-df-convert:hover {\n",
              "      background-color: #434B5C;\n",
              "      box-shadow: 0px 1px 3px 1px rgba(0, 0, 0, 0.15);\n",
              "      filter: drop-shadow(0px 1px 2px rgba(0, 0, 0, 0.3));\n",
              "      fill: #FFFFFF;\n",
              "    }\n",
              "  </style>\n",
              "\n",
              "      <script>\n",
              "        const buttonEl =\n",
              "          document.querySelector('#df-187ca04e-1925-46fd-b495-e37f827113d0 button.colab-df-convert');\n",
              "        buttonEl.style.display =\n",
              "          google.colab.kernel.accessAllowed ? 'block' : 'none';\n",
              "\n",
              "        async function convertToInteractive(key) {\n",
              "          const element = document.querySelector('#df-187ca04e-1925-46fd-b495-e37f827113d0');\n",
              "          const dataTable =\n",
              "            await google.colab.kernel.invokeFunction('convertToInteractive',\n",
              "                                                     [key], {});\n",
              "          if (!dataTable) return;\n",
              "\n",
              "          const docLinkHtml = 'Like what you see? Visit the ' +\n",
              "            '<a target=\"_blank\" href=https://colab.research.google.com/notebooks/data_table.ipynb>data table notebook</a>'\n",
              "            + ' to learn more about interactive tables.';\n",
              "          element.innerHTML = '';\n",
              "          dataTable['output_type'] = 'display_data';\n",
              "          await google.colab.output.renderOutput(dataTable, element);\n",
              "          const docLink = document.createElement('div');\n",
              "          docLink.innerHTML = docLinkHtml;\n",
              "          element.appendChild(docLink);\n",
              "        }\n",
              "      </script>\n",
              "    </div>\n",
              "  </div>\n",
              "  "
            ]
          },
          "metadata": {},
          "execution_count": 49
        }
      ]
    },
    {
      "cell_type": "code",
      "source": [
        "fig = px.bar(models, x = \"Models\", y = \"Accuracy\", color = \"Models\",\n",
        "            title = \"Accuracy of Models\",\n",
        "            width = 600)\n",
        "fig.show()"
      ],
      "metadata": {
        "colab": {
          "base_uri": "https://localhost:8080/",
          "height": 542
        },
        "id": "OnvqcJXUV__s",
        "outputId": "b1d9c076-1819-46c3-ed8d-5a439412b371"
      },
      "execution_count": 50,
      "outputs": [
        {
          "output_type": "display_data",
          "data": {
            "text/html": [
              "<html>\n",
              "<head><meta charset=\"utf-8\" /></head>\n",
              "<body>\n",
              "    <div>            <script src=\"https://cdnjs.cloudflare.com/ajax/libs/mathjax/2.7.5/MathJax.js?config=TeX-AMS-MML_SVG\"></script><script type=\"text/javascript\">if (window.MathJax) {MathJax.Hub.Config({SVG: {font: \"STIX-Web\"}});}</script>                <script type=\"text/javascript\">window.PlotlyConfig = {MathJaxConfig: 'local'};</script>\n",
              "        <script src=\"https://cdn.plot.ly/plotly-2.8.3.min.js\"></script>                <div id=\"ed89c533-6109-49cd-9636-e5383d2fc0a0\" class=\"plotly-graph-div\" style=\"height:525px; width:600px;\"></div>            <script type=\"text/javascript\">                                    window.PLOTLYENV=window.PLOTLYENV || {};                                    if (document.getElementById(\"ed89c533-6109-49cd-9636-e5383d2fc0a0\")) {                    Plotly.newPlot(                        \"ed89c533-6109-49cd-9636-e5383d2fc0a0\",                        [{\"alignmentgroup\":\"True\",\"hovertemplate\":\"Models=%{x}<br>Accuracy=%{y}<extra></extra>\",\"legendgroup\":\"XGB Classifier\",\"marker\":{\"color\":\"#636efa\",\"pattern\":{\"shape\":\"\"}},\"name\":\"XGB Classifier\",\"offsetgroup\":\"XGB Classifier\",\"orientation\":\"v\",\"showlegend\":true,\"textposition\":\"auto\",\"x\":[\"XGB Classifier\"],\"xaxis\":\"x\",\"y\":[0.8855218855218855],\"yaxis\":\"y\",\"type\":\"bar\"},{\"alignmentgroup\":\"True\",\"hovertemplate\":\"Models=%{x}<br>Accuracy=%{y}<extra></extra>\",\"legendgroup\":\"RandomizedSearchCV\",\"marker\":{\"color\":\"#EF553B\",\"pattern\":{\"shape\":\"\"}},\"name\":\"RandomizedSearchCV\",\"offsetgroup\":\"RandomizedSearchCV\",\"orientation\":\"v\",\"showlegend\":true,\"textposition\":\"auto\",\"x\":[\"RandomizedSearchCV\"],\"xaxis\":\"x\",\"y\":[0.8905723905723906],\"yaxis\":\"y\",\"type\":\"bar\"},{\"alignmentgroup\":\"True\",\"hovertemplate\":\"Models=%{x}<br>Accuracy=%{y}<extra></extra>\",\"legendgroup\":\"Decission Tree Classifier\",\"marker\":{\"color\":\"#00cc96\",\"pattern\":{\"shape\":\"\"}},\"name\":\"Decission Tree Classifier\",\"offsetgroup\":\"Decission Tree Classifier\",\"orientation\":\"v\",\"showlegend\":true,\"textposition\":\"auto\",\"x\":[\"Decission Tree Classifier\"],\"xaxis\":\"x\",\"y\":[0.8703703703703703],\"yaxis\":\"y\",\"type\":\"bar\"},{\"alignmentgroup\":\"True\",\"hovertemplate\":\"Models=%{x}<br>Accuracy=%{y}<extra></extra>\",\"legendgroup\":\"RandomForestCLassifier\",\"marker\":{\"color\":\"#ab63fa\",\"pattern\":{\"shape\":\"\"}},\"name\":\"RandomForestCLassifier\",\"offsetgroup\":\"RandomForestCLassifier\",\"orientation\":\"v\",\"showlegend\":true,\"textposition\":\"auto\",\"x\":[\"RandomForestCLassifier\"],\"xaxis\":\"x\",\"y\":[0.8872053872053872],\"yaxis\":\"y\",\"type\":\"bar\"}],                        {\"template\":{\"data\":{\"bar\":[{\"error_x\":{\"color\":\"#2a3f5f\"},\"error_y\":{\"color\":\"#2a3f5f\"},\"marker\":{\"line\":{\"color\":\"#E5ECF6\",\"width\":0.5},\"pattern\":{\"fillmode\":\"overlay\",\"size\":10,\"solidity\":0.2}},\"type\":\"bar\"}],\"barpolar\":[{\"marker\":{\"line\":{\"color\":\"#E5ECF6\",\"width\":0.5},\"pattern\":{\"fillmode\":\"overlay\",\"size\":10,\"solidity\":0.2}},\"type\":\"barpolar\"}],\"carpet\":[{\"aaxis\":{\"endlinecolor\":\"#2a3f5f\",\"gridcolor\":\"white\",\"linecolor\":\"white\",\"minorgridcolor\":\"white\",\"startlinecolor\":\"#2a3f5f\"},\"baxis\":{\"endlinecolor\":\"#2a3f5f\",\"gridcolor\":\"white\",\"linecolor\":\"white\",\"minorgridcolor\":\"white\",\"startlinecolor\":\"#2a3f5f\"},\"type\":\"carpet\"}],\"choropleth\":[{\"colorbar\":{\"outlinewidth\":0,\"ticks\":\"\"},\"type\":\"choropleth\"}],\"contour\":[{\"colorbar\":{\"outlinewidth\":0,\"ticks\":\"\"},\"colorscale\":[[0.0,\"#0d0887\"],[0.1111111111111111,\"#46039f\"],[0.2222222222222222,\"#7201a8\"],[0.3333333333333333,\"#9c179e\"],[0.4444444444444444,\"#bd3786\"],[0.5555555555555556,\"#d8576b\"],[0.6666666666666666,\"#ed7953\"],[0.7777777777777778,\"#fb9f3a\"],[0.8888888888888888,\"#fdca26\"],[1.0,\"#f0f921\"]],\"type\":\"contour\"}],\"contourcarpet\":[{\"colorbar\":{\"outlinewidth\":0,\"ticks\":\"\"},\"type\":\"contourcarpet\"}],\"heatmap\":[{\"colorbar\":{\"outlinewidth\":0,\"ticks\":\"\"},\"colorscale\":[[0.0,\"#0d0887\"],[0.1111111111111111,\"#46039f\"],[0.2222222222222222,\"#7201a8\"],[0.3333333333333333,\"#9c179e\"],[0.4444444444444444,\"#bd3786\"],[0.5555555555555556,\"#d8576b\"],[0.6666666666666666,\"#ed7953\"],[0.7777777777777778,\"#fb9f3a\"],[0.8888888888888888,\"#fdca26\"],[1.0,\"#f0f921\"]],\"type\":\"heatmap\"}],\"heatmapgl\":[{\"colorbar\":{\"outlinewidth\":0,\"ticks\":\"\"},\"colorscale\":[[0.0,\"#0d0887\"],[0.1111111111111111,\"#46039f\"],[0.2222222222222222,\"#7201a8\"],[0.3333333333333333,\"#9c179e\"],[0.4444444444444444,\"#bd3786\"],[0.5555555555555556,\"#d8576b\"],[0.6666666666666666,\"#ed7953\"],[0.7777777777777778,\"#fb9f3a\"],[0.8888888888888888,\"#fdca26\"],[1.0,\"#f0f921\"]],\"type\":\"heatmapgl\"}],\"histogram\":[{\"marker\":{\"pattern\":{\"fillmode\":\"overlay\",\"size\":10,\"solidity\":0.2}},\"type\":\"histogram\"}],\"histogram2d\":[{\"colorbar\":{\"outlinewidth\":0,\"ticks\":\"\"},\"colorscale\":[[0.0,\"#0d0887\"],[0.1111111111111111,\"#46039f\"],[0.2222222222222222,\"#7201a8\"],[0.3333333333333333,\"#9c179e\"],[0.4444444444444444,\"#bd3786\"],[0.5555555555555556,\"#d8576b\"],[0.6666666666666666,\"#ed7953\"],[0.7777777777777778,\"#fb9f3a\"],[0.8888888888888888,\"#fdca26\"],[1.0,\"#f0f921\"]],\"type\":\"histogram2d\"}],\"histogram2dcontour\":[{\"colorbar\":{\"outlinewidth\":0,\"ticks\":\"\"},\"colorscale\":[[0.0,\"#0d0887\"],[0.1111111111111111,\"#46039f\"],[0.2222222222222222,\"#7201a8\"],[0.3333333333333333,\"#9c179e\"],[0.4444444444444444,\"#bd3786\"],[0.5555555555555556,\"#d8576b\"],[0.6666666666666666,\"#ed7953\"],[0.7777777777777778,\"#fb9f3a\"],[0.8888888888888888,\"#fdca26\"],[1.0,\"#f0f921\"]],\"type\":\"histogram2dcontour\"}],\"mesh3d\":[{\"colorbar\":{\"outlinewidth\":0,\"ticks\":\"\"},\"type\":\"mesh3d\"}],\"parcoords\":[{\"line\":{\"colorbar\":{\"outlinewidth\":0,\"ticks\":\"\"}},\"type\":\"parcoords\"}],\"pie\":[{\"automargin\":true,\"type\":\"pie\"}],\"scatter\":[{\"marker\":{\"colorbar\":{\"outlinewidth\":0,\"ticks\":\"\"}},\"type\":\"scatter\"}],\"scatter3d\":[{\"line\":{\"colorbar\":{\"outlinewidth\":0,\"ticks\":\"\"}},\"marker\":{\"colorbar\":{\"outlinewidth\":0,\"ticks\":\"\"}},\"type\":\"scatter3d\"}],\"scattercarpet\":[{\"marker\":{\"colorbar\":{\"outlinewidth\":0,\"ticks\":\"\"}},\"type\":\"scattercarpet\"}],\"scattergeo\":[{\"marker\":{\"colorbar\":{\"outlinewidth\":0,\"ticks\":\"\"}},\"type\":\"scattergeo\"}],\"scattergl\":[{\"marker\":{\"colorbar\":{\"outlinewidth\":0,\"ticks\":\"\"}},\"type\":\"scattergl\"}],\"scattermapbox\":[{\"marker\":{\"colorbar\":{\"outlinewidth\":0,\"ticks\":\"\"}},\"type\":\"scattermapbox\"}],\"scatterpolar\":[{\"marker\":{\"colorbar\":{\"outlinewidth\":0,\"ticks\":\"\"}},\"type\":\"scatterpolar\"}],\"scatterpolargl\":[{\"marker\":{\"colorbar\":{\"outlinewidth\":0,\"ticks\":\"\"}},\"type\":\"scatterpolargl\"}],\"scatterternary\":[{\"marker\":{\"colorbar\":{\"outlinewidth\":0,\"ticks\":\"\"}},\"type\":\"scatterternary\"}],\"surface\":[{\"colorbar\":{\"outlinewidth\":0,\"ticks\":\"\"},\"colorscale\":[[0.0,\"#0d0887\"],[0.1111111111111111,\"#46039f\"],[0.2222222222222222,\"#7201a8\"],[0.3333333333333333,\"#9c179e\"],[0.4444444444444444,\"#bd3786\"],[0.5555555555555556,\"#d8576b\"],[0.6666666666666666,\"#ed7953\"],[0.7777777777777778,\"#fb9f3a\"],[0.8888888888888888,\"#fdca26\"],[1.0,\"#f0f921\"]],\"type\":\"surface\"}],\"table\":[{\"cells\":{\"fill\":{\"color\":\"#EBF0F8\"},\"line\":{\"color\":\"white\"}},\"header\":{\"fill\":{\"color\":\"#C8D4E3\"},\"line\":{\"color\":\"white\"}},\"type\":\"table\"}]},\"layout\":{\"annotationdefaults\":{\"arrowcolor\":\"#2a3f5f\",\"arrowhead\":0,\"arrowwidth\":1},\"autotypenumbers\":\"strict\",\"coloraxis\":{\"colorbar\":{\"outlinewidth\":0,\"ticks\":\"\"}},\"colorscale\":{\"diverging\":[[0,\"#8e0152\"],[0.1,\"#c51b7d\"],[0.2,\"#de77ae\"],[0.3,\"#f1b6da\"],[0.4,\"#fde0ef\"],[0.5,\"#f7f7f7\"],[0.6,\"#e6f5d0\"],[0.7,\"#b8e186\"],[0.8,\"#7fbc41\"],[0.9,\"#4d9221\"],[1,\"#276419\"]],\"sequential\":[[0.0,\"#0d0887\"],[0.1111111111111111,\"#46039f\"],[0.2222222222222222,\"#7201a8\"],[0.3333333333333333,\"#9c179e\"],[0.4444444444444444,\"#bd3786\"],[0.5555555555555556,\"#d8576b\"],[0.6666666666666666,\"#ed7953\"],[0.7777777777777778,\"#fb9f3a\"],[0.8888888888888888,\"#fdca26\"],[1.0,\"#f0f921\"]],\"sequentialminus\":[[0.0,\"#0d0887\"],[0.1111111111111111,\"#46039f\"],[0.2222222222222222,\"#7201a8\"],[0.3333333333333333,\"#9c179e\"],[0.4444444444444444,\"#bd3786\"],[0.5555555555555556,\"#d8576b\"],[0.6666666666666666,\"#ed7953\"],[0.7777777777777778,\"#fb9f3a\"],[0.8888888888888888,\"#fdca26\"],[1.0,\"#f0f921\"]]},\"colorway\":[\"#636efa\",\"#EF553B\",\"#00cc96\",\"#ab63fa\",\"#FFA15A\",\"#19d3f3\",\"#FF6692\",\"#B6E880\",\"#FF97FF\",\"#FECB52\"],\"font\":{\"color\":\"#2a3f5f\"},\"geo\":{\"bgcolor\":\"white\",\"lakecolor\":\"white\",\"landcolor\":\"#E5ECF6\",\"showlakes\":true,\"showland\":true,\"subunitcolor\":\"white\"},\"hoverlabel\":{\"align\":\"left\"},\"hovermode\":\"closest\",\"mapbox\":{\"style\":\"light\"},\"paper_bgcolor\":\"white\",\"plot_bgcolor\":\"#E5ECF6\",\"polar\":{\"angularaxis\":{\"gridcolor\":\"white\",\"linecolor\":\"white\",\"ticks\":\"\"},\"bgcolor\":\"#E5ECF6\",\"radialaxis\":{\"gridcolor\":\"white\",\"linecolor\":\"white\",\"ticks\":\"\"}},\"scene\":{\"xaxis\":{\"backgroundcolor\":\"#E5ECF6\",\"gridcolor\":\"white\",\"gridwidth\":2,\"linecolor\":\"white\",\"showbackground\":true,\"ticks\":\"\",\"zerolinecolor\":\"white\"},\"yaxis\":{\"backgroundcolor\":\"#E5ECF6\",\"gridcolor\":\"white\",\"gridwidth\":2,\"linecolor\":\"white\",\"showbackground\":true,\"ticks\":\"\",\"zerolinecolor\":\"white\"},\"zaxis\":{\"backgroundcolor\":\"#E5ECF6\",\"gridcolor\":\"white\",\"gridwidth\":2,\"linecolor\":\"white\",\"showbackground\":true,\"ticks\":\"\",\"zerolinecolor\":\"white\"}},\"shapedefaults\":{\"line\":{\"color\":\"#2a3f5f\"}},\"ternary\":{\"aaxis\":{\"gridcolor\":\"white\",\"linecolor\":\"white\",\"ticks\":\"\"},\"baxis\":{\"gridcolor\":\"white\",\"linecolor\":\"white\",\"ticks\":\"\"},\"bgcolor\":\"#E5ECF6\",\"caxis\":{\"gridcolor\":\"white\",\"linecolor\":\"white\",\"ticks\":\"\"}},\"title\":{\"x\":0.05},\"xaxis\":{\"automargin\":true,\"gridcolor\":\"white\",\"linecolor\":\"white\",\"ticks\":\"\",\"title\":{\"standoff\":15},\"zerolinecolor\":\"white\",\"zerolinewidth\":2},\"yaxis\":{\"automargin\":true,\"gridcolor\":\"white\",\"linecolor\":\"white\",\"ticks\":\"\",\"title\":{\"standoff\":15},\"zerolinecolor\":\"white\",\"zerolinewidth\":2}}},\"xaxis\":{\"anchor\":\"y\",\"domain\":[0.0,1.0],\"title\":{\"text\":\"Models\"},\"categoryorder\":\"array\",\"categoryarray\":[\"XGB Classifier\",\"RandomizedSearchCV\",\"Decission Tree Classifier\",\"RandomForestCLassifier\"]},\"yaxis\":{\"anchor\":\"x\",\"domain\":[0.0,1.0],\"title\":{\"text\":\"Accuracy\"}},\"legend\":{\"title\":{\"text\":\"Models\"},\"tracegroupgap\":0},\"title\":{\"text\":\"Accuracy of Models\"},\"barmode\":\"relative\",\"width\":600},                        {\"responsive\": true}                    ).then(function(){\n",
              "                            \n",
              "var gd = document.getElementById('ed89c533-6109-49cd-9636-e5383d2fc0a0');\n",
              "var x = new MutationObserver(function (mutations, observer) {{\n",
              "        var display = window.getComputedStyle(gd).display;\n",
              "        if (!display || display === 'none') {{\n",
              "            console.log([gd, 'removed!']);\n",
              "            Plotly.purge(gd);\n",
              "            observer.disconnect();\n",
              "        }}\n",
              "}});\n",
              "\n",
              "// Listen for the removal of the full notebook cells\n",
              "var notebookContainer = gd.closest('#notebook-container');\n",
              "if (notebookContainer) {{\n",
              "    x.observe(notebookContainer, {childList: true});\n",
              "}}\n",
              "\n",
              "// Listen for the clearing of the current output cell\n",
              "var outputEl = gd.closest('.output');\n",
              "if (outputEl) {{\n",
              "    x.observe(outputEl, {childList: true});\n",
              "}}\n",
              "\n",
              "                        })                };                            </script>        </div>\n",
              "</body>\n",
              "</html>"
            ]
          },
          "metadata": {}
        }
      ]
    }
  ],
  "metadata": {
    "colab": {
      "name": "Engineering Placements Prediction and Analysis .ipynb",
      "provenance": []
    },
    "kernelspec": {
      "display_name": "Python 3",
      "name": "python3"
    },
    "language_info": {
      "name": "python"
    }
  },
  "nbformat": 4,
  "nbformat_minor": 0
}